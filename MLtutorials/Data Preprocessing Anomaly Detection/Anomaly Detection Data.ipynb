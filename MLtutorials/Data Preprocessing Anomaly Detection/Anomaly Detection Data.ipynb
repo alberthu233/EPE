{
 "cells": [
  {
   "cell_type": "markdown",
   "metadata": {},
   "source": [
    "# Anomaly Detection Data Preprocessing\n",
    "## 0. Prerequisites\n",
    "### Operating System\n",
    "If you are using Mac OS, Linux, or WSL on Windows, skip to **Python Package Dependencies**.\n",
    "\n",
    "Otherwise, follow the steps in [Anaconda_setup.ipynb](https://github.com/451488975/Anaconda_Setup) to set up WSL on Windows. Since WSL currently does not have GPU support, follow the steps in the tutorial labelled with \"w/o NVIDIA GPU.\"\n",
    "### Python Package Dependencies\n",
    "Install the following dependencies:\n",
    "* numpy\n",
    "* matplotlib\n",
    "* pandas\n",
    "* tqdm\n",
    "* h5py\n",
    "* pyjet (not supported on Windows)\n",
    "\n",
    "If you have Anaconda, first try installing them via Anaconda (make sure you're in the right environment!) by running `conda install [package name]` in terminal. If the package is not found by Anaconda, install with pip by running `pip install [package name]` in terminal.\n",
    "### Data\n",
    "We will be working with the [LHCO2020 R&D Dataset](https://zenodo.org/record/3832254#.X9VHi9hKguU). Download `events_anomalydetection.h5` from the link.\n"
   ]
  },
  {
   "cell_type": "code",
   "execution_count": 2,
   "metadata": {},
   "outputs": [],
   "source": [
    "# Load all our modules\n",
    "\n",
    "import h5py as h5\n",
    "import numpy as np\n",
    "import pandas as pd\n",
    "import matplotlib.pyplot as plt\n",
    "from tqdm import tqdm\n",
    "from pyjet import cluster, DTYPE_PTEPM\n",
    "from pyjet.testdata import get_event"
   ]
  },
  {
   "cell_type": "markdown",
   "metadata": {},
   "source": [
    "## 1. Loading Data\n",
    "### Reading Data\n",
    "Our data is stored as pandas dataframes in the compressed `.h5` file format. Since it's a large dataset, we can't read it in its entirety because it will likely exceed our RAM capacity. For the purposes of feature study, we do not need to read the entire dataset."
   ]
  },
  {
   "cell_type": "code",
   "execution_count": 3,
   "metadata": {},
   "outputs": [
    {
     "name": "stdout",
     "output_type": "stream",
     "text": [
      "Shape: (500000, 2101)\n",
      "Memory usage in GB: 7.831\n"
     ]
    }
   ],
   "source": [
    "# Replace this variable with your relative path to datafile\n",
    "datapath = \"D:\\Work\\EPE\\data_storage\\events_anomalydetection.h5\"\n",
    "\n",
    "size = 500000\n",
    "df = pd.read_hdf(datapath, stop = size) # The amount of data loaded can be changed depending on your hardware capabilities\n",
    "print(\"Shape: \" + str(df.shape))\n",
    "print(\"Memory usage in GB:\", round(sum(df.memory_usage(deep=True)) / (1024**3), 3))"
   ]
  },
  {
   "cell_type": "markdown",
   "metadata": {},
   "source": [
    "### Understanding Data\n",
    "The data is described on the [Zenodo site](https://zenodo.org/record/3832254#.X9VHi9hKguU). In essence, each row corresponds to an event, which is either signal (W'->X+Y) or background QCD dijet.\n",
    "\n",
    "The shape of the original dataset is `(1100000,2101)`. There are 1M background rows and 100k signal rows. The last column contains a single bit that indicates (for the purpose of R&D) `0` if the row is background and `1` if the row is signal.\n",
    "\n",
    "Each row consists of up to 700 massless final-state, charged, hadronic particles recorded in `(pT,eta,phi)` triplets. Most rows don't have 700 non-trivial particles, and have instead been zero-padded up to 700 triplets.\n",
    "\n",
    "The signal event consists of a hypothetical hadron W' with rest mass 3.5 TeV decaying into hypothetical hadrons X and Y with rest masses 500 GeV and 100 GeV, respectively. We expect the W' to be non-relativistic in the lab frame. We expect X to have total energy 1785 GeV and Y to have total energy 1716 GeV. Optionally, you can view the [derivation](https://www.overleaf.com/read/mpmgzzdcsyxz\n",
    ").\n",
    "\n",
    "X and Y then decay into two quarks each: X->qq, Y->qq. Since X and Y are relativistic, the quarks will be part of the same jet; that is, the signal event consists of two jets, one associated with X and one associated with Y. Each one of those jets will have two-pronged substructure, which we can see later by studying the tau2/tau1 feature."
   ]
  },
  {
   "cell_type": "code",
   "execution_count": 5,
   "metadata": {},
   "outputs": [
    {
     "data": {
      "text/html": [
       "<div>\n",
       "<style scoped>\n",
       "    .dataframe tbody tr th:only-of-type {\n",
       "        vertical-align: middle;\n",
       "    }\n",
       "\n",
       "    .dataframe tbody tr th {\n",
       "        vertical-align: top;\n",
       "    }\n",
       "\n",
       "    .dataframe thead th {\n",
       "        text-align: right;\n",
       "    }\n",
       "</style>\n",
       "<table border=\"1\" class=\"dataframe\">\n",
       "  <thead>\n",
       "    <tr style=\"text-align: right;\">\n",
       "      <th></th>\n",
       "      <th>0</th>\n",
       "      <th>1</th>\n",
       "      <th>2</th>\n",
       "      <th>3</th>\n",
       "      <th>4</th>\n",
       "      <th>5</th>\n",
       "      <th>6</th>\n",
       "      <th>7</th>\n",
       "      <th>8</th>\n",
       "      <th>9</th>\n",
       "      <th>...</th>\n",
       "      <th>2091</th>\n",
       "      <th>2092</th>\n",
       "      <th>2093</th>\n",
       "      <th>2094</th>\n",
       "      <th>2095</th>\n",
       "      <th>2096</th>\n",
       "      <th>2097</th>\n",
       "      <th>2098</th>\n",
       "      <th>2099</th>\n",
       "      <th>2100</th>\n",
       "    </tr>\n",
       "  </thead>\n",
       "  <tbody>\n",
       "    <tr>\n",
       "      <th>0</th>\n",
       "      <td>0.324101</td>\n",
       "      <td>-0.361158</td>\n",
       "      <td>2.737669</td>\n",
       "      <td>0.409859</td>\n",
       "      <td>-2.429939</td>\n",
       "      <td>0.729830</td>\n",
       "      <td>0.867922</td>\n",
       "      <td>-2.267777</td>\n",
       "      <td>-1.161310</td>\n",
       "      <td>0.383031</td>\n",
       "      <td>...</td>\n",
       "      <td>0.0</td>\n",
       "      <td>0.0</td>\n",
       "      <td>0.0</td>\n",
       "      <td>0.0</td>\n",
       "      <td>0.0</td>\n",
       "      <td>0.0</td>\n",
       "      <td>0.0</td>\n",
       "      <td>0.0</td>\n",
       "      <td>0.0</td>\n",
       "      <td>0.0</td>\n",
       "    </tr>\n",
       "    <tr>\n",
       "      <th>1</th>\n",
       "      <td>0.646304</td>\n",
       "      <td>-0.539460</td>\n",
       "      <td>-1.386258</td>\n",
       "      <td>0.471293</td>\n",
       "      <td>-1.636572</td>\n",
       "      <td>0.751657</td>\n",
       "      <td>0.453769</td>\n",
       "      <td>-1.099593</td>\n",
       "      <td>-0.393405</td>\n",
       "      <td>0.485929</td>\n",
       "      <td>...</td>\n",
       "      <td>0.0</td>\n",
       "      <td>0.0</td>\n",
       "      <td>0.0</td>\n",
       "      <td>0.0</td>\n",
       "      <td>0.0</td>\n",
       "      <td>0.0</td>\n",
       "      <td>0.0</td>\n",
       "      <td>0.0</td>\n",
       "      <td>0.0</td>\n",
       "      <td>0.0</td>\n",
       "    </tr>\n",
       "    <tr>\n",
       "      <th>2</th>\n",
       "      <td>0.325172</td>\n",
       "      <td>-0.833948</td>\n",
       "      <td>2.404844</td>\n",
       "      <td>1.295058</td>\n",
       "      <td>-2.089618</td>\n",
       "      <td>-1.873342</td>\n",
       "      <td>0.451272</td>\n",
       "      <td>-0.101877</td>\n",
       "      <td>2.217348</td>\n",
       "      <td>0.461293</td>\n",
       "      <td>...</td>\n",
       "      <td>0.0</td>\n",
       "      <td>0.0</td>\n",
       "      <td>0.0</td>\n",
       "      <td>0.0</td>\n",
       "      <td>0.0</td>\n",
       "      <td>0.0</td>\n",
       "      <td>0.0</td>\n",
       "      <td>0.0</td>\n",
       "      <td>0.0</td>\n",
       "      <td>0.0</td>\n",
       "    </tr>\n",
       "    <tr>\n",
       "      <th>3</th>\n",
       "      <td>0.290918</td>\n",
       "      <td>-2.200063</td>\n",
       "      <td>1.630132</td>\n",
       "      <td>0.565028</td>\n",
       "      <td>-1.714345</td>\n",
       "      <td>-2.617103</td>\n",
       "      <td>0.951042</td>\n",
       "      <td>-0.532720</td>\n",
       "      <td>2.941473</td>\n",
       "      <td>0.896248</td>\n",
       "      <td>...</td>\n",
       "      <td>0.0</td>\n",
       "      <td>0.0</td>\n",
       "      <td>0.0</td>\n",
       "      <td>0.0</td>\n",
       "      <td>0.0</td>\n",
       "      <td>0.0</td>\n",
       "      <td>0.0</td>\n",
       "      <td>0.0</td>\n",
       "      <td>0.0</td>\n",
       "      <td>0.0</td>\n",
       "    </tr>\n",
       "    <tr>\n",
       "      <th>4</th>\n",
       "      <td>0.526330</td>\n",
       "      <td>-2.349110</td>\n",
       "      <td>-1.745532</td>\n",
       "      <td>0.542491</td>\n",
       "      <td>-2.080352</td>\n",
       "      <td>-3.044045</td>\n",
       "      <td>0.390727</td>\n",
       "      <td>-1.278563</td>\n",
       "      <td>-2.131058</td>\n",
       "      <td>2.530358</td>\n",
       "      <td>...</td>\n",
       "      <td>0.0</td>\n",
       "      <td>0.0</td>\n",
       "      <td>0.0</td>\n",
       "      <td>0.0</td>\n",
       "      <td>0.0</td>\n",
       "      <td>0.0</td>\n",
       "      <td>0.0</td>\n",
       "      <td>0.0</td>\n",
       "      <td>0.0</td>\n",
       "      <td>1.0</td>\n",
       "    </tr>\n",
       "  </tbody>\n",
       "</table>\n",
       "<p>5 rows × 2101 columns</p>\n",
       "</div>"
      ],
      "text/plain": [
       "       0         1         2         3         4         5         6     \\\n",
       "0  0.324101 -0.361158  2.737669  0.409859 -2.429939  0.729830  0.867922   \n",
       "1  0.646304 -0.539460 -1.386258  0.471293 -1.636572  0.751657  0.453769   \n",
       "2  0.325172 -0.833948  2.404844  1.295058 -2.089618 -1.873342  0.451272   \n",
       "3  0.290918 -2.200063  1.630132  0.565028 -1.714345 -2.617103  0.951042   \n",
       "4  0.526330 -2.349110 -1.745532  0.542491 -2.080352 -3.044045  0.390727   \n",
       "\n",
       "       7         8         9     ...  2091  2092  2093  2094  2095  2096  \\\n",
       "0 -2.267777 -1.161310  0.383031  ...   0.0   0.0   0.0   0.0   0.0   0.0   \n",
       "1 -1.099593 -0.393405  0.485929  ...   0.0   0.0   0.0   0.0   0.0   0.0   \n",
       "2 -0.101877  2.217348  0.461293  ...   0.0   0.0   0.0   0.0   0.0   0.0   \n",
       "3 -0.532720  2.941473  0.896248  ...   0.0   0.0   0.0   0.0   0.0   0.0   \n",
       "4 -1.278563 -2.131058  2.530358  ...   0.0   0.0   0.0   0.0   0.0   0.0   \n",
       "\n",
       "   2097  2098  2099  2100  \n",
       "0   0.0   0.0   0.0   0.0  \n",
       "1   0.0   0.0   0.0   0.0  \n",
       "2   0.0   0.0   0.0   0.0  \n",
       "3   0.0   0.0   0.0   0.0  \n",
       "4   0.0   0.0   0.0   1.0  \n",
       "\n",
       "[5 rows x 2101 columns]"
      ]
     },
     "execution_count": 5,
     "metadata": {},
     "output_type": "execute_result"
    }
   ],
   "source": [
    "# Observe the following about the data:\n",
    "# pT columns are always positive\n",
    "# Zero-padding is evident at the end\n",
    "# Last column (index 2100) is the signal bit\n",
    "# Signal and background are randomly shuffled within the data\n",
    "df.head()"
   ]
  },
  {
   "cell_type": "code",
   "execution_count": 6,
   "metadata": {},
   "outputs": [],
   "source": [
    "# Split the data based on the signal bit and discard the flag column\n",
    "df_bg = df[df[2100] == 0.0].iloc[:,:-1].reset_index(drop = True)\n",
    "df_s = df[df[2100] == 1.0].iloc[:,:-1].reset_index(drop = True)\n",
    "df = df.iloc[:,:-1]"
   ]
  },
  {
   "cell_type": "code",
   "execution_count": 7,
   "metadata": {},
   "outputs": [
    {
     "name": "stdout",
     "output_type": "stream",
     "text": [
      "Background shape: (454376, 2100)\n",
      "Signal shape: (45624, 2100)\n",
      "Percent of signal in data: 9.12%\n"
     ]
    }
   ],
   "source": [
    "print(\"Background shape: \" + str(df_bg.shape))\n",
    "print(\"Signal shape: \" + str(df_s.shape))\n",
    "print(\"Percent of signal in data: \" + str(round(df_s.shape[0] / df.shape[0] * 100, 2)) + \"%\")"
   ]
  },
  {
   "cell_type": "markdown",
   "metadata": {},
   "source": [
    "## 2. Cluster Jets\n",
    "The goal is to cluster each row into two jets to reflect the W'->X,Y structure of the signal."
   ]
  },
  {
   "cell_type": "code",
   "execution_count": 8,
   "metadata": {},
   "outputs": [],
   "source": [
    "# Transposing df makes rows correspond to low-level features and columns correspond to events\n",
    "events_combined = df.T\n",
    "events_bg = df_bg.T\n",
    "events_s = df_s.T"
   ]
  },
  {
   "cell_type": "markdown",
   "metadata": {},
   "source": [
    "We'll cluster jets using the anti-kT algorithm in [pyjet](https://pypi.org/project/pyjet/) with a fat-jet radius of R=1.0. Then, we'll save lists of the leading and subleading jets for each event as PseudoJet objects. Later, we can call various attributes of the PseudoJet objects, like `pt`, `eta`, `phi`, `mass`, and `e`. We can also call methods like `constituents()`."
   ]
  },
  {
   "cell_type": "code",
   "execution_count": 9,
   "metadata": {},
   "outputs": [],
   "source": [
    "leadjets = {\n",
    "    'bg': [],\n",
    "    's': []\n",
    "}\n",
    "subleadjets = {\n",
    "    'bg': [],\n",
    "    's': []\n",
    "}\n",
    "\n",
    "def cluster_jets(dataframe, name):\n",
    "    for i in tqdm(range(dataframe.shape[1])):\n",
    "        # Collect (pT,eta,phi) of particles in event i with pT != 0\n",
    "        pseudojets_input = np.zeros(len([x for x in dataframe[i][::3] if x > 0]), dtype = DTYPE_PTEPM)\n",
    "        for j in range(700):\n",
    "            if dataframe[i][j*3] > 0:\n",
    "                pseudojets_input[j]['pT'] = dataframe[i][j*3]\n",
    "                pseudojets_input[j]['eta'] = dataframe[i][j*3 + 1]\n",
    "                pseudojets_input[j]['phi'] = dataframe[i][j*3 + 2]\n",
    "            else:\n",
    "                break\n",
    "\n",
    "        sequence = cluster(pseudojets_input, R = 1.0, p = -1) # p = -1 corresponds to anti-kT\n",
    "        jets = sequence.inclusive_jets(ptmin = 1200) # pT > 1.2 TeV\n",
    "\n",
    "        if len(jets) < 2:\n",
    "            continue\n",
    "        \n",
    "        leadjets[name] += [jets[0]]\n",
    "        subleadjets[name] += [jets[1]]"
   ]
  },
  {
   "cell_type": "code",
   "execution_count": 10,
   "metadata": {},
   "outputs": [
    {
     "name": "stderr",
     "output_type": "stream",
     "text": [
      "100%|██████████| 454376/454376 [31:11<00:00, 242.74it/s]\n",
      "100%|██████████| 45624/45624 [02:23<00:00, 318.59it/s]\n"
     ]
    }
   ],
   "source": [
    "cluster_jets(events_bg, 'bg')\n",
    "cluster_jets(events_s, 's')"
   ]
  },
  {
   "cell_type": "markdown",
   "metadata": {},
   "source": [
    "We now have four arrays of PseudoJet objects. Let's look at the lengths:"
   ]
  },
  {
   "cell_type": "code",
   "execution_count": 11,
   "metadata": {},
   "outputs": [
    {
     "name": "stdout",
     "output_type": "stream",
     "text": [
      "Background leading jets: 282312\n",
      "Background subleading jets: 282312\n",
      "Signal leading jets: 42418\n",
      "Signal subleading jets: 42418\n",
      "Events not clustered: 175270\n"
     ]
    }
   ],
   "source": [
    "print(\"Background leading jets:\", len(leadjets['bg']))\n",
    "print(\"Background subleading jets:\", len(subleadjets['bg']))\n",
    "print(\"Signal leading jets:\", len(leadjets['s']))\n",
    "print(\"Signal subleading jets:\", len(subleadjets['s']))\n",
    "print(\"Events not clustered:\", size - len(leadjets['bg']) - len(leadjets['s']))"
   ]
  },
  {
   "cell_type": "markdown",
   "metadata": {},
   "source": [
    "## 3. Plot Features\n",
    "### Jet Masses"
   ]
  },
  {
   "cell_type": "code",
   "execution_count": 12,
   "metadata": {},
   "outputs": [],
   "source": [
    "bg_lead_mass = [leadjets['bg'][x].mass for x in range(len(leadjets['bg']))]\n",
    "bg_sublead_mass = [subleadjets['bg'][x].mass for x in range(len(subleadjets['bg']))]\n",
    "s_lead_mass = [leadjets['s'][x].mass for x in range(len(leadjets['s']))]\n",
    "s_sublead_mass = [subleadjets['s'][x].mass for x in range(len(subleadjets['s']))]"
   ]
  },
  {
   "cell_type": "code",
   "execution_count": 15,
   "metadata": {},
   "outputs": [
    {
     "data": {
      "image/png": "[encoded data removed]",
      "text/plain": [
       "<Figure size 432x288 with 2 Axes>"
      ]
     },
     "metadata": {
      "needs_background": "light"
     },
     "output_type": "display_data"
    }
   ],
   "source": [
    "plt.title(\"Background Leading & Subleading Mass\")\n",
    "plt.ylabel(\"Subleading Jet Mass (GeV)\")\n",
    "plt.xlabel(\"Leading Jet Mass (GeV)\")\n",
    "plt.hist2d(bg_lead_mass, bg_sublead_mass, bins = 50, range = [[0,600],[0,600]], cmap = 'inferno')\n",
    "plt.colorbar()\n",
    "plt.show()"
   ]
  },
  {
   "cell_type": "code",
   "execution_count": 16,
   "metadata": {},
   "outputs": [
    {
     "data": {
      "image/png": "[encoded data removed]",
      "text/plain": [
       "<Figure size 432x288 with 2 Axes>"
      ]
     },
     "metadata": {
      "needs_background": "light"
     },
     "output_type": "display_data"
    }
   ],
   "source": [
    "plt.title(\"Signal Leading & Subleading Mass\")\n",
    "plt.ylabel(\"Subleading Jet Mass (GeV)\")\n",
    "plt.xlabel(\"Leading Jet Mass (GeV)\")\n",
    "plt.hist2d(s_lead_mass, s_sublead_mass, bins = 25, range = [[0,600],[0,600]], cmap = 'inferno')\n",
    "plt.colorbar()\n",
    "plt.show()"
   ]
  },
  {
   "cell_type": "code",
   "execution_count": 18,
   "metadata": {},
   "outputs": [
    {
     "data": {
      "image/png": "[encoded data removed]",
      "text/plain": [
       "<Figure size 432x288 with 1 Axes>"
      ]
     },
     "metadata": {
      "needs_background": "light"
     },
     "output_type": "display_data"
    }
   ],
   "source": [
    "plt.title(\"Background vs. Signal Jet Masses\")\n",
    "plt.ylabel(\"Arbitrary Units\")\n",
    "plt.xlabel(\"Jet Mass (GeV)\")\n",
    "plt.hist(bg_lead_mass + bg_sublead_mass, bins = 50, range = (0, 600), color = \"tab:orange\", alpha = 0.5, label = \"Background\")\n",
    "plt.hist(s_lead_mass + s_sublead_mass, bins = 50, range = (0, 600), color = \"tab:blue\", histtype = \"step\", label = \"Signal\")\n",
    "plt.legend()\n",
    "plt.show()"
   ]
  },
  {
   "cell_type": "markdown",
   "metadata": {},
   "source": [
    "### Exercise: Jet Energies\n",
    "As an exercise, repeat the plotting for the jet energy. The jet energy is an attribute of PseudoJet and can be accessed as `PseudoJet.e`, very similar to jet mass."
   ]
  },
  {
   "cell_type": "markdown",
   "metadata": {},
   "source": [
    "### More Advanced Exercise: Event Mass & Energy\n",
    "Access the jet cartesian momenta by calling the attributes `.px`, `.py`, and `.pz`. Add the four-momenta of the corresponding leading and subleading jets; that is, add their respective `e`, `px`, `py`, and `pz`. You now have the four-momentum for the event!\n",
    "\n",
    "Plot the distribution of the event energy and event mass. (Hint: event mass can be computed from the relation E^2 = m^2 + px^2 + py^2 + pz^2. Remember that c = 1 in particle physics.)"
   ]
  },
  {
   "cell_type": "markdown",
   "metadata": {},
   "source": [
    "### N-Subjettiness\n",
    "[N-Subjettiness](https://arxiv.org/abs/1011.2268) is a high-level feature that we use to distinguish the prongs in a jet substructure.\n",
    "\n",
    "The N-subjettiness, where N is a natural number, is defined as follows:\n",
    "\n",
    "![N-Subjettiness](N-Subjettiness.png)\n"
   ]
  },
  {
   "cell_type": "code",
   "execution_count": 19,
   "metadata": {},
   "outputs": [],
   "source": [
    "# Find the distance between two events in eta-phi space. Note that the distance between phi is subject to the symmetry phi = phi + 2pi, so absolute values are used to ensure proper behavior on edge cases.\n",
    "\n",
    "def deltaR(j1, j2):\n",
    "    dEta2 = (j1.eta - j2.eta)**2\n",
    "    dPhi2 = (np.pi + abs(abs(j1.phi - j2.phi) - np.pi))**2\n",
    "    return (dEta2 + dPhi2)**0.5\n",
    "\n",
    "# Compute N-Subjettiness\n",
    "\n",
    "def tau(N, jet):\n",
    "    sequence = cluster(jet, R = 1.0, p = -1)\n",
    "    try:\n",
    "        jets = sequence.exclusive_jets(N)\n",
    "    except:\n",
    "        return -1\n",
    "    if len(jets) < N:\n",
    "        return -1\n",
    "    out = 0\n",
    "    d0 = 0\n",
    "    consts = []\n",
    "    for i in range(N):\n",
    "        consts += jets[i].constituents()\n",
    "    for i in range(len(consts)):\n",
    "        d0 += consts[i].pt\n",
    "        R = deltaR(consts[i], jets[0])\n",
    "        for j in range(N):\n",
    "            R = min(R, deltaR(consts[i], jets[j]))\n",
    "        out += consts[i].pt * R\n",
    "    return out / d0\n",
    "\n",
    "# Compute ratio of N-Subjettiness. Here, we compute tau2/tau1 to gauge the 2-prong substructure of the signal event.\n",
    "\n",
    "def tau21(jet):\n",
    "    tau2 = tau(2, jet)\n",
    "    tau1 = tau(1, jet)\n",
    "    if tau2 == -1 or tau1 == -1:\n",
    "        return -1\n",
    "    return tau2 / tau1"
   ]
  },
  {
   "cell_type": "code",
   "execution_count": 20,
   "metadata": {},
   "outputs": [],
   "source": [
    "# Compute all the tau21 ratios\n",
    "\n",
    "tau21_bg_lead = [tau21(leadjets['bg'][x]) for x in range(len(leadjets['bg'])) if tau21(leadjets['bg'][x]) != -1]\n",
    "tau21_bg_sublead = [tau21(subleadjets['bg'][x]) for x in range(len(subleadjets['bg'])) if tau21(subleadjets['bg'][x]) != -1]\n",
    "tau21_s_lead = [tau21(leadjets['s'][x]) for x in range(len(leadjets['s'])) if tau21(leadjets['s'][x]) != -1]\n",
    "tau21_s_sublead = [tau21(subleadjets['s'][x]) for x in range(len(subleadjets['s'])) if tau21(subleadjets['s'][x]) != -1]"
   ]
  },
  {
   "cell_type": "code",
   "execution_count": 21,
   "metadata": {},
   "outputs": [],
   "source": [
    "tau21_bg = tau21_bg_lead + tau21_bg_sublead\n",
    "tau21_s = tau21_s_lead + tau21_s_sublead"
   ]
  },
  {
   "cell_type": "code",
   "execution_count": 22,
   "metadata": {},
   "outputs": [
    {
     "data": {
      "image/png": "[encoded data removed]",
      "text/plain": [
       "<Figure size 432x288 with 1 Axes>"
      ]
     },
     "metadata": {
      "needs_background": "light"
     },
     "output_type": "display_data"
    }
   ],
   "source": [
    "plt.title(\"Background vs. Signal N-subjettiness ratio\")\n",
    "plt.ylabel(\"Normalized to Unity\")\n",
    "plt.xlabel(\"tau21\")\n",
    "plt.hist(tau21_bg, bins = 25, range = (0.8, 1), color = \"tab:orange\", alpha = 0.5, label = \"Background\", density = True)\n",
    "plt.hist(tau21_s, bins = 25, range = (0.8, 1), color = \"tab:blue\", histtype = \"step\", label = \"Signal\", density = True)\n",
    "plt.legend()\n",
    "plt.show()"
   ]
  },
  {
   "cell_type": "markdown",
   "metadata": {},
   "source": [
    "## 4. Exercise\n",
    "Now it's your turn! Do the data preprocessing and feature study, as we've done in this tutorial, using the file `events_anomalydetection_Z_XY_qqq.h5`, which you should download at the same [Zenodo link](https://zenodo.org/record/3832254#.X9VNZdhKguU). Note a few key differences:\n",
    "* This file only has 100k signal events and no background\n",
    "* Therefore, there is no signal bit column\n",
    "* The signal has 3-prong substructure, so the proper N-subjetiness ratio to compute is tau3/tau2 instead of tau2/tau1"
   ]
  }
 ],
 "metadata": {
  "interpreter": {
   "hash": "f63929e3db36fe13aee1081860966e065fd27c1f14440ef685fe33e45209081c"
  },
  "kernelspec": {
   "display_name": "Python 3.8.12 64-bit ('tf-gpu': conda)",
   "name": "python3"
  },
  "language_info": {
   "codemirror_mode": {
    "name": "ipython",
    "version": 3
   },
   "file_extension": ".py",
   "mimetype": "text/x-python",
   "name": "python",
   "nbconvert_exporter": "python",
   "pygments_lexer": "ipython3",
   "version": "3.8.12"
  },
  "orig_nbformat": 2
 },
 "nbformat": 4,
 "nbformat_minor": 2
}
