{
 "cells": [
  {
   "cell_type": "code",
   "execution_count": 32,
   "metadata": {},
   "outputs": [],
   "source": [
    "import tensorflow as tf\n",
    "import numpy as np\n",
    "import matplotlib.pyplot as plt"
   ]
  },
  {
   "cell_type": "markdown",
   "metadata": {},
   "source": [
    "<h2>Extract MNIST data</h2>\n",
    "<p style=\"font-size:20px\">You can change the option of one_hot encoding."
   ]
  },
  {
   "cell_type": "code",
   "execution_count": 33,
   "metadata": {},
   "outputs": [],
   "source": [
    "(x_train, y_train), (x_test, y_test) = tf.keras.datasets.mnist.load_data()"
   ]
  },
  {
   "cell_type": "code",
   "execution_count": 34,
   "metadata": {},
   "outputs": [
    {
     "data": {
      "image/png": "[encoded data removed]",
      "text/plain": [
       "<Figure size 432x288 with 2 Axes>"
      ]
     },
     "metadata": {
      "needs_background": "light"
     },
     "output_type": "display_data"
    }
   ],
   "source": [
    "plt.figure()\n",
    "plt.imshow(x_train[5])\n",
    "plt.colorbar()\n",
    "plt.grid(False)\n",
    "plt.show()"
   ]
  },
  {
   "cell_type": "code",
   "execution_count": 35,
   "metadata": {},
   "outputs": [],
   "source": [
    "def get_batch(x_data, y_data, batch_size):\n",
    "    i = np.random.randint(0, len(y_data), batch_size)\n",
    "    return x_data[i,:,:], y_data[i]"
   ]
  },
  {
   "cell_type": "code",
   "execution_count": 36,
   "metadata": {},
   "outputs": [],
   "source": [
    "epochs = 10\n",
    "batch_size = 100\n",
    "\n",
    "x_train = x_train/255\n",
    "x_test = x_test/255\n",
    "x_test = tf.Variable(x_test)"
   ]
  },
  {
   "cell_type": "markdown",
   "metadata": {},
   "source": [
    "<h2>Define weight and bias</h2>"
   ]
  },
  {
   "cell_type": "code",
   "execution_count": 37,
   "metadata": {},
   "outputs": [],
   "source": [
    "# weights connect to input layer\n",
    "W1 = tf.Variable(tf.random.normal([784, 300], stddev=0.03), name='W1')\n",
    "b1 = tf.Variable(tf.random.normal([300]), name='b1')\n",
    "# weights connect to the hidden layer to the output layer\n",
    "W2 = tf.Variable(tf.random.normal([300, 10], stddev=0.03), name='W2')\n",
    "b2 = tf.Variable(tf.random.normal([10]), name='b2')"
   ]
  },
  {
   "cell_type": "markdown",
   "metadata": {},
   "source": [
    "<h2>Define neural network</h2>"
   ]
  },
  {
   "cell_type": "code",
   "execution_count": 38,
   "metadata": {},
   "outputs": [],
   "source": [
    "def nn_model(x_input, W1, b1, W2, b2):\n",
    "    # flatten the input image from 28 x 28 to 784\n",
    "    x_input = tf.reshape(x_input, (x_input.shape[0], -1))\n",
    "    x = tf.add(tf.matmul(tf.cast(x_input, tf.float32), W1), b1) # convert to int32\n",
    "    x = tf.nn.relu(x)\n",
    "    logits = tf.add(tf.matmul(x, W2), b2) # unactivated output layer nodes\n",
    "    return logits"
   ]
  },
  {
   "cell_type": "markdown",
   "metadata": {},
   "source": [
    "<h2>Define cost function and accuracy</h2>"
   ]
  },
  {
   "cell_type": "code",
   "execution_count": 39,
   "metadata": {},
   "outputs": [],
   "source": [
    "def loss_fn(logits, labels):\n",
    "    cross_entropy = tf.reduce_mean(tf.nn.softmax_cross_entropy_with_logits(labels=labels,\n",
    "                                                                              logits=logits))\n",
    "    return cross_entropy"
   ]
  },
  {
   "cell_type": "markdown",
   "metadata": {},
   "source": [
    "<h2>Execute training</h2>"
   ]
  },
  {
   "cell_type": "code",
   "execution_count": 40,
   "metadata": {},
   "outputs": [
    {
     "name": "stdout",
     "output_type": "stream",
     "text": [
      "Epoch: 1, loss=0.381, accuracy=94.070%\n",
      "Epoch: 2, loss=0.163, accuracy=95.830%\n",
      "Epoch: 3, loss=0.111, accuracy=96.650%\n",
      "Epoch: 4, loss=0.082, accuracy=97.180%\n",
      "Epoch: 5, loss=0.064, accuracy=97.500%\n",
      "Epoch: 6, loss=0.050, accuracy=97.410%\n",
      "Epoch: 7, loss=0.038, accuracy=97.680%\n",
      "Epoch: 8, loss=0.032, accuracy=97.810%\n",
      "Epoch: 9, loss=0.027, accuracy=97.790%\n",
      "Epoch: 10, loss=0.023, accuracy=97.880%\n"
     ]
    }
   ],
   "source": [
    "optimizer = tf.keras.optimizers.Adam()\n",
    "total_batch = int(len(y_train) / batch_size)\n",
    "for epoch in range(epochs):\n",
    "    avg_loss = 0\n",
    "    for i in range(total_batch):\n",
    "        batch_x, batch_y = get_batch(x_train, y_train, batch_size=batch_size)\n",
    "        # create tensors\n",
    "        batch_x = tf.Variable(batch_x)\n",
    "        batch_y = tf.Variable(batch_y)\n",
    "        # create a one hot vector\n",
    "        batch_y = tf.one_hot(batch_y, 10)\n",
    "        with tf.GradientTape() as tape:\n",
    "            logits = nn_model(batch_x, W1, b1, W2, b2)\n",
    "            loss = loss_fn(logits, batch_y)\n",
    "        gradients = tape.gradient(loss, [W1, b1, W2, b2])\n",
    "        optimizer.apply_gradients(zip(gradients, [W1, b1, W2, b2]))\n",
    "        avg_loss += loss / total_batch\n",
    "    test_logits = nn_model(x_test, W1, b1, W2, b2)\n",
    "    max_idxs = tf.argmax(test_logits, axis=1)\n",
    "    test_acc = np.sum(max_idxs.numpy() == y_test) / len(y_test)\n",
    "    print(f\"Epoch: {epoch + 1}, loss={avg_loss:.3f}, accuracy={test_acc*100:.3f}%\")"
   ]
  },
  {
   "cell_type": "markdown",
   "metadata": {},
   "source": [
    "<h2>Your results</h2>"
   ]
  },
  {
   "cell_type": "code",
   "execution_count": null,
   "metadata": {},
   "outputs": [],
   "source": []
  }
 ],
 "metadata": {
  "interpreter": {
   "hash": "f63929e3db36fe13aee1081860966e065fd27c1f14440ef685fe33e45209081c"
  },
  "kernelspec": {
   "display_name": "Python 3.8.12 64-bit ('tf-gpu': conda)",
   "name": "python3"
  },
  "language_info": {
   "codemirror_mode": {
    "name": "ipython",
    "version": 3
   },
   "file_extension": ".py",
   "mimetype": "text/x-python",
   "name": "python",
   "nbconvert_exporter": "python",
   "pygments_lexer": "ipython3",
   "version": "3.8.12"
  }
 },
 "nbformat": 4,
 "nbformat_minor": 2
}
