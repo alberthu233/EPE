{
 "cells": [
  {
   "cell_type": "code",
   "execution_count": 1,
   "metadata": {},
   "outputs": [],
   "source": [
    "import numpy as np\n",
    "import uproot as ur\n",
    "import awkward as ak\n",
    "import time as t\n",
    "import os\n",
    "import argparse\n",
    "from copy import deepcopy\n",
    "path_prefix = 'D:/Work/EPE/ML4pi/'\n",
    "plotpath = path_prefix+'plots/'\n",
    "modelpath_c = path_prefix+''\n",
    "modelpath = path_prefix+''\n",
    "data_path = path_prefix + \"v7/\"\n",
    "ext_path = \"H:/EPE_file_storage/\"\n",
    "ext_modelpath = ext_path + \"Model/\"\n",
    "ext_datapath = 'H:/EPE_file_storage/data_storage/pipm/root/'\n",
    "stmc_v2_path = ext_datapath + 'STMC_v2/'"
   ]
  },
  {
   "cell_type": "code",
   "execution_count": 2,
   "metadata": {},
   "outputs": [],
   "source": [
    "import h5py as h5"
   ]
  },
  {
   "cell_type": "code",
   "execution_count": 3,
   "metadata": {},
   "outputs": [
    {
     "data": {
      "text/plain": [
       "(2500000, 3)"
      ]
     },
     "execution_count": 3,
     "metadata": {},
     "output_type": "execute_result"
    }
   ],
   "source": [
    "Y = np.load(stmc_v2_path + 'Y_large.npy')\n",
    "Y.shape"
   ]
  },
  {
   "cell_type": "code",
   "execution_count": 4,
   "metadata": {},
   "outputs": [
    {
     "data": {
      "text/plain": [
       "(411495, 1389, 6)"
      ]
     },
     "execution_count": 4,
     "metadata": {},
     "output_type": "execute_result"
    }
   ],
   "source": [
    "X = np.load(stmc_v2_path+'STMC_v2_X_'+str(40)+'_files.npy')\n",
    "X"
   ]
  },
  {
   "cell_type": "code",
   "execution_count": 6,
   "metadata": {},
   "outputs": [],
   "source": [
    "def normalized_data(X,Y):\n",
    "    ''' \n",
    "    Normalizes the data\n",
    "    '''\n",
    "    t0 = t.time()\n",
    "    # take log of Y\n",
    "    target_zero_mask = Y[:,0] > .005\n",
    "    Ylog = np.log(Y)[target_zero_mask]\n",
    "    \n",
    "    ## Normalize rPerp to 1/3630\n",
    "    rPerp_mask = X[:,:,3] != 0\n",
    "    X[:,:,3][rPerp_mask] = X[:,:,3][rPerp_mask]/3630.\n",
    "\n",
    "    isnan = np.isnan(X[:,:,0])\n",
    "    anytruth = np.any(isnan)\n",
    "    print(anytruth)\n",
    "\n",
    "    ## Energy Values that are not zero!\n",
    "    E_nonZeroMask = X[:,:,0] != 0\n",
    "    X[:,:,0][E_nonZeroMask] = np.log(X[:,:,0][E_nonZeroMask])\n",
    "    cellE_mean = np.mean(X[:,:,0][E_nonZeroMask])\n",
    "    cellE_std = np.std(X[:,:,0][E_nonZeroMask])\n",
    "    X[:,:,0][E_nonZeroMask] = (X[:,:,0][E_nonZeroMask] - cellE_mean)/cellE_std\n",
    "\n",
    "    ## Eta and Phi\n",
    "    # do nothing for now as a control and check performance\n",
    "    eta_mask = X[:,:,1] != 0\n",
    "    X[:,:,1][eta_mask] = X[:,:,1][eta_mask]/2.5\n",
    "\n",
    "    phi_mask = X[:,:,2] != 0\n",
    "    cellPhi_std = np.std(X[:,:,2][phi_mask])\n",
    "    X[:,:,2][phi_mask] = X[:,:,2][phi_mask]/cellPhi_std\n",
    "    t1 = t.time()\n",
    "    print('Time to Normalize: '+str(t1-t0)+' (s)')\n",
    "    return X, Ylog"
   ]
  },
  {
   "cell_type": "code",
   "execution_count": 7,
   "metadata": {},
   "outputs": [
    {
     "name": "stderr",
     "output_type": "stream",
     "text": [
      "C:\\Users\\alber\\AppData\\Local\\Temp/ipykernel_196960/1096770626.py:8: RuntimeWarning: divide by zero encountered in log\n",
      "  Ylog = np.log(Y)[target_zero_mask]\n"
     ]
    },
    {
     "name": "stdout",
     "output_type": "stream",
     "text": [
      "False\n",
      "Time to Normalize: 20.999014616012573 (s)\n"
     ]
    }
   ],
   "source": [
    "X_norm, Y_norm = normalized_data(X, Y[:411495,:])"
   ]
  },
  {
   "cell_type": "code",
   "execution_count": 9,
   "metadata": {},
   "outputs": [
    {
     "data": {
      "text/plain": [
       "(411495, 1389, 6)"
      ]
     },
     "execution_count": 9,
     "metadata": {},
     "output_type": "execute_result"
    }
   ],
   "source": [
    "X_norm.shape"
   ]
  },
  {
   "cell_type": "code",
   "execution_count": 10,
   "metadata": {},
   "outputs": [
    {
     "data": {
      "text/plain": [
       "(411495, 3)"
      ]
     },
     "execution_count": 10,
     "metadata": {},
     "output_type": "execute_result"
    }
   ],
   "source": [
    "Y_norm.shape"
   ]
  },
  {
   "cell_type": "code",
   "execution_count": 11,
   "metadata": {},
   "outputs": [],
   "source": [
    "# train val split\n",
    "import sklearn.model_selection as skms\n",
    "from sklearn.model_selection import train_test_split\n",
    "X_train, X_val, Y_train, Y_val = train_test_split(X_norm, Y_norm, test_size=0.3, random_state=42)\n",
    "X_val, X_test, Y_val, Y_test = train_test_split(X_val, Y_val, test_size=0.5, random_state=42)\n",
    "\n",
    "with h5.File(stmc_v2_path + 'STMC_v2_train.h5', 'w') as f:\n",
    "    f.create_dataset('X', data=X_train)\n",
    "    f.create_dataset('Y', data=Y_train)\n",
    "with h5.File(stmc_v2_path + 'STMC_v2_val.h5', 'w') as f:\n",
    "    f.create_dataset('X', data=X_val)\n",
    "    f.create_dataset('Y', data=Y_val)\n",
    "with h5.File(stmc_v2_path + 'STMC_v2_test.h5', 'w') as f:\n",
    "    f.create_dataset('X', data=X_test)\n",
    "    f.create_dataset('Y', data=Y_test)"
   ]
  },
  {
   "cell_type": "code",
   "execution_count": null,
   "metadata": {},
   "outputs": [],
   "source": []
  }
 ],
 "metadata": {
  "interpreter": {
   "hash": "b5d44aea0cc164fd0ebfc1732b90238ce53cef8d0e631d031394e4c6aaa004a9"
  },
  "kernelspec": {
   "display_name": "Python 3.8.12 ('tensorflow-gpu')",
   "language": "python",
   "name": "python3"
  },
  "language_info": {
   "codemirror_mode": {
    "name": "ipython",
    "version": 3
   },
   "file_extension": ".py",
   "mimetype": "text/x-python",
   "name": "python",
   "nbconvert_exporter": "python",
   "pygments_lexer": "ipython3",
   "version": "3.8.12"
  },
  "orig_nbformat": 4
 },
 "nbformat": 4,
 "nbformat_minor": 2
}
