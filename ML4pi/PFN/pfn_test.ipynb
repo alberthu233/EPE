{
 "cells": [
  {
   "cell_type": "markdown",
   "id": "3f449361-9b85-4673-904e-f283541bd7b3",
   "metadata": {},
   "source": [
    "# Particle Flow Regression Notebook\n",
    "### Goal:\n",
    "The goal of this notebook is to set up a baseline energyflow regression from data files created in ClustersAndTracks.ipynb\n",
    "\n",
    "Different data sets explored:\n",
    "- [x] Single track data with only tracks\n",
    "- [x] Cluster only data with energy_calib_tot as target\n",
    "- [x] Single Track, Single Cluster\n",
    "- [x] Single Track, Multiple Cluster\n",
    "- [ ] Multiple track\n",
    "- [ ] Mixed data with track and no track\n",
    "\n",
    "### Implementation:\n",
    "Load X array of data from .npy file and target Y\n",
    "Normalize data, note all normalization is done in the notebook here!\n",
    "Perform regression on this data-set\n",
    "\n",
    "#### To Do:\n",
    "- [ ] Add neutral pion data in the same manner as charged pion and shuffle them\n",
    "- [x] Adding track information as extra point in the point cloud\n",
    "- [x] Track only regression on Pt and truthPartPt\n",
    "- [x] Cluster Only Regression\n",
    "- [x] Combined cluster and track regression\n",
    "- [x] Single track Single Cluster\n",
    "- [x] Single Track Multiple Cluster\n",
    "- [ ] Larger training data sets"
   ]
  },
  {
   "cell_type": "code",
   "execution_count": 1,
   "id": "caddefdd-1560-45d5-a833-20e596f19bc7",
   "metadata": {},
   "outputs": [
    {
     "name": "stdout",
     "output_type": "stream",
     "text": [
      "Awkward version: 1.7.0\n",
      "Uproot Version: 4.1.9\n"
     ]
    }
   ],
   "source": [
    "import numpy as np\n",
    "import matplotlib.pyplot as plt\n",
    "from matplotlib import cm\n",
    "from matplotlib.colors import Normalize\n",
    "from matplotlib.colors import LogNorm\n",
    "import uproot as ur\n",
    "import awkward as ak\n",
    "import time as t\n",
    "import copy\n",
    "import scipy.constants as spc\n",
    "print(\"Awkward version: \"+str(ak.__version__))\n",
    "print(\"Uproot Version: \"+str(ur.__version__))\n",
    "\n",
    "import sys\n",
    "path = '/Work/EPE/ML4pi/'\n",
    "sys.path.append(path)\n",
    "from util import resolution_util as ru\n",
    "from util import plot_util as pu"
   ]
  },
  {
   "cell_type": "code",
   "execution_count": 2,
   "id": "3c194379",
   "metadata": {},
   "outputs": [],
   "source": [
    "from tensorflow.keras import regularizers\n",
    "from tensorflow.keras import Sequential\n",
    "from tensorflow.keras import Model\n",
    "from tensorflow.keras.optimizers import SGD, Adam\n",
    "from tensorflow.keras.layers import LeakyReLU\n",
    "from tensorflow.keras.layers import Input, Dense, Dropout, BatchNormalization\n",
    "from tensorflow.keras.wrappers.scikit_learn import KerasRegressor\n",
    "import tensorflow as tf\n",
    "from tensorflow.keras.models import load_model"
   ]
  },
  {
   "cell_type": "code",
   "execution_count": 3,
   "id": "5c15bf0b-c910-4f78-b5b0-0ff418cff0ea",
   "metadata": {},
   "outputs": [],
   "source": [
    "# energyflow imports\n",
    "import energyflow as ef\n",
    "from energyflow.archs import PFN"
   ]
  },
  {
   "cell_type": "markdown",
   "id": "9358cdeb-49b4-447d-bf1a-5b6bef8f0ace",
   "metadata": {},
   "source": [
    "### Functions"
   ]
  },
  {
   "cell_type": "code",
   "execution_count": 4,
   "id": "4eb2abfa-6295-47c1-9084-ecceb416bf4f",
   "metadata": {
    "tags": []
   },
   "outputs": [],
   "source": [
    "def tvt_num(_data, _tvt=(75, 10, 15)):\n",
    "    ''' Function designed to output appropriate numbers for traning validation and testing given\n",
    "    a variable length input. TVT expressed as ratios and do not need to add to 100. '''\n",
    "    _tot = len(_data)\n",
    "    _train, _val, _test = _tvt\n",
    "    _tvt_sum = _train + _val + _test\n",
    "    \n",
    "    _train_rtrn = round(_train*_tot/_tvt_sum)\n",
    "    _val_rtrn = round(_val*_tot/_tvt_sum)\n",
    "    _test_rtrn = _tot - _train_rtrn - _val_rtrn\n",
    "    \n",
    "    return _train_rtrn, _val_rtrn, _test_rtrn\n",
    "\n",
    "def normalize_input1d(arr, mask):\n",
    "    ''' Note that non masked values are left alone i.e. zeros if mask = arr != 0'''\n",
    "    len_arr = arr.shape[0]\n",
    "    mean = np.repeat(np.mean(arr, where=mask), len_arr)\n",
    "    std_dev = np.repeat(np.std(arr, where=mask), len_arr)\n",
    "    norm_arr = np.subtract(arr, mean, out=arr, where=mask)\n",
    "    std_mask = np.logical_and(std_dev!=0, mask)\n",
    "    norm_arr = np.divide(norm_arr, std_dev, out=norm_arr, where=std_mask)\n",
    "    return norm_arr\n",
    "\n",
    "def normalize_input2d(arr, mask):\n",
    "    ''' Truth value is where to perform the operation, exclude False vals.\n",
    "    returns: Array with the shape of arr with normalization carried out with mask '''\n",
    "    len_ax1 = arr.shape[1]\n",
    "    mean = np.tile(np.mean(arr, axis=1, where=mask), (len_ax1,1)).transpose()\n",
    "    std_dev = np.tile(np.std(arr, axis=1, where=mask), (len_ax1,1)).transpose()\n",
    "    norm_arr = np.subtract(arr, mean, out=arr, where=mask)\n",
    "    std_mask = np.logical_and(std_dev != 0, mask)\n",
    "    norm_arr = np.divide(norm_arr, std_dev, out=norm_arr, where=std_mask)\n",
    "    return norm_arr"
   ]
  },
  {
   "cell_type": "markdown",
   "id": "cbb1d330-2a71-4523-8f41-e8e2dd41b5a7",
   "metadata": {},
   "source": [
    "## Load Data"
   ]
  },
  {
   "cell_type": "markdown",
   "id": "1441ff4a-17d9-4379-9f54-291d4832fc9c",
   "metadata": {},
   "source": [
    "### Data Including Tracks\n",
    "### X = [Energy, Eta, Phi, rPerp, Track Flag, Layer]\n",
    "Note: Possible mistake in Y, was [clusterCalib, truthPartE, truthPartPt]\n",
    "### Y = [truthPartE]"
   ]
  },
  {
   "cell_type": "code",
   "execution_count": 5,
   "id": "03a46ac6",
   "metadata": {},
   "outputs": [],
   "source": [
    "t0 = t.time()\n",
    "data_path = path + \"v7/\"\n",
    "Xraw = np.load(data_path + 'X_img_pfn.npz', mmap_mode='r')\n",
    "Yraw = np.load(data_path + 'Y_truthE.npz', mmap_mode='r')"
   ]
  },
  {
   "cell_type": "code",
   "execution_count": 6,
   "id": "a518ca23",
   "metadata": {},
   "outputs": [
    {
     "name": "stdout",
     "output_type": "stream",
     "text": [
      "(175000, 636, 5)\n",
      "(175000,)\n",
      "Time to copy arrays: 13.19599986076355 (s)\n"
     ]
    }
   ],
   "source": [
    "t0 = t.time()\n",
    "X = Xraw['arr_0'][:175000,:,:5]\n",
    "Y = Yraw['arr_0'][:175000]\n",
    "print(X.shape)\n",
    "print(Y.shape)\n",
    "t1 = t.time()\n",
    "print('Time to copy arrays: '+str(t1-t0)+' (s)')"
   ]
  },
  {
   "cell_type": "markdown",
   "id": "b0583aed-8943-4be9-afda-9e7f1adf9f61",
   "metadata": {},
   "source": [
    "### Target Normalization"
   ]
  },
  {
   "cell_type": "code",
   "execution_count": 7,
   "id": "fdb912c6-104b-4cde-aca4-d7dc8afa579d",
   "metadata": {},
   "outputs": [],
   "source": [
    "from sklearn.preprocessing import StandardScaler\n",
    "# create scaler\n",
    "scaler_cal = StandardScaler()\n",
    "# the target energy values\n",
    "YLog = np.log(Y)\n",
    "# Ynorm = scaler_calAll.fit_transform(YLog.reshape(-1,1))"
   ]
  },
  {
   "cell_type": "markdown",
   "id": "d70740d0-0393-4234-b096-788cfb8d53df",
   "metadata": {},
   "source": [
    "#### Show Target"
   ]
  },
  {
   "cell_type": "code",
   "execution_count": 8,
   "id": "d92ae9a5-133e-40f1-8e97-e0e53b5ddb34",
   "metadata": {},
   "outputs": [
    {
     "data": {
      "image/png": "[encoded data removed]",
      "text/plain": [
       "<Figure size 432x432 with 1 Axes>"
      ]
     },
     "metadata": {},
     "output_type": "display_data"
    },
    {
     "data": {
      "image/png": "[encoded data removed]",
      "text/plain": [
       "<Figure size 432x432 with 1 Axes>"
      ]
     },
     "metadata": {},
     "output_type": "display_data"
    }
   ],
   "source": [
    "## RAW DATA ##\n",
    "#=================================================================\n",
    "fig = plt.figure(figsize=(6,6))\n",
    "bins=np.linspace(0,2000,50,endpoint=True)\n",
    "plt.hist(Yraw[\"arr_0\"], color='orange', bins=bins, density=True, alpha=.5, edgecolor='black',\n",
    "        label='raw regression target')\n",
    "plt.title('Truth Particle Energy', fontsize=16)\n",
    "plt.xlabel('E [GeV]', fontsize=14)\n",
    "plt.xlim(np.min(bins),np.max(bins))\n",
    "plt.yscale('log')\n",
    "plt.ylim(.00005,.01)\n",
    "plt.xticks(fontsize=13)\n",
    "plt.yticks(fontsize=13)\n",
    "# plt.tight_layout()\n",
    "# plt.savefig('Regression_Plots/July/EnergyTargets_STSC_raw_2021-07-15.png', format='png')\n",
    "plt.show()\n",
    "\n",
    "## NORMALIZED DATA ##\n",
    "#=================================================================\n",
    "fig = plt.figure(figsize=(6,6))\n",
    "bins=np.linspace(np.log(.5), np.log(2000), 50, endpoint=True)\n",
    "plt.hist(Y, color='forestgreen', bins=bins, density=True, alpha=.5, edgecolor='black',\n",
    "        label='log')\n",
    "plt.title('Regression Targets', fontsize=16)\n",
    "plt.xlabel('Log(E) [GeV]', fontsize=14)\n",
    "plt.xlim(np.min(bins),np.max(bins))\n",
    "plt.ylim(0,.22)\n",
    "plt.xticks(fontsize=13)\n",
    "plt.yticks(fontsize=13)\n",
    "# plt.tight_layout()\n",
    "# plt.savefig('Regression_Plots/July/EnergyTargets_STSC_log_2021-07-08.png', format='png')\n",
    "plt.show()"
   ]
  },
  {
   "cell_type": "markdown",
   "id": "9028a874-2366-49a2-acef-50340d13ddcc",
   "metadata": {},
   "source": [
    "### Data Normalization"
   ]
  },
  {
   "cell_type": "code",
   "execution_count": 9,
   "id": "3e6d91dd-9777-4089-8f80-77df6ccd4a19",
   "metadata": {},
   "outputs": [],
   "source": [
    "## Normalize rPerp to 1/3630\n",
    "rPerp_mask = X[:,:,3] != 0\n",
    "X[:,:,3][rPerp_mask] = X[:,:,3][rPerp_mask]/3630.\n",
    "\n",
    "## Energy Values that are not zero!\n",
    "E_nonZeroMask = X[:,:,0] != 0\n",
    "X[:,:,0][E_nonZeroMask] = np.log(X[:,:,0][E_nonZeroMask])\n",
    "cellE_mean = np.mean(X[:,:,0][E_nonZeroMask])\n",
    "cellE_std = np.std(X[:,:,0][E_nonZeroMask])\n",
    "X[:,:,0][E_nonZeroMask] = (X[:,:,0][E_nonZeroMask] - cellE_mean)/cellE_std\n",
    "\n",
    "## Eta and Phi\n",
    "# do nothing for now as a control and check performance\n",
    "eta_mask = X[:,:,1] != 0\n",
    "X[:,:,1][eta_mask] = X[:,:,1][eta_mask]/.7\n",
    "\n",
    "phi_mask = X[:,:,2] != 0\n",
    "cellPhi_std = np.std(X[:,:,2][phi_mask])\n",
    "X[:,:,2][phi_mask] = X[:,:,2][phi_mask]/cellPhi_std"
   ]
  },
  {
   "cell_type": "markdown",
   "id": "6e953e96-0248-4ae7-ae18-f07f37818221",
   "metadata": {},
   "source": [
    "#### Show Inputs"
   ]
  },
  {
   "cell_type": "code",
   "execution_count": 10,
   "id": "57d1a889-df56-46f2-8659-a661fe1ac5c5",
   "metadata": {},
   "outputs": [
    {
     "data": {
      "text/plain": [
       "<Figure size 799.992x599.976 with 0 Axes>"
      ]
     },
     "metadata": {},
     "output_type": "display_data"
    },
    {
     "data": {
      "image/png": "[encoded data removed]",
      "text/plain": [
       "<Figure size 432x432 with 1 Axes>"
      ]
     },
     "metadata": {},
     "output_type": "display_data"
    },
    {
     "data": {
      "text/plain": [
       "<Figure size 799.992x599.976 with 0 Axes>"
      ]
     },
     "metadata": {},
     "output_type": "display_data"
    },
    {
     "data": {
      "image/png": "[encoded data removed]",
      "text/plain": [
       "<Figure size 432x432 with 1 Axes>"
      ]
     },
     "metadata": {},
     "output_type": "display_data"
    },
    {
     "data": {
      "text/plain": [
       "<Figure size 799.992x599.976 with 0 Axes>"
      ]
     },
     "metadata": {},
     "output_type": "display_data"
    },
    {
     "data": {
      "image/png": "[encoded data removed]",
      "text/plain": [
       "<Figure size 432x432 with 1 Axes>"
      ]
     },
     "metadata": {},
     "output_type": "display_data"
    },
    {
     "data": {
      "text/plain": [
       "<Figure size 799.992x599.976 with 0 Axes>"
      ]
     },
     "metadata": {},
     "output_type": "display_data"
    },
    {
     "data": {
      "image/png": "[encoded data removed]",
      "text/plain": [
       "<Figure size 432x432 with 1 Axes>"
      ]
     },
     "metadata": {},
     "output_type": "display_data"
    }
   ],
   "source": [
    "############\n",
    "## ENERGY ##\n",
    "############\n",
    "plt.cla(); plt.clf()\n",
    "fig = plt.figure(figsize=(6,6))\n",
    "ebins = np.linspace(-6,7, 30, endpoint=True)\n",
    "plt.hist(X[:,:,0][E_nonZeroMask], color='plum', bins=ebins, density=True, alpha=.5, edgecolor='black')\n",
    "plt.title('Cluster Cell Energy Inputs', fontsize=16)\n",
    "plt.xlabel('Log(E [GeV])', fontsize=14)\n",
    "plt.xlim(np.min(ebins),np.max(ebins))\n",
    "plt.ylim(0,.55)\n",
    "plt.xticks(fontsize=13)\n",
    "plt.yticks(fontsize=13)\n",
    "# plt.tight_layout()\n",
    "# plt.savefig('Regression_Plots/July/XY_tracks_multipleClusters_med_Einputs_2020-07-01.png', format='png')\n",
    "plt.show()\n",
    "\n",
    "#########\n",
    "## ETA ##\n",
    "#########\n",
    "plt.cla(); plt.clf()\n",
    "fig = plt.figure(figsize=(6,6))\n",
    "etabins = np.linspace(-1.1,1.1,50, endpoint=True)\n",
    "plt.hist(X[:,:,1][eta_mask], color='chocolate', bins=etabins, density=True, alpha=.5, edgecolor='black')\n",
    "plt.title('Cluster Cell Eta Inputs', fontsize=16)\n",
    "plt.xlabel('Eta', fontsize=14)\n",
    "plt.xlim(np.min(etabins),np.max(etabins))\n",
    "plt.ylim(0,4.5)\n",
    "plt.xticks(fontsize=13)\n",
    "plt.yticks(fontsize=13)\n",
    "# plt.tight_layout()\n",
    "# plt.savefig('Regression_Plots/July/XY_tracks_multipleClusters_med_EtaInputs_2021-07-08.png', format='png')\n",
    "plt.show()\n",
    "\n",
    "#########\n",
    "## PHI ##\n",
    "#########\n",
    "plt.cla(); plt.clf()\n",
    "fig = plt.figure(figsize=(6,6))\n",
    "phibins = np.linspace(-np.pi/4,np.pi/4,50, endpoint=True)\n",
    "plt.hist(X[:,:,2][phi_mask], color='olive', bins=phibins, density=True, alpha=.5, edgecolor='black')\n",
    "plt.title('Cluster Cell Phi Inputs Flattened', fontsize=16)\n",
    "plt.xlabel('Phi', fontsize=14)\n",
    "plt.xlim(np.min(phibins),np.max(phibins))\n",
    "plt.ylim(0,5)\n",
    "plt.xticks(fontsize=13)\n",
    "plt.yticks(fontsize=13)\n",
    "# plt.tight_layout()\n",
    "# plt.savefig('Regression_Plots/July/XY_tracks_multipleClusters_med_PhiInputs_2021-07-08.png', format='png')\n",
    "plt.show()\n",
    "\n",
    "###########\n",
    "## RPERP ##\n",
    "###########\n",
    "plt.cla(); plt.clf()\n",
    "fig = plt.figure(figsize=(6,6))\n",
    "Rbins = np.linspace(-0,1.2,50, endpoint=True)\n",
    "plt.hist(X[:,:,3][rPerp_mask], color='gold', bins=Rbins, density=True, alpha=.5, edgecolor='black')\n",
    "plt.title('Cluster Cell rPerp Inputs Flattened', fontsize=16)\n",
    "plt.xlabel('rPerp', fontsize=14)\n",
    "plt.xlim(np.min(Rbins),np.max(Rbins))\n",
    "plt.ylim(0,10)\n",
    "plt.xticks(fontsize=13)\n",
    "plt.yticks(fontsize=13)\n",
    "# plt.tight_layout()\n",
    "# plt.savefig('Regression_Plots/July/XY_tracks_multipleClusters_med_rPerpInputs_2021-07-08.png', format='png')\n",
    "plt.show()"
   ]
  },
  {
   "cell_type": "markdown",
   "id": "1798483f-090a-4fe4-90cc-e7a1bcdb0746",
   "metadata": {},
   "source": [
    "## Model Settings"
   ]
  },
  {
   "cell_type": "code",
   "execution_count": 11,
   "id": "404ad9d1-1e92-4481-bf9a-165fa37f24e2",
   "metadata": {},
   "outputs": [
    {
     "name": "stdout",
     "output_type": "stream",
     "text": [
      "train -- val -- test\n",
      "131250 -- 17500 -- 26250\n"
     ]
    }
   ],
   "source": [
    "# EFN regression example uses 75/10/15 split for 100,000 samples\n",
    "train, val, test = tvt_num(X, _tvt=(75, 10, 15))\n",
    "print('train -- val -- test')\n",
    "print(str(train)+' -- '+str(val)+' -- '+str(test))\n",
    "\n",
    "# network architecture parameters\n",
    "Phi_sizes, F_sizes = (100, 100, 128), (100, 100, 100)\n",
    "output_act, output_dim = 'linear', 1\n",
    "loss = 'mse'\n",
    "\n",
    "# network training parameters\n",
    "num_epoch = 1500\n",
    "batch_size = 1000"
   ]
  },
  {
   "cell_type": "markdown",
   "id": "669ddd4d-bf89-4c33-b6d8-8b09fd58a408",
   "metadata": {},
   "source": [
    "### Data Pipeline"
   ]
  },
  {
   "cell_type": "markdown",
   "id": "dc1c7e27-b66d-4ef3-b7d4-ca00ef4d3a90",
   "metadata": {},
   "source": [
    "#### Train/Val/Test Split"
   ]
  },
  {
   "cell_type": "code",
   "execution_count": 12,
   "id": "b4f45760-bab3-4b28-944e-a2dec33e441b",
   "metadata": {},
   "outputs": [
    {
     "name": "stdout",
     "output_type": "stream",
     "text": [
      "(131250, 636, 5)\n",
      "(131250,)\n"
     ]
    }
   ],
   "source": [
    "# dataset = tf.data.Dataset.from_tensor_slices((X, Y))\n",
    "(x_train, x_val, x_test,\n",
    " y_train, y_val, y_test) = ef.utils.data_split(X, YLog, val=val, test=test)\n",
    "\n",
    "# Print out tensor shapes\n",
    "print(np.shape(x_train))\n",
    "print(np.shape(y_train))"
   ]
  },
  {
   "cell_type": "code",
   "execution_count": 13,
   "id": "f1adf791",
   "metadata": {},
   "outputs": [
    {
     "name": "stdout",
     "output_type": "stream",
     "text": [
      "(175000, 636, 5)\n",
      "(175000,)\n"
     ]
    }
   ],
   "source": [
    "a = np.concatenate([x_train, x_val, x_test])\n",
    "b = np.concatenate([y_train, y_val, y_test])\n",
    "print(np.shape(a))\n",
    "print(np.shape(b))"
   ]
  },
  {
   "cell_type": "markdown",
   "id": "dfa400f5-00a6-490b-899e-e1cb9c219b97",
   "metadata": {},
   "source": [
    "### Strategy"
   ]
  },
  {
   "cell_type": "markdown",
   "id": "29e41ab7-9ff0-4bd2-b071-cfb3eb814f9b",
   "metadata": {},
   "source": [
    "### Build Architecture"
   ]
  },
  {
   "cell_type": "code",
   "execution_count": 14,
   "id": "fb93bd35-0ab6-43bc-aaf2-576718e534f4",
   "metadata": {
    "scrolled": true,
    "tags": []
   },
   "outputs": [
    {
     "name": "stdout",
     "output_type": "stream",
     "text": [
      "Model: \"model\"\n",
      "__________________________________________________________________________________________________\n",
      "Layer (type)                    Output Shape         Param #     Connected to                     \n",
      "==================================================================================================\n",
      "input (InputLayer)              [(None, None, 5)]    0                                            \n",
      "__________________________________________________________________________________________________\n",
      "tdist_0 (TimeDistributed)       (None, None, 100)    600         input[0][0]                      \n",
      "__________________________________________________________________________________________________\n",
      "activation (Activation)         (None, None, 100)    0           tdist_0[0][0]                    \n",
      "__________________________________________________________________________________________________\n",
      "tdist_1 (TimeDistributed)       (None, None, 100)    10100       activation[0][0]                 \n",
      "__________________________________________________________________________________________________\n",
      "activation_1 (Activation)       (None, None, 100)    0           tdist_1[0][0]                    \n",
      "__________________________________________________________________________________________________\n",
      "tdist_2 (TimeDistributed)       (None, None, 128)    12928       activation_1[0][0]               \n",
      "__________________________________________________________________________________________________\n",
      "mask (Lambda)                   (None, None)         0           input[0][0]                      \n",
      "__________________________________________________________________________________________________\n",
      "activation_2 (Activation)       (None, None, 128)    0           tdist_2[0][0]                    \n",
      "__________________________________________________________________________________________________\n",
      "sum (Dot)                       (None, 128)          0           mask[0][0]                       \n",
      "                                                                 activation_2[0][0]               \n",
      "__________________________________________________________________________________________________\n",
      "dense_0 (Dense)                 (None, 100)          12900       sum[0][0]                        \n",
      "__________________________________________________________________________________________________\n",
      "activation_3 (Activation)       (None, 100)          0           dense_0[0][0]                    \n",
      "__________________________________________________________________________________________________\n",
      "dense_1 (Dense)                 (None, 100)          10100       activation_3[0][0]               \n",
      "__________________________________________________________________________________________________\n",
      "activation_4 (Activation)       (None, 100)          0           dense_1[0][0]                    \n",
      "__________________________________________________________________________________________________\n",
      "dense_2 (Dense)                 (None, 100)          10100       activation_4[0][0]               \n",
      "__________________________________________________________________________________________________\n",
      "activation_5 (Activation)       (None, 100)          0           dense_2[0][0]                    \n",
      "__________________________________________________________________________________________________\n",
      "output (Dense)                  (None, 1)            101         activation_5[0][0]               \n",
      "__________________________________________________________________________________________________\n",
      "activation_6 (Activation)       (None, 1)            0           output[0][0]                     \n",
      "==================================================================================================\n",
      "Total params: 56,829\n",
      "Trainable params: 56,829\n",
      "Non-trainable params: 0\n",
      "__________________________________________________________________________________________________\n"
     ]
    }
   ],
   "source": [
    "# BUILD OPTIMIZER\n",
    "netOpt = tf.keras.optimizers.Adam(learning_rate=0.001)\n",
    "\n",
    "pfn = PFN(input_dim=5, Phi_sizes=Phi_sizes, F_sizes=F_sizes, \n",
    "            output_act=output_act, output_dim=output_dim, loss=loss,\n",
    "            optimizer=netOpt, metrics=[])\n",
    "\n",
    "# pfn = PFN(input_dim=5, Phi_sizes=Phi_sizes, F_sizes=F_sizes, \n",
    "#           output_act=output_act, output_dim=output_dim, loss=loss, metrics=[])"
   ]
  },
  {
   "cell_type": "markdown",
   "id": "115ae7ff-2515-4dad-a21d-28a811559097",
   "metadata": {},
   "source": [
    "### Data Pipeline"
   ]
  },
  {
   "cell_type": "code",
   "execution_count": 15,
   "id": "41570407-206b-4f95-b375-e567f3e0d4ef",
   "metadata": {},
   "outputs": [],
   "source": [
    "options = tf.data.Options()\n",
    "options.experimental_distribute.auto_shard_policy = tf.data.experimental.AutoShardPolicy.DATA"
   ]
  },
  {
   "cell_type": "markdown",
   "id": "1b2fb264-59c0-402c-9cde-be2b2aab1d45",
   "metadata": {},
   "source": [
    "## Train Model"
   ]
  },
  {
   "cell_type": "code",
   "execution_count": 16,
   "id": "1fd9bb88",
   "metadata": {},
   "outputs": [
    {
     "name": "stderr",
     "output_type": "stream",
     "text": [
      "Failed to detect the name of this notebook, you can set it manually with the WANDB_NOTEBOOK_NAME environment variable to enable code saving.\n",
      "wandb: Currently logged in as: alberthu233 (use `wandb login --relogin` to force relogin)\n",
      "C:\\Users\\alber\\anaconda3\\envs\\tensorflow-gpu\\lib\\site-packages\\IPython\\html.py:12: ShimWarning: The `IPython.html` package has been deprecated since IPython 4.0. You should import from `notebook` instead. `IPython.html.widgets` has moved to `ipywidgets`.\n",
      "  warn(\"The `IPython.html` package has been deprecated since IPython 4.0. \"\n",
      "wandb: wandb version 0.12.10 is available!  To upgrade, please run:\n",
      "wandb:  $ pip install wandb --upgrade\n"
     ]
    },
    {
     "data": {
      "text/html": [
       "\n",
       "                    Syncing run <strong><a href=\"https://wandb.ai/alberthu233/cluster_only_pfn/runs/3f1dw6p8\" target=\"_blank\">fluent-lake-3</a></strong> to <a href=\"https://wandb.ai/alberthu233/cluster_only_pfn\" target=\"_blank\">Weights & Biases</a> (<a href=\"https://docs.wandb.com/integrations/jupyter.html\" target=\"_blank\">docs</a>).<br/>\n",
       "\n",
       "                "
      ],
      "text/plain": [
       "<IPython.core.display.HTML object>"
      ]
     },
     "metadata": {},
     "output_type": "display_data"
    },
    {
     "data": {
      "text/html": [
       "<button onClick=\"this.nextSibling.style.display='block';this.style.display='none';\">Display W&B run</button><iframe src=\"https://wandb.ai/alberthu233/cluster_only_pfn/runs/3f1dw6p8?jupyter=true\" style=\"border:none;width:100%;height:420px;display:none;\"></iframe>"
      ],
      "text/plain": [
       "<wandb.sdk.wandb_run.Run at 0x2f626cd1a00>"
      ]
     },
     "execution_count": 16,
     "metadata": {},
     "output_type": "execute_result"
    }
   ],
   "source": [
    "import wandb\n",
    "from wandb.keras import WandbCallback\n",
    "wandb.init(project=\"cluster_only_pfn\")"
   ]
  },
  {
   "cell_type": "code",
   "execution_count": 17,
   "id": "d8fea1f1-bad4-456e-94d4-a9cbdac96415",
   "metadata": {
    "scrolled": true,
    "tags": []
   },
   "outputs": [
    {
     "name": "stdout",
     "output_type": "stream",
     "text": [
      "\n",
      "Epoch 00001: loss improved from inf to 373.48621, saving model to pfn_regressor.h5\n",
      "\n",
      "Epoch 00002: loss improved from 373.48621 to 4.33601, saving model to pfn_regressor.h5\n",
      "\n",
      "Epoch 00003: loss improved from 4.33601 to 3.64840, saving model to pfn_regressor.h5\n",
      "\n",
      "Epoch 00004: loss improved from 3.64840 to 3.41756, saving model to pfn_regressor.h5\n",
      "\n",
      "Epoch 00005: loss improved from 3.41756 to 3.29167, saving model to pfn_regressor.h5\n",
      "\n",
      "Epoch 00006: loss did not improve from 3.29167\n",
      "\n",
      "Epoch 00007: loss did not improve from 3.29167\n",
      "\n",
      "Epoch 00008: loss improved from 3.29167 to 3.13431, saving model to pfn_regressor.h5\n",
      "\n",
      "Epoch 00009: loss did not improve from 3.13431\n",
      "\n",
      "Epoch 00010: loss did not improve from 3.13431\n",
      "\n",
      "Epoch 00011: loss did not improve from 3.13431\n",
      "\n",
      "Epoch 00012: loss did not improve from 3.13431\n",
      "\n",
      "Epoch 00013: loss did not improve from 3.13431\n",
      "\n",
      "Epoch 00014: loss did not improve from 3.13431\n",
      "\n",
      "Epoch 00015: loss did not improve from 3.13431\n",
      "\n",
      "Epoch 00016: loss improved from 3.13431 to 2.78994, saving model to pfn_regressor.h5\n",
      "\n",
      "Epoch 00017: loss did not improve from 2.78994\n",
      "\n",
      "Epoch 00018: loss improved from 2.78994 to 2.72396, saving model to pfn_regressor.h5\n",
      "\n",
      "Epoch 00019: loss did not improve from 2.72396\n",
      "\n",
      "Epoch 00020: loss improved from 2.72396 to 2.66691, saving model to pfn_regressor.h5\n",
      "\n",
      "Epoch 00021: loss did not improve from 2.66691\n",
      "\n",
      "Epoch 00022: loss did not improve from 2.66691\n",
      "\n",
      "Epoch 00023: loss did not improve from 2.66691\n",
      "\n",
      "Epoch 00024: loss did not improve from 2.66691\n",
      "\n",
      "Epoch 00025: loss did not improve from 2.66691\n",
      "\n",
      "Epoch 00026: loss did not improve from 2.66691\n",
      "\n",
      "Epoch 00027: loss improved from 2.66691 to 2.59915, saving model to pfn_regressor.h5\n",
      "\n",
      "Epoch 00028: loss improved from 2.59915 to 2.58778, saving model to pfn_regressor.h5\n",
      "\n",
      "Epoch 00029: loss did not improve from 2.58778\n",
      "\n",
      "Epoch 00030: loss improved from 2.58778 to 2.55985, saving model to pfn_regressor.h5\n",
      "\n",
      "Epoch 00031: loss improved from 2.55985 to 2.55213, saving model to pfn_regressor.h5\n",
      "\n",
      "Epoch 00032: loss did not improve from 2.55213\n",
      "\n",
      "Epoch 00033: loss did not improve from 2.55213\n",
      "\n",
      "Epoch 00034: loss did not improve from 2.55213\n",
      "\n",
      "Epoch 00035: loss improved from 2.55213 to 2.53552, saving model to pfn_regressor.h5\n",
      "\n",
      "Epoch 00036: loss did not improve from 2.53552\n",
      "\n",
      "Epoch 00037: loss improved from 2.53552 to 2.51375, saving model to pfn_regressor.h5\n",
      "\n",
      "Epoch 00038: loss did not improve from 2.51375\n",
      "\n",
      "Epoch 00039: loss did not improve from 2.51375\n",
      "\n",
      "Epoch 00040: loss improved from 2.51375 to 2.49576, saving model to pfn_regressor.h5\n",
      "\n",
      "Epoch 00041: loss improved from 2.49576 to 2.48610, saving model to pfn_regressor.h5\n",
      "\n",
      "Epoch 00042: loss improved from 2.48610 to 2.48479, saving model to pfn_regressor.h5\n",
      "\n",
      "Epoch 00043: loss did not improve from 2.48479\n",
      "\n",
      "Epoch 00044: loss improved from 2.48479 to 2.47728, saving model to pfn_regressor.h5\n",
      "\n",
      "Epoch 00045: loss improved from 2.47728 to 2.46049, saving model to pfn_regressor.h5\n",
      "\n",
      "Epoch 00046: loss improved from 2.46049 to 2.45532, saving model to pfn_regressor.h5\n",
      "\n",
      "Epoch 00047: loss did not improve from 2.45532\n",
      "\n",
      "Epoch 00048: loss improved from 2.45532 to 2.44916, saving model to pfn_regressor.h5\n",
      "\n",
      "Epoch 00049: loss improved from 2.44916 to 2.43397, saving model to pfn_regressor.h5\n",
      "\n",
      "Epoch 00050: loss did not improve from 2.43397\n",
      "\n",
      "Epoch 00051: loss did not improve from 2.43397\n",
      "\n",
      "Epoch 00052: loss did not improve from 2.43397\n",
      "\n",
      "Epoch 00053: loss did not improve from 2.43397\n",
      "\n",
      "Epoch 00054: loss did not improve from 2.43397\n",
      "\n",
      "Epoch 00055: loss did not improve from 2.43397\n",
      "\n",
      "Epoch 00056: loss did not improve from 2.43397\n",
      "\n",
      "Epoch 00057: loss did not improve from 2.43397\n",
      "\n",
      "Epoch 00058: loss did not improve from 2.43397\n",
      "\n",
      "Epoch 00059: loss did not improve from 2.43397\n",
      "\n",
      "Epoch 00060: loss did not improve from 2.43397\n",
      "\n",
      "Epoch 00061: loss did not improve from 2.43397\n",
      "\n",
      "Epoch 00062: loss did not improve from 2.43397\n",
      "\n",
      "Epoch 00063: loss did not improve from 2.43397\n",
      "\n",
      "Epoch 00064: loss did not improve from 2.43397\n",
      "\n",
      "Epoch 00065: loss did not improve from 2.43397\n",
      "\n",
      "Epoch 00066: loss did not improve from 2.43397\n",
      "\n",
      "Epoch 00067: loss improved from 2.43397 to 2.42900, saving model to pfn_regressor.h5\n",
      "\n",
      "Epoch 00068: loss did not improve from 2.42900\n",
      "\n",
      "Epoch 00069: loss improved from 2.42900 to 2.42557, saving model to pfn_regressor.h5\n",
      "\n",
      "Epoch 00070: loss improved from 2.42557 to 2.41011, saving model to pfn_regressor.h5\n",
      "\n",
      "Epoch 00071: loss did not improve from 2.41011\n",
      "\n",
      "Epoch 00072: loss improved from 2.41011 to 2.40894, saving model to pfn_regressor.h5\n",
      "\n",
      "Epoch 00073: loss improved from 2.40894 to 2.39902, saving model to pfn_regressor.h5\n",
      "\n",
      "Epoch 00074: loss improved from 2.39902 to 2.39303, saving model to pfn_regressor.h5\n",
      "\n",
      "Epoch 00075: loss improved from 2.39303 to 2.38836, saving model to pfn_regressor.h5\n",
      "\n",
      "Epoch 00076: loss did not improve from 2.38836\n",
      "\n",
      "Epoch 00077: loss improved from 2.38836 to 2.37698, saving model to pfn_regressor.h5\n",
      "\n",
      "Epoch 00078: loss improved from 2.37698 to 2.36708, saving model to pfn_regressor.h5\n",
      "\n",
      "Epoch 00079: loss did not improve from 2.36708\n",
      "\n",
      "Epoch 00080: loss improved from 2.36708 to 2.35955, saving model to pfn_regressor.h5\n",
      "\n",
      "Epoch 00081: loss improved from 2.35955 to 2.35038, saving model to pfn_regressor.h5\n",
      "\n",
      "Epoch 00082: loss did not improve from 2.35038\n",
      "\n",
      "Epoch 00083: loss did not improve from 2.35038\n",
      "\n",
      "Epoch 00084: loss improved from 2.35038 to 2.34702, saving model to pfn_regressor.h5\n",
      "\n",
      "Epoch 00085: loss improved from 2.34702 to 2.34363, saving model to pfn_regressor.h5\n",
      "\n",
      "Epoch 00086: loss improved from 2.34363 to 2.33498, saving model to pfn_regressor.h5\n",
      "\n",
      "Epoch 00087: loss did not improve from 2.33498\n",
      "\n",
      "Epoch 00088: loss improved from 2.33498 to 2.33486, saving model to pfn_regressor.h5\n",
      "\n",
      "Epoch 00089: loss did not improve from 2.33486\n",
      "\n",
      "Epoch 00090: loss improved from 2.33486 to 2.32433, saving model to pfn_regressor.h5\n",
      "\n",
      "Epoch 00091: loss did not improve from 2.32433\n",
      "\n",
      "Epoch 00092: loss improved from 2.32433 to 2.31387, saving model to pfn_regressor.h5\n",
      "\n",
      "Epoch 00093: loss did not improve from 2.31387\n",
      "\n",
      "Epoch 00094: loss improved from 2.31387 to 2.30222, saving model to pfn_regressor.h5\n",
      "\n",
      "Epoch 00095: loss did not improve from 2.30222\n",
      "\n",
      "Epoch 00096: loss improved from 2.30222 to 2.30114, saving model to pfn_regressor.h5\n",
      "\n",
      "Epoch 00097: loss improved from 2.30114 to 2.29654, saving model to pfn_regressor.h5\n",
      "\n",
      "Epoch 00098: loss improved from 2.29654 to 2.28907, saving model to pfn_regressor.h5\n",
      "\n",
      "Epoch 00099: loss did not improve from 2.28907\n",
      "\n",
      "Epoch 00100: loss improved from 2.28907 to 2.28194, saving model to pfn_regressor.h5\n",
      "\n",
      "Epoch 00101: loss improved from 2.28194 to 2.27871, saving model to pfn_regressor.h5\n",
      "\n",
      "Epoch 00102: loss improved from 2.27871 to 2.27621, saving model to pfn_regressor.h5\n",
      "\n",
      "Epoch 00103: loss improved from 2.27621 to 2.26838, saving model to pfn_regressor.h5\n",
      "\n",
      "Epoch 00104: loss improved from 2.26838 to 2.26447, saving model to pfn_regressor.h5\n",
      "\n",
      "Epoch 00105: loss improved from 2.26447 to 2.26385, saving model to pfn_regressor.h5\n",
      "\n",
      "Epoch 00106: loss improved from 2.26385 to 2.26040, saving model to pfn_regressor.h5\n",
      "\n",
      "Epoch 00107: loss did not improve from 2.26040\n",
      "\n",
      "Epoch 00108: loss improved from 2.26040 to 2.25142, saving model to pfn_regressor.h5\n",
      "\n",
      "Epoch 00109: loss did not improve from 2.25142\n",
      "\n",
      "Epoch 00110: loss did not improve from 2.25142\n",
      "\n",
      "Epoch 00111: loss improved from 2.25142 to 2.24749, saving model to pfn_regressor.h5\n",
      "\n",
      "Epoch 00112: loss improved from 2.24749 to 2.24317, saving model to pfn_regressor.h5\n",
      "\n",
      "Epoch 00113: loss did not improve from 2.24317\n",
      "\n",
      "Epoch 00114: loss improved from 2.24317 to 2.23473, saving model to pfn_regressor.h5\n",
      "\n",
      "Epoch 00115: loss did not improve from 2.23473\n",
      "\n",
      "Epoch 00116: loss improved from 2.23473 to 2.23275, saving model to pfn_regressor.h5\n",
      "\n",
      "Epoch 00117: loss improved from 2.23275 to 2.23017, saving model to pfn_regressor.h5\n",
      "\n",
      "Epoch 00118: loss did not improve from 2.23017\n",
      "\n",
      "Epoch 00119: loss improved from 2.23017 to 2.22449, saving model to pfn_regressor.h5\n",
      "\n",
      "Epoch 00120: loss improved from 2.22449 to 2.21564, saving model to pfn_regressor.h5\n",
      "\n",
      "Epoch 00121: loss improved from 2.21564 to 2.21252, saving model to pfn_regressor.h5\n",
      "\n",
      "Epoch 00122: loss did not improve from 2.21252\n",
      "\n",
      "Epoch 00123: loss improved from 2.21252 to 2.20962, saving model to pfn_regressor.h5\n",
      "\n",
      "Epoch 00124: loss improved from 2.20962 to 2.20621, saving model to pfn_regressor.h5\n",
      "\n",
      "Epoch 00125: loss improved from 2.20621 to 2.20589, saving model to pfn_regressor.h5\n",
      "\n",
      "Epoch 00126: loss improved from 2.20589 to 2.19907, saving model to pfn_regressor.h5\n",
      "\n",
      "Epoch 00127: loss improved from 2.19907 to 2.19738, saving model to pfn_regressor.h5\n",
      "\n",
      "Epoch 00128: loss improved from 2.19738 to 2.18903, saving model to pfn_regressor.h5\n",
      "\n",
      "Epoch 00129: loss did not improve from 2.18903\n",
      "\n",
      "Epoch 00130: loss did not improve from 2.18903\n",
      "\n",
      "Epoch 00131: loss improved from 2.18903 to 2.18668, saving model to pfn_regressor.h5\n",
      "\n",
      "Epoch 00132: loss improved from 2.18668 to 2.18190, saving model to pfn_regressor.h5\n",
      "\n",
      "Epoch 00133: loss improved from 2.18190 to 2.17603, saving model to pfn_regressor.h5\n",
      "\n",
      "Epoch 00134: loss did not improve from 2.17603\n",
      "\n",
      "Epoch 00135: loss improved from 2.17603 to 2.17198, saving model to pfn_regressor.h5\n",
      "\n",
      "Epoch 00136: loss did not improve from 2.17198\n",
      "\n",
      "Epoch 00137: loss improved from 2.17198 to 2.16649, saving model to pfn_regressor.h5\n",
      "\n",
      "Epoch 00138: loss did not improve from 2.16649\n",
      "\n",
      "Epoch 00139: loss improved from 2.16649 to 2.16385, saving model to pfn_regressor.h5\n",
      "\n",
      "Epoch 00140: loss improved from 2.16385 to 2.15537, saving model to pfn_regressor.h5\n",
      "\n",
      "Epoch 00141: loss did not improve from 2.15537\n"
     ]
    },
    {
     "ename": "ResourceExhaustedError",
     "evalue": "2 root error(s) found.\n  (0) Resource exhausted:  OOM when allocating tensor with shape[500,636,5] and type float on /job:localhost/replica:0/task:0/device:CPU:0 by allocator cpu\n\t [[{{node GatherV2}}]]\n\t [[IteratorGetNext]]\nHint: If you want to see a list of allocated tensors when OOM happens, add report_tensor_allocations_upon_oom to RunOptions for current allocation info. This isn't available when running in Eager mode.\n\n\t [[IteratorGetNext/_2]]\nHint: If you want to see a list of allocated tensors when OOM happens, add report_tensor_allocations_upon_oom to RunOptions for current allocation info. This isn't available when running in Eager mode.\n\n  (1) Resource exhausted:  OOM when allocating tensor with shape[500,636,5] and type float on /job:localhost/replica:0/task:0/device:CPU:0 by allocator cpu\n\t [[{{node GatherV2}}]]\n\t [[IteratorGetNext]]\nHint: If you want to see a list of allocated tensors when OOM happens, add report_tensor_allocations_upon_oom to RunOptions for current allocation info. This isn't available when running in Eager mode.\n\n0 successful operations.\n0 derived errors ignored. [Op:__inference_test_function_1538]\n\nFunction call stack:\ntest_function -> test_function\n",
     "output_type": "error",
     "traceback": [
      "\u001b[1;31m---------------------------------------------------------------------------\u001b[0m",
      "\u001b[1;31mResourceExhaustedError\u001b[0m                    Traceback (most recent call last)",
      "\u001b[1;32m~\\AppData\\Local\\Temp/ipykernel_28052/1427342130.py\u001b[0m in \u001b[0;36m<module>\u001b[1;34m\u001b[0m\n\u001b[0;32m      2\u001b[0m \u001b[0mearlystop\u001b[0m \u001b[1;33m=\u001b[0m \u001b[0mtf\u001b[0m\u001b[1;33m.\u001b[0m\u001b[0mkeras\u001b[0m\u001b[1;33m.\u001b[0m\u001b[0mcallbacks\u001b[0m\u001b[1;33m.\u001b[0m\u001b[0mEarlyStopping\u001b[0m\u001b[1;33m(\u001b[0m\u001b[0mmonitor\u001b[0m\u001b[1;33m=\u001b[0m\u001b[1;34m'loss'\u001b[0m\u001b[1;33m,\u001b[0m \u001b[0mmin_delta\u001b[0m\u001b[1;33m=\u001b[0m\u001b[1;36m1e-4\u001b[0m\u001b[1;33m,\u001b[0m \u001b[0mpatience\u001b[0m\u001b[1;33m=\u001b[0m\u001b[1;36m300\u001b[0m\u001b[1;33m,\u001b[0m \u001b[0mverbose\u001b[0m\u001b[1;33m=\u001b[0m\u001b[1;36m0\u001b[0m\u001b[1;33m,\u001b[0m \u001b[0mrestore_best_weights\u001b[0m\u001b[1;33m=\u001b[0m\u001b[1;32mTrue\u001b[0m\u001b[1;33m)\u001b[0m\u001b[1;33m\u001b[0m\u001b[1;33m\u001b[0m\u001b[0m\n\u001b[0;32m      3\u001b[0m \u001b[0mt0\u001b[0m \u001b[1;33m=\u001b[0m \u001b[0mt\u001b[0m\u001b[1;33m.\u001b[0m\u001b[0mtime\u001b[0m\u001b[1;33m(\u001b[0m\u001b[1;33m)\u001b[0m\u001b[1;33m\u001b[0m\u001b[1;33m\u001b[0m\u001b[0m\n\u001b[1;32m----> 4\u001b[1;33m history_ct = pfn.fit(x_train, y_train,\n\u001b[0m\u001b[0;32m      5\u001b[0m         \u001b[0mepochs\u001b[0m\u001b[1;33m=\u001b[0m\u001b[0mnum_epoch\u001b[0m\u001b[1;33m,\u001b[0m\u001b[1;33m\u001b[0m\u001b[1;33m\u001b[0m\u001b[0m\n\u001b[0;32m      6\u001b[0m         \u001b[0mbatch_size\u001b[0m\u001b[1;33m=\u001b[0m\u001b[1;36m500\u001b[0m\u001b[1;33m,\u001b[0m\u001b[1;33m\u001b[0m\u001b[1;33m\u001b[0m\u001b[0m\n",
      "\u001b[1;32m~\\anaconda3\\envs\\tensorflow-gpu\\lib\\site-packages\\energyflow\\archs\\archbase.py\u001b[0m in \u001b[0;36mfit\u001b[1;34m(self, *args, **kwargs)\u001b[0m\n\u001b[0;32m    368\u001b[0m \u001b[1;33m\u001b[0m\u001b[0m\n\u001b[0;32m    369\u001b[0m         \u001b[1;31m# do the fitting\u001b[0m\u001b[1;33m\u001b[0m\u001b[1;33m\u001b[0m\u001b[1;33m\u001b[0m\u001b[0m\n\u001b[1;32m--> 370\u001b[1;33m         \u001b[0mhist\u001b[0m \u001b[1;33m=\u001b[0m \u001b[0mself\u001b[0m\u001b[1;33m.\u001b[0m\u001b[0mmodel\u001b[0m\u001b[1;33m.\u001b[0m\u001b[0mfit\u001b[0m\u001b[1;33m(\u001b[0m\u001b[1;33m*\u001b[0m\u001b[0margs\u001b[0m\u001b[1;33m,\u001b[0m \u001b[1;33m**\u001b[0m\u001b[0mkwargs\u001b[0m\u001b[1;33m)\u001b[0m\u001b[1;33m\u001b[0m\u001b[1;33m\u001b[0m\u001b[0m\n\u001b[0m\u001b[0;32m    371\u001b[0m \u001b[1;33m\u001b[0m\u001b[0m\n\u001b[0;32m    372\u001b[0m         \u001b[1;31m# handle saving at the end, if we weren't already saving throughout\u001b[0m\u001b[1;33m\u001b[0m\u001b[1;33m\u001b[0m\u001b[1;33m\u001b[0m\u001b[0m\n",
      "\u001b[1;32m~\\anaconda3\\envs\\tensorflow-gpu\\lib\\site-packages\\wandb\\integration\\keras\\keras.py\u001b[0m in \u001b[0;36mnew_v2\u001b[1;34m(*args, **kwargs)\u001b[0m\n\u001b[0;32m    166\u001b[0m             \u001b[1;32mfor\u001b[0m \u001b[0mcbk\u001b[0m \u001b[1;32min\u001b[0m \u001b[0mcbks\u001b[0m\u001b[1;33m:\u001b[0m\u001b[1;33m\u001b[0m\u001b[1;33m\u001b[0m\u001b[0m\n\u001b[0;32m    167\u001b[0m                 \u001b[0mset_wandb_attrs\u001b[0m\u001b[1;33m(\u001b[0m\u001b[0mcbk\u001b[0m\u001b[1;33m,\u001b[0m \u001b[0mval_data\u001b[0m\u001b[1;33m)\u001b[0m\u001b[1;33m\u001b[0m\u001b[1;33m\u001b[0m\u001b[0m\n\u001b[1;32m--> 168\u001b[1;33m         \u001b[1;32mreturn\u001b[0m \u001b[0mold_v2\u001b[0m\u001b[1;33m(\u001b[0m\u001b[1;33m*\u001b[0m\u001b[0margs\u001b[0m\u001b[1;33m,\u001b[0m \u001b[1;33m**\u001b[0m\u001b[0mkwargs\u001b[0m\u001b[1;33m)\u001b[0m\u001b[1;33m\u001b[0m\u001b[1;33m\u001b[0m\u001b[0m\n\u001b[0m\u001b[0;32m    169\u001b[0m \u001b[1;33m\u001b[0m\u001b[0m\n\u001b[0;32m    170\u001b[0m     \u001b[0mtraining_arrays\u001b[0m\u001b[1;33m.\u001b[0m\u001b[0morig_fit_loop\u001b[0m \u001b[1;33m=\u001b[0m \u001b[0mold_arrays\u001b[0m\u001b[1;33m\u001b[0m\u001b[1;33m\u001b[0m\u001b[0m\n",
      "\u001b[1;32m~\\anaconda3\\envs\\tensorflow-gpu\\lib\\site-packages\\keras\\engine\\training.py\u001b[0m in \u001b[0;36mfit\u001b[1;34m(self, x, y, batch_size, epochs, verbose, callbacks, validation_split, validation_data, shuffle, class_weight, sample_weight, initial_epoch, steps_per_epoch, validation_steps, validation_batch_size, validation_freq, max_queue_size, workers, use_multiprocessing)\u001b[0m\n\u001b[0;32m   1213\u001b[0m                 \u001b[0mmodel\u001b[0m\u001b[1;33m=\u001b[0m\u001b[0mself\u001b[0m\u001b[1;33m,\u001b[0m\u001b[1;33m\u001b[0m\u001b[1;33m\u001b[0m\u001b[0m\n\u001b[0;32m   1214\u001b[0m                 steps_per_execution=self._steps_per_execution)\n\u001b[1;32m-> 1215\u001b[1;33m           val_logs = self.evaluate(\n\u001b[0m\u001b[0;32m   1216\u001b[0m               \u001b[0mx\u001b[0m\u001b[1;33m=\u001b[0m\u001b[0mval_x\u001b[0m\u001b[1;33m,\u001b[0m\u001b[1;33m\u001b[0m\u001b[1;33m\u001b[0m\u001b[0m\n\u001b[0;32m   1217\u001b[0m               \u001b[0my\u001b[0m\u001b[1;33m=\u001b[0m\u001b[0mval_y\u001b[0m\u001b[1;33m,\u001b[0m\u001b[1;33m\u001b[0m\u001b[1;33m\u001b[0m\u001b[0m\n",
      "\u001b[1;32m~\\anaconda3\\envs\\tensorflow-gpu\\lib\\site-packages\\keras\\engine\\training.py\u001b[0m in \u001b[0;36mevaluate\u001b[1;34m(self, x, y, batch_size, verbose, sample_weight, steps, callbacks, max_queue_size, workers, use_multiprocessing, return_dict, **kwargs)\u001b[0m\n\u001b[0;32m   1499\u001b[0m             \u001b[1;32mwith\u001b[0m \u001b[0mtf\u001b[0m\u001b[1;33m.\u001b[0m\u001b[0mprofiler\u001b[0m\u001b[1;33m.\u001b[0m\u001b[0mexperimental\u001b[0m\u001b[1;33m.\u001b[0m\u001b[0mTrace\u001b[0m\u001b[1;33m(\u001b[0m\u001b[1;34m'test'\u001b[0m\u001b[1;33m,\u001b[0m \u001b[0mstep_num\u001b[0m\u001b[1;33m=\u001b[0m\u001b[0mstep\u001b[0m\u001b[1;33m,\u001b[0m \u001b[0m_r\u001b[0m\u001b[1;33m=\u001b[0m\u001b[1;36m1\u001b[0m\u001b[1;33m)\u001b[0m\u001b[1;33m:\u001b[0m\u001b[1;33m\u001b[0m\u001b[1;33m\u001b[0m\u001b[0m\n\u001b[0;32m   1500\u001b[0m               \u001b[0mcallbacks\u001b[0m\u001b[1;33m.\u001b[0m\u001b[0mon_test_batch_begin\u001b[0m\u001b[1;33m(\u001b[0m\u001b[0mstep\u001b[0m\u001b[1;33m)\u001b[0m\u001b[1;33m\u001b[0m\u001b[1;33m\u001b[0m\u001b[0m\n\u001b[1;32m-> 1501\u001b[1;33m               \u001b[0mtmp_logs\u001b[0m \u001b[1;33m=\u001b[0m \u001b[0mself\u001b[0m\u001b[1;33m.\u001b[0m\u001b[0mtest_function\u001b[0m\u001b[1;33m(\u001b[0m\u001b[0miterator\u001b[0m\u001b[1;33m)\u001b[0m\u001b[1;33m\u001b[0m\u001b[1;33m\u001b[0m\u001b[0m\n\u001b[0m\u001b[0;32m   1502\u001b[0m               \u001b[1;32mif\u001b[0m \u001b[0mdata_handler\u001b[0m\u001b[1;33m.\u001b[0m\u001b[0mshould_sync\u001b[0m\u001b[1;33m:\u001b[0m\u001b[1;33m\u001b[0m\u001b[1;33m\u001b[0m\u001b[0m\n\u001b[0;32m   1503\u001b[0m                 \u001b[0mcontext\u001b[0m\u001b[1;33m.\u001b[0m\u001b[0masync_wait\u001b[0m\u001b[1;33m(\u001b[0m\u001b[1;33m)\u001b[0m\u001b[1;33m\u001b[0m\u001b[1;33m\u001b[0m\u001b[0m\n",
      "\u001b[1;32m~\\anaconda3\\envs\\tensorflow-gpu\\lib\\site-packages\\tensorflow\\python\\eager\\def_function.py\u001b[0m in \u001b[0;36m__call__\u001b[1;34m(self, *args, **kwds)\u001b[0m\n\u001b[0;32m    883\u001b[0m \u001b[1;33m\u001b[0m\u001b[0m\n\u001b[0;32m    884\u001b[0m       \u001b[1;32mwith\u001b[0m \u001b[0mOptionalXlaContext\u001b[0m\u001b[1;33m(\u001b[0m\u001b[0mself\u001b[0m\u001b[1;33m.\u001b[0m\u001b[0m_jit_compile\u001b[0m\u001b[1;33m)\u001b[0m\u001b[1;33m:\u001b[0m\u001b[1;33m\u001b[0m\u001b[1;33m\u001b[0m\u001b[0m\n\u001b[1;32m--> 885\u001b[1;33m         \u001b[0mresult\u001b[0m \u001b[1;33m=\u001b[0m \u001b[0mself\u001b[0m\u001b[1;33m.\u001b[0m\u001b[0m_call\u001b[0m\u001b[1;33m(\u001b[0m\u001b[1;33m*\u001b[0m\u001b[0margs\u001b[0m\u001b[1;33m,\u001b[0m \u001b[1;33m**\u001b[0m\u001b[0mkwds\u001b[0m\u001b[1;33m)\u001b[0m\u001b[1;33m\u001b[0m\u001b[1;33m\u001b[0m\u001b[0m\n\u001b[0m\u001b[0;32m    886\u001b[0m \u001b[1;33m\u001b[0m\u001b[0m\n\u001b[0;32m    887\u001b[0m       \u001b[0mnew_tracing_count\u001b[0m \u001b[1;33m=\u001b[0m \u001b[0mself\u001b[0m\u001b[1;33m.\u001b[0m\u001b[0mexperimental_get_tracing_count\u001b[0m\u001b[1;33m(\u001b[0m\u001b[1;33m)\u001b[0m\u001b[1;33m\u001b[0m\u001b[1;33m\u001b[0m\u001b[0m\n",
      "\u001b[1;32m~\\anaconda3\\envs\\tensorflow-gpu\\lib\\site-packages\\tensorflow\\python\\eager\\def_function.py\u001b[0m in \u001b[0;36m_call\u001b[1;34m(self, *args, **kwds)\u001b[0m\n\u001b[0;32m    922\u001b[0m       \u001b[1;31m# In this case we have not created variables on the first call. So we can\u001b[0m\u001b[1;33m\u001b[0m\u001b[1;33m\u001b[0m\u001b[1;33m\u001b[0m\u001b[0m\n\u001b[0;32m    923\u001b[0m       \u001b[1;31m# run the first trace but we should fail if variables are created.\u001b[0m\u001b[1;33m\u001b[0m\u001b[1;33m\u001b[0m\u001b[1;33m\u001b[0m\u001b[0m\n\u001b[1;32m--> 924\u001b[1;33m       \u001b[0mresults\u001b[0m \u001b[1;33m=\u001b[0m \u001b[0mself\u001b[0m\u001b[1;33m.\u001b[0m\u001b[0m_stateful_fn\u001b[0m\u001b[1;33m(\u001b[0m\u001b[1;33m*\u001b[0m\u001b[0margs\u001b[0m\u001b[1;33m,\u001b[0m \u001b[1;33m**\u001b[0m\u001b[0mkwds\u001b[0m\u001b[1;33m)\u001b[0m\u001b[1;33m\u001b[0m\u001b[1;33m\u001b[0m\u001b[0m\n\u001b[0m\u001b[0;32m    925\u001b[0m       \u001b[1;32mif\u001b[0m \u001b[0mself\u001b[0m\u001b[1;33m.\u001b[0m\u001b[0m_created_variables\u001b[0m \u001b[1;32mand\u001b[0m \u001b[1;32mnot\u001b[0m \u001b[0mALLOW_DYNAMIC_VARIABLE_CREATION\u001b[0m\u001b[1;33m:\u001b[0m\u001b[1;33m\u001b[0m\u001b[1;33m\u001b[0m\u001b[0m\n\u001b[0;32m    926\u001b[0m         raise ValueError(\"Creating variables on a non-first call to a function\"\n",
      "\u001b[1;32m~\\anaconda3\\envs\\tensorflow-gpu\\lib\\site-packages\\tensorflow\\python\\eager\\function.py\u001b[0m in \u001b[0;36m__call__\u001b[1;34m(self, *args, **kwargs)\u001b[0m\n\u001b[0;32m   3037\u001b[0m       (graph_function,\n\u001b[0;32m   3038\u001b[0m        filtered_flat_args) = self._maybe_define_function(args, kwargs)\n\u001b[1;32m-> 3039\u001b[1;33m     return graph_function._call_flat(\n\u001b[0m\u001b[0;32m   3040\u001b[0m         filtered_flat_args, captured_inputs=graph_function.captured_inputs)  # pylint: disable=protected-access\n\u001b[0;32m   3041\u001b[0m \u001b[1;33m\u001b[0m\u001b[0m\n",
      "\u001b[1;32m~\\anaconda3\\envs\\tensorflow-gpu\\lib\\site-packages\\tensorflow\\python\\eager\\function.py\u001b[0m in \u001b[0;36m_call_flat\u001b[1;34m(self, args, captured_inputs, cancellation_manager)\u001b[0m\n\u001b[0;32m   1961\u001b[0m         and executing_eagerly):\n\u001b[0;32m   1962\u001b[0m       \u001b[1;31m# No tape is watching; skip to running the function.\u001b[0m\u001b[1;33m\u001b[0m\u001b[1;33m\u001b[0m\u001b[1;33m\u001b[0m\u001b[0m\n\u001b[1;32m-> 1963\u001b[1;33m       return self._build_call_outputs(self._inference_function.call(\n\u001b[0m\u001b[0;32m   1964\u001b[0m           ctx, args, cancellation_manager=cancellation_manager))\n\u001b[0;32m   1965\u001b[0m     forward_backward = self._select_forward_and_backward_functions(\n",
      "\u001b[1;32m~\\anaconda3\\envs\\tensorflow-gpu\\lib\\site-packages\\tensorflow\\python\\eager\\function.py\u001b[0m in \u001b[0;36mcall\u001b[1;34m(self, ctx, args, cancellation_manager)\u001b[0m\n\u001b[0;32m    589\u001b[0m       \u001b[1;32mwith\u001b[0m \u001b[0m_InterpolateFunctionError\u001b[0m\u001b[1;33m(\u001b[0m\u001b[0mself\u001b[0m\u001b[1;33m)\u001b[0m\u001b[1;33m:\u001b[0m\u001b[1;33m\u001b[0m\u001b[1;33m\u001b[0m\u001b[0m\n\u001b[0;32m    590\u001b[0m         \u001b[1;32mif\u001b[0m \u001b[0mcancellation_manager\u001b[0m \u001b[1;32mis\u001b[0m \u001b[1;32mNone\u001b[0m\u001b[1;33m:\u001b[0m\u001b[1;33m\u001b[0m\u001b[1;33m\u001b[0m\u001b[0m\n\u001b[1;32m--> 591\u001b[1;33m           outputs = execute.execute(\n\u001b[0m\u001b[0;32m    592\u001b[0m               \u001b[0mstr\u001b[0m\u001b[1;33m(\u001b[0m\u001b[0mself\u001b[0m\u001b[1;33m.\u001b[0m\u001b[0msignature\u001b[0m\u001b[1;33m.\u001b[0m\u001b[0mname\u001b[0m\u001b[1;33m)\u001b[0m\u001b[1;33m,\u001b[0m\u001b[1;33m\u001b[0m\u001b[1;33m\u001b[0m\u001b[0m\n\u001b[0;32m    593\u001b[0m               \u001b[0mnum_outputs\u001b[0m\u001b[1;33m=\u001b[0m\u001b[0mself\u001b[0m\u001b[1;33m.\u001b[0m\u001b[0m_num_outputs\u001b[0m\u001b[1;33m,\u001b[0m\u001b[1;33m\u001b[0m\u001b[1;33m\u001b[0m\u001b[0m\n",
      "\u001b[1;32m~\\anaconda3\\envs\\tensorflow-gpu\\lib\\site-packages\\tensorflow\\python\\eager\\execute.py\u001b[0m in \u001b[0;36mquick_execute\u001b[1;34m(op_name, num_outputs, inputs, attrs, ctx, name)\u001b[0m\n\u001b[0;32m     57\u001b[0m   \u001b[1;32mtry\u001b[0m\u001b[1;33m:\u001b[0m\u001b[1;33m\u001b[0m\u001b[1;33m\u001b[0m\u001b[0m\n\u001b[0;32m     58\u001b[0m     \u001b[0mctx\u001b[0m\u001b[1;33m.\u001b[0m\u001b[0mensure_initialized\u001b[0m\u001b[1;33m(\u001b[0m\u001b[1;33m)\u001b[0m\u001b[1;33m\u001b[0m\u001b[1;33m\u001b[0m\u001b[0m\n\u001b[1;32m---> 59\u001b[1;33m     tensors = pywrap_tfe.TFE_Py_Execute(ctx._handle, device_name, op_name,\n\u001b[0m\u001b[0;32m     60\u001b[0m                                         inputs, attrs, num_outputs)\n\u001b[0;32m     61\u001b[0m   \u001b[1;32mexcept\u001b[0m \u001b[0mcore\u001b[0m\u001b[1;33m.\u001b[0m\u001b[0m_NotOkStatusException\u001b[0m \u001b[1;32mas\u001b[0m \u001b[0me\u001b[0m\u001b[1;33m:\u001b[0m\u001b[1;33m\u001b[0m\u001b[1;33m\u001b[0m\u001b[0m\n",
      "\u001b[1;31mResourceExhaustedError\u001b[0m: 2 root error(s) found.\n  (0) Resource exhausted:  OOM when allocating tensor with shape[500,636,5] and type float on /job:localhost/replica:0/task:0/device:CPU:0 by allocator cpu\n\t [[{{node GatherV2}}]]\n\t [[IteratorGetNext]]\nHint: If you want to see a list of allocated tensors when OOM happens, add report_tensor_allocations_upon_oom to RunOptions for current allocation info. This isn't available when running in Eager mode.\n\n\t [[IteratorGetNext/_2]]\nHint: If you want to see a list of allocated tensors when OOM happens, add report_tensor_allocations_upon_oom to RunOptions for current allocation info. This isn't available when running in Eager mode.\n\n  (1) Resource exhausted:  OOM when allocating tensor with shape[500,636,5] and type float on /job:localhost/replica:0/task:0/device:CPU:0 by allocator cpu\n\t [[{{node GatherV2}}]]\n\t [[IteratorGetNext]]\nHint: If you want to see a list of allocated tensors when OOM happens, add report_tensor_allocations_upon_oom to RunOptions for current allocation info. This isn't available when running in Eager mode.\n\n0 successful operations.\n0 derived errors ignored. [Op:__inference_test_function_1538]\n\nFunction call stack:\ntest_function -> test_function\n"
     ]
    }
   ],
   "source": [
    "chkpoint = tf.keras.callbacks.ModelCheckpoint('pfn_regressor.h5', monitor='loss', verbose=1, save_best_only=True)\n",
    "earlystop = tf.keras.callbacks.EarlyStopping(monitor='loss', min_delta=1e-4, patience=300, verbose=0, restore_best_weights=True)\n",
    "t0 = t.time()\n",
    "history_ct = pfn.fit(x_train, y_train,\n",
    "        epochs=num_epoch,\n",
    "        batch_size=500,\n",
    "        validation_data=(x_val, y_val),\n",
    "        verbose=0,\n",
    "        callbacks=[chkpoint, earlystop, WandbCallback()])\n",
    "t1 = t.time()"
   ]
  },
  {
   "cell_type": "code",
   "execution_count": null,
   "id": "16380cc2-1fdd-4dce-b171-04139cd5c732",
   "metadata": {},
   "outputs": [],
   "source": [
    "print('Time to train: '+str(t1-t0)+' (s)')\n",
    "print(str((t1-t0)/60)+' (min)')\n",
    "print(str((t1-t0)/3600)+' (hour)')"
   ]
  },
  {
   "cell_type": "markdown",
   "id": "5359b44a-0d96-41c5-a989-583c7f52ea76",
   "metadata": {},
   "source": [
    "### Loss Curves"
   ]
  },
  {
   "cell_type": "code",
   "execution_count": null,
   "id": "04776592-a867-4776-922a-32fcf1c4fa2e",
   "metadata": {},
   "outputs": [],
   "source": [
    "fig = plt.figure(figsize=(6,6))\n",
    "plt.plot(history_ct.history['val_loss'], label=\"Validation\")\n",
    "plt.plot(history_ct.history['loss'], label=\"Training\")\n",
    "plt.yscale('log')\n",
    "plt.ylim(.001,10)\n",
    "plt.yticks(fontsize=13)\n",
    "plt.xlim(0,1500)\n",
    "plt.xticks(fontsize=13)\n",
    "plt.xlabel('Epochs', fontsize=14)\n",
    "plt.ylabel('Loss', fontsize=14)\n",
    "plt.legend(loc='upper right', ncol=1)\n",
    "plt.text(1500, 1.5, 'LR=1e-3', fontsize=13)\n",
    "plt.text(1500, 1, 'Batch: 1500', fontsize=13)\n",
    "# plt.tight_layout()\n",
    "# plt.savefig('Regression_Plots/July/XY_STSC_lossCurves_3000batch_LR1e-2_2021-07-016.png', format='png')\n",
    "plt.show()"
   ]
  },
  {
   "cell_type": "markdown",
   "id": "2a071527-9e50-40b4-a097-f3f49d16fcf9",
   "metadata": {},
   "source": [
    "### Predictions"
   ]
  },
  {
   "cell_type": "code",
   "execution_count": null,
   "id": "f6769270",
   "metadata": {},
   "outputs": [],
   "source": [
    "def eval_generator(data, batch_size):\n",
    "     batches = (len(data) + batch_size - 1)//batch_size\n",
    "     for i in range(batches):\n",
    "          X = data[i*batch_size : (i+1)*batch_size]\n",
    "          yield (X)"
   ]
  },
  {
   "cell_type": "code",
   "execution_count": null,
   "id": "2ea8efda-826f-4016-b6a8-f3c893a97565",
   "metadata": {},
   "outputs": [],
   "source": [
    "preds = np.exp(pfn.predict(eval_generator(x_test,500)).flatten())\n",
    "print(preds.shape)"
   ]
  },
  {
   "cell_type": "code",
   "execution_count": null,
   "id": "f1df1a75",
   "metadata": {},
   "outputs": [],
   "source": [
    "\"\"\"Ypred = np.exp(scaler_cal.inverse_transform(pred.reshape(-1,1)))\n",
    "EoverCalib = Ypred / Ynorm\"\"\""
   ]
  },
  {
   "cell_type": "markdown",
   "id": "8638a19a-832a-4dc7-aac8-3e1d7c59091a",
   "metadata": {},
   "source": [
    "#### Histogram of Predictions"
   ]
  },
  {
   "cell_type": "code",
   "execution_count": null,
   "id": "ce5feb7b-43df-482b-80c8-1099817b8212",
   "metadata": {},
   "outputs": [],
   "source": [
    "## PREDICTIONS AND TRUTH ##\n",
    "bins = np.linspace(0,8,50, endpoint=True)\n",
    "fig = plt.figure(figsize=(6,6))\n",
    "plt.hist(np.exp(y_test), color='steelblue', bins=bins, density=True, alpha=.5, edgecolor='black', label='target')\n",
    "plt.hist(preds, color='coral', bins=bins, density=True, alpha=.5, edgecolor='black', label='network')\n",
    "plt.title('Regression Output and Target', fontsize=16)\n",
    "plt.xlabel('Log(E [GeV])', fontsize=14)\n",
    "plt.xlim(0,8)\n",
    "plt.xticks(fontsize=13)\n",
    "plt.yticks(fontsize=13)\n",
    "plt.legend(loc='upper left')\n",
    "# plt.tight_layout()\n",
    "# plt.savefig('Regression_Plots/July/XY_STSC_targetPreds_3000batch_LR1e-2_2021-07-016.png', format='png')\n",
    "plt.show()"
   ]
  },
  {
   "cell_type": "markdown",
   "id": "a17d3e12-3d1e-4cfa-817f-770329dd5ef2",
   "metadata": {},
   "source": [
    "## Analytics"
   ]
  },
  {
   "cell_type": "code",
   "execution_count": null,
   "id": "d72203e8-84ab-4102-8b6b-1ebaf1cebffa",
   "metadata": {},
   "outputs": [],
   "source": [
    "plt.cla(); plt.clf()\n",
    "\n",
    "ybin = np.arange(0., 3.1, 0.1)\n",
    "xbin = np.logspace(np.log10(.5), np.log10(2000), num=len(ybin), endpoint=True, base=10.0)\n",
    "\n",
    "fig = plt.figure(figsize=(6,6))\n",
    "fig.patch.set_facecolor('white')\n",
    "plt.hist2d(np.exp(y_test), preds/np.exp(y_test), bins=[xbin,ybin], norm=LogNorm())\n",
    "plt.xlabel('Particle Truth Energy', fontsize=14)\n",
    "plt.ylabel('Predictions / Truth E', fontsize=14)\n",
    "plt.xscale('log')\n",
    "plt.xticks(fontsize=14)\n",
    "plt.yticks(fontsize=14)\n",
    "# plt.tight_layout()\n",
    "# plt.savefig('Regression_Plots/Clusters_and_Tracks_2021-06-30.png', format='png')\n",
    "plt.show()"
   ]
  },
  {
   "cell_type": "markdown",
   "id": "a5546e6a-96d0-48c1-9d79-540b6e65a16f",
   "metadata": {},
   "source": [
    "#### Response Plot"
   ]
  },
  {
   "cell_type": "code",
   "execution_count": null,
   "id": "be7147d0",
   "metadata": {},
   "outputs": [],
   "source": [
    "y_test"
   ]
  },
  {
   "cell_type": "code",
   "execution_count": null,
   "id": "bb0ec7f5",
   "metadata": {},
   "outputs": [],
   "source": [
    "xcenter, medDNN = ru.responsePlot(x=np.exp(y_test), y=preds/np.exp(y_test),\n",
    "                 atlas_x = 0.46, atlas_y = 0.95, simulation = True,\n",
    "                 textlist = [{'x': 0.46, 'y': 0.85, 'text': 'Single $\\pi^{+}$, Track+Clusters'},\n",
    "                             {'x': 0.46, 'y': 0.8,  'text': 'PFN'}])"
   ]
  },
  {
   "cell_type": "markdown",
   "id": "c7782aa6-578c-4eee-91a3-5ac0254face1",
   "metadata": {},
   "source": [
    "#### Resolution Plot"
   ]
  },
  {
   "cell_type": "code",
   "execution_count": null,
   "id": "c9701487",
   "metadata": {},
   "outputs": [],
   "source": [
    "import scipy.stats as stats\n",
    "# from . import plot_util as pu\n",
    "from util import plot_util as pu\n",
    "\n",
    "def _iqrOverMed(x):\n",
    "    # get the IQR via the percentile function\n",
    "    # 84 is median + 1 sigma, 16 is median - 1 sigma\n",
    "    q16, q84 = np.percentile(x, [16, 84])\n",
    "    return (q84 - q16) / (2 * np.median(x))\n",
    "\n",
    "def resolutionPlot(x, y, figfile='',\n",
    "                   xlabel='True Energy [GeV]', ylabel='Response IQR / (2 x Median)',\n",
    "                   atlas_x=-1, atlas_y=-1, simulation=False,\n",
    "                   xlim=(0.3,1000), ylim=(0,1), \n",
    "                   textlist=[]):\n",
    "    xbin = [10**exp for exp in  np.arange(-1.0, 3.1, 0.1)]\n",
    "    xcenter = [(xbin[i] + xbin[i+1]) / 2 for i in range(len(xbin)-1)]\n",
    "\n",
    "    resolution = stats.binned_statistic(x, y, bins=xbin, statistic=_iqrOverMed).statistic\n",
    "    \n",
    "    plt.cla(); plt.clf()\n",
    "    fig = plt.figure()\n",
    "    fig.patch.set_facecolor('white')\n",
    "    plt.plot(xcenter, resolution)\n",
    "    plt.xscale('log')\n",
    "    plt.xlim(xlim)\n",
    "    plt.ylim(ylim)\n",
    "    pu.ampl.set_xlabel(xlabel)\n",
    "    pu.ampl.set_ylabel(ylabel)\n",
    "\n",
    "    pu.drawLabels(fig, atlas_x, atlas_y, simulation, textlist)\n",
    "\n",
    "    if figfile != '':\n",
    "        plt.savefig(figfile)\n",
    "    plt.show()\n",
    "\n",
    "    return xcenter, resolution"
   ]
  },
  {
   "cell_type": "code",
   "execution_count": null,
   "id": "5298cb63",
   "metadata": {},
   "outputs": [],
   "source": [
    "xcenter, iqrMDN3 = resolutionPlot(np.exp(y_test), preds,\n",
    "                        atlas_x = 0.56, atlas_y = 0.95, simulation = True,\n",
    "                        textlist = [{'x': 0.56, 'y': 0.85, 'text': 'Single $\\pi^{+}$, All Clusters'},\n",
    "                                    {'x': 0.56, 'y': 0.8,  'text': 'MDN, 3 Components'}])"
   ]
  },
  {
   "cell_type": "code",
   "execution_count": null,
   "id": "c7924f12-0229-4dd3-a8c1-6bbe96b3a537",
   "metadata": {},
   "outputs": [],
   "source": [
    "resp_plot = ru.resolutionPlot(x=np.exp(y_test), y=preds/np.exp(y_test),\n",
    "                    figfile='',\n",
    "                    statistic='std', xlabel='Particle Truth Energy', ylabel='Energy IQR over Median',\n",
    "                    atlas_x=-1, atlas_y=-1, simulation=False,\n",
    "                    textlist=[])\n",
    "# Regression_Plots/July/XY_STSC_resolutionPlot_3000batch_LR1e-5_2021-07-015.png"
   ]
  },
  {
   "cell_type": "markdown",
   "id": "02270f2d-05f5-4cbd-9236-fee97a7246aa",
   "metadata": {},
   "source": [
    "# Cluster Only"
   ]
  },
  {
   "cell_type": "code",
   "execution_count": null,
   "id": "2972289b-5214-4a3a-9d33-1b15936a5d50",
   "metadata": {},
   "outputs": [],
   "source": [
    "dat = np.load('/fast_scratch/atlas_images/v01-45/XY_clustersOnly_med.npz')\n",
    "print(dat.files)\n",
    "X_clustOnly = dat['arr_0']\n",
    "Y_clustOnly = dat['arr_1']\n",
    "print(np.shape(X_clustOnly))\n",
    "print(np.shape(Y_clustOnly))\n",
    "N_events = len(X_clustOnly)"
   ]
  },
  {
   "cell_type": "markdown",
   "id": "2d0cd537-488e-4748-8efc-4104bbba140d",
   "metadata": {},
   "source": [
    "### Visualize Input Data"
   ]
  },
  {
   "cell_type": "code",
   "execution_count": null,
   "id": "239a0bb9-0d49-4946-8f0a-ed45d768a81a",
   "metadata": {},
   "outputs": [],
   "source": [
    "cluster_E_sum = np.sum(X_clustOnly[:,:,0], axis=1)\n",
    "print(cluster_E_sum.shape)\n",
    "plt.cla();plt.clf()\n",
    "fig = plt.figure(figsize=(6,6))\n",
    "fig.patch.set_facecolor(color='white')\n",
    "plt.scatter(Y_clustOnly, cluster_E_sum, s=10,edgecolor='black', color='seagreen', alpha=.25)\n",
    "plt.xlabel('Cluster Calib Hits (GeV)', fontsize=14)\n",
    "plt.ylabel('Sum of Individual Cell Energies (GeV)', fontsize=14)\n",
    "plt.xlim(0,2200)\n",
    "plt.ylim(0,2200)\n",
    "plt.xticks(fontsize=13)\n",
    "plt.yticks(fontsize=13)\n",
    "# plt.tight_layout()\n",
    "# plt.savefig('Regression_Plots/ClusterOnly_RegressionInputs_2021-06-09.png', format='png')\n",
    "plt.show()"
   ]
  },
  {
   "cell_type": "markdown",
   "id": "befa9b4a-fc95-4e97-9c6c-a71e4025bd3c",
   "metadata": {},
   "source": [
    "### Normalize Target"
   ]
  },
  {
   "cell_type": "code",
   "execution_count": null,
   "id": "8a83bca5-9de8-4faa-a23f-28cc5599b67d",
   "metadata": {},
   "outputs": [],
   "source": [
    "print(Y_clustOnly.shape)\n",
    "Y_cO_mask = Y_clustOnly > .1\n",
    "print('Any target values less than 100 MeV: '+repr(np.any(Y_cO_mask)))\n",
    "nCData = np.count_nonzero(Y_cO_mask)\n",
    "print('number after cut: '+str(nCData))"
   ]
  },
  {
   "cell_type": "code",
   "execution_count": null,
   "id": "14bfe1a1-235c-4a74-9ac8-64662fba2343",
   "metadata": {},
   "outputs": [],
   "source": [
    "## RAW ##\n",
    "#=====================================================\n",
    "Y_cO = np.ndarray.copy(Y_clustOnly[Y_cO_mask])\n",
    "#=====================================================\n",
    "\n",
    "\n",
    "fig = plt.figure(figsize=(4,4))\n",
    "bins=np.linspace(0,2000,50,endpoint=True)\n",
    "plt.hist(Y_cO, color='orange', bins=bins, density=True, alpha=.5, edgecolor='black',\n",
    "        label='raw regression target')\n",
    "plt.title('Truth Particle Energy', fontsize=16)\n",
    "plt.xlabel('E [GeV]', fontsize=14)\n",
    "plt.xlim(np.min(bins),np.max(bins))\n",
    "plt.yscale('log')\n",
    "# plt.ylim(0,.55)\n",
    "plt.xticks(fontsize=13)\n",
    "plt.yticks(fontsize=13)\n",
    "# plt.tight_layout()\n",
    "# plt.savefig('Regression_Plots/CLO_EnergyTargets_raw_2020-07-01.png', format='png')\n",
    "plt.show()\n",
    "\n",
    "\n",
    "## NORMALIZED ##\n",
    "#=============================================\n",
    "Y_nonzero = Y_cO != 0\n",
    "Y_cO[Y_nonzero] = np.log(Y_cO[Y_nonzero])\n",
    "Y_cON = np.ndarray.copy(Y_cO)\n",
    "Y_cON[Y_nonzero] = Y_cON[Y_nonzero]/5\n",
    "#==============================================\n",
    "\n",
    "\n",
    "# print(Y_cOn.shape)\n",
    "fig = plt.figure(figsize=(4,4))\n",
    "bins=np.linspace(np.log(.1), np.log(2000), 50, endpoint=True)\n",
    "plt.hist(Y_cO, color='orange', bins=bins, density=True, alpha=.5, edgecolor='black',\n",
    "        label='log')\n",
    "plt.hist(Y_cON, color='forestgreen', bins=bins, density=True, alpha=.5, edgecolor='black',\n",
    "        label='scaled log')\n",
    "plt.title('Regression Targets', fontsize=16)\n",
    "plt.xlabel('Log(E) [GeV]', fontsize=14)\n",
    "plt.xlim(np.min(bins),np.max(bins))\n",
    "plt.ylim(0,.8)\n",
    "plt.xticks(fontsize=13)\n",
    "plt.yticks(fontsize=13)\n",
    "# plt.tight_layout()\n",
    "# plt.savefig('Regression_Plots/CLO_EnergyTargets_normalization_2020-07-01.png', format='png')\n",
    "plt.show()"
   ]
  },
  {
   "cell_type": "markdown",
   "id": "2e81b3fe-ee50-4074-a876-7570b61dd18e",
   "metadata": {},
   "source": [
    "### Data Normalization"
   ]
  },
  {
   "cell_type": "code",
   "execution_count": null,
   "id": "96ffad5b-8665-4fdf-9d7a-1d1da55b7405",
   "metadata": {},
   "outputs": [],
   "source": [
    "## DEEP COPY ARRAY ##\n",
    "X_cO = np.ndarray.copy(X_clustOnly[Y_cO_mask,:,0:4])\n",
    "X_cO_norm = np.ndarray.copy(X_clustOnly[Y_cO_mask,:,0:4])\n",
    "print(X_cO.shape)"
   ]
  },
  {
   "cell_type": "code",
   "execution_count": null,
   "id": "47083471-2111-4a07-88d9-681c250087d2",
   "metadata": {},
   "outputs": [],
   "source": [
    "## Normalize rPerp to 1/1000\n",
    "rPerp_mask = X_cO[:,:,3] != 0\n",
    "X_cO[:,:,3][rPerp_mask] = X_cO[:,:,3][rPerp_mask]/1000.\n",
    "\n",
    "## Energy Values that are not zero!\n",
    "E_nonZeroMask = X_cO[:,:,0] != 0\n",
    "X_cO[:,:,0][E_nonZeroMask] = np.log(X_cO[:,:,0][E_nonZeroMask])\n",
    "\n",
    "## Eta and Phi\n",
    "# do nothing for now as a control and check performance\n",
    "eta_mask = X_cO[:,:,1] != 0\n",
    "X_cO[:,:,1][eta_mask] = X_cO[:,:,1][eta_mask]\n",
    "\n",
    "phi_mask = X_cO[:,:,2] != 0\n",
    "X_cO[:,:,2][phi_mask] = X_cO[:,:,2][phi_mask]"
   ]
  },
  {
   "cell_type": "markdown",
   "id": "a280b0cc-7eee-4456-be5e-3d1a5a763772",
   "metadata": {},
   "source": [
    "#### New Normalization Scheme"
   ]
  },
  {
   "cell_type": "code",
   "execution_count": null,
   "id": "e682d14c-cbc3-4b14-944e-9260ae3b0f8e",
   "metadata": {},
   "outputs": [],
   "source": [
    "## Normalize rPerp to between 0 and 1\n",
    "rPerp_maskn = X_cO_norm[:,:,3] != 0\n",
    "X_cO_norm[:,:,3] = X_cO_norm[:,:,3]/3630.\n",
    "\n",
    "## Energy Values that are not zero!\n",
    "E_nonZeroMaskn = X_cO_norm[:,:,0] != 0\n",
    "X_cO_norm[:,:,0][E_nonZeroMaskn] = np.log(X_cO_norm[:,:,0][E_nonZeroMaskn])\n",
    "cellE_mean = np.mean(X_cO_norm[:,:,0][E_nonZeroMaskn])\n",
    "cellE_std = np.std(X_cO_norm[:,:,0][E_nonZeroMaskn])\n",
    "X_cO_norm[:,:,0][E_nonZeroMaskn] = (X_cO_norm[:,:,0][E_nonZeroMaskn] - cellE_mean)/cellE_std\n",
    "\n",
    "## Eta and Phi\n",
    "# normalize these values between 0 and 1 easily\n",
    "eta_maskn = X_cO_norm[:,:,1] != 0\n",
    "X_cO_norm[:,:,1][eta_maskn] = X_cO_norm[:,:,1][eta_maskn]/.7\n",
    "\n",
    "phi_maskn = X_cO_norm[:,:,2] != 0\n",
    "cellPhi_std = np.std(X_cO_norm[:,:,2][phi_maskn])\n",
    "X_cO_norm[:,:,2][phi_maskn] = X_cO_norm[:,:,2][phi_maskn]/cellPhi_std"
   ]
  },
  {
   "cell_type": "markdown",
   "id": "8ae987f0-a54e-4587-a25d-0274def6d4e5",
   "metadata": {},
   "source": [
    "### Histograms of Inputs"
   ]
  },
  {
   "cell_type": "code",
   "execution_count": null,
   "id": "9293bcdb-fe0d-4ea2-bbcb-8f8a4ccaadab",
   "metadata": {},
   "outputs": [],
   "source": [
    "############\n",
    "## ENERGY ##\n",
    "############\n",
    "plt.cla(); plt.clf()\n",
    "fig = plt.figure(figsize=(6,6))\n",
    "ebins = np.linspace(-6,7, 30, endpoint=True)\n",
    "plt.hist(X_cO[:,:,0][E_nonZeroMask], color='plum', bins=ebins, density=True, alpha=.5, edgecolor='black',\n",
    "         label='raw')\n",
    "plt.hist(X_cO_norm[:,:,0][E_nonZeroMaskn], color='bisque', bins=ebins, density=True, alpha=.5, edgecolor='black',\n",
    "         label='normalized')\n",
    "plt.title('Cluster Cell Energy Inputs Flattened', fontsize=16)\n",
    "plt.xlabel('Log(E [GeV])', fontsize=14)\n",
    "plt.xlim(np.min(ebins),np.max(ebins))\n",
    "plt.ylim(0,.55)\n",
    "plt.xticks(fontsize=13)\n",
    "plt.yticks(fontsize=13)\n",
    "plt.legend(loc='upper right')\n",
    "# plt.tight_layout()\n",
    "# plt.savefig('Regression_Plots/CLO_EnergyInputs_normalization_2020-07-01.png', format='png')\n",
    "plt.show()\n",
    "\n",
    "#########\n",
    "## ETA ##\n",
    "#########\n",
    "plt.cla(); plt.clf()\n",
    "fig = plt.figure(figsize=(6,6))\n",
    "etabins = np.linspace(-1.1,1.1,50, endpoint=True)\n",
    "plt.hist(X_cO[:,:,1][eta_mask], color='chocolate', bins=etabins, density=True, alpha=.5, edgecolor='black',\n",
    "         label='raw')\n",
    "plt.hist(X_cO_norm[:,:,1][eta_maskn], color='chartreuse', bins=etabins, density=True, alpha=.5, edgecolor='black',\n",
    "         label='normalized')\n",
    "plt.title('Cluster Cell Eta Inputs Flattened', fontsize=16)\n",
    "plt.xlabel('Eta', fontsize=14)\n",
    "plt.xlim(np.min(etabins),np.max(etabins))\n",
    "plt.ylim(0,5)\n",
    "plt.xticks(fontsize=13)\n",
    "plt.yticks(fontsize=13)\n",
    "plt.legend(loc='upper right')\n",
    "# plt.tight_layout()\n",
    "# plt.savefig('Regression_Plots/CLO_EtaInputs_normalization_2020-07-01.png', format='png')\n",
    "plt.show()\n",
    "\n",
    "#########\n",
    "## PHI ##\n",
    "#########\n",
    "plt.cla(); plt.clf()\n",
    "fig = plt.figure(figsize=(6,6))\n",
    "phibins = np.linspace(-np.pi/4,np.pi/4,50, endpoint=True)\n",
    "plt.hist(X_cO[:,:,2][phi_mask], color='olive', bins=phibins, density=True, alpha=.5, edgecolor='black',\n",
    "         label='raw')\n",
    "plt.hist(X_cO_norm[:,:,2][phi_maskn], color='teal', bins=phibins, density=True, alpha=.5, edgecolor='black',\n",
    "         label='normalized')\n",
    "plt.title('Cluster Cell Phi Inputs Flattened', fontsize=16)\n",
    "plt.xlabel('Phi', fontsize=14)\n",
    "plt.xlim(np.min(phibins),np.max(phibins))\n",
    "plt.ylim(0,5)\n",
    "plt.xticks(fontsize=13)\n",
    "plt.yticks(fontsize=13)\n",
    "plt.legend(loc='upper right')\n",
    "# plt.tight_layout()\n",
    "# plt.savefig('Regression_Plots/CLO_PhiInputs_normalization_2020-07-01.png', format='png')\n",
    "plt.show()\n",
    "\n",
    "###########\n",
    "## RPERP ##\n",
    "###########\n",
    "plt.cla(); plt.clf()\n",
    "fig = plt.figure(figsize=(6,6))\n",
    "Rbins = np.linspace(-0,4,50, endpoint=True)\n",
    "plt.hist(X_cO[:,:,3][rPerp_mask], color='gold', bins=Rbins, density=True, alpha=.5, edgecolor='black',\n",
    "         label='raw/1000')\n",
    "plt.hist(X_cO_norm[:,:,3][rPerp_maskn], color='aqua', bins=Rbins, density=True, alpha=.5, edgecolor='black',\n",
    "         label='normalized')\n",
    "plt.title('Cluster Cell rPerp Inputs Flattened', fontsize=16)\n",
    "plt.xlabel('rPerp', fontsize=14)\n",
    "plt.xlim(np.min(Rbins),np.max(Rbins))\n",
    "plt.ylim(0,5)\n",
    "plt.xticks(fontsize=13)\n",
    "plt.yticks(fontsize=13)\n",
    "plt.legend(loc='upper right')\n",
    "# plt.tight_layout()\n",
    "# plt.savefig('Regression_Plots/CLO_rPerpInputs_normalization_2020-07-01.png', format='png')\n",
    "plt.show()\n"
   ]
  },
  {
   "cell_type": "markdown",
   "id": "e8434e85-7c8e-457a-a0bb-4a8f81209c82",
   "metadata": {},
   "source": [
    "## Model Building & Settings"
   ]
  },
  {
   "cell_type": "code",
   "execution_count": null,
   "id": "8e6427c4-6247-4816-81a5-1f4ceff6b284",
   "metadata": {},
   "outputs": [],
   "source": [
    "# EFN regression example uses 75/10/15 split for 100,000 samples\n",
    "c_train, c_val, c_test = tvt_num(X_cO, _tvt=(75, 10, 15))\n",
    "print('train -- val -- test')\n",
    "print(str(c_train)+' -- '+str(c_val)+' -- '+str(c_test))\n",
    "\n",
    "# network architecture parameters\n",
    "Phi_sizes, F_sizes = (100, 100, 128), (100, 100, 100)\n",
    "output_act, output_dim = 'linear', 1\n",
    "loss = 'mse'\n",
    "\n",
    "# network training parameters\n",
    "num_epoch = 60\n",
    "batch_size = 50"
   ]
  },
  {
   "cell_type": "markdown",
   "id": "fe8ea5c0-3375-4b25-b0df-959173c00a0a",
   "metadata": {},
   "source": [
    "#### TVT Split"
   ]
  },
  {
   "cell_type": "code",
   "execution_count": null,
   "id": "79903361-84d8-4c13-b643-a79cc4d2c59d",
   "metadata": {},
   "outputs": [],
   "source": [
    "print('Totals for inputs')\n",
    "print(X_cO.shape)\n",
    "print(Y_cO.shape);print()\n",
    "(cl_train, cl_val, cl_test,\n",
    " y_cl_train, y_cl_val, y_cl_test) = ef.utils.data_split(X_cO, Y_cO, val=c_val, test=c_test)\n",
    "(cln_train, cln_val, cln_test,\n",
    " y_cln_train, y_cln_val, y_cln_test) = ef.utils.data_split(X_cO_norm, Y_cON, val=c_val, test=c_test)\n",
    "\n",
    "print('Totals for training data')\n",
    "print(np.shape(cl_train))\n",
    "print(np.shape(y_cl_train))"
   ]
  },
  {
   "cell_type": "markdown",
   "id": "22d9bfdf-f6da-4cc6-a261-696962b7c5ae",
   "metadata": {},
   "source": [
    "#### Build Model"
   ]
  },
  {
   "cell_type": "code",
   "execution_count": null,
   "id": "f624ce3f-5356-4cd5-b0a4-7a8b050f844c",
   "metadata": {
    "scrolled": true,
    "tags": []
   },
   "outputs": [],
   "source": [
    "pfnC = PFN(input_dim=4, Phi_sizes=Phi_sizes, F_sizes=F_sizes, \n",
    "          output_act=output_act, output_dim=output_dim, loss=loss, metrics=[])"
   ]
  },
  {
   "cell_type": "markdown",
   "id": "66c6cbca-9d09-4145-9a1d-6d0e49b3a52d",
   "metadata": {},
   "source": [
    "## Train Single Model, no loop"
   ]
  },
  {
   "cell_type": "code",
   "execution_count": null,
   "id": "2a5e8cd0-6986-4dfd-bef9-b8d7f49761e3",
   "metadata": {
    "scrolled": true,
    "tags": []
   },
   "outputs": [],
   "source": [
    "history = pfnC.fit(cl_train, y_cl_train,\n",
    "        epochs=num_epoch,\n",
    "        batch_size=batch_size,\n",
    "        validation_data=(cl_val, y_cl_val),\n",
    "        verbose=1)"
   ]
  },
  {
   "cell_type": "markdown",
   "id": "025f4473-1f8c-4b78-9fde-dbcd637c9880",
   "metadata": {},
   "source": [
    "#### Train Model in Loop"
   ]
  },
  {
   "cell_type": "code",
   "execution_count": null,
   "id": "bdb1f361-ac7e-468d-81e5-120840da5054",
   "metadata": {
    "scrolled": true,
    "tags": []
   },
   "outputs": [],
   "source": [
    "history_list_raw = []\n",
    "history_list_norm = []\n",
    "prediction_list_raw = []\n",
    "prediction_list_norm = []\n",
    "\n",
    "for i in range(5):\n",
    "    print();print();print('BUILDING MODEL '+str(i)+' RAW');print();print()\n",
    "    raw_model = PFN(input_dim=4, Phi_sizes=Phi_sizes, F_sizes=F_sizes, \n",
    "          output_act=output_act, output_dim=output_dim, loss=loss, metrics=[])\n",
    "    print();print();print('TRAINING MODEL '+str(i)+' RAW');print();print()\n",
    "    my_history_raw = raw_model.fit(cl_train, y_cl_train,\n",
    "        epochs=num_epoch,\n",
    "        batch_size=batch_size,\n",
    "        validation_data=(cl_val, y_cl_val),\n",
    "        verbose=1)\n",
    "    history_list_raw.append(my_history_raw)\n",
    "    raw_preds = raw_model.predict(cl_test, batch_size=50)\n",
    "    prediction_list_raw.append((raw_preds, y_cl_test))\n",
    "    \n",
    "    print();print();print('BUILDING MODEL '+str(i)+' NORMALIZED');print();print()\n",
    "    norm_model = PFN(input_dim=4, Phi_sizes=Phi_sizes, F_sizes=F_sizes, \n",
    "          output_act=output_act, output_dim=output_dim, loss=loss, metrics=[])\n",
    "    print();print();print('TRAINING MODEL '+str(i)+' NORMALIZED');print();print()\n",
    "    my_history_norm = norm_model.fit(cln_train, y_cln_train,\n",
    "        epochs=num_epoch,\n",
    "        batch_size=batch_size,\n",
    "        validation_data=(cln_val, y_cln_val),\n",
    "        verbose=1)\n",
    "    history_list_norm.append(my_history_norm)\n",
    "    norm_preds = norm_model.predict(cln_test, batch_size=50)\n",
    "    prediction_list_norm.append((norm_preds, y_cln_test))"
   ]
  },
  {
   "cell_type": "code",
   "execution_count": null,
   "id": "8a12ed43-7e9e-4042-a1fd-baf52caecdc9",
   "metadata": {
    "tags": []
   },
   "outputs": [],
   "source": [
    "plt.cla(); plt.clf()\n",
    "colors1 = ['orange', 'red', 'darkgreen', 'darkslateblue', 'mediumvioletred']\n",
    "colors2 = ['chocolate', 'olivedrab', 'steelblue', 'seagreen', 'indigo']\n",
    "model_num = ['1','2','3','4','5']\n",
    "\n",
    "loss_av = np.zeros(np.shape(history_list[0].history['loss']))\n",
    "fig = plt.figure(figsize=(6,6))\n",
    "for i in range(5):\n",
    "    plt.plot(history_list[i].history['loss'], color=colors1[i], alpha=.35,\n",
    "            label='model '+model_num[i])\n",
    "    loss_av = np.add(loss_av, history_list[i].history['loss'])\n",
    "loss_av = loss_av/5\n",
    "plt.plot(loss_av, color='black', alpha=.4, label='average')\n",
    "plt.yscale('log')\n",
    "plt.ylim(.02,40)\n",
    "plt.yticks(fontsize=13)\n",
    "plt.xlim(0,500)\n",
    "plt.xticks(fontsize=13)\n",
    "plt.xlabel('Epochs', fontsize=14)\n",
    "plt.ylabel('Loss', fontsize=14)\n",
    "plt.legend(loc='upper left', ncol=2)\n",
    "# plt.tight_layout()\n",
    "# plt.savefig('Regression_Plots/clusterOnly_losses_5runs_500epoch_50batch_2021-06-18.png', format='png')\n",
    "plt.show()\n",
    "\n",
    "plt.cla(); plt.clf()\n",
    "val_loss_av = np.zeros(np.shape(history_list[0].history['val_loss']))\n",
    "fig = plt.figure(figsize=(6,6))\n",
    "for i in range(5):\n",
    "    plt.plot(history_list[i].history['val_loss'], color=colors1[i], alpha=.35,\n",
    "            label='model '+model_num[i])\n",
    "    val_loss_av = np.add(val_loss_av, history_list[i].history['val_loss'])\n",
    "val_loss_av = val_loss_av/5\n",
    "plt.plot(val_loss_av, color='black', alpha=.4, label='val average')\n",
    "plt.yscale('log')\n",
    "plt.ylim(.02,40)\n",
    "plt.yticks(fontsize=13)\n",
    "plt.xlim(0,500)\n",
    "plt.xticks(fontsize=13)\n",
    "plt.xlabel('Epochs', fontsize=14)\n",
    "plt.ylabel('Validation Loss', fontsize=14)\n",
    "plt.legend(loc='upper left', ncol=2)\n",
    "# plt.tight_layout()\n",
    "# plt.savefig('Regression_Plots/clusterOnly_val_losses_5runs_500epoch_50batch_2021-06-18.png', format='png')\n",
    "plt.show()\n",
    "\n",
    "plt.cla(); plt.clf()\n",
    "val_loss_av = np.zeros(np.shape(history_list[0].history['val_loss']))\n",
    "fig = plt.figure(figsize=(6,6))\n",
    "for i in range(5):\n",
    "    plt.plot(history_list[i].history['val_loss'], color=colors1[i], alpha=.35,\n",
    "            label='model '+model_num[i])\n",
    "    val_loss_av = np.add(val_loss_av, history_list[i].history['val_loss'])\n",
    "val_loss_av = val_loss_av/5\n",
    "plt.plot(val_loss_av, color='black', alpha=.4, label='val average')\n",
    "plt.yscale('log')\n",
    "plt.ylim(.02,40)\n",
    "plt.yticks(fontsize=13)\n",
    "plt.xlim(5,50)\n",
    "plt.xticks(fontsize=13)\n",
    "plt.xlabel('Epochs', fontsize=14)\n",
    "plt.ylabel('Validation Loss', fontsize=14)\n",
    "plt.legend(loc='upper left', ncol=2)\n",
    "# plt.tight_layout()\n",
    "# plt.savefig('Regression_Plots/clusterOnly_val_losses_5runs_500epoch_50batch_zoomed_2021-06-18.png', format='png')\n",
    "plt.show()"
   ]
  },
  {
   "cell_type": "markdown",
   "id": "8d0ab90e-dc53-4016-8515-ee2727f29c8a",
   "metadata": {},
   "source": [
    "#### Average Loss Comparison"
   ]
  },
  {
   "cell_type": "code",
   "execution_count": null,
   "id": "5d32dce8-01b1-49e6-808f-9c6913ee397e",
   "metadata": {},
   "outputs": [],
   "source": [
    "val_loss_av_raw = np.zeros(np.shape(history_list_raw[0].history['val_loss']))\n",
    "val_loss_av_norm = np.zeros(np.shape(history_list_norm[0].history['val_loss']))\n",
    "fig = plt.figure(figsize=(6,6))\n",
    "\n",
    "for i in range(5):\n",
    "    plt.plot(history_list_raw[i].history['val_loss'], color='red', alpha=.25,\n",
    "            label='model '+str(i+1))\n",
    "    plt.plot(history_list_norm[i].history['val_loss'], color='blue', alpha=.25,\n",
    "            label='model '+str(i+1))\n",
    "    val_loss_av_raw = np.add(val_loss_av_raw, history_list_raw[i].history['val_loss'])\n",
    "    val_loss_av_norm = np.add(val_loss_av_norm, history_list_norm[i].history['val_loss'])\n",
    "val_loss_av_raw = val_loss_av_raw/5\n",
    "val_loss_av_norm = val_loss_av_norm/5\n",
    "plt.plot(val_loss_av_raw, color='crimson', alpha=.75, label='raw average')\n",
    "plt.plot(val_loss_av_norm, color='dodgerblue', alpha=.75, label='norm. average')\n",
    "plt.yscale('log')\n",
    "plt.ylim(.008,40)\n",
    "plt.yticks(fontsize=13)\n",
    "plt.xlim(0,59)\n",
    "plt.xticks(fontsize=13)\n",
    "plt.xlabel('Epochs', fontsize=14)\n",
    "plt.ylabel('Validation Loss', fontsize=14)\n",
    "plt.legend(loc='upper right', ncol=2)\n",
    "# plt.tight_layout()\n",
    "# plt.savefig('Regression_Plots/clusterOnly_val_losses_5runs_60epoch_50batch_normVsRaw_2021-07-01.png', format='png')\n",
    "plt.show()"
   ]
  },
  {
   "cell_type": "markdown",
   "id": "a3f78f5f-f9d4-4f23-ba9c-ce7c38ab3ad7",
   "metadata": {},
   "source": [
    "#### Median Statistic Comparison"
   ]
  },
  {
   "cell_type": "code",
   "execution_count": null,
   "id": "5839fa2c-28fb-4f24-b260-166e24ad4ff1",
   "metadata": {},
   "outputs": [],
   "source": [
    "from scipy import stats"
   ]
  },
  {
   "cell_type": "code",
   "execution_count": null,
   "id": "6df2068f-86b3-42ee-9024-b499fe662a7e",
   "metadata": {},
   "outputs": [],
   "source": [
    "# history_list_raw = []\n",
    "# history_list_norm = []\n",
    "# prediction_list_raw = []\n",
    "# prediction_list_norm = []\n",
    "\n",
    "ybin = np.arange(0., 3.1, 0.1)\n",
    "xbin = np.logspace(np.log10(.5), np.log10(2000), num=len(ybin), endpoint=True, base=10.0)\n",
    "xcenter = [(xbin[i] + xbin[i+1]) / 2. for i in range(len(xbin)-1)]\n",
    "\n",
    "normalized_median = np.zeros(len(ybin)-1)\n",
    "raw_median = np.zeros(len(ybin)-1)\n",
    "\n",
    "for i in range(5):\n",
    "    # raw\n",
    "    #===============================================\n",
    "    preds_raw, target_raw = prediction_list_raw[i]\n",
    "    preds_raw = np.exp(preds_raw.flatten())\n",
    "    target_raw = np.exp(target_raw)\n",
    "    median_binstat = stats.binned_statistic(target_raw, preds_raw/target_raw, statistic='mean',\n",
    "                                           bins=xbin).statistic\n",
    "    raw_median = raw_median + median_binstat\n",
    "\n",
    "    # normalized\n",
    "    #===============================================\n",
    "    preds_norm, target_norm = prediction_list_norm[i]\n",
    "    preds_norm = np.exp(preds_norm.flatten())\n",
    "    target_norm = np.exp(target_norm)\n",
    "    median_binstat = stats.binned_statistic(target_norm, preds_norm/target_norm, statistic='mean',\n",
    "                                           bins=xbin).statistic\n",
    "    normalized_median = normalized_median + median_binstat\n",
    "\n",
    "normalized_median = normalized_median/5\n",
    "raw_median = raw_median/5"
   ]
  },
  {
   "cell_type": "code",
   "execution_count": null,
   "id": "4dd27709-18c0-464b-ae48-eb85d613ac71",
   "metadata": {},
   "outputs": [],
   "source": [
    "plt.cla();plt.clf()\n",
    "fig=plt.figure(figsize=(6,6))\n",
    "plt.plot([np.min(xcenter), np.max(xcenter)], [1, 1], linestyle='--', color='black', alpha=.6, label=None)\n",
    "plt.plot(xcenter, raw_median, label='raw data', color='olive')\n",
    "plt.plot(xcenter, normalized_median, label='normalized', color='navy')\n",
    "plt.xticks(fontsize=13)\n",
    "plt.yticks(fontsize=13)\n",
    "plt.xscale('log')\n",
    "plt.xlim(np.min(xcenter), np.max(xcenter))\n",
    "plt.ylim(0,3)\n",
    "plt.title('Cluster Only', fontsize=14)\n",
    "plt.xlabel('Particle Truth Energy', fontsize=14)\n",
    "plt.ylabel('Predictions / Truth E', fontsize=14)\n",
    "plt.legend(loc='upper right')\n",
    "# plt.tight_layout()\n",
    "# plt.savefig('Regression_Plots/clusterOnly_raw_vs_norm_comparison_2021-07-01.png', format='png')\n",
    "plt.show()"
   ]
  },
  {
   "cell_type": "markdown",
   "id": "b338b5ab-8e7c-4cb8-bc11-25f08a610255",
   "metadata": {
    "tags": []
   },
   "source": [
    "### Predictions"
   ]
  },
  {
   "cell_type": "code",
   "execution_count": null,
   "id": "61ede223-9437-427a-97c5-88baa9f95f04",
   "metadata": {},
   "outputs": [],
   "source": [
    "cl_preds = pfnC.predict(cl_test, batch_size=50)\n",
    "print(cl_test.shape)\n",
    "print(cl_preds.shape)"
   ]
  },
  {
   "cell_type": "markdown",
   "id": "0292e147-c72b-4b0f-8697-fb906becda52",
   "metadata": {},
   "source": [
    "#### Plot Inputs and Target"
   ]
  },
  {
   "cell_type": "code",
   "execution_count": null,
   "id": "b8b2d87e-f9d1-40c8-a67d-ac7ee696cb88",
   "metadata": {
    "tags": []
   },
   "outputs": [],
   "source": [
    "## PREDICTIONS AND TRUTH ##\n",
    "bins = np.linspace(-4,8,30, endpoint=True)\n",
    "fig = plt.figure(figsize=(6,6))\n",
    "plt.hist(y_cl_test, color='steelblue', bins=bins, density=True, alpha=.5, edgecolor='black', label='target')\n",
    "plt.hist(cl_preds, color='coral', bins=bins, density=True, alpha=.5, edgecolor='black', label='network')\n",
    "plt.title('Regression Output and Target', fontsize=16)\n",
    "plt.xlabel('Log(E [GeV])', fontsize=14)\n",
    "plt.xlim(-5,8)\n",
    "plt.xticks(fontsize=13)\n",
    "plt.yticks(fontsize=13)\n",
    "plt.legend(loc='upper left')\n",
    "# plt.tight_layout()\n",
    "# plt.savefig('Regression_Plots/clusterOnly-output-wTarget-regression-log_2021-06-29.png', format='png')\n",
    "plt.show()"
   ]
  },
  {
   "cell_type": "markdown",
   "id": "7fe2f677-48f7-4dab-923d-123fbf68e5b1",
   "metadata": {},
   "source": [
    "### Analytics"
   ]
  },
  {
   "cell_type": "markdown",
   "id": "39a0c578-94e2-4571-8fd8-55a238407038",
   "metadata": {},
   "source": [
    "#### Loss"
   ]
  },
  {
   "cell_type": "code",
   "execution_count": null,
   "id": "d4ab7dde-e044-4826-b359-0ba86da065b6",
   "metadata": {},
   "outputs": [],
   "source": [
    "print(history.history.keys())\n",
    "plt.cla(); plt.clf()\n",
    "fig = plt.figure(figsize=(6,6))\n",
    "plt.plot(history.history['val_loss'], color='darkgoldenrod', label='validation loss')\n",
    "plt.plot(history.history['loss'], color='darkred', label='loss')\n",
    "plt.yscale('log')\n",
    "plt.ylim(.005,1e2)\n",
    "plt.yticks(fontsize=13)\n",
    "plt.xlim(0,59)\n",
    "plt.xticks(fontsize=13)\n",
    "plt.xlabel('Epochs', fontsize=14)\n",
    "plt.legend(loc='upper right')\n",
    "# plt.tight_layout()\n",
    "# plt.savefig('Regression_Plots/clusterOnly_losses_log_2021-06-29.png', format='png')\n",
    "plt.show()"
   ]
  },
  {
   "cell_type": "markdown",
   "id": "a4614e2f-a76b-4ab1-b406-50acd1d41781",
   "metadata": {},
   "source": [
    "#### 2-D Histogram"
   ]
  },
  {
   "cell_type": "code",
   "execution_count": null,
   "id": "0f69b54f-5eba-4a99-85eb-6b9dedd680f3",
   "metadata": {},
   "outputs": [],
   "source": [
    "print(y_cl_test.shape)\n",
    "print(cl_preds.shape)\n",
    "clusterHits = np.exp(y_cl_test.flatten())\n",
    "networkPreds = np.exp(cl_preds.flatten())\n",
    "print(repr(clusterHits.shape)+' '+repr(networkPreds.shape))\n",
    "\n",
    "ybin = np.arange(0., 3.1, 0.1)\n",
    "xbin = np.logspace(np.log10(.5), np.log10(2000), num=len(ybin), endpoint=True, base=10.0)\n",
    "\n",
    "plt.cla(); plt.clf()\n",
    "fig = plt.figure(figsize=(6,6))\n",
    "fig.patch.set_facecolor('white')\n",
    "plt.hist2d(clusterHits, networkPreds/clusterHits, bins=[xbin,ybin], norm=LogNorm())\n",
    "plt.title('Highest Energy Cluster Only -- 63459 Events', fontsize=16)\n",
    "plt.xlabel('clusterCalibHits', fontsize=14)\n",
    "plt.ylabel('Predictions / clusterCalibHits', fontsize=14)\n",
    "plt.xscale('log')\n",
    "plt.xticks(fontsize=14)\n",
    "plt.yticks(fontsize=14)\n",
    "# plt.tight_layout()\n",
    "# plt.savefig('Regression_Plots/SingleCluster_regression_gt_pt1GeV_log_normal_training_2021-06-29.png', format='png')\n",
    "plt.show()"
   ]
  },
  {
   "cell_type": "markdown",
   "id": "c9a2c98a-6ff4-4c04-989f-84ca27e3da2d",
   "metadata": {},
   "source": [
    "#### Resolution Plots"
   ]
  },
  {
   "cell_type": "code",
   "execution_count": null,
   "id": "ba4d1560-736e-4f34-8357-6b117efebc41",
   "metadata": {},
   "outputs": [],
   "source": [
    "plotpath = '/home/russbate/MLPionCollaboration/LCStudies/clusters/Regression_Plots/'\n",
    "Pt_center, Pt_Single = ru.responsePlot(clusterHits, \n",
    "                      networkPreds/clusterHits,\n",
    "                      figfile = plotpath+'singleCluster_responsePlot_2021-06-18.png', statistic = 'median',\n",
    "                      xlabel = 'clusterCalibHits', ylabel = 'Regression E / clusterCalibHits',\n",
    "                      atlas_x = 0.48, atlas_y = 0.95, simulation = True,\n",
    "                      textlist = [{'x': 0.48, 'y': 0.85, 'text': 'Single $\\pi^{+}$, Single Cluster Only'}])"
   ]
  },
  {
   "cell_type": "markdown",
   "id": "03564d72-74c9-4f44-9bf6-2d06b1c449c6",
   "metadata": {},
   "source": [
    "#### Scatter Plot"
   ]
  },
  {
   "cell_type": "code",
   "execution_count": null,
   "id": "d8feedd9-bcc0-406d-91c6-e7bfbafb9231",
   "metadata": {},
   "outputs": [],
   "source": [
    "plt.cla();plt.clf()\n",
    "\n",
    "fig = plt.figure(figsize=(6,6))\n",
    "fig.patch.set_facecolor(color='white')\n",
    "plt.scatter(clusterHits, networkPreds, s=10, edgecolor='black', color='darkviolet', alpha=.25)\n",
    "plt.title('Correspondence between clusterCalibHits and\\n Corresponding Deep Set Prediction',\n",
    "         fontsize=16)\n",
    "plt.xlabel('Cluster Calib Hits (GeV)', fontsize=14)\n",
    "plt.ylabel('Network Prediction (GeV)', fontsize=14)\n",
    "plt.xlim(0,2200)\n",
    "plt.ylim(0,2200)\n",
    "plt.xticks(fontsize=13)\n",
    "plt.yticks(fontsize=13)\n",
    "# plt.tight_layout()\n",
    "# plt.savefig('Regression_Plots/ClusterOnly_NetworkPredictions_scatter_Log_better_2021-06-10.png', format='png')\n",
    "plt.show()"
   ]
  },
  {
   "cell_type": "markdown",
   "id": "08dde0fc-1385-4f7e-84da-b43b6a8a8992",
   "metadata": {},
   "source": [
    "## Track Only"
   ]
  },
  {
   "cell_type": "code",
   "execution_count": null,
   "id": "f7147076-9faa-497d-83c5-46b714a28866",
   "metadata": {},
   "outputs": [],
   "source": [
    "dat = np.load('/fast_scratch/atlas_images/v01-45/XY_tracksOnly_Pt_distributed_med.npz')\n",
    "print(dat.files)\n",
    "X_tracksOnly = dat['arr_0']\n",
    "Y_tracksOnly = dat['arr_1']\n",
    "print(np.shape(X_tracksOnly))\n",
    "print(np.shape(Y_tracksOnly))\n",
    "N_events = len(X_tracksOnly)"
   ]
  },
  {
   "cell_type": "markdown",
   "id": "73aeb5e5-442e-4ac3-9ec2-36c3e43da045",
   "metadata": {},
   "source": [
    "### Data Normalization"
   ]
  },
  {
   "cell_type": "code",
   "execution_count": null,
   "id": "b13859e1-e7ee-487e-818d-99714937c452",
   "metadata": {},
   "outputs": [],
   "source": [
    "t_Pt = X_tracksOnly[:,:,0]\n",
    "t_Eta = np.atleast_3d(X_tracksOnly[:,:,1])\n",
    "t_Phi = np.atleast_3d(X_tracksOnly[:,:,2])\n",
    "t_rPerp = X_tracksOnly[:,:,3]\n",
    "\n",
    "Y_trthPt = Y_tracksOnly"
   ]
  },
  {
   "cell_type": "markdown",
   "id": "e5fd85d6-0b6c-4a8f-9dc9-6ffabfaf4005",
   "metadata": {},
   "source": [
    "#### Energy"
   ]
  },
  {
   "cell_type": "code",
   "execution_count": null,
   "id": "3a1a7445-eb22-4704-bcf8-a50dce073245",
   "metadata": {},
   "outputs": [],
   "source": [
    "# this ensures we dont run into a runtime warning and zeros stay zeros when taking log\n",
    "Pt_mask = t_Pt > 0\n",
    "t_Pt[Pt_mask] = np.log(t_Pt[Pt_mask])\n",
    "t_Pt = np.atleast_3d(t_Pt)\n",
    "print(t_Pt.shape)"
   ]
  },
  {
   "cell_type": "markdown",
   "id": "b4c7a206-18a9-47b0-b1e1-0bf8d15ea6cc",
   "metadata": {},
   "source": [
    "#### rPerp"
   ]
  },
  {
   "cell_type": "code",
   "execution_count": null,
   "id": "445ba7d3-8514-418e-9445-d886afad6425",
   "metadata": {},
   "outputs": [],
   "source": [
    "t_rPerp = np.atleast_3d(t_rPerp/1000)\n",
    "print(t_rPerp.shape)"
   ]
  },
  {
   "cell_type": "markdown",
   "id": "96f80dde-b879-4aad-9318-23056b35c853",
   "metadata": {},
   "source": [
    "#### Target"
   ]
  },
  {
   "cell_type": "code",
   "execution_count": null,
   "id": "91e8174b-5458-4c04-98a8-880d156b4620",
   "metadata": {},
   "outputs": [],
   "source": [
    "# this ensures we dont run into a runtime warning and zeros stay zeros when taking log\n",
    "Y_Pt_mask = Y_trthPt > 0\n",
    "Y_trthPt[Y_Pt_mask] = np.log(Y_trthPt[Y_Pt_mask])\n",
    "print('Zero Pt found: '+repr(np.any(Y_Pt_mask)))\n",
    "# Y_trthPt = np.atleast_2d(Y_trthPt).transpose()\n",
    "print(Y_trthPt.shape)"
   ]
  },
  {
   "cell_type": "markdown",
   "id": "b69260b1-d786-4f07-a589-eb8e59c85251",
   "metadata": {},
   "source": [
    "#### Track Deep Set"
   ]
  },
  {
   "cell_type": "code",
   "execution_count": null,
   "id": "661a3b63-806c-4c83-aaa2-353bd67b6ad8",
   "metadata": {},
   "outputs": [],
   "source": [
    "XtO_deep = np.concatenate((t_Pt, t_Eta, t_Phi, t_rPerp), axis=2)\n",
    "print(XtO_deep.shape)"
   ]
  },
  {
   "cell_type": "markdown",
   "id": "3ffb8a72-0225-430f-9ab1-3b95cdbc6653",
   "metadata": {},
   "source": [
    "### Model Settings"
   ]
  },
  {
   "cell_type": "code",
   "execution_count": null,
   "id": "bda80002-c53b-4a80-af91-e291bceed06c",
   "metadata": {},
   "outputs": [],
   "source": [
    "# EFN regression example uses 75/10/15 split for 100,000 samples\n",
    "t_train, t_val, t_test = tvt_num(XtO_deep, _tvt=(75, 10, 15))\n",
    "print('train -- val -- test')\n",
    "print(str(t_train)+' -- '+str(t_val)+' -- '+str(t_test))\n",
    "\n",
    "# network architecture parameters\n",
    "Phi_sizes, F_sizes = (100, 100, 128), (100, 100, 100)\n",
    "output_act, output_dim = 'linear', 1\n",
    "loss = 'mse'\n",
    "\n",
    "# network training parameters\n",
    "num_epoch = 100\n",
    "batch_size = 600"
   ]
  },
  {
   "cell_type": "markdown",
   "id": "defb5106-d08c-417c-b6bb-f0b3825b8306",
   "metadata": {},
   "source": [
    "#### TVT Split"
   ]
  },
  {
   "cell_type": "code",
   "execution_count": null,
   "id": "77c28ffd-c564-4f7c-b62b-c54f95a4453e",
   "metadata": {},
   "outputs": [],
   "source": [
    "(t_train, t_val, t_test,\n",
    " y_pt_train, y_pt_val, y_pt_test) = ef.utils.data_split(XtO_deep, Y_trthPt, val=t_val, test=t_test)\n",
    "\n",
    "# Print out tensor shapes\n",
    "print(np.shape(t_train))\n",
    "print(np.shape(y_pt_train))"
   ]
  },
  {
   "cell_type": "markdown",
   "id": "e794d880-aae2-4970-9410-9cbadbe62342",
   "metadata": {},
   "source": [
    "### Build Architecture"
   ]
  },
  {
   "cell_type": "code",
   "execution_count": null,
   "id": "19e52d4e-fda6-4b8b-907e-70c9e9f6b785",
   "metadata": {
    "scrolled": true,
    "tags": []
   },
   "outputs": [],
   "source": [
    "pfnT = PFN(input_dim=4, Phi_sizes=Phi_sizes, F_sizes=F_sizes, \n",
    "          output_act=output_act, output_dim=output_dim, loss=loss, metrics=[])"
   ]
  },
  {
   "cell_type": "markdown",
   "id": "5363afc4-5e44-4358-8ff4-b3ae705c0edc",
   "metadata": {},
   "source": [
    "### Train Model"
   ]
  },
  {
   "cell_type": "code",
   "execution_count": null,
   "id": "43874d05-2a03-425c-9df5-f4b732b7382c",
   "metadata": {
    "scrolled": true,
    "tags": []
   },
   "outputs": [],
   "source": [
    "pfnT.fit(t_train, y_pt_train,\n",
    "        epochs=num_epoch,\n",
    "        batch_size=batch_size,\n",
    "        validation_data=(t_val, y_pt_val),\n",
    "        verbose=1)"
   ]
  },
  {
   "cell_type": "markdown",
   "id": "5867775a-fa45-432c-b8a5-50c1aa547583",
   "metadata": {},
   "source": [
    "#### Predictions"
   ]
  },
  {
   "cell_type": "code",
   "execution_count": null,
   "id": "a811cc55-975e-4b60-bd2e-d10afc853043",
   "metadata": {},
   "outputs": [],
   "source": [
    "t_preds = pfnT.predict(t_test, batch_size=1000)\n",
    "print(t_preds.shape)\n",
    "bins = np.arange(-1,8.25,.25)\n",
    "\n",
    "plt.cla(); plt.clf()\n",
    "fig = plt.figure(figsize=(6,6))\n",
    "fig.patch.set_facecolor('white')\n",
    "plt.hist(t_preds.flatten(), bins=bins, density=True, color='darkgreen', alpha=.5, edgecolor='black', label='network')\n",
    "plt.hist(y_pt_test, bins=bins, density=True, color='darkorange', alpha=.5, edgecolor='black', label='target')\n",
    "plt.title('Track Only Pt - Log scale', fontsize=16)\n",
    "plt.xlabel('Log(Pt [GeV/c])', fontsize=14)\n",
    "plt.xlim(-1,9)\n",
    "plt.xticks(fontsize=13)\n",
    "plt.yticks(fontsize=13)\n",
    "plt.legend(loc='upper left')\n",
    "# plt.tight_layout()\n",
    "# plt.savefig('Regression_Plots/Inputs-and-outputs-to-trackPt-regression-log_2021-06-10.png', format='png')\n",
    "plt.show()"
   ]
  },
  {
   "cell_type": "markdown",
   "id": "5e14c3fe-fe7a-41c5-8b08-485815158cad",
   "metadata": {},
   "source": [
    "### Analytics"
   ]
  },
  {
   "cell_type": "code",
   "execution_count": null,
   "id": "a2977497-3304-4000-a379-0168e4f6e8c2",
   "metadata": {},
   "outputs": [],
   "source": [
    "pt_pred = np.exp(t_preds.flatten())\n",
    "pt_trth = np.exp(y_pt_test.flatten())\n",
    "\n",
    "ybin = np.arange(0., 3.1, 0.1)\n",
    "xbin = np.logspace(np.log10(.5), np.log10(2000), num=len(ybin), endpoint=True, base=10.0)\n",
    "\n",
    "plt.cla(); plt.clf()\n",
    "fig = plt.figure(figsize=(6,6))\n",
    "fig.patch.set_facecolor('white')\n",
    "plt.hist2d(pt_trth, pt_pred/pt_trth, bins=[xbin,ybin], norm=LogNorm())\n",
    "plt.title('Tracks Only -- 69414 Events', fontsize=16)\n",
    "plt.xlabel('truthPartPt (GeV)', fontsize=14)\n",
    "plt.ylabel('Predictions / truthPartPt', fontsize=14)\n",
    "plt.xscale('log')\n",
    "plt.xticks(fontsize=14)\n",
    "plt.yticks(fontsize=14)\n",
    "# plt.tight_layout()\n",
    "# plt.savefig('Regression_Plots/Pt_TrackOnly_mediumRoot_2021-06-08.png', format='png')\n",
    "plt.show()"
   ]
  },
  {
   "cell_type": "code",
   "execution_count": null,
   "id": "c1526764-6013-469f-b85f-996a464d7159",
   "metadata": {},
   "outputs": [],
   "source": [
    "tr_Pt_test = t_test[:,:,0].astype(np.float128)\n",
    "tr_Pt_mask = tr_Pt_test != 0\n",
    "\n",
    "print(repr(tr_Pt_test.shape)+' '+repr(tr_Pt_mask.shape))\n",
    "tr_Pt_test[trck_tst_mask] = np.exp(tr_Pt_test[trck_tst_mask])\n",
    "\n",
    "tr_Pt_test = np.sum(tr_Pt_test, axis=1)\n",
    "print(tr_Pt_test.shape)"
   ]
  },
  {
   "cell_type": "markdown",
   "id": "c376d082-425a-498d-b1a6-4a751ba8e8b6",
   "metadata": {},
   "source": [
    "#### Response Plots"
   ]
  },
  {
   "cell_type": "code",
   "execution_count": null,
   "id": "4881c01d-c858-4b91-bc4c-351da5e28224",
   "metadata": {},
   "outputs": [],
   "source": [
    "plotpath = '/home/russbate/MLPionCollaboration/LCStudies/clusters/Regression_Plots/'\n",
    "Pt_center, Pt_Single = ru.responsePlot(pt_trth, \n",
    "                      pt_pred/pt_trth,\n",
    "                      figfile = plotpath+'singleTrack_Pt_responsePlot.png', statistic = 'median',\n",
    "                      xlabel = 'truthPartPt', ylabel = 'Regression Pt / truthPartPt',\n",
    "                      atlas_x = 0.2, atlas_y = 0.95, simulation = True,\n",
    "                      textlist = [{'x': 0.2, 'y': 0.85, 'text': 'Single $\\pi^{+}$, Track Only'}])"
   ]
  },
  {
   "cell_type": "code",
   "execution_count": null,
   "id": "dc8af4c4-a27e-47a3-bc4e-1c46dd7f70d0",
   "metadata": {},
   "outputs": [],
   "source": [
    "pu.lineOverlay(xcenter=xcenter, lines = [medBase, medSingleBase, medReg, medRegSingle],\n",
    "                labels = ['EM Scale, All Clusters', 'EM Scale, Single Clusters', 'Regressed, All Clusters', 'Regressed, Single Clusters'],\n",
    "                xlabel = 'Cluster Calib Hits', ylabel = 'Cluster Energy / Calib Hits',\n",
    "                figfile = plotpath + \"hist_2D_calib_vs_ratio_pp_profile_Overlay_BaseRegSingle.pdf\",\n",
    "                extra_lines = [[[0.1,1000],[1,1]]],\n",
    "                atlas_x = 0.5, atlas_y = 0.3, simulation = True,\n",
    "                textlist = [{'x': 0.5, 'y': 0.2, 'text': 'Single $\\pi^{+}$'},\n",
    "                                  {'x': 0.5, 'y': 0.15,  'text': 'Baseline 1-input Regression'},\n",
    "                                  {'x': 0.5, 'y': 0.1, 'text': 'Trained on All Clusters'}])"
   ]
  },
  {
   "cell_type": "markdown",
   "id": "ac419908-e46f-4fb9-8f50-ec8e461b93bd",
   "metadata": {},
   "source": [
    "## Energy Target Plots"
   ]
  },
  {
   "cell_type": "code",
   "execution_count": null,
   "id": "1180e201-094d-4503-bd3b-a0b6d9983252",
   "metadata": {
    "tags": []
   },
   "outputs": [],
   "source": [
    "plt.cla(); plt.clf()\n",
    "fig = plt.figure(figsize=(6,6))\n",
    "fig.patch.set_facecolor('white')\n",
    "plt.scatter(Y_truth, Y_clusterE, s=10,edgecolor='black', color='blue')\n",
    "plt.xlabel('Particle Truth E', fontsize=14)\n",
    "plt.ylabel('Total Observed Cluster E', fontsize=14)\n",
    "# plt.title('truthPartE Against Observed Total', fontsize=18)\n",
    "plt.xlim(0,2000)\n",
    "plt.ylim(0,2000)\n",
    "plt.xticks(fontsize=13)\n",
    "plt.yticks(fontsize=13)\n",
    "plt.tight_layout()\n",
    "plt.savefig('Plots/truthPartE_clusterE_2021-06-03.png', format='png')\n",
    "plt.show()"
   ]
  },
  {
   "cell_type": "code",
   "execution_count": null,
   "id": "4ebb0f8c-6ca9-4993-aa00-f8c593bd912f",
   "metadata": {
    "tags": []
   },
   "outputs": [],
   "source": [
    "plt.cla(); plt.clf()\n",
    "fig = plt.figure(figsize=(6,6))\n",
    "fig.patch.set_facecolor('white')\n",
    "plt.scatter(Y_eng, Y_clusterE, edgecolor='black', color='crimson', s=10)\n",
    "# plt.title('cluster_ENG_CALIB_TOT Against Observed Total', fontsize=18)\n",
    "plt.xlabel('Cluster Calib Hits', fontsize=14)\n",
    "plt.ylabel('Total Observed Cluster E', fontsize=14)\n",
    "plt.xlim(0,2000)\n",
    "plt.ylim(0,2000)\n",
    "plt.xticks(fontsize=13)\n",
    "plt.yticks(fontsize=13)\n",
    "plt.tight_layout()\n",
    "plt.savefig('Plots/cluster_ENG_CALIB_TOT_clusterE_2021-06-03.png', format='png')\n",
    "plt.show()"
   ]
  },
  {
   "cell_type": "markdown",
   "id": "8a5b8d38-5050-4e32-9d31-92cc9be0a9b5",
   "metadata": {},
   "source": [
    "#### 2-D Histogram - CLUSTERS"
   ]
  },
  {
   "cell_type": "code",
   "execution_count": null,
   "id": "49fe58c0-b03e-4308-ae02-0a1eea6c6bc2",
   "metadata": {},
   "outputs": [],
   "source": [
    "plt.cla(); plt.clf()\n",
    "\n",
    "xbin = [10**exp for exp in  np.arange(-1.0, 3.1, 0.1)]\n",
    "ybin = np.arange(0., 3.1, 0.1)\n",
    "\n",
    "fig = plt.figure(figsize=(6,6))\n",
    "fig.patch.set_facecolor('white')\n",
    "plt.hist2d(Y_eng, Y_clusterE/Y_eng, bins=[xbin,ybin], norm=LogNorm())\n",
    "plt.xlabel('cluster_ENG_CALIB_TOT', fontsize=14)\n",
    "plt.ylabel('clusterE / cluster_ENG_CALIB_TOT', fontsize=14)\n",
    "plt.xscale('log')\n",
    "# plt.tight_layout()\n",
    "# plt.savefig('Plots/clusterE_cluster_ENG_CALIB_TOT_track_data_2021-06-03.png', format='png')\n",
    "plt.show()"
   ]
  },
  {
   "cell_type": "markdown",
   "id": "8dcb0878-2ee2-4f89-a73b-bc27672290a6",
   "metadata": {},
   "source": [
    "#### 2-D Histogram - TRUTH PARTICLE"
   ]
  },
  {
   "cell_type": "code",
   "execution_count": null,
   "id": "8c23f496-7b14-483b-b0f5-cd9cd8b6cf32",
   "metadata": {},
   "outputs": [],
   "source": [
    "plt.cla(); plt.clf()\n",
    "\n",
    "xbin = [10**exp for exp in  np.arange(-1.0, 3.1, 0.1)]\n",
    "ybin = np.arange(0., 3.1, 0.1)\n",
    "\n",
    "fig = plt.figure(figsize=(6,6))\n",
    "fig.patch.set_facecolor('white')\n",
    "plt.hist2d(Y_truth, Y_clusterE/Y_truth, bins=[xbin,ybin], norm=LogNorm())\n",
    "plt.xlabel('truthPartE', fontsize=14)\n",
    "plt.ylabel('clusterE / truthPartE', fontsize=14)\n",
    "plt.xscale('log')\n",
    "# plt.tight_layout()\n",
    "# plt.savefig('Plots/truthPartE_clusterE_track_data_2021-06-03.png', format='png')\n",
    "plt.show()"
   ]
  },
  {
   "cell_type": "markdown",
   "id": "ec464183-ec5c-4def-a3c7-44d7b3d41891",
   "metadata": {},
   "source": [
    "## Particle Flow With Max's Data\n",
    "### No tracks!"
   ]
  },
  {
   "cell_type": "code",
   "execution_count": null,
   "id": "60c35d13-53ab-419d-a4da-9a8c085727d1",
   "metadata": {},
   "outputs": [],
   "source": [
    "dat = np.load('/fast_scratch/atlas_images/v01-45/pipm_medium.npz')\n",
    "print(dat.files)"
   ]
  },
  {
   "cell_type": "code",
   "execution_count": null,
   "id": "158ce89a-697b-4942-aa7a-e624ac9eb504",
   "metadata": {},
   "outputs": [],
   "source": [
    "X = dat['X']\n",
    "Y_label = dat['Y_label']\n",
    "Y_target = dat['Y_target']\n",
    "print('X size: '+str(np.shape(X)))\n",
    "print('Y_label size: '+str(np.shape(Y_label)))\n",
    "print('Y_target size: '+str(np.shape(Y_target)))"
   ]
  },
  {
   "cell_type": "markdown",
   "id": "ff677341-2b89-4e16-9c9f-d10c4a1a6490",
   "metadata": {},
   "source": [
    "## Testing -- Ignore Below"
   ]
  },
  {
   "cell_type": "markdown",
   "id": "318bd2c1-cbd1-4ce2-9366-ef63a6ef8e5d",
   "metadata": {},
   "source": [
    "#### Shallow Copy"
   ]
  },
  {
   "cell_type": "code",
   "execution_count": null,
   "id": "dc9529c3-4eb8-42de-98f8-66af46db9337",
   "metadata": {},
   "outputs": [],
   "source": [
    "myarray = np.arange(25).reshape((5,5))\n",
    "print(myarray)\n",
    "newarray = myarray[:,0]\n",
    "print(newarray)\n",
    "myarray[:,0] = np.exp(myarray[:,0])\n",
    "print(newarray)"
   ]
  },
  {
   "cell_type": "markdown",
   "id": "7a595ac2-8a7f-4bf3-b6e2-b98565eeab6e",
   "metadata": {},
   "source": [
    "#### Deep Copy"
   ]
  },
  {
   "cell_type": "code",
   "execution_count": null,
   "id": "96bee568-0e46-4ac9-8f6c-d24257381c5d",
   "metadata": {},
   "outputs": [],
   "source": [
    "myarray = np.arange(25).reshape((5,5))\n",
    "print(myarray)\n",
    "newarray = np.ndarray.copy(myarray[:,0])\n",
    "print(newarray)\n",
    "myarray[:,0] = np.exp(myarray[:,0])\n",
    "print(newarray)"
   ]
  },
  {
   "cell_type": "code",
   "execution_count": null,
   "id": "4fea85d9-3aca-4f41-acdb-2e40dd36a98f",
   "metadata": {},
   "outputs": [],
   "source": []
  }
 ],
 "metadata": {
  "kernelspec": {
   "display_name": "Python 3 (ipykernel)",
   "language": "python",
   "name": "python3"
  },
  "language_info": {
   "codemirror_mode": {
    "name": "ipython",
    "version": 3
   },
   "file_extension": ".py",
   "mimetype": "text/x-python",
   "name": "python",
   "nbconvert_exporter": "python",
   "pygments_lexer": "ipython3",
   "version": "3.8.12"
  }
 },
 "nbformat": 4,
 "nbformat_minor": 5
}
