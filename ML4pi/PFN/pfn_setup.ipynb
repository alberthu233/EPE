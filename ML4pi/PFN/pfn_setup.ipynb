{
 "cells": [
  {
   "cell_type": "code",
   "execution_count": 27,
   "metadata": {},
   "outputs": [
    {
     "name": "stdout",
     "output_type": "stream",
     "text": [
      "Awkward Array Version: 1.7.0\n",
      "Uproot Version: 4.1.9\n"
     ]
    }
   ],
   "source": [
    "import numpy as np\n",
    "import matplotlib.pyplot as plt\n",
    "from matplotlib import cm\n",
    "from matplotlib.colors import Normalize\n",
    "import uproot as ur\n",
    "import awkward as ak\n",
    "import time as t\n",
    "import copy\n",
    "print(\"Awkward Array Version: \"+str(ak.__version__))\n",
    "print(\"Uproot Version: \"+str(ur.__version__))\n",
    "\n",
    "import energyflow as ef\n",
    "from energyflow.archs import EFN\n",
    "from energyflow.archs import PFN\n",
    "# from energyflow.datasets import qg_jets\n",
    "from energyflow.utils import data_split, to_categorical\n",
    "\n",
    "from sklearn.metrics import roc_auc_score, roc_curve"
   ]
  },
  {
   "cell_type": "code",
   "execution_count": 28,
   "metadata": {},
   "outputs": [],
   "source": [
    "import sys\n",
    "path = '/Work/EPE/ML4pi'\n",
    "sys.path.append(path)\n",
    "from util import graph_util as gu"
   ]
  },
  {
   "cell_type": "code",
   "execution_count": 29,
   "metadata": {},
   "outputs": [],
   "source": [
    "def find_sampling_events(_ak_cluster_cell_ID, _cellGeoID, _cellGeoSampling, _filter):\n",
    "    ''' Inputs:\n",
    "    _ak_cluster_cell_ID: awkward array with nested arrays of all the cell geometry IDs\n",
    "    _cellGeoID: list of the cell IDs to find the index from, expects numpy format\n",
    "    _cellGeoSampling: same as _cellGeoID but the sampling layer\n",
    "    _filter: the numbered index of calorimetry layers\n",
    "    Returns:\n",
    "    an array of event indices with clusters containing barrel events\n",
    "    '''\n",
    "\n",
    "    # create unique list of sampling layers for every event\n",
    "    _event_layers = []\n",
    "    # list of event indices with one or more clusters in EMB1-3 or TileBar0-2\n",
    "    _barrel_events = []\n",
    "    \n",
    "    for _evt_idx in range(len(_ak_cluster_cell_ID)):\n",
    "        _cluster_cell_ID = ak_cluster_cell_ID[\"cluster_cell_ID\"][_evt_idx]\n",
    "\n",
    "        # create unique list of sampling layers for every cluster\n",
    "        _event_layers = []\n",
    "\n",
    "        for j in range(len(_cluster_cell_ID)):\n",
    "            ''' loop through each cluster of the event '''\n",
    "\n",
    "            for l in range(len(_cluster_cell_ID[j])):\n",
    "                ''' loop through the cluster elements searching for new layer numbers'''\n",
    "                # grab the first cell_geo_ID, l-th element of the j-th cluster\n",
    "                _cellGeoTag = _cluster_cell_ID[j][l]\n",
    "\n",
    "                # find the index of the cell_geo_ID, use [0][0] becuase of np.where return\n",
    "                _cellGeo_idx = np.argwhere(np.asarray(_cellGeoID == _cellGeoTag))\n",
    "\n",
    "                # find the sampling layer based on the index\n",
    "                _this_layer = _cellGeoSampling[_cellGeo_idx]\n",
    "\n",
    "                if not np.isin(_this_layer, _event_layers):\n",
    "                    _event_layers.append(_this_layer)      \n",
    "\n",
    "        # add event to list if one is in the barrel layer\n",
    "        if np.any(np.isin(_event_layers, _filter)):\n",
    "            _barrel_events.append(_evt_idx)\n",
    "\n",
    "    return np.array(_barrel_events)\n",
    "\n",
    "\n",
    "def center_cluster():\n",
    "    ''' Expects a single cluster with a single cluster center '''\n",
    "    return None\n",
    "\n",
    "def center_clusters():\n",
    "    ''' Expects multiple clusters and creates an imshow using the average of the cluster centers'''\n",
    "    return None\n",
    "\n",
    "def cluster_to_imshow():\n",
    "    ''' Takes a cluster and converts to a python imshow '''\n",
    "    return None"
   ]
  },
  {
   "cell_type": "code",
   "execution_count": 30,
   "metadata": {},
   "outputs": [],
   "source": [
    "cPionEvents = path + '/atlas_images/pipm/'\n",
    "nPionEvents = path + '/atlas_images/pi0/'"
   ]
  },
  {
   "cell_type": "code",
   "execution_count": 31,
   "metadata": {},
   "outputs": [],
   "source": [
    "cPion_502 = ur.open(cPionEvents+'user.angerami.24559744.OutputStream._000502.root')\n",
    "nPion_502 = ur.open(nPionEvents+'user.angerami.24559740.OutputStream._000502.root')"
   ]
  },
  {
   "cell_type": "code",
   "execution_count": 32,
   "metadata": {},
   "outputs": [
    {
     "data": {
      "text/plain": [
       "[('EventTree;1', <TTree 'EventTree' (125 branches) at 0x02025f72b670>),\n",
       " ('CellGeo;1', <TTree 'CellGeo' (9 branches) at 0x020443749a60>)]"
      ]
     },
     "execution_count": 32,
     "metadata": {},
     "output_type": "execute_result"
    }
   ],
   "source": [
    "cPion_502.items()"
   ]
  },
  {
   "cell_type": "code",
   "execution_count": 33,
   "metadata": {},
   "outputs": [],
   "source": [
    "cPionEvents = cPion_502[\"EventTree\"]\n",
    "nPionEvents = nPion_502[\"EventTree\"]"
   ]
  },
  {
   "cell_type": "code",
   "execution_count": 34,
   "metadata": {},
   "outputs": [],
   "source": [
    "cellGeoTree = cPion_502[\"CellGeo\"]"
   ]
  },
  {
   "cell_type": "markdown",
   "metadata": {},
   "source": [
    "Load&Show Tree"
   ]
  },
  {
   "cell_type": "code",
   "execution_count": 35,
   "metadata": {},
   "outputs": [
    {
     "name": "stdout",
     "output_type": "stream",
     "text": [
      "name                                       | typename                 | interpretation                                              \n",
      "-------------------------------------------+--------------------------+-------------------------------------------------------------\n",
      "runNumber                                  | int32_t                  | AsDtype('>i4')\n",
      "eventNumber                                | int64_t                  | AsDtype('>i8')\n",
      "lumiBlock                                  | int32_t                  | AsDtype('>i4')\n",
      "coreFlags                                  | uint32_t                 | AsDtype('>u4')\n",
      "mcEventNumber                              | int32_t                  | AsDtype('>i4')\n",
      "mcChannelNumber                            | int32_t                  | AsDtype('>i4')\n",
      "mcEventWeight                              | float                    | AsDtype('>f4')\n",
      "nTruthPart                                 | int32_t                  | AsDtype('>i4')\n",
      "G4PreCalo_n_EM                             | int32_t                  | AsDtype('>i4')\n",
      "G4PreCalo_E_EM                             | float                    | AsDtype('>f4')\n",
      "G4PreCalo_n_Had                            | int32_t                  | AsDtype('>i4')\n",
      "G4PreCalo_E_Had                            | float                    | AsDtype('>f4')\n",
      "truthVertexX                               | float                    | AsDtype('>f4')\n",
      "truthVertexY                               | float                    | AsDtype('>f4')\n",
      "truthVertexZ                               | float                    | AsDtype('>f4')\n",
      "truthPartPdgId                             | std::vector<int32_t>     | AsJagged(AsDtype('>i4'), header_bytes=10)\n",
      "truthPartStatus                            | std::vector<int32_t>     | AsJagged(AsDtype('>i4'), header_bytes=10)\n",
      "truthPartBarcode                           | std::vector<int32_t>     | AsJagged(AsDtype('>i4'), header_bytes=10)\n",
      "truthPartPt                                | std::vector<float>       | AsJagged(AsDtype('>f4'), header_bytes=10)\n",
      "truthPartE                                 | std::vector<float>       | AsJagged(AsDtype('>f4'), header_bytes=10)\n",
      "truthPartMass                              | std::vector<float>       | AsJagged(AsDtype('>f4'), header_bytes=10)\n",
      "truthPartEta                               | std::vector<float>       | AsJagged(AsDtype('>f4'), header_bytes=10)\n",
      "truthPartPhi                               | std::vector<float>       | AsJagged(AsDtype('>f4'), header_bytes=10)\n",
      "nTrack                                     | int32_t                  | AsDtype('>i4')\n",
      "trackPt                                    | std::vector<float>       | AsJagged(AsDtype('>f4'), header_bytes=10)\n",
      "trackP                                     | std::vector<float>       | AsJagged(AsDtype('>f4'), header_bytes=10)\n",
      "trackMass                                  | std::vector<float>       | AsJagged(AsDtype('>f4'), header_bytes=10)\n",
      "trackEta                                   | std::vector<float>       | AsJagged(AsDtype('>f4'), header_bytes=10)\n",
      "trackPhi                                   | std::vector<float>       | AsJagged(AsDtype('>f4'), header_bytes=10)\n",
      "trackNumberOfPixelHits                     | std::vector<int32_t>     | AsJagged(AsDtype('>i4'), header_bytes=10)\n",
      "trackNumberOfSCTHits                       | std::vector<int32_t>     | AsJagged(AsDtype('>i4'), header_bytes=10)\n",
      "trackNumberOfPixelDeadSensors              | std::vector<int32_t>     | AsJagged(AsDtype('>i4'), header_bytes=10)\n",
      "trackNumberOfSCTDeadSensors                | std::vector<int32_t>     | AsJagged(AsDtype('>i4'), header_bytes=10)\n",
      "trackNumberOfPixelSharedHits               | std::vector<int32_t>     | AsJagged(AsDtype('>i4'), header_bytes=10)\n",
      "trackNumberOfSCTSharedHits                 | std::vector<int32_t>     | AsJagged(AsDtype('>i4'), header_bytes=10)\n",
      "trackNumberOfPixelHoles                    | std::vector<int32_t>     | AsJagged(AsDtype('>i4'), header_bytes=10)\n",
      "trackNumberOfSCTHoles                      | std::vector<int32_t>     | AsJagged(AsDtype('>i4'), header_bytes=10)\n",
      "trackNumberOfInnermostPixelLayerHits       | std::vector<int32_t>     | AsJagged(AsDtype('>i4'), header_bytes=10)\n",
      "trackNumberOfNextToInnermostPixelLayerHits | std::vector<int32_t>     | AsJagged(AsDtype('>i4'), header_bytes=10)\n",
      "trackExpectInnermostPixelLayerHit          | std::vector<int32_t>     | AsJagged(AsDtype('>i4'), header_bytes=10)\n",
      "trackExpectNextToInnermostPixelLayerHit    | std::vector<int32_t>     | AsJagged(AsDtype('>i4'), header_bytes=10)\n",
      "trackNumberOfTRTHits                       | std::vector<int32_t>     | AsJagged(AsDtype('>i4'), header_bytes=10)\n",
      "trackNumberOfTRTOutliers                   | std::vector<int32_t>     | AsJagged(AsDtype('>i4'), header_bytes=10)\n",
      "trackChiSquared                            | std::vector<float>       | AsJagged(AsDtype('>f4'), header_bytes=10)\n",
      "trackNumberDOF                             | std::vector<int32_t>     | AsJagged(AsDtype('>i4'), header_bytes=10)\n",
      "trackD0                                    | std::vector<float>       | AsJagged(AsDtype('>f4'), header_bytes=10)\n",
      "trackZ0                                    | std::vector<float>       | AsJagged(AsDtype('>f4'), header_bytes=10)\n",
      "trackEta_PreSamplerB                       | std::vector<float>       | AsJagged(AsDtype('>f4'), header_bytes=10)\n",
      "trackPhi_PreSamplerB                       | std::vector<float>       | AsJagged(AsDtype('>f4'), header_bytes=10)\n",
      "trackEta_PreSamplerE                       | std::vector<float>       | AsJagged(AsDtype('>f4'), header_bytes=10)\n",
      "trackPhi_PreSamplerE                       | std::vector<float>       | AsJagged(AsDtype('>f4'), header_bytes=10)\n",
      "trackEta_EMB1                              | std::vector<float>       | AsJagged(AsDtype('>f4'), header_bytes=10)\n",
      "trackPhi_EMB1                              | std::vector<float>       | AsJagged(AsDtype('>f4'), header_bytes=10)\n",
      "trackEta_EMB2                              | std::vector<float>       | AsJagged(AsDtype('>f4'), header_bytes=10)\n",
      "trackPhi_EMB2                              | std::vector<float>       | AsJagged(AsDtype('>f4'), header_bytes=10)\n",
      "trackEta_EMB3                              | std::vector<float>       | AsJagged(AsDtype('>f4'), header_bytes=10)\n",
      "trackPhi_EMB3                              | std::vector<float>       | AsJagged(AsDtype('>f4'), header_bytes=10)\n",
      "trackEta_EME1                              | std::vector<float>       | AsJagged(AsDtype('>f4'), header_bytes=10)\n",
      "trackPhi_EME1                              | std::vector<float>       | AsJagged(AsDtype('>f4'), header_bytes=10)\n",
      "trackEta_EME2                              | std::vector<float>       | AsJagged(AsDtype('>f4'), header_bytes=10)\n",
      "trackPhi_EME2                              | std::vector<float>       | AsJagged(AsDtype('>f4'), header_bytes=10)\n",
      "trackEta_EME3                              | std::vector<float>       | AsJagged(AsDtype('>f4'), header_bytes=10)\n",
      "trackPhi_EME3                              | std::vector<float>       | AsJagged(AsDtype('>f4'), header_bytes=10)\n",
      "trackEta_HEC0                              | std::vector<float>       | AsJagged(AsDtype('>f4'), header_bytes=10)\n",
      "trackPhi_HEC0                              | std::vector<float>       | AsJagged(AsDtype('>f4'), header_bytes=10)\n",
      "trackEta_HEC1                              | std::vector<float>       | AsJagged(AsDtype('>f4'), header_bytes=10)\n",
      "trackPhi_HEC1                              | std::vector<float>       | AsJagged(AsDtype('>f4'), header_bytes=10)\n",
      "trackEta_HEC2                              | std::vector<float>       | AsJagged(AsDtype('>f4'), header_bytes=10)\n",
      "trackPhi_HEC2                              | std::vector<float>       | AsJagged(AsDtype('>f4'), header_bytes=10)\n",
      "trackEta_HEC3                              | std::vector<float>       | AsJagged(AsDtype('>f4'), header_bytes=10)\n",
      "trackPhi_HEC3                              | std::vector<float>       | AsJagged(AsDtype('>f4'), header_bytes=10)\n",
      "trackEta_TileBar0                          | std::vector<float>       | AsJagged(AsDtype('>f4'), header_bytes=10)\n",
      "trackPhi_TileBar0                          | std::vector<float>       | AsJagged(AsDtype('>f4'), header_bytes=10)\n",
      "trackEta_TileBar1                          | std::vector<float>       | AsJagged(AsDtype('>f4'), header_bytes=10)\n",
      "trackPhi_TileBar1                          | std::vector<float>       | AsJagged(AsDtype('>f4'), header_bytes=10)\n",
      "trackEta_TileBar2                          | std::vector<float>       | AsJagged(AsDtype('>f4'), header_bytes=10)\n",
      "trackPhi_TileBar2                          | std::vector<float>       | AsJagged(AsDtype('>f4'), header_bytes=10)\n",
      "trackEta_TileGap1                          | std::vector<float>       | AsJagged(AsDtype('>f4'), header_bytes=10)\n",
      "trackPhi_TileGap1                          | std::vector<float>       | AsJagged(AsDtype('>f4'), header_bytes=10)\n",
      "trackEta_TileGap2                          | std::vector<float>       | AsJagged(AsDtype('>f4'), header_bytes=10)\n",
      "trackPhi_TileGap2                          | std::vector<float>       | AsJagged(AsDtype('>f4'), header_bytes=10)\n",
      "trackEta_TileGap3                          | std::vector<float>       | AsJagged(AsDtype('>f4'), header_bytes=10)\n",
      "trackPhi_TileGap3                          | std::vector<float>       | AsJagged(AsDtype('>f4'), header_bytes=10)\n",
      "trackEta_TileExt0                          | std::vector<float>       | AsJagged(AsDtype('>f4'), header_bytes=10)\n",
      "trackPhi_TileExt0                          | std::vector<float>       | AsJagged(AsDtype('>f4'), header_bytes=10)\n",
      "trackEta_TileExt1                          | std::vector<float>       | AsJagged(AsDtype('>f4'), header_bytes=10)\n",
      "trackPhi_TileExt1                          | std::vector<float>       | AsJagged(AsDtype('>f4'), header_bytes=10)\n",
      "trackEta_TileExt2                          | std::vector<float>       | AsJagged(AsDtype('>f4'), header_bytes=10)\n",
      "trackPhi_TileExt2                          | std::vector<float>       | AsJagged(AsDtype('>f4'), header_bytes=10)\n",
      "AntiKt4EMTopoJetsPt                        | std::vector<float>       | AsJagged(AsDtype('>f4'), header_bytes=10)\n",
      "AntiKt4EMTopoJetsEta                       | std::vector<float>       | AsJagged(AsDtype('>f4'), header_bytes=10)\n",
      "AntiKt4EMTopoJetsPhi                       | std::vector<float>       | AsJagged(AsDtype('>f4'), header_bytes=10)\n",
      "AntiKt4EMTopoJetsE                         | std::vector<float>       | AsJagged(AsDtype('>f4'), header_bytes=10)\n",
      "AntiKt4LCTopoJetsPt                        | std::vector<float>       | AsJagged(AsDtype('>f4'), header_bytes=10)\n",
      "AntiKt4LCTopoJetsEta                       | std::vector<float>       | AsJagged(AsDtype('>f4'), header_bytes=10)\n",
      "AntiKt4LCTopoJetsPhi                       | std::vector<float>       | AsJagged(AsDtype('>f4'), header_bytes=10)\n",
      "AntiKt4LCTopoJetsE                         | std::vector<float>       | AsJagged(AsDtype('>f4'), header_bytes=10)\n",
      "AntiKt4TruthJetsPt                         | std::vector<float>       | AsJagged(AsDtype('>f4'), header_bytes=10)\n",
      "AntiKt4TruthJetsEta                        | std::vector<float>       | AsJagged(AsDtype('>f4'), header_bytes=10)\n",
      "AntiKt4TruthJetsPhi                        | std::vector<float>       | AsJagged(AsDtype('>f4'), header_bytes=10)\n",
      "AntiKt4TruthJetsE                          | std::vector<float>       | AsJagged(AsDtype('>f4'), header_bytes=10)\n",
      "AntiKt4TruthJetsFlavor                     | std::vector<int32_t>     | AsJagged(AsDtype('>i4'), header_bytes=10)\n",
      "nCluster                                   | int32_t                  | AsDtype('>i4')\n",
      "cluster_E                                  | std::vector<float>       | AsJagged(AsDtype('>f4'), header_bytes=10)\n",
      "cluster_E_LCCalib                          | std::vector<float>       | AsJagged(AsDtype('>f4'), header_bytes=10)\n",
      "cluster_Pt                                 | std::vector<float>       | AsJagged(AsDtype('>f4'), header_bytes=10)\n",
      "cluster_Eta                                | std::vector<float>       | AsJagged(AsDtype('>f4'), header_bytes=10)\n",
      "cluster_Phi                                | std::vector<float>       | AsJagged(AsDtype('>f4'), header_bytes=10)\n",
      "cluster_nCells                             | std::vector<int32_t>     | AsJagged(AsDtype('>i4'), header_bytes=10)\n",
      "cluster_ENG_CALIB_TOT                      | std::vector<float>       | AsJagged(AsDtype('>f4'), header_bytes=10)\n",
      "cluster_ENG_CALIB_OUT_T                    | std::vector<float>       | AsJagged(AsDtype('>f4'), header_bytes=10)\n",
      "cluster_ENG_CALIB_DEAD_TOT                 | std::vector<float>       | AsJagged(AsDtype('>f4'), header_bytes=10)\n",
      "cluster_EM_PROBABILITY                     | std::vector<float>       | AsJagged(AsDtype('>f4'), header_bytes=10)\n",
      "cluster_HAD_WEIGHT                         | std::vector<float>       | AsJagged(AsDtype('>f4'), header_bytes=10)\n",
      "cluster_OOC_WEIGHT                         | std::vector<float>       | AsJagged(AsDtype('>f4'), header_bytes=10)\n",
      "cluster_DM_WEIGHT                          | std::vector<float>       | AsJagged(AsDtype('>f4'), header_bytes=10)\n",
      "cluster_CENTER_MAG                         | std::vector<float>       | AsJagged(AsDtype('>f4'), header_bytes=10)\n",
      "cluster_FIRST_ENG_DENS                     | std::vector<float>       | AsJagged(AsDtype('>f4'), header_bytes=10)\n",
      "cluster_CENTER_LAMBDA                      | std::vector<float>       | AsJagged(AsDtype('>f4'), header_bytes=10)\n",
      "cluster_ISOLATION                          | std::vector<float>       | AsJagged(AsDtype('>f4'), header_bytes=10)\n",
      "cluster_ENERGY_DigiHSTruth                 | std::vector<float>       | AsJagged(AsDtype('>f4'), header_bytes=10)\n",
      "cluster_cell_ID                            | std::vector<std::vect... | AsObjects(AsVector(True, AsVector(False, dtype('>u8'))))\n",
      "cluster_cell_E                             | std::vector<std::vect... | AsObjects(AsVector(True, AsVector(False, dtype('>f4'))))\n",
      "cluster_hitsTruthIndex                     | std::vector<std::vect... | AsObjects(AsVector(True, AsVector(False, dtype('>i4'))))\n",
      "cluster_hitsTruthE                         | std::vector<std::vect... | AsObjects(AsVector(True, AsVector(False, dtype('>f4'))))\n"
     ]
    }
   ],
   "source": [
    "# Show keys\n",
    "cPionEvents.show(name_width=42,\n",
    "                interpretation_width=60)\n",
    "\n",
    "## Event information\n",
    "## Charged Pions\n",
    "ak_cluster_nCells = cPionEvents.arrays(filter_name=\"cluster_nCells\")\n",
    "ak_cluster_cell_ID = cPionEvents.arrays(filter_name=\"cluster_cell_ID\")\n",
    "ak_cluster_cell_E = cPionEvents.arrays(filter_name=\"cluster_cell_E\")\n",
    "nCluster = cPionEvents.arrays(library='np')[\"nCluster\"]\n",
    "eventNumber = cPionEvents.arrays(library='np')[\"eventNumber\"]\n",
    "nTrack = cPionEvents.arrays(library='np')[\"nTrack\"]\n",
    "cPionPart = cPionEvents.arrays(library='np')[\"nTruthPart\"]\n",
    "cPionId = cPionEvents.arrays(library='np')[\"truthPartPdgId\"]\n",
    "ak_cluster_Eta = cPionEvents.arrays(filter_name=\"cluster_Eta\")\n",
    "ak_cluster_Phi = cPionEvents.arrays(filter_name=\"cluster_Phi\")"
   ]
  },
  {
   "cell_type": "code",
   "execution_count": 36,
   "metadata": {},
   "outputs": [
    {
     "name": "stdout",
     "output_type": "stream",
     "text": [
      "20000\n"
     ]
    }
   ],
   "source": [
    "print(len(ak_cluster_cell_ID[\"cluster_cell_ID\"]))"
   ]
  },
  {
   "cell_type": "code",
   "execution_count": 37,
   "metadata": {},
   "outputs": [
    {
     "name": "stdout",
     "output_type": "stream",
     "text": [
      "If single particle gun, then this should all be ones\n",
      "Charged Pions: \n",
      "[1 1 1 1 1 1 1 1 1 1 1 1 1 1 1 1 1 1 1 1 1 1 1 1 1 1 1 1 1 1 1 1 1 1 1 1 1\n",
      " 1 1 1 1 1 1 1 1 1 1 1 1 1]\n",
      "Neutral Pions: \n",
      "[3 3 3 3 3 3 3 3 3 4 3 3 3 3 3 3 3 3 3 3 3 3 3 3 3 3 3 3 3 3 3 3 3 3 3 3 3\n",
      " 3 3 3 3 3 3 3 3 3 3 3 3 3]\n",
      ".. pew pew ..\n",
      "\n",
      "Check for particle data group identification of pi plus or pi minus\n",
      "[array([-211]) array([211]) array([211]) array([211]) array([-211])]\n",
      "\n",
      "Check for particle data group identification of pi0\n",
      "[array([111,  22,  22]) array([111,  22,  22]) array([111,  22,  22])\n",
      " array([111,  22,  22]) array([111,  22,  22])]\n"
     ]
    }
   ],
   "source": [
    "## Neutral Pions\n",
    "nPionPart = nPionEvents.arrays(library='np')[\"nTruthPart\"]\n",
    "nPionId = nPionEvents.arrays(library='np')[\"truthPartPdgId\"]\n",
    "\n",
    "print(\"If single particle gun, then this should all be ones\")\n",
    "print(\"Charged Pions: \")\n",
    "print(cPionPart[0:50])\n",
    "print(\"Neutral Pions: \")\n",
    "print(nPionPart[0:50]);print('.. pew pew ..'); print()\n",
    "\n",
    "print(\"Check for particle data group identification of pi plus or pi minus\")\n",
    "print(cPionId[0:5]);print()\n",
    "print(\"Check for particle data group identification of pi0\")\n",
    "print(nPionId[0:5])"
   ]
  },
  {
   "cell_type": "code",
   "execution_count": 38,
   "metadata": {},
   "outputs": [
    {
     "name": "stdout",
     "output_type": "stream",
     "text": [
      "name                                       | typename                 | interpretation                                    \n",
      "-------------------------------------------+--------------------------+---------------------------------------------------\n",
      "cell_geo_ID                                | std::vector<uint64_t>    | AsJagged(AsDtype('>u8'), header_bytes=10)\n",
      "cell_geo_sampling                          | std::vector<uint16_t>    | AsJagged(AsDtype('>u2'), header_bytes=10)\n",
      "cell_geo_eta                               | std::vector<float>       | AsJagged(AsDtype('>f4'), header_bytes=10)\n",
      "cell_geo_phi                               | std::vector<float>       | AsJagged(AsDtype('>f4'), header_bytes=10)\n",
      "cell_geo_rPerp                             | std::vector<float>       | AsJagged(AsDtype('>f4'), header_bytes=10)\n",
      "cell_geo_deta                              | std::vector<float>       | AsJagged(AsDtype('>f4'), header_bytes=10)\n",
      "cell_geo_dphi                              | std::vector<float>       | AsJagged(AsDtype('>f4'), header_bytes=10)\n",
      "cell_geo_volume                            | std::vector<float>       | AsJagged(AsDtype('>f4'), header_bytes=10)\n",
      "cell_geo_sigma                             | std::vector<float>       | AsJagged(AsDtype('>f4'), header_bytes=10)\n"
     ]
    }
   ],
   "source": [
    "# cell geometry\n",
    "cellGeoTree.show(name_width=42,\n",
    "                interpretation_width=50)"
   ]
  },
  {
   "cell_type": "code",
   "execution_count": 39,
   "metadata": {},
   "outputs": [],
   "source": [
    "cell_geo_ID = cellGeoTree.arrays(filter_name='cell_geo_ID')[0][\"cell_geo_ID\"].to_numpy()\n",
    "cell_geo_eta = cellGeoTree.arrays(filter_name='cell_geo_eta')[0][\"cell_geo_eta\"].to_numpy()\n",
    "cell_geo_phi = cellGeoTree.arrays(filter_name='cell_geo_phi')[0][\"cell_geo_phi\"].to_numpy()\n",
    "cell_geo_rPerp = cellGeoTree.arrays(filter_name='cell_geo_rPerp')[0][\"cell_geo_rPerp\"].to_numpy()\n",
    "cell_geo_deta = cellGeoTree.arrays(filter_name='cell_geo_deta')[0][\"cell_geo_deta\"].to_numpy()\n",
    "cell_geo_dphi = cellGeoTree.arrays(filter_name='cell_geo_dphi')[0][\"cell_geo_dphi\"].to_numpy()\n",
    "cell_geo_sampling = cellGeoTree.arrays(filter_name='cell_geo_sampling')[0][\"cell_geo_sampling\"].to_numpy()"
   ]
  },
  {
   "cell_type": "code",
   "execution_count": 40,
   "metadata": {},
   "outputs": [
    {
     "name": "stdout",
     "output_type": "stream",
     "text": [
      "[ 0  2  3  6  7 11 14 20 22 26]\n"
     ]
    }
   ],
   "source": [
    "## Find these events for neutral pions\n",
    "barrel_filter = np.array([1,2,3,12,13,14])\n",
    "\n",
    "barrel_events = find_sampling_events(_ak_cluster_cell_ID = ak_cluster_cell_ID,\n",
    "                                     _cellGeoID = cell_geo_ID, _cellGeoSampling = cell_geo_sampling,\n",
    "                                     _filter = barrel_filter)\n",
    "print(barrel_events[0:10])"
   ]
  },
  {
   "cell_type": "code",
   "execution_count": 41,
   "metadata": {},
   "outputs": [
    {
     "name": "stdout",
     "output_type": "stream",
     "text": [
      "10% complete in 0.23941946029663086 (s)\n",
      "\n",
      "Maximum number of cells in a cluster: 726\n"
     ]
    }
   ],
   "source": [
    "max_cluster_num = 0\n",
    "\n",
    "total_events = len(barrel_events)\n",
    "my_event = 0\n",
    "print_progress = False\n",
    "ts = t.time()\n",
    "\n",
    "# search through all the barrel events\n",
    "for _evt in barrel_events:\n",
    "    _clusters = ak_cluster_cell_ID[\"cluster_cell_ID\"][_evt]\n",
    "    \n",
    "    my_event += 1\n",
    "    _completion = my_event/total_events\n",
    "    if print_progress == False and _completion >= .1:\n",
    "        print_progress = True\n",
    "        t_10 = t.time()\n",
    "        print(\"10% complete in \"+str(t_10 - ts)+\" (s)\"); print()\n",
    "    \n",
    "    for _clust_idx in range(nCluster[_evt]):\n",
    "        _num_in_clust = len(_clusters[_clust_idx])\n",
    "        if _num_in_clust > max_cluster_num:\n",
    "            max_cluster_num = _num_in_clust\n",
    "\n",
    "print('Maximum number of cells in a cluster: '+str(max_cluster_num))"
   ]
  },
  {
   "cell_type": "code",
   "execution_count": 42,
   "metadata": {},
   "outputs": [
    {
     "name": "stdout",
     "output_type": "stream",
     "text": [
      "8909\n"
     ]
    }
   ],
   "source": [
    "num_central_clusters = 0\n",
    "\n",
    "for _evt in barrel_events:\n",
    "    \n",
    "    for _clust_idx in range(nCluster[_evt]):\n",
    "        _clust_Eta = ak_cluster_Eta[\"cluster_Eta\"][_evt][_clust_idx]\n",
    "        \n",
    "        if np.abs(_clust_Eta) < .7:\n",
    "            num_central_clusters += 1\n",
    "        \n",
    "print(num_central_clusters)"
   ]
  },
  {
   "cell_type": "code",
   "execution_count": 43,
   "metadata": {},
   "outputs": [],
   "source": [
    "## Just as in the Pflow example we have a three dimensional numpy arrays with\n",
    "## empty values set as a flag\n",
    "X = np.zeros( (num_central_clusters, max_cluster_num, 4) )"
   ]
  },
  {
   "cell_type": "code",
   "execution_count": 44,
   "metadata": {},
   "outputs": [
    {
     "name": "stdout",
     "output_type": "stream",
     "text": [
      "[(0, 0), (2, 0), (3, 0), (6, 0), (7, 0), (11, 0), (14, 0), (20, 0), (22, 0), (26, 0)]\n"
     ]
    }
   ],
   "source": [
    "def find_central_clusters(_numClusters, _ak_cluster_Eta, _events):\n",
    "    ''' Goal: return an array of indices for awkward array where cells have cluster centers \n",
    "    with an eta < .7\n",
    "    Inputs:\n",
    "    _numClusters: a numpy array with the number of clusters in event order\n",
    "    _ak_cluster_Eta: an awkward array holding the cluster eta information\n",
    "    _events: a refined list of events to search though (can be all events)\n",
    "    Returns:\n",
    "    _central_clusters: a list of tuples containing the awkward array coordinates of central\n",
    "        clusters\n",
    "    '''\n",
    "    \n",
    "    # Empty list to concatenate array coordinates to as tuples\n",
    "    _central_clusters = []\n",
    "    \n",
    "    for _evt_idx in _events:\n",
    "        for _clust_idx in range(_numClusters[_evt]):\n",
    "#             print(\"event \"+str(_evt_idx))\n",
    "#             print(\"number of clusters: \"+str(_numClusters[_evt]))\n",
    "            \n",
    "            _clust_Eta = _ak_cluster_Eta[\"cluster_Eta\"][_evt][_clust_idx]\n",
    "            \n",
    "            if _clust_Eta > -.7 and _clust_Eta < .7:\n",
    "                _central_clusters.append((_evt_idx, _clust_idx))\n",
    "\n",
    "    return _central_clusters\n",
    "\n",
    "central_clusters = find_central_clusters(_numClusters=nCluster, _ak_cluster_Eta=ak_cluster_Eta,\n",
    "                                         _events=barrel_events)\n",
    "print(central_clusters[0:10])"
   ]
  },
  {
   "cell_type": "code",
   "execution_count": 45,
   "metadata": {},
   "outputs": [],
   "source": [
    "# TO DO: Seems strange that seemingly none of the barrel events have multiple central clusters with abs(eta) < .7\n",
    "# investigate this further\n",
    "## Still working on taking values from events and slicing them into X :-(\n",
    "for i in range(len(central_clusters)):\n",
    "    # unpack variables for n'th event m'th cluster\n",
    "    n, m = central_clusters[i]\n",
    "    _cluster_cell_ID = ak_cluster_cell_ID[\"cluster_cell_ID\"][n][m]\n",
    "    \n",
    "    for j in range(len(_cluster_cell_ID)):\n",
    "        # j'th element of the m'th cluster\n",
    "        _cellGeoTag = _cluster_cell_ID[j]\n",
    "\n",
    "        # find the index of the cell_geo_ID, use [0][0] becuase of np.where return\n",
    "        _cellGeo_idx = np.argwhere(np.asarray(cell_geo_ID == _cellGeoTag))\n",
    "        _Eta = cell_geo_eta[_cellGeo_idx][0][0]\n",
    "        _Phi = cell_geo_phi[_cellGeo_idx][0][0]\n",
    "        _E = ak_cluster_cell_E[\"cluster_cell_E\"][n][m][j]\n",
    "        PID = 1 ## Fix this to proper PDGID\n",
    "        \n",
    "        _array_vals = np.array([_Eta, _Phi, _E, PID])\n",
    "        \n",
    "        X[i,j,:] = _array_vals"
   ]
  },
  {
   "cell_type": "code",
   "execution_count": 46,
   "metadata": {},
   "outputs": [
    {
     "name": "stdout",
     "output_type": "stream",
     "text": [
      "[[-1.46141696 -2.92829227  0.19028817  1.        ]\n",
      " [-1.4614526  -2.95282793  0.00604178  1.        ]\n",
      " [-1.43639922 -2.92829227  0.02199198  1.        ]\n",
      " [-1.43643463 -2.95282793  0.02094988  1.        ]\n",
      " [-1.46131432 -2.89142489  0.13298044  1.        ]]\n"
     ]
    }
   ],
   "source": [
    "print(X[0,0:5,:])"
   ]
  },
  {
   "cell_type": "code",
   "execution_count": 47,
   "metadata": {},
   "outputs": [
    {
     "data": {
      "text/plain": [
       "(8909, 726, 4)"
      ]
     },
     "execution_count": 47,
     "metadata": {},
     "output_type": "execute_result"
    }
   ],
   "source": [
    "X.shape"
   ]
  },
  {
   "cell_type": "code",
   "execution_count": 48,
   "metadata": {},
   "outputs": [],
   "source": [
    "import tensorflow as tf"
   ]
  },
  {
   "cell_type": "code",
   "execution_count": 49,
   "metadata": {},
   "outputs": [
    {
     "name": "stdout",
     "output_type": "stream",
     "text": [
      "TensorFlow version: 2.6.0\n",
      "\n",
      "Name: /physical_device:GPU:0   Type: GPU\n",
      "WARNING:tensorflow:Some requested devices in `tf.distribute.Strategy` are not visible to TensorFlow: /job:localhost/replica:0/task:0/device:GPU:4\n",
      "INFO:tensorflow:Using MirroredStrategy with devices ('/job:localhost/replica:0/task:0/device:GPU:4',)\n",
      "Number of devices: 1\n"
     ]
    }
   ],
   "source": [
    "print('TensorFlow version: '+str(tf.__version__));print()\n",
    "gpus = tf.config.list_physical_devices('GPU')\n",
    "for gpu in gpus:\n",
    "    print(\"Name:\", gpu.name, \"  Type:\", gpu.device_type)\n",
    "\n",
    "gpu_list = [\"/gpu:4\"]\n",
    "strategy = tf.distribute.MirroredStrategy(devices=gpu_list)\n",
    "ngpu = strategy.num_replicas_in_sync\n",
    "print ('Number of devices: {}'.format(ngpu))"
   ]
  },
  {
   "cell_type": "code",
   "execution_count": null,
   "metadata": {},
   "outputs": [],
   "source": []
  }
 ],
 "metadata": {
  "interpreter": {
   "hash": "b5d44aea0cc164fd0ebfc1732b90238ce53cef8d0e631d031394e4c6aaa004a9"
  },
  "kernelspec": {
   "display_name": "Python 3.8.12 64-bit ('tensorflow-gpu': conda)",
   "language": "python",
   "name": "python3"
  },
  "language_info": {
   "codemirror_mode": {
    "name": "ipython",
    "version": 3
   },
   "file_extension": ".py",
   "mimetype": "text/x-python",
   "name": "python",
   "nbconvert_exporter": "python",
   "pygments_lexer": "ipython3",
   "version": "3.8.12"
  },
  "orig_nbformat": 4
 },
 "nbformat": 4,
 "nbformat_minor": 2
}
