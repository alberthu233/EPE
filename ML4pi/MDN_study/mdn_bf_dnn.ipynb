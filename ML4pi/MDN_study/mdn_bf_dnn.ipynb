{
 "cells": [
  {
   "cell_type": "code",
   "execution_count": 1,
   "metadata": {},
   "outputs": [],
   "source": [
    "import os\n",
    "import numpy as np\n",
    "import matplotlib as mpl\n",
    "import matplotlib.pyplot as plt\n",
    "from matplotlib.colors import LogNorm\n",
    "import pandas as pd"
   ]
  },
  {
   "cell_type": "code",
   "execution_count": 2,
   "metadata": {},
   "outputs": [],
   "source": [
    "path_prefix = '/Work/EPE/ML4pi/'\n",
    "plotpath = path_prefix+'plots/'\n",
    "modelpath_c = path_prefix+''\n",
    "modelpath = path_prefix+''"
   ]
  },
  {
   "cell_type": "code",
   "execution_count": 3,
   "metadata": {},
   "outputs": [],
   "source": [
    "import sys\n",
    "sys.path.append(path_prefix)\n",
    "from util import resolution_util as ru\n",
    "from util import plot_util as pu\n",
    "from util import ml_util as mu\n",
    "import uproot3 as ur"
   ]
  },
  {
   "cell_type": "code",
   "execution_count": 4,
   "metadata": {},
   "outputs": [
    {
     "name": "stdout",
     "output_type": "stream",
     "text": [
      "<TTree b'ClusterTree' at 0x02b568723bb0>\n"
     ]
    }
   ],
   "source": [
    "data_path = path_prefix + \"v7/\"\n",
    "pionp_file = ur.open(data_path + \"piplus.root\")\n",
    "pp_tree = pionp_file[\"ClusterTree\"]\n",
    "print(pp_tree)"
   ]
  },
  {
   "cell_type": "code",
   "execution_count": 5,
   "metadata": {},
   "outputs": [
    {
     "data": {
      "text/html": [
       "<div>\n",
       "<style scoped>\n",
       "    .dataframe tbody tr th:only-of-type {\n",
       "        vertical-align: middle;\n",
       "    }\n",
       "\n",
       "    .dataframe tbody tr th {\n",
       "        vertical-align: top;\n",
       "    }\n",
       "\n",
       "    .dataframe thead th {\n",
       "        text-align: right;\n",
       "    }\n",
       "</style>\n",
       "<table border=\"1\" class=\"dataframe\">\n",
       "  <thead>\n",
       "    <tr style=\"text-align: right;\">\n",
       "      <th></th>\n",
       "      <th>clusterIndex</th>\n",
       "      <th>truthE</th>\n",
       "      <th>nCluster</th>\n",
       "      <th>clusterE</th>\n",
       "      <th>clusterECalib</th>\n",
       "      <th>clusterPt</th>\n",
       "      <th>clusterEta</th>\n",
       "      <th>clusterPhi</th>\n",
       "      <th>cluster_nCells</th>\n",
       "      <th>cluster_sumCellE</th>\n",
       "      <th>cluster_ENG_CALIB_TOT</th>\n",
       "      <th>cluster_ENG_CALIB_OUT_T</th>\n",
       "      <th>cluster_ENG_CALIB_DEAD_TOT</th>\n",
       "      <th>cluster_EM_PROBABILITY</th>\n",
       "      <th>cluster_HAD_WEIGHT</th>\n",
       "      <th>cluster_CENTER_MAG</th>\n",
       "      <th>cluster_FIRST_ENG_DENS</th>\n",
       "      <th>cluster_cellE_norm</th>\n",
       "    </tr>\n",
       "    <tr>\n",
       "      <th>entry</th>\n",
       "      <th></th>\n",
       "      <th></th>\n",
       "      <th></th>\n",
       "      <th></th>\n",
       "      <th></th>\n",
       "      <th></th>\n",
       "      <th></th>\n",
       "      <th></th>\n",
       "      <th></th>\n",
       "      <th></th>\n",
       "      <th></th>\n",
       "      <th></th>\n",
       "      <th></th>\n",
       "      <th></th>\n",
       "      <th></th>\n",
       "      <th></th>\n",
       "      <th></th>\n",
       "      <th></th>\n",
       "    </tr>\n",
       "  </thead>\n",
       "  <tbody>\n",
       "    <tr>\n",
       "      <th>0</th>\n",
       "      <td>0</td>\n",
       "      <td>1950.726807</td>\n",
       "      <td>3</td>\n",
       "      <td>1706.589233</td>\n",
       "      <td>1847.573242</td>\n",
       "      <td>1393.735718</td>\n",
       "      <td>0.658092</td>\n",
       "      <td>-2.112122</td>\n",
       "      <td>353</td>\n",
       "      <td>1705.227661</td>\n",
       "      <td>1790.404785</td>\n",
       "      <td>7.076038</td>\n",
       "      <td>44.067638</td>\n",
       "      <td>0.018130</td>\n",
       "      <td>1.024731</td>\n",
       "      <td>2423.317871</td>\n",
       "      <td>4.277404e-07</td>\n",
       "      <td>[0.31853524, 0.0076545365, 0.25650582, 0.02611...</td>\n",
       "    </tr>\n",
       "    <tr>\n",
       "      <th>1</th>\n",
       "      <td>1</td>\n",
       "      <td>1950.726807</td>\n",
       "      <td>3</td>\n",
       "      <td>58.192909</td>\n",
       "      <td>78.681816</td>\n",
       "      <td>46.815140</td>\n",
       "      <td>0.683789</td>\n",
       "      <td>-2.178753</td>\n",
       "      <td>45</td>\n",
       "      <td>54.173908</td>\n",
       "      <td>73.329506</td>\n",
       "      <td>0.755510</td>\n",
       "      <td>11.988488</td>\n",
       "      <td>0.001000</td>\n",
       "      <td>1.191867</td>\n",
       "      <td>3425.696777</td>\n",
       "      <td>1.755061e-10</td>\n",
       "      <td>[0.027513273, 0.0021719737, 0.0013425057, 0.00...</td>\n",
       "    </tr>\n",
       "    <tr>\n",
       "      <th>2</th>\n",
       "      <td>2</td>\n",
       "      <td>1950.726807</td>\n",
       "      <td>3</td>\n",
       "      <td>0.349190</td>\n",
       "      <td>0.769498</td>\n",
       "      <td>0.315112</td>\n",
       "      <td>0.460979</td>\n",
       "      <td>-2.405282</td>\n",
       "      <td>2</td>\n",
       "      <td>0.285924</td>\n",
       "      <td>0.259033</td>\n",
       "      <td>0.692205</td>\n",
       "      <td>0.078698</td>\n",
       "      <td>0.000623</td>\n",
       "      <td>1.212510</td>\n",
       "      <td>3913.996338</td>\n",
       "      <td>1.603220e-12</td>\n",
       "      <td>[0.6538643, 0.18118072, 0.16495493]</td>\n",
       "    </tr>\n",
       "    <tr>\n",
       "      <th>3</th>\n",
       "      <td>0</td>\n",
       "      <td>18.619093</td>\n",
       "      <td>2</td>\n",
       "      <td>11.992596</td>\n",
       "      <td>21.729856</td>\n",
       "      <td>11.850097</td>\n",
       "      <td>0.154927</td>\n",
       "      <td>-1.119611</td>\n",
       "      <td>33</td>\n",
       "      <td>11.971533</td>\n",
       "      <td>12.955562</td>\n",
       "      <td>1.463615</td>\n",
       "      <td>2.499960</td>\n",
       "      <td>0.006570</td>\n",
       "      <td>1.167025</td>\n",
       "      <td>2252.051270</td>\n",
       "      <td>8.310836e-10</td>\n",
       "      <td>[0.16594508, 0.0015814339, 0.05095686, 0.01340...</td>\n",
       "    </tr>\n",
       "    <tr>\n",
       "      <th>4</th>\n",
       "      <td>1</td>\n",
       "      <td>18.619093</td>\n",
       "      <td>2</td>\n",
       "      <td>0.398268</td>\n",
       "      <td>0.827007</td>\n",
       "      <td>0.393829</td>\n",
       "      <td>0.150000</td>\n",
       "      <td>-0.932660</td>\n",
       "      <td>1</td>\n",
       "      <td>0.398268</td>\n",
       "      <td>0.116087</td>\n",
       "      <td>0.330997</td>\n",
       "      <td>0.014711</td>\n",
       "      <td>0.003600</td>\n",
       "      <td>1.109439</td>\n",
       "      <td>3054.038818</td>\n",
       "      <td>5.170689e-12</td>\n",
       "      <td>[1.0]</td>\n",
       "    </tr>\n",
       "  </tbody>\n",
       "</table>\n",
       "</div>"
      ],
      "text/plain": [
       "       clusterIndex       truthE  nCluster     clusterE  clusterECalib  \\\n",
       "entry                                                                    \n",
       "0                 0  1950.726807         3  1706.589233    1847.573242   \n",
       "1                 1  1950.726807         3    58.192909      78.681816   \n",
       "2                 2  1950.726807         3     0.349190       0.769498   \n",
       "3                 0    18.619093         2    11.992596      21.729856   \n",
       "4                 1    18.619093         2     0.398268       0.827007   \n",
       "\n",
       "         clusterPt  clusterEta  clusterPhi  cluster_nCells  cluster_sumCellE  \\\n",
       "entry                                                                          \n",
       "0      1393.735718    0.658092   -2.112122             353       1705.227661   \n",
       "1        46.815140    0.683789   -2.178753              45         54.173908   \n",
       "2         0.315112    0.460979   -2.405282               2          0.285924   \n",
       "3        11.850097    0.154927   -1.119611              33         11.971533   \n",
       "4         0.393829    0.150000   -0.932660               1          0.398268   \n",
       "\n",
       "       cluster_ENG_CALIB_TOT  cluster_ENG_CALIB_OUT_T  \\\n",
       "entry                                                   \n",
       "0                1790.404785                 7.076038   \n",
       "1                  73.329506                 0.755510   \n",
       "2                   0.259033                 0.692205   \n",
       "3                  12.955562                 1.463615   \n",
       "4                   0.116087                 0.330997   \n",
       "\n",
       "       cluster_ENG_CALIB_DEAD_TOT  cluster_EM_PROBABILITY  cluster_HAD_WEIGHT  \\\n",
       "entry                                                                           \n",
       "0                       44.067638                0.018130            1.024731   \n",
       "1                       11.988488                0.001000            1.191867   \n",
       "2                        0.078698                0.000623            1.212510   \n",
       "3                        2.499960                0.006570            1.167025   \n",
       "4                        0.014711                0.003600            1.109439   \n",
       "\n",
       "       cluster_CENTER_MAG  cluster_FIRST_ENG_DENS  \\\n",
       "entry                                               \n",
       "0             2423.317871            4.277404e-07   \n",
       "1             3425.696777            1.755061e-10   \n",
       "2             3913.996338            1.603220e-12   \n",
       "3             2252.051270            8.310836e-10   \n",
       "4             3054.038818            5.170689e-12   \n",
       "\n",
       "                                      cluster_cellE_norm  \n",
       "entry                                                     \n",
       "0      [0.31853524, 0.0076545365, 0.25650582, 0.02611...  \n",
       "1      [0.027513273, 0.0021719737, 0.0013425057, 0.00...  \n",
       "2                    [0.6538643, 0.18118072, 0.16495493]  \n",
       "3      [0.16594508, 0.0015814339, 0.05095686, 0.01340...  \n",
       "4                                                  [1.0]  "
      ]
     },
     "execution_count": 5,
     "metadata": {},
     "output_type": "execute_result"
    }
   ],
   "source": [
    "branches = ['clusterIndex', 'truthE', 'nCluster', 'clusterE', 'clusterECalib', 'clusterPt', 'clusterEta', 'clusterPhi', 'cluster_nCells', 'cluster_sumCellE', 'cluster_ENG_CALIB_TOT', 'cluster_ENG_CALIB_OUT_T', 'cluster_ENG_CALIB_DEAD_TOT', 'cluster_EM_PROBABILITY', 'cluster_HAD_WEIGHT', 'cluster_CENTER_MAG', 'cluster_FIRST_ENG_DENS', 'cluster_cellE_norm']\n",
    "pp = pp_tree.pandas.df(branches, flatten=False)\n",
    "pp.head()"
   ]
  },
  {
   "cell_type": "code",
   "execution_count": 6,
   "metadata": {},
   "outputs": [],
   "source": [
    "pp['clusterEoverCalib'] = pp.clusterE / pp.cluster_ENG_CALIB_TOT\n",
    "pp['clusterEoverTruth'] = pp.clusterE / pp.truthE\n",
    "pp['cluster_ENG_ALL'] = pp.cluster_ENG_CALIB_TOT + pp.cluster_ENG_CALIB_OUT_T + pp.cluster_ENG_CALIB_DEAD_TOT\n",
    "# regression variables\n",
    "pp['logE'] = np.log(pp.clusterE)\n",
    "pp['logECalib'] = np.log(pp.cluster_ENG_CALIB_TOT)\n",
    "pp['logECalibAll'] = np.log(pp.cluster_ENG_ALL)"
   ]
  },
  {
   "cell_type": "code",
   "execution_count": 7,
   "metadata": {},
   "outputs": [],
   "source": [
    "from sklearn.preprocessing import StandardScaler\n",
    "# create scaler\n",
    "scaler_e = StandardScaler()\n",
    "scaler_cal = StandardScaler()\n",
    "scaler_calAll = StandardScaler()\n",
    "# fit and transform in one step\n",
    "pp['s_logE'] = scaler_e.fit_transform(pp['logE'].to_numpy().reshape(-1,1))\n",
    "pp['s_logECalib'] = scaler_cal.fit_transform(pp['logECalib'].to_numpy().reshape(-1,1))\n",
    "pp['s_logECalibAll'] = scaler_calAll.fit_transform(pp['logECalibAll'].to_numpy().reshape(-1,1))"
   ]
  },
  {
   "cell_type": "code",
   "execution_count": 8,
   "metadata": {},
   "outputs": [],
   "source": [
    "a = pp['s_logECalib'].to_numpy()\n",
    "a = a.reshape(1,-1)\n",
    "a = scaler_cal.inverse_transform(a)"
   ]
  },
  {
   "cell_type": "code",
   "execution_count": 9,
   "metadata": {},
   "outputs": [],
   "source": [
    "# define convience sub-frames\n",
    "# train test split\n",
    "pp['Single'] = pp.nCluster==1 # define a subset of events with only one cluster\n",
    "mu.splitFrameTVT(pp, trainfrac = 0.5)          # define a train/test fraction of 70/20% (10% for val at this point)"
   ]
  },
  {
   "cell_type": "code",
   "execution_count": 10,
   "metadata": {},
   "outputs": [],
   "source": [
    "epsilon = 0.000000000001\n",
    "pp['cluster_fixEM'] = pp.cluster_EM_PROBABILITY.replace(to_replace=0,value=epsilon)\n",
    "pp['cluster_logEM'] = np.log(pp.cluster_fixEM)\n",
    "scaler_EM = StandardScaler()\n",
    "pp['s_logEM'] = scaler_EM.fit_transform(pp.cluster_logEM.to_numpy().reshape(-1,1))\n",
    "scaler_eta = StandardScaler()\n",
    "pp['s_eta'] = scaler_eta.fit_transform(pp.clusterEta.to_numpy().reshape(-1,1))\n",
    "pp['logCenter'] = np.log(pp.cluster_CENTER_MAG)\n",
    "scaler_center = StandardScaler()\n",
    "pp['s_logCenter'] = scaler_center.fit_transform(pp.logCenter.to_numpy().reshape(-1,1))\n",
    "scaler_density = StandardScaler()\n",
    "pp['s_Density'] = scaler_density.fit_transform(pp.cluster_FIRST_ENG_DENS.to_numpy().reshape(-1,1))"
   ]
  },
  {
   "cell_type": "code",
   "execution_count": 11,
   "metadata": {},
   "outputs": [],
   "source": [
    "EMB1_cells = mu.setupCells(pp_tree, 'EMB1') # implicitly flatten\n",
    "EMB2_cells = mu.setupCells(pp_tree, 'EMB2')\n",
    "EMB3_cells = mu.setupCells(pp_tree, 'EMB3') # implicitly flatten\n",
    "\n",
    "TileBar0_cells = mu.setupCells(pp_tree, 'TileBar0') # implicitly flatten\n",
    "TileBar1_cells = mu.setupCells(pp_tree, 'TileBar1') # implicitly flatten\n",
    "TileBar2_cells = mu.setupCells(pp_tree, 'TileBar2') # implicitly flatten"
   ]
  },
  {
   "cell_type": "code",
   "execution_count": 12,
   "metadata": {},
   "outputs": [],
   "source": [
    "from tensorflow.keras import regularizers\n",
    "from tensorflow.keras import Sequential\n",
    "from tensorflow.keras import Model\n",
    "from tensorflow.keras.optimizers import SGD, Adam\n",
    "from tensorflow.keras.layers import LeakyReLU\n",
    "from tensorflow.keras.layers import Input, Dense, Dropout, BatchNormalization\n",
    "from tensorflow.keras.wrappers.scikit_learn import KerasRegressor\n",
    "import tensorflow.keras as keras\n",
    "from tensorflow.keras.models import load_model"
   ]
  },
  {
   "cell_type": "code",
   "execution_count": 13,
   "metadata": {},
   "outputs": [
    {
     "name": "stdout",
     "output_type": "stream",
     "text": [
      "INFO:tensorflow:Using MirroredStrategy with devices ('/job:localhost/replica:0/task:0/device:GPU:0',)\n",
      "Number of devices: 1\n"
     ]
    }
   ],
   "source": [
    "import tensorflow as tf\n",
    "import tensorflow_probability as tfp\n",
    "\n",
    "strategy = tf.distribute.MirroredStrategy()\n",
    "ngpu = strategy.num_replicas_in_sync\n",
    "print ('Number of devices: {}'.format(ngpu))"
   ]
  },
  {
   "cell_type": "code",
   "execution_count": 14,
   "metadata": {},
   "outputs": [],
   "source": [
    "combine_All_cells = np.concatenate((EMB1_cells, EMB2_cells, EMB3_cells, TileBar0_cells, TileBar1_cells, TileBar2_cells), axis=1)\n",
    "s_All_cells, scaler_All_cells = mu.standardCells(combine_All_cells, ['EMB1', 'EMB2', 'EMB3', 'TileBar0', 'TileBar1', 'TileBar2'])\n",
    "All_input = np.column_stack((pp['s_logE'],pp['s_eta'],s_All_cells))"
   ]
  },
  {
   "cell_type": "code",
   "execution_count": 15,
   "metadata": {},
   "outputs": [],
   "source": [
    "import scipy.stats as stats\n",
    "# from . import plot_util as pu\n",
    "from util import plot_util as pu\n",
    "\n",
    "\n",
    "def _q16(x):\n",
    "    # get the IQR via the percentile function\n",
    "    # 84 is median + 1 sigma, 16 is median - 1 sigma\n",
    "    return np.percentile(x, 16)\n",
    "\n",
    "def _q84(x):\n",
    "    # get the IQR via the percentile function\n",
    "    # 84 is median + 1 sigma, 16 is median - 1 sigma\n",
    "    return np.percentile(x, 84)\n",
    "\n",
    "def responsePlot(x, y, figfile='', statistic='median',\n",
    "                 xlabel='True Energy [GeV]', ylabel='Predicted Energy / True Energy',\n",
    "                 xlim=(0.3,1000), ylim=(0,3), baseline=True,\n",
    "                 atlas_x=-1, atlas_y=-1, simulation=False,\n",
    "                 textlist=[]):\n",
    "    xbin = [10**exp for exp in np.arange(-1.0, 3.1, 0.1)]\n",
    "    ybin = np.arange(0., 3.1, 0.1)\n",
    "    xcenter = [(xbin[i] + xbin[i+1]) / 2 for i in range(len(xbin)-1)]\n",
    "    \n",
    "    responseMed = stats.binned_statistic(x, y, bins=xbin, statistic=statistic).statistic\n",
    "    responseQ16 = stats.binned_statistic(x, y, bins=xbin, statistic=_q16).statistic\n",
    "    responseQ84 = stats.binned_statistic(x, y, bins=xbin, statistic=_q84).statistic\n",
    "\n",
    "    responseQ16 = responseMed - responseQ16\n",
    "    responseQ84 = responseQ84 - responseMed\n",
    "\n",
    "    plt.cla()\n",
    "    plt.clf()\n",
    "    fig = plt.figure()\n",
    "    fig.patch.set_facecolor('white')\n",
    "    plt.hist2d(x, y, bins=[xbin, ybin], norm=LogNorm(),zorder = -1)\n",
    "    plt.errorbar(xcenter, responseMed, yerr=[responseQ16,responseQ84], color='red')\n",
    "    if baseline:\n",
    "        plt.plot([0.1, 1000], [1, 1], linestyle='--', color='black')\n",
    "    plt.xscale('log')\n",
    "    plt.ylim(ylim)\n",
    "    plt.xlim(xlim)\n",
    "    pu.ampl.set_xlabel(xlabel)\n",
    "    pu.ampl.set_ylabel(ylabel)\n",
    "    # ampl.set_zlabel('Clusters')\n",
    "    cb = plt.colorbar()\n",
    "    cb.ax.set_ylabel('Clusters')\n",
    "    # plt.legend()\n",
    "\n",
    "    pu.drawLabels(fig, atlas_x, atlas_y, simulation, textlist)\n",
    "\n",
    "    if figfile != '':\n",
    "        plt.savefig(figfile)\n",
    "    plt.show()\n",
    "\n",
    "    return xcenter, responseMed\n",
    "\n",
    "\n",
    "def _iqrOverMed(x):\n",
    "    # get the IQR via the percentile function\n",
    "    # 84 is median + 1 sigma, 16 is median - 1 sigma\n",
    "    q16, q84 = np.percentile(x, [16, 84])\n",
    "    return (q84 - q16) / (2 * np.median(x))\n",
    "\n",
    "\n",
    "def resolutionPlot(x, y, figfile='',\n",
    "                   xlabel='True Energy [GeV]', ylabel='Response IQR / (2 x Median)',\n",
    "                   atlas_x=-1, atlas_y=-1, simulation=False,\n",
    "                   xlim=(0.3,1000), ylim=(0,1), \n",
    "                   textlist=[]):\n",
    "    xbin = [10**exp for exp in  np.arange(-1.0, 3.1, 0.1)]\n",
    "    xcenter = [(xbin[i] + xbin[i+1]) / 2 for i in range(len(xbin)-1)]\n",
    "\n",
    "    resolution = stats.binned_statistic(x, y, bins=xbin, statistic=_iqrOverMed).statistic\n",
    "    \n",
    "    plt.cla(); plt.clf()\n",
    "    fig = plt.figure()\n",
    "    fig.patch.set_facecolor('white')\n",
    "    plt.plot(xcenter, resolution)\n",
    "    plt.xscale('log')\n",
    "    plt.xlim(xlim)\n",
    "    plt.ylim(ylim)\n",
    "    pu.ampl.set_xlabel(xlabel)\n",
    "    pu.ampl.set_ylabel(ylabel)\n",
    "\n",
    "    pu.drawLabels(fig, atlas_x, atlas_y, simulation, textlist)\n",
    "\n",
    "    if figfile != '':\n",
    "        plt.savefig(figfile)\n",
    "    plt.show()\n",
    "\n",
    "    return xcenter, resolution\n",
    "\n",
    "\n",
    "def histogramSlices(x, ylist, labels=[''], xstep=0.2, statistic='iqr', title = 'Response',\n",
    "                 xlabel='Predicted Energy / True Energy', ylabel='Clusters', alpha=1.,\n",
    "                 xlim=(0.3,1000.), ylim=(0.,3.1), binsize=0.05, baseline=False, logscale=False, density=False,\n",
    "                 atlas_x=-1, atlas_y=-1, simulation=False,\n",
    "                 textlist=[]):\n",
    "    \n",
    "    if type(ylist) != type([]):\n",
    "        ylist = [ylist]\n",
    "\n",
    "    xbin = [10**exp for exp in np.arange(-1.0, 3.1, xstep)]\n",
    "    last_xbin = [10**exp for exp in np.arange(-1.0, 3.1, xstep)]\n",
    "    \n",
    "    ybin = np.arange(ylim[0], ylim[1], binsize)\n",
    "\n",
    "    plt.cla()\n",
    "    plt.clf()\n",
    "\n",
    "    for xbin_left,xbin_right in zip(last_xbin,xbin[1:]):\n",
    "        fig = plt.figure()\n",
    "        val_mask = np.logical_and(x > xbin_left, x < xbin_right)\n",
    "\n",
    "        for y,label in zip(ylist,labels):\n",
    "            if statistic == 'iqr':\n",
    "                med = np.median(y[val_mask])\n",
    "                iqr = np.percentile(y[val_mask], q=84) - np.percentile(y[val_mask], q=16)\n",
    "                plt.hist(y[val_mask], bins=ybin, density=density, \n",
    "                        label = label + ' Median = {:.2f}, IQR = {:.2f}'.format(med, iqr),\n",
    "                         alpha=alpha)\n",
    "            elif statistic == 'std':\n",
    "                mu = np.mean(y[val_mask])\n",
    "                sig = np.std(y[val_mask])\n",
    "                plt.hist(y[val_mask], bins=ybin, density=density, \n",
    "                        label = label + ' Mean = {:.2f}, Std. Dev. = {:.2f}'.format(mu, sig),\n",
    "                         alpha=alpha)\n",
    "            else:\n",
    "                plt.hist(y[val_mask], bins=ybin, density=density,\n",
    "                         label = label,\n",
    "                         alpha=alpha)\n",
    "            \n",
    "            if baseline:\n",
    "                x1 = np.linspace(-6,6,100)\n",
    "                pdf = stats.norm.pdf(x1)\n",
    "                plt.plot(x1, pdf, label='Unit Normal')\n",
    "\n",
    "        if len(textlist) >= 2:\n",
    "            textlist[1]['text'] = '{:.4g} - {:.4g} GeV Clusters'.format(xbin_left, xbin_right)\n",
    "            pu.drawLabels(fig, atlas_x, atlas_y, simulation, textlist)\n",
    "\n",
    "        if logscale:\n",
    "            plt.yscale('log')\n",
    "\n",
    "        # plt.title(title + ' {:.4g} - {:.4g} GeV'.format(xbin_left, xbin_right))\n",
    "        plt.xlabel(xlabel)\n",
    "        plt.ylabel(ylabel)\n",
    "        plt.xlim(ylim)\n",
    "        plt.legend()\n",
    "        plt.show()"
   ]
  },
  {
   "cell_type": "code",
   "execution_count": 16,
   "metadata": {},
   "outputs": [],
   "source": [
    "def mdn_cust():\n",
    "    KMIX = 3  # KMIX is the number of mixtures\n",
    "    NOUT = KMIX * 3          # number of pct, mu, std\n",
    "    number_pixels = 512 + 256 + 128 + 16 + 16 + 8 + 2\n",
    "\n",
    "\n",
    "    input = Input(shape=(number_pixels))\n",
    "    hidden_0 = Dense(number_pixels,activation='relu')(input)\n",
    "    hidden_1 = Dense(number_pixels,activation='relu')(hidden_0)\n",
    "    hidden_2 = Dense(number_pixels/2,activation='relu')(hidden_1)\n",
    "    a = Dense(KMIX,activation='softmax',name='a')(hidden_2)\n",
    "    mu = Dense(KMIX,activation='relu',name='mu')(hidden_2)\n",
    "    sigma = Dense(KMIX,activation='elu',name='sig')(hidden_2)\n",
    "    Output = keras.layers.Concatenate()([a,mu,sigma])\n",
    "    model = keras.Model(input,Output)\n",
    "    opt = Adam(learning_rate=1e-4)#, decay=1e-6)\n",
    "    lost_fn = keras.losses.MeanSquaredError(reduction=\"auto\", name=\"mean_squared_error\")\n",
    "    model.compile(optimizer=opt, loss=lost_fn)\n",
    "    return model"
   ]
  },
  {
   "cell_type": "code",
   "execution_count": 17,
   "metadata": {},
   "outputs": [],
   "source": [
    "def eval_generator(data, batch_size):\n",
    "     batches = (len(data) + batch_size - 1)//batch_size\n",
    "     for i in range(batches):\n",
    "          X = data[i*batch_size : (i+1)*batch_size]\n",
    "          yield (X)"
   ]
  },
  {
   "cell_type": "code",
   "execution_count": 18,
   "metadata": {},
   "outputs": [],
   "source": [
    "def convert_to_tensor(X):\n",
    "    return tf.concat([tfp.distributions.Distribution.mean(X), tfp.distributions.Distribution.stddev(X)],1)"
   ]
  },
  {
   "cell_type": "code",
   "execution_count": 19,
   "metadata": {},
   "outputs": [],
   "source": [
    "def MDN_3():\n",
    "    event_shape = [1]\n",
    "    num_components = 5\n",
    "    params_size = tfp.layers.MixtureNormal.params_size(num_components, event_shape)\n",
    "    number_pixels = 512 + 256 + 128 + 16 + 16 + 8 \n",
    "    model = Sequential()\n",
    "    features = number_pixels + 2\n",
    "    model.add(Dense(features, input_dim=features, kernel_initializer='normal', activation='relu'))\n",
    "    \n",
    "    model.add(Dense(features, activation='relu'))\n",
    "    model.add(Dense(int(features/2), activation='relu'))\n",
    "    model.add(Dense(units=params_size, activation=lambda x: tf.clip_by_value(x, -30., 30.)))\n",
    "    \n",
    "    # model.add(tfp.layers.MixtureNormal(num_components, event_shape, convert_to_tensor_fn=convert_to_tensor))\n",
    "    model.add(tfp.layers.MixtureNormal(num_components, event_shape, validate_args=True,\n",
    "                                        convert_to_tensor_fn=convert_to_tensor))\n",
    "    opt = Adam(learning_rate=1e-4)#, decay=1e-6)\n",
    "    model.compile(optimizer=opt, loss=lambda y, model: -model.log_prob(y))\n",
    "    return model"
   ]
  },
  {
   "cell_type": "code",
   "execution_count": 20,
   "metadata": {},
   "outputs": [
    {
     "name": "stdout",
     "output_type": "stream",
     "text": [
      "Model: \"sequential\"\n",
      "_________________________________________________________________\n",
      "Layer (type)                 Output Shape              Param #   \n",
      "=================================================================\n",
      "dense (Dense)                (None, 938)               880782    \n",
      "_________________________________________________________________\n",
      "dense_1 (Dense)              (None, 938)               880782    \n",
      "_________________________________________________________________\n",
      "dense_2 (Dense)              (None, 469)               440391    \n",
      "_________________________________________________________________\n",
      "dense_3 (Dense)              (None, 15)                7050      \n",
      "_________________________________________________________________\n",
      "mixture_normal (MixtureNorma multiple                  0         \n",
      "=================================================================\n",
      "Total params: 2,209,005\n",
      "Trainable params: 2,209,005\n",
      "Non-trainable params: 0\n",
      "_________________________________________________________________\n",
      "None\n"
     ]
    }
   ],
   "source": [
    "regressor_All = KerasRegressor(build_fn=MDN_3, batch_size=500, epochs=60, verbose=1)\n",
    "print(MDN_3().summary())"
   ]
  },
  {
   "cell_type": "code",
   "execution_count": 21,
   "metadata": {},
   "outputs": [],
   "source": [
    "def data_generator(data, targets, batch_size):\n",
    "    batches = (len(data) + batch_size - 1)//batch_size\n",
    "    while(True):\n",
    "         for i in range(batches):\n",
    "              X = data[i*batch_size : (i+1)*batch_size]\n",
    "              Y = targets[i*batch_size : (i+1)*batch_size]\n",
    "              yield (X, Y)"
   ]
  },
  {
   "cell_type": "code",
   "execution_count": 22,
   "metadata": {},
   "outputs": [],
   "source": [
    "batch_size = 500\n",
    "num_epochs = 20"
   ]
  },
  {
   "cell_type": "code",
   "execution_count": 23,
   "metadata": {},
   "outputs": [
    {
     "name": "stdout",
     "output_type": "stream",
     "text": [
      "Epoch 1/60\n",
      "436/436 [==============================] - 5s 5ms/step - loss: -0.0980\n",
      "Epoch 2/60\n",
      "436/436 [==============================] - 2s 4ms/step - loss: -0.6512\n",
      "Epoch 3/60\n",
      "436/436 [==============================] - 2s 4ms/step - loss: -0.8466\n",
      "Epoch 4/60\n",
      "436/436 [==============================] - 2s 4ms/step - loss: -0.9516\n",
      "Epoch 5/60\n",
      "436/436 [==============================] - 2s 4ms/step - loss: -0.9663\n",
      "Epoch 6/60\n",
      "436/436 [==============================] - 2s 4ms/step - loss: -1.0322\n",
      "Epoch 7/60\n",
      "436/436 [==============================] - 2s 4ms/step - loss: -1.0894\n",
      "Epoch 8/60\n",
      "436/436 [==============================] - 2s 3ms/step - loss: -1.1309\n",
      "Epoch 9/60\n",
      "436/436 [==============================] - 2s 4ms/step - loss: -1.1413\n",
      "Epoch 10/60\n",
      "436/436 [==============================] - 2s 4ms/step - loss: -1.1312\n",
      "Epoch 11/60\n",
      "436/436 [==============================] - 2s 4ms/step - loss: -1.1941\n",
      "Epoch 12/60\n",
      "436/436 [==============================] - 2s 4ms/step - loss: -1.2045\n",
      "Epoch 13/60\n",
      "436/436 [==============================] - 2s 4ms/step - loss: -1.2144\n",
      "Epoch 14/60\n",
      "436/436 [==============================] - 2s 4ms/step - loss: -1.2451\n",
      "Epoch 15/60\n",
      "436/436 [==============================] - 2s 4ms/step - loss: -1.2381\n",
      "Epoch 16/60\n",
      "436/436 [==============================] - 2s 4ms/step - loss: -1.2554\n",
      "Epoch 17/60\n",
      "436/436 [==============================] - 2s 4ms/step - loss: -1.2817\n",
      "Epoch 18/60\n",
      "436/436 [==============================] - 2s 4ms/step - loss: -1.3019\n",
      "Epoch 19/60\n",
      "436/436 [==============================] - 2s 4ms/step - loss: -1.2929\n",
      "Epoch 20/60\n",
      "436/436 [==============================] - 2s 4ms/step - loss: -1.3126\n",
      "Epoch 21/60\n",
      "436/436 [==============================] - 2s 4ms/step - loss: -1.3095\n",
      "Epoch 22/60\n",
      "436/436 [==============================] - 2s 4ms/step - loss: -1.3362\n",
      "Epoch 23/60\n",
      "436/436 [==============================] - 2s 4ms/step - loss: -1.3438\n",
      "Epoch 24/60\n",
      "436/436 [==============================] - 2s 4ms/step - loss: -1.3423\n",
      "Epoch 25/60\n",
      "436/436 [==============================] - 2s 4ms/step - loss: -1.3485\n",
      "Epoch 26/60\n",
      "436/436 [==============================] - 2s 4ms/step - loss: -1.3628\n",
      "Epoch 27/60\n",
      "436/436 [==============================] - 2s 4ms/step - loss: -1.3875\n",
      "Epoch 28/60\n",
      "436/436 [==============================] - 2s 4ms/step - loss: -1.3998\n",
      "Epoch 29/60\n",
      "436/436 [==============================] - 2s 4ms/step - loss: -1.4019\n",
      "Epoch 30/60\n",
      "436/436 [==============================] - 1s 3ms/step - loss: -1.4132\n",
      "Epoch 31/60\n",
      "436/436 [==============================] - 1s 3ms/step - loss: -1.4226\n",
      "Epoch 32/60\n",
      "436/436 [==============================] - 2s 3ms/step - loss: -1.4289\n",
      "Epoch 33/60\n",
      "436/436 [==============================] - 2s 3ms/step - loss: -1.4331\n",
      "Epoch 34/60\n",
      "436/436 [==============================] - 2s 4ms/step - loss: -1.4444\n",
      "Epoch 35/60\n",
      "436/436 [==============================] - 1s 3ms/step - loss: -1.4655\n",
      "Epoch 36/60\n",
      "436/436 [==============================] - 1s 3ms/step - loss: -1.4412\n",
      "Epoch 37/60\n",
      "436/436 [==============================] - 1s 3ms/step - loss: -1.4732\n",
      "Epoch 38/60\n",
      "436/436 [==============================] - 2s 4ms/step - loss: -1.4739\n",
      "Epoch 39/60\n",
      "436/436 [==============================] - 2s 4ms/step - loss: -1.4822\n",
      "Epoch 40/60\n",
      "436/436 [==============================] - 2s 4ms/step - loss: -1.4802\n",
      "Epoch 41/60\n",
      "436/436 [==============================] - 2s 4ms/step - loss: -1.4810\n",
      "Epoch 42/60\n",
      "436/436 [==============================] - 2s 4ms/step - loss: -1.4861\n",
      "Epoch 43/60\n",
      "436/436 [==============================] - 2s 4ms/step - loss: -1.4940\n",
      "Epoch 44/60\n",
      "436/436 [==============================] - 2s 4ms/step - loss: -1.5032\n",
      "Epoch 45/60\n",
      "436/436 [==============================] - 2s 4ms/step - loss: -1.4625\n",
      "Epoch 46/60\n",
      "436/436 [==============================] - 2s 4ms/step - loss: -1.4877\n",
      "Epoch 47/60\n",
      "436/436 [==============================] - 2s 4ms/step - loss: -1.5095\n",
      "Epoch 48/60\n",
      "436/436 [==============================] - 2s 4ms/step - loss: -1.5181\n",
      "Epoch 49/60\n",
      "436/436 [==============================] - 2s 3ms/step - loss: -1.5356\n",
      "Epoch 50/60\n",
      "436/436 [==============================] - 2s 4ms/step - loss: -1.5279\n",
      "Epoch 51/60\n",
      "436/436 [==============================] - 2s 4ms/step - loss: -1.5429\n",
      "Epoch 52/60\n",
      "436/436 [==============================] - 2s 4ms/step - loss: -1.5421\n",
      "Epoch 53/60\n",
      "436/436 [==============================] - 2s 4ms/step - loss: -1.5460\n",
      "Epoch 54/60\n",
      "436/436 [==============================] - 2s 3ms/step - loss: -1.5452\n",
      "Epoch 55/60\n",
      "436/436 [==============================] - 2s 3ms/step - loss: -1.5615\n",
      "Epoch 56/60\n",
      "436/436 [==============================] - 1s 3ms/step - loss: -1.5762\n",
      "Epoch 57/60\n",
      "436/436 [==============================] - 1s 3ms/step - loss: -1.5701\n",
      "Epoch 58/60\n",
      "436/436 [==============================] - 2s 3ms/step - loss: -1.5842\n",
      "Epoch 59/60\n",
      "436/436 [==============================] - 2s 3ms/step - loss: -1.5930\n",
      "Epoch 60/60\n",
      "436/436 [==============================] - 1s 3ms/step - loss: -1.5837\n"
     ]
    }
   ],
   "source": [
    "history_mdn = regressor_All.fit(All_input[pp.train], \n",
    "                                pp[pp.train].s_logECalib.to_numpy())"
   ]
  },
  {
   "cell_type": "code",
   "execution_count": 24,
   "metadata": {},
   "outputs": [
    {
     "name": "stdout",
     "output_type": "stream",
     "text": [
      "1455/1455 [==============================] - 2s 1ms/step\n"
     ]
    }
   ],
   "source": [
    "pred = regressor_All.predict(eval_generator(All_input,300))\n",
    "pp['predict_regressor_MDN3'] = np.exp(scaler_cal.inverse_transform(pred[:,0].reshape(-1,1)))\n",
    "pp['predict_regressor_MDN3_EoverCalib'] = pp.predict_regressor_MDN3 / pp.cluster_ENG_CALIB_TOT"
   ]
  },
  {
   "cell_type": "code",
   "execution_count": 28,
   "metadata": {},
   "outputs": [
    {
     "name": "stdout",
     "output_type": "stream",
     "text": [
      "[[ 2.0516772   0.0130852 ]\n",
      " [ 0.9227428   0.02484315]\n",
      " [-0.9242946   0.23118998]\n",
      " ...\n",
      " [ 0.7832724   0.03293258]\n",
      " [ 0.04637511  0.03024852]\n",
      " [-0.5509716   0.1971237 ]]\n"
     ]
    }
   ],
   "source": [
    "print(pred)"
   ]
  },
  {
   "cell_type": "code",
   "execution_count": 25,
   "metadata": {},
   "outputs": [
    {
     "name": "stderr",
     "output_type": "stream",
     "text": [
      "No artists with labels found to put in legend.  Note that artists whose label start with an underscore are ignored when legend() is called with no argument.\n"
     ]
    },
    {
     "data": {
      "text/plain": [
       "<Figure size 799.992x599.976 with 0 Axes>"
      ]
     },
     "metadata": {},
     "output_type": "display_data"
    },
    {
     "data": {
      "image/png": "[encoded data removed]",
      "text/plain": [
       "<Figure size 799.992x599.976 with 1 Axes>"
      ]
     },
     "metadata": {},
     "output_type": "display_data"
    }
   ],
   "source": [
    "resid_MDN3 = pp.predict_regressor_MDN3-pp.cluster_ENG_CALIB_TOT\n",
    "resid_MDN3_mask = np.logical_and(resid_MDN3 < 2000, resid_MDN3 > -2000)\n",
    "\n",
    "n_bins = 500\n",
    "plt.cla(); plt.clf()\n",
    "fig = plt.figure()\n",
    "fig.patch.set_facecolor('white')\n",
    "plt.hist(resid_MDN3[resid_MDN3_mask],bins = n_bins)\n",
    "plt.yscale('log')\n",
    "plt.xlabel('Learned - True Energy')\n",
    "plt.xlim(-2000,2000)\n",
    "plt.legend()\n",
    "\n",
    "atlas_x = 0.55\n",
    "atlas_y = 0.95\n",
    "simulation = True\n",
    "textlist = [{'x': 0.55, 'y': 0.85, 'text': 'Single $\\pi^{+}$, All Clusters'},\n",
    "            {'x': 0.55, 'y': 0.8,  'text': 'MDN, 3 Components'}]\n",
    "pu.drawLabels(fig, atlas_x, atlas_y, simulation, textlist)\n",
    "\n",
    "plt.show()"
   ]
  },
  {
   "cell_type": "code",
   "execution_count": 26,
   "metadata": {},
   "outputs": [
    {
     "data": {
      "text/plain": [
       "<Figure size 799.992x599.976 with 0 Axes>"
      ]
     },
     "metadata": {},
     "output_type": "display_data"
    },
    {
     "data": {
      "image/png": "[encoded data removed]",
      "text/plain": [
       "<Figure size 799.992x599.976 with 1 Axes>"
      ]
     },
     "metadata": {},
     "output_type": "display_data"
    }
   ],
   "source": [
    "xcenter, iqrMDN3 = resolutionPlot(pp[pp.test].cluster_ENG_CALIB_TOT,\n",
    "                        pp[pp.test].predict_regressor_MDN3_EoverCalib,\n",
    "                        ylim=(0,0.75),\n",
    "                        atlas_x = 0.56, atlas_y = 0.95, simulation = True,\n",
    "                        textlist = [{'x': 0.56, 'y': 0.85, 'text': 'Single $\\pi^{+}$, All Clusters'},\n",
    "                                    {'x': 0.56, 'y': 0.8,  'text': 'MDN, 3 Components'}])"
   ]
  },
  {
   "cell_type": "code",
   "execution_count": 27,
   "metadata": {},
   "outputs": [
    {
     "data": {
      "text/plain": [
       "<Figure size 799.992x599.976 with 0 Axes>"
      ]
     },
     "metadata": {},
     "output_type": "display_data"
    },
    {
     "data": {
      "image/png": "[encoded data removed]",
      "text/plain": [
       "<Figure size 799.992x599.976 with 2 Axes>"
      ]
     },
     "metadata": {},
     "output_type": "display_data"
    }
   ],
   "source": [
    "xcenter, medMDN3 = ru.responsePlot(pp[pp.test].cluster_ENG_CALIB_TOT, pp[pp.test].predict_regressor_MDN3_EoverCalib,\n",
    "                 plotpath+'hist_2D_calib_vs_ratioReg_E1T0_pp_profile.pdf',\n",
    "                 'median',\n",
    "                 atlas_x = 0.46, atlas_y = 0.95, simulation = True,\n",
    "                 textlist = [{'x': 0.46, 'y': 0.85, 'text': 'Single $\\pi^{+}$, All Clusters'},\n",
    "                             {'x': 0.46, 'y': 0.8,  'text': 'MDN, 3 Components'}])"
   ]
  }
 ],
 "metadata": {
  "interpreter": {
   "hash": "b5d44aea0cc164fd0ebfc1732b90238ce53cef8d0e631d031394e4c6aaa004a9"
  },
  "kernelspec": {
   "display_name": "Python 3.8.12 64-bit ('tensorflow-gpu': conda)",
   "language": "python",
   "name": "python3"
  },
  "language_info": {
   "codemirror_mode": {
    "name": "ipython",
    "version": 3
   },
   "file_extension": ".py",
   "mimetype": "text/x-python",
   "name": "python",
   "nbconvert_exporter": "python",
   "pygments_lexer": "ipython3",
   "version": "3.8.12"
  },
  "orig_nbformat": 4
 },
 "nbformat": 4,
 "nbformat_minor": 2
}
