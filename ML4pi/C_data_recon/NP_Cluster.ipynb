{
 "cells": [
  {
   "cell_type": "code",
   "execution_count": 76,
   "metadata": {},
   "outputs": [
    {
     "name": "stdout",
     "output_type": "stream",
     "text": [
      "Awkward version: 1.7.0\n",
      "Uproot Version: 4.1.9\n"
     ]
    }
   ],
   "source": [
    "import numpy as np\n",
    "import matplotlib.pyplot as plt\n",
    "from matplotlib import cm\n",
    "from matplotlib.colors import Normalize\n",
    "from matplotlib.colors import LogNorm\n",
    "import uproot as ur\n",
    "import awkward as ak\n",
    "import time as t\n",
    "import copy\n",
    "import scipy.constants as spc\n",
    "print(\"Awkward version: \"+str(ak.__version__))\n",
    "print(\"Uproot Version: \"+str(ur.__version__))\n",
    "\n",
    "import sys\n",
    "path = '/Work/EPE/ML4pi/'\n",
    "sys.path.append(path)\n",
    "from util import resolution_util as ru\n",
    "from util import plot_util as pu\n",
    "from util import deep_set_util as dsu\n",
    "from util.deep_set_util import to_xyz\n",
    "from util.deep_set_util import cell_meta"
   ]
  },
  {
   "cell_type": "code",
   "execution_count": 3,
   "metadata": {},
   "outputs": [],
   "source": [
    "from tensorflow.keras import regularizers\n",
    "from tensorflow.keras import Sequential\n",
    "from tensorflow.keras import Model\n",
    "from tensorflow.keras.optimizers import SGD, Adam\n",
    "from tensorflow.keras.layers import LeakyReLU\n",
    "from tensorflow.keras.layers import Input, Dense, Dropout, BatchNormalization\n",
    "from tensorflow.keras.wrappers.scikit_learn import KerasRegressor\n",
    "import tensorflow as tf\n",
    "from tensorflow.keras.models import load_model"
   ]
  },
  {
   "cell_type": "code",
   "execution_count": 4,
   "metadata": {},
   "outputs": [],
   "source": [
    "# energyflow imports\n",
    "import energyflow as ef\n",
    "from energyflow.archs import PFN"
   ]
  },
  {
   "cell_type": "code",
   "execution_count": 5,
   "metadata": {},
   "outputs": [],
   "source": [
    "def tvt_num(_data, _tvt=(75, 10, 15)):\n",
    "    ''' Function designed to output appropriate numbers for traning validation and testing given\n",
    "    a variable length input. TVT expressed as ratios and do not need to add to 100. '''\n",
    "    _tot = len(_data)\n",
    "    _train, _val, _test = _tvt\n",
    "    _tvt_sum = _train + _val + _test\n",
    "    \n",
    "    _train_rtrn = round(_train*_tot/_tvt_sum)\n",
    "    _val_rtrn = round(_val*_tot/_tvt_sum)\n",
    "    _test_rtrn = _tot - _train_rtrn - _val_rtrn\n",
    "    \n",
    "    return _train_rtrn, _val_rtrn, _test_rtrn\n",
    "\n",
    "def normalize_input1d(arr, mask):\n",
    "    ''' Note that non masked values are left alone i.e. zeros if mask = arr != 0'''\n",
    "    len_arr = arr.shape[0]\n",
    "    mean = np.repeat(np.mean(arr, where=mask), len_arr)\n",
    "    std_dev = np.repeat(np.std(arr, where=mask), len_arr)\n",
    "    norm_arr = np.subtract(arr, mean, out=arr, where=mask)\n",
    "    std_mask = np.logical_and(std_dev!=0, mask)\n",
    "    norm_arr = np.divide(norm_arr, std_dev, out=norm_arr, where=std_mask)\n",
    "    return norm_arr\n",
    "\n",
    "def normalize_input2d(arr, mask):\n",
    "    ''' Truth value is where to perform the operation, exclude False vals.\n",
    "    returns: Array with the shape of arr with normalization carried out with mask '''\n",
    "    len_ax1 = arr.shape[1]\n",
    "    mean = np.tile(np.mean(arr, axis=1, where=mask), (len_ax1,1)).transpose()\n",
    "    std_dev = np.tile(np.std(arr, axis=1, where=mask), (len_ax1,1)).transpose()\n",
    "    norm_arr = np.subtract(arr, mean, out=arr, where=mask)\n",
    "    std_mask = np.logical_and(std_dev != 0, mask)\n",
    "    norm_arr = np.divide(norm_arr, std_dev, out=norm_arr, where=std_mask)\n",
    "    return norm_arr"
   ]
  },
  {
   "cell_type": "code",
   "execution_count": 6,
   "metadata": {},
   "outputs": [
    {
     "name": "stdout",
     "output_type": "stream",
     "text": [
      "['arr_0']\n",
      "Time to load memory mapped data: 0.0030002593994140625 (s)\n"
     ]
    }
   ],
   "source": [
    "t0 = t.time()\n",
    "dat = np.load('X_tracks_multipleClusters_med.npz', mmap_mode='r+')\n",
    "print(dat.files)\n",
    "t1 = t.time()\n",
    "print('Time to load memory mapped data: '+str(t1-t0)+' (s)')"
   ]
  },
  {
   "cell_type": "code",
   "execution_count": 7,
   "metadata": {},
   "outputs": [
    {
     "name": "stdout",
     "output_type": "stream",
     "text": [
      "(3108, 825, 5)\n",
      "Time to copy arrays: 0.1300051212310791 (s)\n"
     ]
    }
   ],
   "source": [
    "t0 = t.time()\n",
    "# X = np.ndarray.copy(dat['arr_0'][:175000,:,:5])\n",
    "# Y = np.ndarray.copy(dat['arr_1'][:175000])\n",
    "X = dat['arr_0'][:500000,:,:5]\n",
    "#Y = dat['arr_1'][:500000]\n",
    "print(X.shape)\n",
    "#print(Y.shape)\n",
    "t1 = t.time()\n",
    "\n",
    "print('Time to copy arrays: '+str(t1-t0)+' (s)')"
   ]
  },
  {
   "cell_type": "code",
   "execution_count": 64,
   "metadata": {},
   "outputs": [
    {
     "name": "stdout",
     "output_type": "stream",
     "text": [
      "(3108, 825, 5)\n"
     ]
    }
   ],
   "source": [
    "mask = np.ones(len(X), dtype=bool)\n",
    "\n",
    "# cluster only mask\n",
    "for i in range(len(X)):\n",
    "    if X[i][0][4] == 0:\n",
    "        mask[i] = True\n",
    "\n",
    "X = X[mask]\n",
    "print(X.shape)"
   ]
  },
  {
   "cell_type": "code",
   "execution_count": 69,
   "metadata": {},
   "outputs": [],
   "source": [
    "a = np.where(X[:,:,4]==0)\n"
   ]
  },
  {
   "cell_type": "code",
   "execution_count": 73,
   "metadata": {},
   "outputs": [],
   "source": [
    "eta_bins = np.linspace(-1.2,1.2,80,endpoint=True)\n",
    "phi_bins = np.linspace(-np.pi,np.pi,80,endpoint=True)\n",
    "rPerp_bins = np.linspace(0,4000,80,endpoint=True)"
   ]
  },
  {
   "cell_type": "code",
   "execution_count": 77,
   "metadata": {},
   "outputs": [
    {
     "name": "stdout",
     "output_type": "stream",
     "text": [
      "(3108, 825)\n"
     ]
    }
   ],
   "source": [
    "Xraw = X\n",
    "X = np.zeros(Xraw.shape)\n",
    "X[:,:,0] = np.ndarray.copy(Xraw[:,:,0])\n",
    "\n",
    "\n",
    "rPerp_mask = Xraw[:,:,3] != 0\n",
    "print(rPerp_mask.shape)\n",
    "\n",
    "# X[rPerp_mask,1:4] = np.ndarray.copy(Xraw[rPerp_mask,1:4])\n",
    "\n",
    "for i in range(X.shape[0]):\n",
    "    conv_mask = Xraw[i,:,3] != 0\n",
    "    X[i,conv_mask,1:4] = to_xyz(np.ndarray.copy(Xraw[i,conv_mask,1:4]))"
   ]
  },
  {
   "cell_type": "code",
   "execution_count": 78,
   "metadata": {},
   "outputs": [
    {
     "name": "stdout",
     "output_type": "stream",
     "text": [
      "(3108, 825, 5)\n"
     ]
    }
   ],
   "source": [
    "print(X.shape)"
   ]
  },
  {
   "cell_type": "code",
   "execution_count": 90,
   "metadata": {},
   "outputs": [
    {
     "data": {
      "text/plain": [
       "array([ 2.02238312e+02, -3.93232286e-01, -5.50719500e-01,  3.01999976e+03,\n",
       "        0.00000000e+00])"
      ]
     },
     "execution_count": 90,
     "metadata": {},
     "output_type": "execute_result"
    }
   ],
   "source": [
    "# setup layer\n",
    "Xraw[0][0]"
   ]
  },
  {
   "cell_type": "code",
   "execution_count": 80,
   "metadata": {},
   "outputs": [],
   "source": [
    "layer_rPerp = np.array([1540., 1733., 1930., 2450., 3010., 3630.])\n",
    "emb1 = []\n",
    "emb2 = []\n",
    "emb3 = []\n",
    "tilebar0 = []\n",
    "tilebar1 = []\n",
    "tilebar2 = []\n",
    "for visual_event in range(len(X)):\n",
    "    emb1_mask = np.logical_and(Xraw[visual_event,:,3] > 1400, Xraw[visual_event,:,3] < 1600)\n",
    "    emb2_mask = np.logical_and(Xraw[visual_event,:,3] > 1600, Xraw[visual_event,:,3] < 1800)\n",
    "    emb3_mask = np.logical_and(Xraw[visual_event,:,3] > 1800, Xraw[visual_event,:,3] < 2200)\n",
    "    tilebar0_mask = np.logical_and(Xraw[visual_event,:,3] > 2200, Xraw[visual_event,:,3] < 2700)\n",
    "    tilebar1_mask = np.logical_and(Xraw[visual_event,:,3] > 2700, Xraw[visual_event,:,3] < 3300)\n",
    "    tilebar2_mask = np.logical_and(Xraw[visual_event,:,3] > 3300, Xraw[visual_event,:,3] < 3700)"
   ]
  }
 ],
 "metadata": {
  "interpreter": {
   "hash": "b5d44aea0cc164fd0ebfc1732b90238ce53cef8d0e631d031394e4c6aaa004a9"
  },
  "kernelspec": {
   "display_name": "Python 3.8.12 ('tensorflow-gpu')",
   "language": "python",
   "name": "python3"
  },
  "language_info": {
   "codemirror_mode": {
    "name": "ipython",
    "version": 3
   },
   "file_extension": ".py",
   "mimetype": "text/x-python",
   "name": "python",
   "nbconvert_exporter": "python",
   "pygments_lexer": "ipython3",
   "version": "3.8.12"
  },
  "orig_nbformat": 4
 },
 "nbformat": 4,
 "nbformat_minor": 2
}
