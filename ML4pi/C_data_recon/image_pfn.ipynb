{
 "cells": [
  {
   "cell_type": "code",
   "execution_count": 1,
   "metadata": {},
   "outputs": [],
   "source": [
    "import os\n",
    "import numpy as np\n",
    "import matplotlib as mpl\n",
    "import matplotlib.pyplot as plt\n",
    "from matplotlib.colors import LogNorm\n",
    "import pandas as pd\n",
    "import sys\n",
    "path = '/Work/EPE/ML4pi/'\n",
    "sys.path.append(path)\n",
    "import util.ml_util as mu\n",
    "from util.ml_util import cell_meta"
   ]
  },
  {
   "cell_type": "code",
   "execution_count": 2,
   "metadata": {},
   "outputs": [],
   "source": [
    "\n",
    "path_prefix = '/Work/EPE/ML4pi/'\n",
    "plotpath = path_prefix+'plots/'\n",
    "modelpath_c = path_prefix+''\n",
    "modelpath = path_prefix+''\n",
    "\n",
    "layers = [\"EMB1\", \"EMB2\", \"EMB3\", \"TileBar0\", \"TileBar1\", \"TileBar2\"]\n",
    "cell_size_phi = [0.098, 0.0245, 0.0245, 0.1, 0.1, 0.1]\n",
    "cell_size_eta = [0.0031, 0.025, 0.05, 0.1, 0.1, 0.2]\n",
    "len_phi = [4, 16, 16, 4, 4, 4]\n",
    "len_eta = [128, 16, 8, 4, 4, 2]"
   ]
  },
  {
   "cell_type": "code",
   "execution_count": 3,
   "metadata": {},
   "outputs": [],
   "source": [
    "import sys\n",
    "sys.path.append(path_prefix)\n",
    "from util import resolution_util as ru\n",
    "from util import plot_util as pu\n",
    "from util import ml_util as mu\n",
    "import uproot3 as ur"
   ]
  },
  {
   "cell_type": "code",
   "execution_count": 4,
   "metadata": {},
   "outputs": [
    {
     "name": "stdout",
     "output_type": "stream",
     "text": [
      "<TTree b'ClusterTree' at 0x016d50428d60>\n"
     ]
    }
   ],
   "source": [
    "data_path = path_prefix + \"v7/\"\n",
    "pionp_file = ur.open(data_path + \"piplus.root\")\n",
    "pp_tree = pionp_file[\"ClusterTree\"]\n",
    "print(pp_tree)"
   ]
  },
  {
   "cell_type": "code",
   "execution_count": 5,
   "metadata": {},
   "outputs": [],
   "source": [
    "branches = ['clusterIndex', 'truthE', 'nCluster', 'clusterE', 'clusterECalib', 'clusterPt',\n",
    "            'clusterEta', 'clusterPhi', 'cluster_nCells', 'cluster_sumCellE', 'cluster_ENG_CALIB_TOT', \n",
    "            'cluster_ENG_CALIB_OUT_T', 'cluster_ENG_CALIB_DEAD_TOT', 'cluster_EM_PROBABILITY', 'cluster_HAD_WEIGHT', \n",
    "            'cluster_CENTER_MAG', 'cluster_FIRST_ENG_DENS', 'cluster_cellE_norm']\n",
    "pp = pp_tree.pandas.df(branches, flatten=False)"
   ]
  },
  {
   "cell_type": "code",
   "execution_count": 6,
   "metadata": {},
   "outputs": [],
   "source": [
    "pp['clusterEoverCalib'] = pp.clusterE / pp.cluster_ENG_CALIB_TOT\n",
    "pp['clusterEoverTruth'] = pp.clusterE / pp.truthE\n",
    "pp['cluster_ENG_ALL'] = pp.cluster_ENG_CALIB_TOT + pp.cluster_ENG_CALIB_OUT_T + pp.cluster_ENG_CALIB_DEAD_TOT\n",
    "# regression variables\n",
    "pp['logE'] = np.log(pp.clusterE)\n",
    "pp['logECalib'] = np.log(pp.cluster_ENG_CALIB_TOT)\n",
    "pp['logECalibAll'] = np.log(pp.cluster_ENG_ALL)"
   ]
  },
  {
   "cell_type": "code",
   "execution_count": 7,
   "metadata": {},
   "outputs": [],
   "source": [
    "from sklearn.preprocessing import StandardScaler\n",
    "# create scaler\n",
    "scaler_e = StandardScaler()\n",
    "scaler_cal = StandardScaler()\n",
    "scaler_calAll = StandardScaler()\n",
    "# fit and transform in one step\n",
    "pp['s_logE'] = scaler_e.fit_transform(pp['logE'].to_numpy().reshape(-1,1))\n",
    "pp['s_logECalib'] = scaler_cal.fit_transform(pp['logECalib'].to_numpy().reshape(-1,1))\n",
    "pp['s_logECalibAll'] = scaler_calAll.fit_transform(pp['logECalibAll'].to_numpy().reshape(-1,1))"
   ]
  },
  {
   "cell_type": "code",
   "execution_count": 8,
   "metadata": {},
   "outputs": [
    {
     "data": {
      "text/plain": [
       "(435967,)"
      ]
     },
     "execution_count": 8,
     "metadata": {},
     "output_type": "execute_result"
    }
   ],
   "source": [
    "eclib = np.nonzero(pp['s_logECalibAll'].array)\n",
    "eclib[0].shape"
   ]
  },
  {
   "cell_type": "code",
   "execution_count": 10,
   "metadata": {},
   "outputs": [],
   "source": [
    "# convert nn datasets into pfn datasets\n",
    "\n",
    "def nn_pfn_conver(tree, layers):\n",
    "    \"\"\"\n",
    "    Convert Tree dataset input to PFN format, eliminate zeros\n",
    "    \"\"\"\n",
    "    layer_rPerp = {\"EMB1\": 1540.,\n",
    "                   \"EMB2\": 1733.,\n",
    "                   \"EMB3\": 1930.,\n",
    "                   \"TileBar0\": 2450.,\n",
    "                   \"TileBar1\": 3010.,\n",
    "                   \"TileBar2\": 3630.}\n",
    "    pfn_datasets = []\n",
    "    for layer in layers:\n",
    "        imgs = tree.array(layer)\n",
    "        idx,eta,phi = np.nonzero(imgs)\n",
    "        eta = (-(cell_meta[layer]['len_eta'])/2+eta)*(cell_meta[layer]['cell_size_eta'])\n",
    "        phi = (-(cell_meta[layer]['len_phi'])/2+phi)*(cell_meta[layer]['cell_size_phi'])\n",
    "        energy = imgs[np.nonzero(imgs)]\n",
    "        rperp = np.ones(len(idx)) * layer_rPerp[layer]\n",
    "        t_flag = np.zeros(len(eta))\n",
    "        array_tuple = (idx, energy, eta, phi, rperp, t_flag)\n",
    "        mixed_img = np.column_stack(array_tuple)\n",
    "        result = np.zeros((435967, max(np.bincount(idx)) , 5))\n",
    "        k = 0\n",
    "        for i in range(len(idx)):\n",
    "            if (i>0) and (idx[i]>idx[i-1]):\n",
    "                k = 0\n",
    "            result[idx[i], k, :] = mixed_img[i, 1::]\n",
    "            k += 1\n",
    "        pfn_datasets.append(result)\n",
    "    return np.concatenate(pfn_datasets, axis=1)\n"
   ]
  },
  {
   "cell_type": "code",
   "execution_count": 57,
   "metadata": {},
   "outputs": [
    {
     "data": {
      "text/plain": [
       "0.098"
      ]
     },
     "execution_count": 57,
     "metadata": {},
     "output_type": "execute_result"
    }
   ],
   "source": [
    "lay = \"EMB1\"\n",
    "emb3 = pp_tree.array(lay)\n",
    "idx, eta, phi = np.nonzero(emb3)\n",
    "phi = (-(cell_meta[lay]['len_phi'])/2+phi)*(cell_meta[lay]['cell_size_phi'])\n",
    "max(phi)"
   ]
  },
  {
   "cell_type": "code",
   "execution_count": 50,
   "metadata": {},
   "outputs": [
    {
     "data": {
      "text/plain": [
       "1.0"
      ]
     },
     "execution_count": 50,
     "metadata": {},
     "output_type": "execute_result"
    }
   ],
   "source": []
  },
  {
   "cell_type": "code",
   "execution_count": 12,
   "metadata": {},
   "outputs": [],
   "source": [
    "layers = [\"EMB1\", \"EMB2\", \"EMB3\", \"TileBar0\", \"TileBar1\", \"TileBar2\"]\n",
    "X = nn_pfn_conver(pp_tree, layers)\n",
    "Xraw = X\n"
   ]
  },
  {
   "cell_type": "code",
   "execution_count": 11,
   "metadata": {},
   "outputs": [
    {
     "data": {
      "text/plain": [
       "(435967,)"
      ]
     },
     "execution_count": 11,
     "metadata": {},
     "output_type": "execute_result"
    }
   ],
   "source": [
    "Y = pp.truthE\n",
    "X.shape\n",
    "Y.shape"
   ]
  },
  {
   "cell_type": "code",
   "execution_count": 13,
   "metadata": {},
   "outputs": [],
   "source": [
    "np.savez(data_path + 'X_img_pfn.npz', X)\n",
    "#np.savez(data_path + 'Y_img_pfn.npz', Y)"
   ]
  },
  {
   "cell_type": "code",
   "execution_count": 13,
   "metadata": {},
   "outputs": [],
   "source": [
    "from time import process_time as cput"
   ]
  },
  {
   "cell_type": "code",
   "execution_count": 88,
   "metadata": {},
   "outputs": [],
   "source": [
    "X = Xraw"
   ]
  },
  {
   "cell_type": "code",
   "execution_count": 10,
   "metadata": {},
   "outputs": [],
   "source": [
    "## Normalize rPerp to 1/3630\n",
    "rPerp_mask = X[:,:,3] != 0\n",
    "X[:,:,3][rPerp_mask] = X[:,:,3][rPerp_mask]/3630.\n",
    "\n",
    "## Energy Values that are not zero!\n",
    "E_nonZeroMask = X[:,:,0] != 0\n",
    "X[:,:,0][E_nonZeroMask] = np.log(X[:,:,0][E_nonZeroMask])\n",
    "cellE_mean = np.mean(X[:,:,0][E_nonZeroMask])\n",
    "cellE_std = np.std(X[:,:,0][E_nonZeroMask])\n",
    "X[:,:,0][E_nonZeroMask] = (X[:,:,0][E_nonZeroMask] - cellE_mean)/cellE_std\n",
    "\n",
    "## Eta and Phi\n",
    "# do nothing for now as a control and check performance\n",
    "eta_mask = X[:,:,1] != 0\n",
    "X[:,:,1][eta_mask] = X[:,:,1][eta_mask]/.7\n",
    "\n",
    "phi_mask = X[:,:,2] != 0\n"
   ]
  },
  {
   "cell_type": "code",
   "execution_count": 11,
   "metadata": {},
   "outputs": [
    {
     "data": {
      "text/plain": [
       "<Figure size 799.992x599.976 with 0 Axes>"
      ]
     },
     "metadata": {},
     "output_type": "display_data"
    },
    {
     "data": {
      "image/png": "[encoded data removed]",
      "text/plain": [
       "<Figure size 432x432 with 1 Axes>"
      ]
     },
     "metadata": {},
     "output_type": "display_data"
    },
    {
     "data": {
      "text/plain": [
       "<Figure size 799.992x599.976 with 0 Axes>"
      ]
     },
     "metadata": {},
     "output_type": "display_data"
    },
    {
     "data": {
      "image/png": "[encoded data removed]",
      "text/plain": [
       "<Figure size 432x432 with 1 Axes>"
      ]
     },
     "metadata": {},
     "output_type": "display_data"
    },
    {
     "data": {
      "text/plain": [
       "<Figure size 799.992x599.976 with 0 Axes>"
      ]
     },
     "metadata": {},
     "output_type": "display_data"
    },
    {
     "data": {
      "image/png": "[encoded data removed]",
      "text/plain": [
       "<Figure size 432x432 with 1 Axes>"
      ]
     },
     "metadata": {},
     "output_type": "display_data"
    },
    {
     "data": {
      "text/plain": [
       "<Figure size 799.992x599.976 with 0 Axes>"
      ]
     },
     "metadata": {},
     "output_type": "display_data"
    },
    {
     "data": {
      "image/png": "[encoded data removed]",
      "text/plain": [
       "<Figure size 432x432 with 1 Axes>"
      ]
     },
     "metadata": {},
     "output_type": "display_data"
    }
   ],
   "source": [
    "############\n",
    "## ENERGY ##\n",
    "############\n",
    "plt.cla(); plt.clf()\n",
    "fig = plt.figure(figsize=(6,6))\n",
    "ebins = np.linspace(-6,7, 50, endpoint=True)\n",
    "plt.hist(X[:,:,0][E_nonZeroMask], color='plum', bins=ebins, density=True, alpha=.5, edgecolor='black')\n",
    "plt.title('Cluster Cell Energy Inputs', fontsize=16)\n",
    "plt.xlabel('Log(E [GeV])', fontsize=14)\n",
    "plt.xlim(np.min(ebins),np.max(ebins))\n",
    "plt.ylim(0,.55)\n",
    "plt.xticks(fontsize=13)\n",
    "plt.yticks(fontsize=13)\n",
    "# plt.tight_layout()\n",
    "# plt.savefig('Regression_Plots/July/XY_tracks_multipleClusters_med_Einputs_2020-07-01.png', format='png')\n",
    "plt.show()\n",
    "\n",
    "#########\n",
    "## ETA ##\n",
    "#########\n",
    "plt.cla(); plt.clf()\n",
    "fig = plt.figure(figsize=(6,6))\n",
    "etabins = np.linspace(-1.1,1.1,50, endpoint=True)\n",
    "plt.hist(X[:,:,1][eta_mask], color='chocolate', bins=etabins, density=True, alpha=.5, edgecolor='black')\n",
    "plt.title('Cluster Cell Eta Inputs', fontsize=16)\n",
    "plt.xlabel('Eta', fontsize=14)\n",
    "plt.xlim(np.min(etabins),np.max(etabins))\n",
    "plt.ylim(0,4.5)\n",
    "plt.xticks(fontsize=13)\n",
    "plt.yticks(fontsize=13)\n",
    "# plt.tight_layout()\n",
    "# plt.savefig('Regression_Plots/July/XY_tracks_multipleClusters_med_EtaInputs_2021-07-08.png', format='png')\n",
    "plt.show()\n",
    "\n",
    "#########\n",
    "## PHI ##\n",
    "#########\n",
    "plt.cla(); plt.clf()\n",
    "fig = plt.figure(figsize=(6,6))\n",
    "phibins = np.linspace(-0.7,0.7,50, endpoint=True)\n",
    "plt.hist(X[:,:,2][phi_mask], color='olive', bins=phibins, density=True, alpha=.5, edgecolor='black')\n",
    "plt.title('Cluster Cell Phi Inputs Flattened', fontsize=16)\n",
    "plt.xlabel('Phi', fontsize=14)\n",
    "plt.xlim(np.min(phibins),np.max(phibins))\n",
    "plt.ylim(0,5)\n",
    "plt.xticks(fontsize=13)\n",
    "plt.yticks(fontsize=13)\n",
    "# plt.tight_layout()\n",
    "# plt.savefig('Regression_Plots/July/XY_tracks_multipleClusters_med_PhiInputs_2021-07-08.png', format='png')\n",
    "plt.show()\n",
    "\n",
    "###########\n",
    "## RPERP ##\n",
    "###########\n",
    "plt.cla(); plt.clf()\n",
    "fig = plt.figure(figsize=(6,6))\n",
    "Rbins = np.linspace(-0,1.2,50, endpoint=True)\n",
    "plt.hist(X[:,:,3][rPerp_mask], color='gold', bins=Rbins, density=True, alpha=.5, edgecolor='black')\n",
    "plt.title('Cluster Cell rPerp Inputs Flattened', fontsize=16)\n",
    "plt.xlabel('rPerp', fontsize=14)\n",
    "plt.xlim(np.min(Rbins),np.max(Rbins))\n",
    "plt.ylim(0,10)\n",
    "plt.xticks(fontsize=13)\n",
    "plt.yticks(fontsize=13)\n",
    "# plt.tight_layout()\n",
    "# plt.savefig('Regression_Plots/July/XY_tracks_multipleClusters_med_rPerpInputs_2021-07-08.png', format='png')\n",
    "plt.show()"
   ]
  }
 ],
 "metadata": {
  "interpreter": {
   "hash": "b5d44aea0cc164fd0ebfc1732b90238ce53cef8d0e631d031394e4c6aaa004a9"
  },
  "kernelspec": {
   "display_name": "Python 3.8.12 ('tensorflow-gpu')",
   "language": "python",
   "name": "python3"
  },
  "language_info": {
   "codemirror_mode": {
    "name": "ipython",
    "version": 3
   },
   "file_extension": ".py",
   "mimetype": "text/x-python",
   "name": "python",
   "nbconvert_exporter": "python",
   "pygments_lexer": "ipython3",
   "version": "3.8.12"
  },
  "orig_nbformat": 4
 },
 "nbformat": 4,
 "nbformat_minor": 2
}
