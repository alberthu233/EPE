{
 "cells": [
  {
   "cell_type": "code",
   "execution_count": 1,
   "metadata": {},
   "outputs": [],
   "source": [
    "from __future__ import absolute_import, division, print_function, unicode_literals\n",
    "import tensorflow as tf\n",
    "import pandas as pd"
   ]
  },
  {
   "cell_type": "code",
   "execution_count": 3,
   "metadata": {},
   "outputs": [
    {
     "name": "stdout",
     "output_type": "stream",
     "text": [
      "Downloading data from https://storage.googleapis.com/download.tensorflow.org/data/iris_training.csv\n",
      "16384/2194 [================================================================================================================================================================================================================================] - 0s 0s/step\n",
      "Downloading data from https://storage.googleapis.com/download.tensorflow.org/data/iris_test.csv\n",
      "16384/573 [=========================================================================================================================================================================================================================================================================================================================================================================================================================================================================================================================================================================================================================================================================================================================================================================================================================================================================================] - 0s 0s/step\n"
     ]
    }
   ],
   "source": [
    "feature_names = ['SepalLength', 'SepalWidth', 'PetalLength', 'PetalWidth', 'Species']\n",
    "species = ['Setosa', 'Versicolor', 'Virginica']\n",
    "train_path = tf.keras.utils.get_file(\n",
    "    \"iris_training.csv\", \"https://storage.googleapis.com/download.tensorflow.org/data/iris_training.csv\")\n",
    "test_path = tf.keras.utils.get_file(\n",
    "    \"iris_test.csv\", \"https://storage.googleapis.com/download.tensorflow.org/data/iris_test.csv\")"
   ]
  },
  {
   "cell_type": "code",
   "execution_count": 13,
   "metadata": {},
   "outputs": [],
   "source": [
    "train = pd.read_csv(train_path, names=feature_names, header=0)\n",
    "test = pd.read_csv(test_path, names=feature_names, header=0)"
   ]
  },
  {
   "cell_type": "code",
   "execution_count": 14,
   "metadata": {},
   "outputs": [
    {
     "name": "stdout",
     "output_type": "stream",
     "text": [
      "0      2\n",
      "1      1\n",
      "2      2\n",
      "3      0\n",
      "4      0\n",
      "      ..\n",
      "115    1\n",
      "116    1\n",
      "117    0\n",
      "118    0\n",
      "119    1\n",
      "Name: Species, Length: 120, dtype: int64\n"
     ]
    }
   ],
   "source": [
    "train_y = train.pop(\"Species\")\n",
    "test_y = test.pop(\"Species\")\n",
    "print(train_y)"
   ]
  },
  {
   "cell_type": "code",
   "execution_count": 25,
   "metadata": {},
   "outputs": [],
   "source": [
    "def input_fn(features, labels, training=True, batch_size=256):\n",
    "    dataset = tf.data.Dataset.from_tensor_slices((dict(features), labels))\n",
    "    if training:\n",
    "        dataset = dataset.shuffle(1000).repeat()\n",
    "    \n",
    "    return dataset.batch(batch_size)"
   ]
  },
  {
   "cell_type": "code",
   "execution_count": 21,
   "metadata": {},
   "outputs": [
    {
     "name": "stdout",
     "output_type": "stream",
     "text": [
      "[NumericColumn(key='SepalLength', shape=(1,), default_value=None, dtype=tf.float32, normalizer_fn=None), NumericColumn(key='SepalWidth', shape=(1,), default_value=None, dtype=tf.float32, normalizer_fn=None), NumericColumn(key='PetalLength', shape=(1,), default_value=None, dtype=tf.float32, normalizer_fn=None), NumericColumn(key='PetalWidth', shape=(1,), default_value=None, dtype=tf.float32, normalizer_fn=None)]\n"
     ]
    }
   ],
   "source": [
    "feature_columns = []\n",
    "for key in train.keys():\n",
    "    feature_columns.append(tf.feature_column.numeric_column(key=key))\n",
    "print(feature_columns)\n"
   ]
  },
  {
   "cell_type": "code",
   "execution_count": 22,
   "metadata": {},
   "outputs": [
    {
     "name": "stdout",
     "output_type": "stream",
     "text": [
      "INFO:tensorflow:Using default config.\n",
      "WARNING:tensorflow:Using temporary folder as model directory: C:\\Users\\alber\\AppData\\Local\\Temp\\tmp0e133u2x\n",
      "INFO:tensorflow:Using config: {'_model_dir': 'C:\\\\Users\\\\alber\\\\AppData\\\\Local\\\\Temp\\\\tmp0e133u2x', '_tf_random_seed': None, '_save_summary_steps': 100, '_save_checkpoints_steps': None, '_save_checkpoints_secs': 600, '_session_config': allow_soft_placement: true\n",
      "graph_options {\n",
      "  rewrite_options {\n",
      "    meta_optimizer_iterations: ONE\n",
      "  }\n",
      "}\n",
      ", '_keep_checkpoint_max': 5, '_keep_checkpoint_every_n_hours': 10000, '_log_step_count_steps': 100, '_train_distribute': None, '_device_fn': None, '_protocol': None, '_eval_distribute': None, '_experimental_distribute': None, '_experimental_max_worker_delay_secs': None, '_session_creation_timeout_secs': 7200, '_checkpoint_save_graph_def': True, '_service': None, '_cluster_spec': ClusterSpec({}), '_task_type': 'worker', '_task_id': 0, '_global_id_in_cluster': 0, '_master': '', '_evaluation_master': '', '_is_chief': True, '_num_ps_replicas': 0, '_num_worker_replicas': 1}\n"
     ]
    }
   ],
   "source": [
    "classifier = tf.estimator.DNNClassifier(feature_columns=feature_columns,\n",
    "                                        hidden_units=[30,10],\n",
    "                                        n_classes=3)"
   ]
  },
  {
   "cell_type": "code",
   "execution_count": 33,
   "metadata": {},
   "outputs": [
    {
     "name": "stdout",
     "output_type": "stream",
     "text": [
      "INFO:tensorflow:Calling model_fn.\n",
      "INFO:tensorflow:Done calling model_fn.\n",
      "INFO:tensorflow:Create CheckpointSaverHook.\n",
      "INFO:tensorflow:Graph was finalized.\n",
      "INFO:tensorflow:Restoring parameters from C:\\Users\\alber\\AppData\\Local\\Temp\\tmp0e133u2x\\model.ckpt-5000\n",
      "WARNING:tensorflow:From C:\\Users\\alber\\anaconda3\\envs\\tf-gpu\\lib\\site-packages\\tensorflow\\python\\training\\saver.py:1078: get_checkpoint_mtimes (from tensorflow.python.training.checkpoint_management) is deprecated and will be removed in a future version.\n",
      "Instructions for updating:\n",
      "Use standard file utilities to get mtimes.\n",
      "INFO:tensorflow:Running local_init_op.\n",
      "INFO:tensorflow:Done running local_init_op.\n",
      "INFO:tensorflow:Calling checkpoint listeners before saving checkpoint 5000...\n",
      "INFO:tensorflow:Saving checkpoints for 5000 into C:\\Users\\alber\\AppData\\Local\\Temp\\tmp0e133u2x\\model.ckpt.\n",
      "INFO:tensorflow:Calling checkpoint listeners after saving checkpoint 5000...\n",
      "INFO:tensorflow:loss = 0.43538752, step = 5000\n",
      "INFO:tensorflow:global_step/sec: 201.614\n",
      "INFO:tensorflow:loss = 0.4274717, step = 5100 (0.497 sec)\n",
      "INFO:tensorflow:global_step/sec: 258.397\n",
      "INFO:tensorflow:loss = 0.42056185, step = 5200 (0.387 sec)\n",
      "INFO:tensorflow:global_step/sec: 265.957\n",
      "INFO:tensorflow:loss = 0.42476684, step = 5300 (0.377 sec)\n",
      "INFO:tensorflow:global_step/sec: 293.257\n",
      "INFO:tensorflow:loss = 0.43196157, step = 5400 (0.340 sec)\n",
      "INFO:tensorflow:global_step/sec: 300.299\n",
      "INFO:tensorflow:loss = 0.419006, step = 5500 (0.333 sec)\n",
      "INFO:tensorflow:global_step/sec: 303.032\n",
      "INFO:tensorflow:loss = 0.41380888, step = 5600 (0.330 sec)\n",
      "INFO:tensorflow:global_step/sec: 296.735\n",
      "INFO:tensorflow:loss = 0.41937634, step = 5700 (0.338 sec)\n",
      "INFO:tensorflow:global_step/sec: 299.4\n",
      "INFO:tensorflow:loss = 0.41504157, step = 5800 (0.333 sec)\n",
      "INFO:tensorflow:global_step/sec: 284.092\n",
      "INFO:tensorflow:loss = 0.40447354, step = 5900 (0.352 sec)\n",
      "INFO:tensorflow:global_step/sec: 296.734\n",
      "INFO:tensorflow:loss = 0.40149984, step = 6000 (0.336 sec)\n",
      "INFO:tensorflow:global_step/sec: 301.207\n",
      "INFO:tensorflow:loss = 0.3908778, step = 6100 (0.333 sec)\n",
      "INFO:tensorflow:global_step/sec: 305.81\n",
      "INFO:tensorflow:loss = 0.3854028, step = 6200 (0.327 sec)\n",
      "INFO:tensorflow:global_step/sec: 273.968\n",
      "INFO:tensorflow:loss = 0.38938588, step = 6300 (0.365 sec)\n",
      "INFO:tensorflow:global_step/sec: 288.19\n",
      "INFO:tensorflow:loss = 0.3792975, step = 6400 (0.347 sec)\n",
      "INFO:tensorflow:global_step/sec: 299.401\n",
      "INFO:tensorflow:loss = 0.3833736, step = 6500 (0.334 sec)\n",
      "INFO:tensorflow:global_step/sec: 294.985\n",
      "INFO:tensorflow:loss = 0.3720811, step = 6600 (0.339 sec)\n",
      "INFO:tensorflow:global_step/sec: 294.117\n",
      "INFO:tensorflow:loss = 0.37514746, step = 6700 (0.340 sec)\n",
      "INFO:tensorflow:global_step/sec: 281.691\n",
      "INFO:tensorflow:loss = 0.38081756, step = 6800 (0.355 sec)\n",
      "INFO:tensorflow:global_step/sec: 269.542\n",
      "INFO:tensorflow:loss = 0.37205446, step = 6900 (0.372 sec)\n",
      "INFO:tensorflow:global_step/sec: 246.599\n",
      "INFO:tensorflow:loss = 0.3609742, step = 7000 (0.405 sec)\n",
      "INFO:tensorflow:global_step/sec: 268.096\n",
      "INFO:tensorflow:loss = 0.3670853, step = 7100 (0.373 sec)\n",
      "INFO:tensorflow:global_step/sec: 264.551\n",
      "INFO:tensorflow:loss = 0.3539004, step = 7200 (0.378 sec)\n",
      "INFO:tensorflow:global_step/sec: 260.418\n",
      "INFO:tensorflow:loss = 0.3517506, step = 7300 (0.385 sec)\n",
      "INFO:tensorflow:global_step/sec: 273.223\n",
      "INFO:tensorflow:loss = 0.35448328, step = 7400 (0.365 sec)\n",
      "INFO:tensorflow:global_step/sec: 264.552\n",
      "INFO:tensorflow:loss = 0.35295486, step = 7500 (0.378 sec)\n",
      "INFO:tensorflow:global_step/sec: 265.957\n",
      "INFO:tensorflow:loss = 0.35722777, step = 7600 (0.376 sec)\n",
      "INFO:tensorflow:global_step/sec: 271.739\n",
      "INFO:tensorflow:loss = 0.3557921, step = 7700 (0.368 sec)\n",
      "INFO:tensorflow:global_step/sec: 261.78\n",
      "INFO:tensorflow:loss = 0.3489781, step = 7800 (0.383 sec)\n",
      "INFO:tensorflow:global_step/sec: 269.542\n",
      "INFO:tensorflow:loss = 0.34220362, step = 7900 (0.370 sec)\n",
      "INFO:tensorflow:global_step/sec: 270.27\n",
      "INFO:tensorflow:loss = 0.34978604, step = 8000 (0.370 sec)\n",
      "INFO:tensorflow:global_step/sec: 261.78\n",
      "INFO:tensorflow:loss = 0.33364394, step = 8100 (0.382 sec)\n",
      "INFO:tensorflow:global_step/sec: 271.361\n",
      "INFO:tensorflow:loss = 0.34102127, step = 8200 (0.368 sec)\n",
      "INFO:tensorflow:global_step/sec: 273.224\n",
      "INFO:tensorflow:loss = 0.3407803, step = 8300 (0.368 sec)\n",
      "INFO:tensorflow:global_step/sec: 265.957\n",
      "INFO:tensorflow:loss = 0.34077635, step = 8400 (0.375 sec)\n",
      "INFO:tensorflow:global_step/sec: 263.852\n",
      "INFO:tensorflow:loss = 0.33454442, step = 8500 (0.379 sec)\n",
      "INFO:tensorflow:global_step/sec: 249.377\n",
      "INFO:tensorflow:loss = 0.32930532, step = 8600 (0.401 sec)\n",
      "INFO:tensorflow:global_step/sec: 261.78\n",
      "INFO:tensorflow:loss = 0.32636553, step = 8700 (0.382 sec)\n",
      "INFO:tensorflow:global_step/sec: 290.698\n",
      "INFO:tensorflow:loss = 0.32910597, step = 8800 (0.344 sec)\n",
      "INFO:tensorflow:global_step/sec: 303.951\n",
      "INFO:tensorflow:loss = 0.3246695, step = 8900 (0.329 sec)\n",
      "INFO:tensorflow:global_step/sec: 297.619\n",
      "INFO:tensorflow:loss = 0.3241254, step = 9000 (0.336 sec)\n",
      "INFO:tensorflow:global_step/sec: 303.952\n",
      "INFO:tensorflow:loss = 0.31479028, step = 9100 (0.329 sec)\n",
      "INFO:tensorflow:global_step/sec: 303.951\n",
      "INFO:tensorflow:loss = 0.3188873, step = 9200 (0.329 sec)\n",
      "INFO:tensorflow:global_step/sec: 294.117\n",
      "INFO:tensorflow:loss = 0.3221204, step = 9300 (0.341 sec)\n",
      "INFO:tensorflow:global_step/sec: 302.115\n",
      "INFO:tensorflow:loss = 0.3148334, step = 9400 (0.330 sec)\n",
      "INFO:tensorflow:global_step/sec: 302.115\n",
      "INFO:tensorflow:loss = 0.31315288, step = 9500 (0.330 sec)\n",
      "INFO:tensorflow:global_step/sec: 297.618\n",
      "INFO:tensorflow:loss = 0.3075233, step = 9600 (0.337 sec)\n",
      "INFO:tensorflow:global_step/sec: 299.841\n",
      "INFO:tensorflow:loss = 0.3058427, step = 9700 (0.334 sec)\n",
      "INFO:tensorflow:global_step/sec: 305.811\n",
      "INFO:tensorflow:loss = 0.30891603, step = 9800 (0.327 sec)\n",
      "INFO:tensorflow:global_step/sec: 300.3\n",
      "INFO:tensorflow:loss = 0.3037269, step = 9900 (0.332 sec)\n",
      "INFO:tensorflow:Calling checkpoint listeners before saving checkpoint 10000...\n",
      "INFO:tensorflow:Saving checkpoints for 10000 into C:\\Users\\alber\\AppData\\Local\\Temp\\tmp0e133u2x\\model.ckpt.\n",
      "INFO:tensorflow:Calling checkpoint listeners after saving checkpoint 10000...\n",
      "INFO:tensorflow:Loss for final step: 0.30808887.\n"
     ]
    },
    {
     "data": {
      "text/plain": [
       "<tensorflow_estimator.python.estimator.canned.dnn.DNNClassifierV2 at 0x1a7448a9d60>"
      ]
     },
     "execution_count": 33,
     "metadata": {},
     "output_type": "execute_result"
    }
   ],
   "source": [
    "classifier.train(\n",
    "    input_fn=lambda: input_fn(train, train_y, training=True),\n",
    "    steps=5000)"
   ]
  },
  {
   "cell_type": "code",
   "execution_count": 34,
   "metadata": {},
   "outputs": [
    {
     "name": "stdout",
     "output_type": "stream",
     "text": [
      "INFO:tensorflow:Calling model_fn.\n",
      "INFO:tensorflow:Done calling model_fn.\n",
      "INFO:tensorflow:Starting evaluation at 2021-10-27T13:18:08\n",
      "INFO:tensorflow:Graph was finalized.\n",
      "INFO:tensorflow:Restoring parameters from C:\\Users\\alber\\AppData\\Local\\Temp\\tmp0e133u2x\\model.ckpt-10000\n",
      "INFO:tensorflow:Running local_init_op.\n",
      "INFO:tensorflow:Done running local_init_op.\n",
      "INFO:tensorflow:Inference Time : 0.20226s\n",
      "INFO:tensorflow:Finished evaluation at 2021-10-27-13:18:08\n",
      "INFO:tensorflow:Saving dict for global step 10000: accuracy = 0.93333334, average_loss = 0.35150516, global_step = 10000, loss = 0.35150516\n",
      "INFO:tensorflow:Saving 'checkpoint_path' summary for global step 10000: C:\\Users\\alber\\AppData\\Local\\Temp\\tmp0e133u2x\\model.ckpt-10000\n",
      "0.93333334\n"
     ]
    }
   ],
   "source": [
    "eval_result=classifier.evaluate(\n",
    "    input_fn=lambda: input_fn(test, test_y, training=False)\n",
    ")\n",
    "print(eval_result[\"accuracy\"])"
   ]
  },
  {
   "cell_type": "code",
   "execution_count": null,
   "metadata": {},
   "outputs": [],
   "source": []
  }
 ],
 "metadata": {
  "interpreter": {
   "hash": "f63929e3db36fe13aee1081860966e065fd27c1f14440ef685fe33e45209081c"
  },
  "kernelspec": {
   "display_name": "Python 3.8.12 64-bit ('tf-gpu': conda)",
   "name": "python3"
  },
  "language_info": {
   "codemirror_mode": {
    "name": "ipython",
    "version": 3
   },
   "file_extension": ".py",
   "mimetype": "text/x-python",
   "name": "python",
   "nbconvert_exporter": "python",
   "pygments_lexer": "ipython3",
   "version": "3.8.12"
  },
  "orig_nbformat": 4
 },
 "nbformat": 4,
 "nbformat_minor": 2
}
