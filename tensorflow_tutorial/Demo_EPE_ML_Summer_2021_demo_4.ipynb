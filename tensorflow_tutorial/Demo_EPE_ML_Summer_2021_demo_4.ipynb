{
  "nbformat": 4,
  "nbformat_minor": 0,
  "metadata": {
    "colab": {
      "name": "Demo EPE-ML Summer 2021 demo 4.ipynb",
      "provenance": []
    },
    "kernelspec": {
      "name": "python3",
      "display_name": "Python 3"
    },
    "language_info": {
      "name": "python"
    }
  },
  "cells": [
    {
      "cell_type": "code",
      "metadata": {
        "id": "o4AD3doOzTRj"
      },
      "source": [
        "#Slides\n",
        "\n",
        "import tensorflow as tf\n",
        "\n",
        "from tensorflow.keras.layers import Dense, Flatten, Conv2D, MaxPooling2D\n",
        "from tensorflow.keras import Model\n",
        "\n",
        "mnist = tf.keras.datasets.mnist\n",
        "(x_train, y_train),(x_test, y_test) = mnist.load_data()\n",
        "\n",
        "# Normalize the data\n",
        "\n",
        "x_train, x_test = x_train / 255.0, x_test / 255.0\n",
        "# Eaxh pixel is now between [0,1]"
      ],
      "execution_count": null,
      "outputs": []
    },
    {
      "cell_type": "markdown",
      "metadata": {
        "id": "1lxLhhmF2Lh9"
      },
      "source": [
        "# Conv2D model via class definiton\n",
        "Based on : https://www.tensorflow.org/tutorials/quickstart/advanced\n",
        "However, there are a few changes like adding a pooling layer"
      ]
    },
    {
      "cell_type": "code",
      "metadata": {
        "id": "EEOOb0I_z5QD"
      },
      "source": [
        "# Convulation model using the Class Definition\n",
        "\n",
        "class MyModel(Model):\n",
        "    def __init__(self):\n",
        "        super(MyModel, self).__init__()\n",
        "        self.conv1 = Conv2D(32, 3, activation='relu')\n",
        "        self.pool = MaxPooling2D(pool_size=(2, 2))\n",
        "        self.flatten = Flatten()\n",
        "        self.d1 = Dense(128, activation='relu')\n",
        "        self.d2 = Dense(10, activation = 'softmax')\n",
        "        \n",
        "    def call(self, x):\n",
        "        x = self.conv1(x)\n",
        "        x = self.pool(x)\n",
        "        #print(x)\n",
        "        x = self.flatten(x)\n",
        "        x = self.d1(x)\n",
        "        return self.d2(x)\n",
        "\n",
        "# Create an instance of the model\n",
        "model = MyModel()"
      ],
      "execution_count": null,
      "outputs": []
    },
    {
      "cell_type": "code",
      "metadata": {
        "id": "LLYGiG5D0au-"
      },
      "source": [
        "loss_object = tf.keras.losses.SparseCategoricalCrossentropy(from_logits=True)\n",
        "optimizer = tf.keras.optimizers.Adam()\n",
        "train_loss = tf.keras.metrics.Mean(name='train_loss')\n",
        "train_accuracy = tf.keras.metrics.SparseCategoricalAccuracy(name='train_accuracy')\n",
        "test_loss = tf.keras.metrics.Mean(name='test_loss')\n",
        "test_accuracy = tf.keras.metrics.SparseCategoricalAccuracy(name='test_accuracy')\n",
        "\n",
        "@tf.function\n",
        "def train_step(images, labels):\n",
        "    with tf.GradientTape() as tape:\n",
        "    # training=True is only needed if there are layers with different\n",
        "    # behavior during training versus inference (e.g. Dropout).\n",
        "        predictions = model(images, training=True)\n",
        "        loss = loss_object(labels, predictions)\n",
        "    gradients = tape.gradient(loss, model.trainable_variables)\n",
        "    optimizer.apply_gradients(zip(gradients, model.trainable_variables))\n",
        "\n",
        "    train_loss(loss)\n",
        "    train_accuracy(labels, predictions)\n",
        "    \n",
        "@tf.function\n",
        "def test_step(images, labels):\n",
        "  # training=False is only needed if there are layers with different\n",
        "  # behavior during training versus inference (e.g. Dropout).\n",
        "    predictions = model(images, training=False)\n",
        "    t_loss = loss_object(labels, predictions)\n",
        "\n",
        "    test_loss(t_loss)\n",
        "    test_accuracy(labels, predictions)"
      ],
      "execution_count": null,
      "outputs": []
    },
    {
      "cell_type": "code",
      "metadata": {
        "id": "JpxHsIjz1TKF"
      },
      "source": [
        "# Reshape data and Put data in batches\n",
        "import numpy as np\n",
        "convx_train =  np.reshape(x_train, (x_train.shape[0], 28,28))\n",
        "convx_test =  np.reshape(x_test, (x_test.shape[0], 28,28))\n",
        "\n",
        "convx_train = convx_train[..., tf.newaxis].astype(\"float32\")\n",
        "convx_test = convx_test[..., tf.newaxis].astype(\"float32\")\n",
        "train_ds = tf.data.Dataset.from_tensor_slices(\n",
        "    (convx_train, y_train)).shuffle(10000).batch(32)\n",
        "\n",
        "test_ds = tf.data.Dataset.from_tensor_slices((convx_test, y_test)).batch(32)"
      ],
      "execution_count": null,
      "outputs": []
    },
    {
      "cell_type": "code",
      "metadata": {
        "id": "1-zeqUk50nqj",
        "colab": {
          "base_uri": "https://localhost:8080/"
        },
        "outputId": "82d03b17-c506-4a1b-9f4e-fb0f1af8346e"
      },
      "source": [
        " EPOCHS = 5\n",
        "\n",
        "for epoch in range(EPOCHS):\n",
        "    # Reset the metrics at the start of the next epoch\n",
        "    train_loss.reset_states()\n",
        "    train_accuracy.reset_states()\n",
        "    test_loss.reset_states()\n",
        "    test_accuracy.reset_states()\n",
        "\n",
        "    for images, labels in train_ds:\n",
        "        train_step(images, labels)\n",
        "\n",
        "    for test_images, test_labels in test_ds:\n",
        "        test_step(test_images, test_labels)\n",
        "\n",
        "    print(\n",
        "    f'Epoch {epoch + 1}, '\n",
        "    f'Loss: {train_loss.result()}, '\n",
        "    f'Accuracy: {train_accuracy.result() * 100}, '\n",
        "    f'Test Loss: {test_loss.result()}, '\n",
        "    f'Test Accuracy: {test_accuracy.result() * 100}'\n",
        "    )"
      ],
      "execution_count": null,
      "outputs": [
        {
          "output_type": "stream",
          "text": [
            "Epoch 1, Loss: 0.0440097451210022, Accuracy: 98.65499877929688, Test Loss: 0.07283255457878113, Test Accuracy: 97.58999633789062\n",
            "Epoch 2, Loss: 0.028148064389824867, Accuracy: 99.09333801269531, Test Loss: 0.04062037542462349, Test Accuracy: 98.61000061035156\n",
            "Epoch 3, Loss: 0.01839366927742958, Accuracy: 99.41333770751953, Test Loss: 0.048590850085020065, Test Accuracy: 98.50999450683594\n",
            "Epoch 4, Loss: 0.012656074948608875, Accuracy: 99.57833099365234, Test Loss: 0.04756646230816841, Test Accuracy: 98.56999969482422\n",
            "Epoch 5, Loss: 0.008707458153367043, Accuracy: 99.70166778564453, Test Loss: 0.04758112505078316, Test Accuracy: 98.58000183105469\n"
          ],
          "name": "stdout"
        }
      ]
    },
    {
      "cell_type": "markdown",
      "metadata": {
        "id": "LGelTQnF3Y5Y"
      },
      "source": [
        "# TODO: Adding Conv to day 3 model"
      ]
    },
    {
      "cell_type": "code",
      "metadata": {
        "id": "E7aQNJC36GCT"
      },
      "source": [
        "#Initilaze the model\n",
        "cnn_model = tf.keras.models.Sequential()"
      ],
      "execution_count": null,
      "outputs": []
    },
    {
      "cell_type": "code",
      "metadata": {
        "cellView": "form",
        "id": "L8eoXGTL98fO"
      },
      "source": [
        "#@title\n",
        "cnn_model.add(Conv2D(32, 3, activation='relu'))\n",
        "cnn_model.add(MaxPooling2D(pool_size=(2, 2)))"
      ],
      "execution_count": null,
      "outputs": []
    },
    {
      "cell_type": "code",
      "metadata": {
        "id": "WYVKXjVE3YOv"
      },
      "source": [
        "# Here's the day 3 model\n",
        "# Add a convolution layer and a pooling layer to this model\n",
        "\n",
        "# Convert the 28x28 image to 1x764 vector\n",
        "cnn_model.add(tf.keras.layers.Flatten())\n",
        "\n",
        "# Layer of 128 neurons with sigmoid acitvation function\n",
        "cnn_model.add(tf.keras.layers.Dense(128, activation='relu'))\n",
        "cnn_model.add(tf.keras.layers.Dropout(0.2))\n",
        "\n",
        "# Output layer\n",
        "\n",
        "cnn_model.add(tf.keras.layers.Dense(10, activation='softmax'))\n",
        "\n"
      ],
      "execution_count": null,
      "outputs": []
    },
    {
      "cell_type": "code",
      "metadata": {
        "colab": {
          "base_uri": "https://localhost:8080/"
        },
        "id": "J9RYMu3b55RF",
        "outputId": "6fb1bceb-19a3-4b42-c51d-ed82370cf6fb"
      },
      "source": [
        "# Compile the model so we can use that\n",
        "cnn_model.compile(optimizer='adam',\n",
        "              loss='sparse_categorical_crossentropy',\n",
        "              metrics=['accuracy'])\n",
        "cnn_model.fit(convx_train, y_train, epochs=5, validation_data=(convx_test, y_test))"
      ],
      "execution_count": null,
      "outputs": [
        {
          "output_type": "stream",
          "text": [
            "Epoch 1/5\n",
            "1875/1875 [==============================] - 40s 21ms/step - loss: 0.1777 - accuracy: 0.9474 - val_loss: 0.0613 - val_accuracy: 0.9803\n",
            "Epoch 2/5\n",
            "1875/1875 [==============================] - 39s 21ms/step - loss: 0.0670 - accuracy: 0.9793 - val_loss: 0.0439 - val_accuracy: 0.9837\n",
            "Epoch 3/5\n",
            "1875/1875 [==============================] - 39s 21ms/step - loss: 0.0467 - accuracy: 0.9855 - val_loss: 0.0406 - val_accuracy: 0.9861\n",
            "Epoch 4/5\n",
            "1875/1875 [==============================] - 39s 21ms/step - loss: 0.0344 - accuracy: 0.9891 - val_loss: 0.0435 - val_accuracy: 0.9854\n",
            "Epoch 5/5\n",
            "1875/1875 [==============================] - 39s 21ms/step - loss: 0.0265 - accuracy: 0.9916 - val_loss: 0.0391 - val_accuracy: 0.9877\n"
          ],
          "name": "stdout"
        },
        {
          "output_type": "execute_result",
          "data": {
            "text/plain": [
              "<tensorflow.python.keras.callbacks.History at 0x7fa44c9ad650>"
            ]
          },
          "metadata": {
            "tags": []
          },
          "execution_count": 44
        }
      ]
    },
    {
      "cell_type": "markdown",
      "metadata": {
        "id": "xwzWuWlp5gop"
      },
      "source": [
        "# RNN/LSTM"
      ]
    },
    {
      "cell_type": "code",
      "metadata": {
        "id": "Tc7o1Y3P3pgB"
      },
      "source": [
        "import tensorflow as tf\n",
        "from tensorflow.keras.models import Sequential\n",
        "from tensorflow.keras.layers import Dense, Dropout, LSTM\n",
        "\n",
        "\n",
        "rnn_model = Sequential()\n",
        "rnn_model.add(LSTM(128, input_shape=(x_train.shape[1:]), activation='relu', return_sequences=True))\n",
        "rnn_model.add(Dropout(0.2))\n",
        "\n",
        "rnn_model.add(LSTM(128, activation='relu'))\n",
        "rnn_model.add(Dropout(0.1))\n",
        "\n",
        "rnn_model.add(Dense(32, activation='relu'))\n",
        "rnn_model.add(Dropout(0.2))\n",
        "\n",
        "rnn_model.add(Dense(10, activation='softmax'))\n"
      ],
      "execution_count": null,
      "outputs": []
    },
    {
      "cell_type": "code",
      "metadata": {
        "colab": {
          "base_uri": "https://localhost:8080/"
        },
        "id": "5etWAta25WtS",
        "outputId": "1643efc5-52fa-406c-aae4-025949747f5e"
      },
      "source": [
        "opt = tf.keras.optimizers.Adam(learning_rate=0.001, decay=1e-6)\n",
        "\n",
        "rnn_model.compile(\n",
        "    loss='sparse_categorical_crossentropy',\n",
        "    optimizer=opt,\n",
        "    metrics=['accuracy'],\n",
        ")\n",
        "\n",
        "rnn_model.fit(x_train,\n",
        "          y_train,\n",
        "          epochs=3,\n",
        "          validation_data=(x_test, y_test))\n"
      ],
      "execution_count": null,
      "outputs": [
        {
          "output_type": "stream",
          "text": [
            "Epoch 1/3\n",
            "1875/1875 [==============================] - 136s 71ms/step - loss: 0.5997 - accuracy: 0.8054 - val_loss: 0.1314 - val_accuracy: 0.9631\n",
            "Epoch 2/3\n",
            "1875/1875 [==============================] - 134s 72ms/step - loss: 0.1620 - accuracy: 0.9567 - val_loss: 0.0953 - val_accuracy: 0.9713\n",
            "Epoch 3/3\n",
            "1875/1875 [==============================] - 133s 71ms/step - loss: 0.1146 - accuracy: 0.9697 - val_loss: 0.0729 - val_accuracy: 0.9783\n"
          ],
          "name": "stdout"
        },
        {
          "output_type": "execute_result",
          "data": {
            "text/plain": [
              "<tensorflow.python.keras.callbacks.History at 0x7f29336082d0>"
            ]
          },
          "metadata": {
            "tags": []
          },
          "execution_count": 14
        }
      ]
    },
    {
      "cell_type": "markdown",
      "metadata": {
        "id": "mUc7dFdF9FUr"
      },
      "source": [
        "#Conclusion\n",
        "As a closing point,\n",
        "Try playing arounf with differetn architectures. \n",
        "\n",
        "Try some other dataset and see which architecture works the best\n",
        "\n",
        "Other resources: \n",
        "Tensorflow Tutorials:\n",
        "https://www.tensorflow.org/tutorials\n",
        "\n",
        "Sentdex Tutorials: \n",
        "\n",
        "https://pythonprogramming.net/machine-learning-tutorials/\n",
        "\n"
      ]
    }
  ]
}