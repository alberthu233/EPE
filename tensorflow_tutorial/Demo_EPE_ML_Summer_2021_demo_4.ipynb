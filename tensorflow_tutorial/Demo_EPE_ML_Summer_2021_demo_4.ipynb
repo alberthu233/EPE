{
  "cells": [
    {
      "cell_type": "code",
      "execution_count": 4,
      "metadata": {
        "id": "o4AD3doOzTRj"
      },
      "outputs": [
        {
          "name": "stdout",
          "output_type": "stream",
          "text": [
            "[[[0. 0. 0. ... 0. 0. 0.]\n",
            "  [0. 0. 0. ... 0. 0. 0.]\n",
            "  [0. 0. 0. ... 0. 0. 0.]\n",
            "  ...\n",
            "  [0. 0. 0. ... 0. 0. 0.]\n",
            "  [0. 0. 0. ... 0. 0. 0.]\n",
            "  [0. 0. 0. ... 0. 0. 0.]]\n",
            "\n",
            " [[0. 0. 0. ... 0. 0. 0.]\n",
            "  [0. 0. 0. ... 0. 0. 0.]\n",
            "  [0. 0. 0. ... 0. 0. 0.]\n",
            "  ...\n",
            "  [0. 0. 0. ... 0. 0. 0.]\n",
            "  [0. 0. 0. ... 0. 0. 0.]\n",
            "  [0. 0. 0. ... 0. 0. 0.]]\n",
            "\n",
            " [[0. 0. 0. ... 0. 0. 0.]\n",
            "  [0. 0. 0. ... 0. 0. 0.]\n",
            "  [0. 0. 0. ... 0. 0. 0.]\n",
            "  ...\n",
            "  [0. 0. 0. ... 0. 0. 0.]\n",
            "  [0. 0. 0. ... 0. 0. 0.]\n",
            "  [0. 0. 0. ... 0. 0. 0.]]\n",
            "\n",
            " ...\n",
            "\n",
            " [[0. 0. 0. ... 0. 0. 0.]\n",
            "  [0. 0. 0. ... 0. 0. 0.]\n",
            "  [0. 0. 0. ... 0. 0. 0.]\n",
            "  ...\n",
            "  [0. 0. 0. ... 0. 0. 0.]\n",
            "  [0. 0. 0. ... 0. 0. 0.]\n",
            "  [0. 0. 0. ... 0. 0. 0.]]\n",
            "\n",
            " [[0. 0. 0. ... 0. 0. 0.]\n",
            "  [0. 0. 0. ... 0. 0. 0.]\n",
            "  [0. 0. 0. ... 0. 0. 0.]\n",
            "  ...\n",
            "  [0. 0. 0. ... 0. 0. 0.]\n",
            "  [0. 0. 0. ... 0. 0. 0.]\n",
            "  [0. 0. 0. ... 0. 0. 0.]]\n",
            "\n",
            " [[0. 0. 0. ... 0. 0. 0.]\n",
            "  [0. 0. 0. ... 0. 0. 0.]\n",
            "  [0. 0. 0. ... 0. 0. 0.]\n",
            "  ...\n",
            "  [0. 0. 0. ... 0. 0. 0.]\n",
            "  [0. 0. 0. ... 0. 0. 0.]\n",
            "  [0. 0. 0. ... 0. 0. 0.]]]\n"
          ]
        }
      ],
      "source": [
        "#Slides\n",
        "\n",
        "import tensorflow as tf\n",
        "\n",
        "from tensorflow.keras.layers import Dense, Flatten, Conv2D, MaxPooling2D\n",
        "from tensorflow.keras import Model\n",
        "\n",
        "mnist = tf.keras.datasets.mnist\n",
        "(x_train, y_train),(x_test, y_test) = mnist.load_data()\n",
        "\n",
        "# Normalize the data\n",
        "\n",
        "x_train, x_test = x_train / 255.0, x_test / 255.0\n",
        "# Eaxh pixel is now between [0,1]\n"
      ]
    },
    {
      "cell_type": "markdown",
      "metadata": {
        "id": "1lxLhhmF2Lh9"
      },
      "source": [
        "# Conv2D model via class definiton\n",
        "Based on : https://www.tensorflow.org/tutorials/quickstart/advanced\n",
        "However, there are a few changes like adding a pooling layer"
      ]
    },
    {
      "cell_type": "code",
      "execution_count": 5,
      "metadata": {
        "id": "EEOOb0I_z5QD"
      },
      "outputs": [],
      "source": [
        "# Convulation model using the Class Definition\n",
        "\n",
        "class MyModel(Model):\n",
        "    def __init__(self):\n",
        "        super(MyModel, self).__init__()\n",
        "        self.conv1 = Conv2D(32, 3, activation='relu')\n",
        "        self.pool = MaxPooling2D(pool_size=(2, 2))\n",
        "        self.flatten = Flatten()\n",
        "        self.d1 = Dense(128, activation='relu')\n",
        "        self.d2 = Dense(10, activation = 'softmax')\n",
        "        \n",
        "    def call(self, x):\n",
        "        x = self.conv1(x)\n",
        "        x = self.pool(x)\n",
        "        #print(x)\n",
        "        x = self.flatten(x)\n",
        "        x = self.d1(x)\n",
        "        return self.d2(x)\n",
        "\n",
        "# Create an instance of the model\n",
        "model = MyModel()"
      ]
    },
    {
      "cell_type": "code",
      "execution_count": 6,
      "metadata": {
        "id": "LLYGiG5D0au-"
      },
      "outputs": [],
      "source": [
        "loss_object = tf.keras.losses.SparseCategoricalCrossentropy(from_logits=True)\n",
        "optimizer = tf.keras.optimizers.Adam()\n",
        "train_loss = tf.keras.metrics.Mean(name='train_loss')\n",
        "train_accuracy = tf.keras.metrics.SparseCategoricalAccuracy(name='train_accuracy')\n",
        "test_loss = tf.keras.metrics.Mean(name='test_loss')\n",
        "test_accuracy = tf.keras.metrics.SparseCategoricalAccuracy(name='test_accuracy')\n",
        "\n",
        "@tf.function\n",
        "def train_step(images, labels):\n",
        "    with tf.GradientTape() as tape:\n",
        "    # training=True is only needed if there are layers with different\n",
        "    # behavior during training versus inference (e.g. Dropout).\n",
        "        predictions = model(images, training=True)\n",
        "        loss = loss_object(labels, predictions)\n",
        "    gradients = tape.gradient(loss, model.trainable_variables)\n",
        "    optimizer.apply_gradients(zip(gradients, model.trainable_variables))\n",
        "\n",
        "    train_loss(loss)\n",
        "    train_accuracy(labels, predictions)\n",
        "    \n",
        "@tf.function\n",
        "def test_step(images, labels):\n",
        "  # training=False is only needed if there are layers with different\n",
        "  # behavior during training versus inference (e.g. Dropout).\n",
        "    predictions = model(images, training=False)\n",
        "    t_loss = loss_object(labels, predictions)\n",
        "\n",
        "    test_loss(t_loss)\n",
        "    test_accuracy(labels, predictions)"
      ]
    },
    {
      "cell_type": "code",
      "execution_count": 7,
      "metadata": {
        "id": "JpxHsIjz1TKF"
      },
      "outputs": [],
      "source": [
        "# Reshape data and Put data in batches\n",
        "import numpy as np\n",
        "convx_train =  np.reshape(x_train, (x_train.shape[0], 28,28))\n",
        "convx_test =  np.reshape(x_test, (x_test.shape[0], 28,28))\n",
        "\n",
        "convx_train = convx_train[..., tf.newaxis].astype(\"float32\")\n",
        "convx_test = convx_test[..., tf.newaxis].astype(\"float32\")\n",
        "train_ds = tf.data.Dataset.from_tensor_slices(\n",
        "    (convx_train, y_train)).shuffle(10000).batch(32)\n",
        "\n",
        "test_ds = tf.data.Dataset.from_tensor_slices((convx_test, y_test)).batch(32)"
      ]
    },
    {
      "cell_type": "code",
      "execution_count": 8,
      "metadata": {
        "colab": {
          "base_uri": "https://localhost:8080/"
        },
        "id": "1-zeqUk50nqj",
        "outputId": "82d03b17-c506-4a1b-9f4e-fb0f1af8346e"
      },
      "outputs": [
        {
          "name": "stderr",
          "output_type": "stream",
          "text": [
            "C:\\Users\\alber\\anaconda3\\envs\\tf-gpu\\lib\\site-packages\\keras\\backend.py:4906: UserWarning: \"`sparse_categorical_crossentropy` received `from_logits=True`, but the `output` argument was produced by a sigmoid or softmax activation and thus does not represent logits. Was this intended?\"\n",
            "  warnings.warn(\n"
          ]
        },
        {
          "name": "stdout",
          "output_type": "stream",
          "text": [
            "Epoch 1, Loss: 0.1538625955581665, Accuracy: 95.40499877929688, Test Loss: 0.06394800543785095, Test Accuracy: 97.88999938964844\n",
            "Epoch 2, Loss: 0.05324883759021759, Accuracy: 98.375, Test Loss: 0.04559445381164551, Test Accuracy: 98.48999786376953\n",
            "Epoch 3, Loss: 0.03377935290336609, Accuracy: 98.98333740234375, Test Loss: 0.038742803037166595, Test Accuracy: 98.69999694824219\n",
            "Epoch 4, Loss: 0.02150091715157032, Accuracy: 99.31500244140625, Test Loss: 0.04575541988015175, Test Accuracy: 98.62999725341797\n",
            "Epoch 5, Loss: 0.014589455910027027, Accuracy: 99.53500366210938, Test Loss: 0.04714873060584068, Test Accuracy: 98.44999694824219\n"
          ]
        }
      ],
      "source": [
        " EPOCHS = 5\n",
        "\n",
        "for epoch in range(EPOCHS):\n",
        "    # Reset the metrics at the start of the next epoch\n",
        "    train_loss.reset_states()\n",
        "    train_accuracy.reset_states()\n",
        "    test_loss.reset_states()\n",
        "    test_accuracy.reset_states()\n",
        "\n",
        "    for images, labels in train_ds:\n",
        "        train_step(images, labels)\n",
        "\n",
        "    for test_images, test_labels in test_ds:\n",
        "        test_step(test_images, test_labels)\n",
        "\n",
        "    print(\n",
        "    f'Epoch {epoch + 1}, '\n",
        "    f'Loss: {train_loss.result()}, '\n",
        "    f'Accuracy: {train_accuracy.result() * 100}, '\n",
        "    f'Test Loss: {test_loss.result()}, '\n",
        "    f'Test Accuracy: {test_accuracy.result() * 100}'\n",
        "    )"
      ]
    },
    {
      "cell_type": "markdown",
      "metadata": {
        "id": "LGelTQnF3Y5Y"
      },
      "source": [
        "# TODO: Adding Conv to day 3 model"
      ]
    },
    {
      "cell_type": "code",
      "execution_count": 9,
      "metadata": {
        "id": "E7aQNJC36GCT"
      },
      "outputs": [],
      "source": [
        "#Initilaze the model\n",
        "cnn_model = tf.keras.models.Sequential()"
      ]
    },
    {
      "cell_type": "code",
      "execution_count": 10,
      "metadata": {
        "cellView": "form",
        "id": "L8eoXGTL98fO"
      },
      "outputs": [],
      "source": [
        "#@title\n",
        "cnn_model.add(Conv2D(32, 3, activation='relu'))\n",
        "cnn_model.add(MaxPooling2D(pool_size=(2, 2)))"
      ]
    },
    {
      "cell_type": "code",
      "execution_count": 11,
      "metadata": {
        "id": "WYVKXjVE3YOv"
      },
      "outputs": [],
      "source": [
        "# Here's the day 3 model\n",
        "# Add a convolution layer and a pooling layer to this model\n",
        "\n",
        "# Convert the 28x28 image to 1x764 vector\n",
        "cnn_model.add(tf.keras.layers.Flatten())\n",
        "\n",
        "# Layer of 128 neurons with sigmoid acitvation function\n",
        "cnn_model.add(tf.keras.layers.Dense(128, activation='relu'))\n",
        "cnn_model.add(tf.keras.layers.Dropout(0.2))\n",
        "\n",
        "# Output layer\n",
        "\n",
        "cnn_model.add(tf.keras.layers.Dense(10, activation='softmax'))\n",
        "\n"
      ]
    },
    {
      "cell_type": "code",
      "execution_count": 12,
      "metadata": {
        "colab": {
          "base_uri": "https://localhost:8080/"
        },
        "id": "J9RYMu3b55RF",
        "outputId": "6fb1bceb-19a3-4b42-c51d-ed82370cf6fb"
      },
      "outputs": [
        {
          "name": "stdout",
          "output_type": "stream",
          "text": [
            "Epoch 1/5\n",
            "1875/1875 [==============================] - 6s 3ms/step - loss: 0.1687 - accuracy: 0.9503 - val_loss: 0.0589 - val_accuracy: 0.9795\n",
            "Epoch 2/5\n",
            "1875/1875 [==============================] - 6s 3ms/step - loss: 0.0583 - accuracy: 0.9823 - val_loss: 0.0414 - val_accuracy: 0.9865\n",
            "Epoch 3/5\n",
            "1875/1875 [==============================] - 6s 3ms/step - loss: 0.0401 - accuracy: 0.9874 - val_loss: 0.0422 - val_accuracy: 0.9859\n",
            "Epoch 4/5\n",
            "1875/1875 [==============================] - 6s 3ms/step - loss: 0.0280 - accuracy: 0.9909 - val_loss: 0.0388 - val_accuracy: 0.9868\n",
            "Epoch 5/5\n",
            "1875/1875 [==============================] - 6s 3ms/step - loss: 0.0216 - accuracy: 0.9930 - val_loss: 0.0381 - val_accuracy: 0.9880\n"
          ]
        },
        {
          "data": {
            "text/plain": [
              "<keras.callbacks.History at 0x19c8f23e6d0>"
            ]
          },
          "execution_count": 12,
          "metadata": {},
          "output_type": "execute_result"
        }
      ],
      "source": [
        "# Compile the model so we can use that\n",
        "cnn_model.compile(optimizer='adam',\n",
        "              loss='sparse_categorical_crossentropy',\n",
        "              metrics=['accuracy'])\n",
        "cnn_model.fit(convx_train, y_train, epochs=5, validation_data=(convx_test, y_test))"
      ]
    },
    {
      "cell_type": "markdown",
      "metadata": {
        "id": "xwzWuWlp5gop"
      },
      "source": [
        "# RNN/LSTM"
      ]
    },
    {
      "cell_type": "code",
      "execution_count": 13,
      "metadata": {
        "id": "Tc7o1Y3P3pgB"
      },
      "outputs": [
        {
          "name": "stdout",
          "output_type": "stream",
          "text": [
            "WARNING:tensorflow:Layer lstm will not use cuDNN kernels since it doesn't meet the criteria. It will use a generic GPU kernel as fallback when running on GPU.\n",
            "WARNING:tensorflow:Layer lstm_1 will not use cuDNN kernels since it doesn't meet the criteria. It will use a generic GPU kernel as fallback when running on GPU.\n"
          ]
        }
      ],
      "source": [
        "import tensorflow as tf\n",
        "from tensorflow.keras.models import Sequential\n",
        "from tensorflow.keras.layers import Dense, Dropout, LSTM\n",
        "\n",
        "\n",
        "rnn_model = Sequential()\n",
        "rnn_model.add(LSTM(128, input_shape=(x_train.shape[1:]), activation='relu', return_sequences=True))\n",
        "rnn_model.add(Dropout(0.2))\n",
        "\n",
        "rnn_model.add(LSTM(128, activation='relu'))\n",
        "rnn_model.add(Dropout(0.1))\n",
        "\n",
        "rnn_model.add(Dense(32, activation='relu'))\n",
        "rnn_model.add(Dropout(0.2))\n",
        "\n",
        "rnn_model.add(Dense(10, activation='softmax'))\n"
      ]
    },
    {
      "cell_type": "code",
      "execution_count": 14,
      "metadata": {
        "colab": {
          "base_uri": "https://localhost:8080/"
        },
        "id": "5etWAta25WtS",
        "outputId": "1643efc5-52fa-406c-aae4-025949747f5e"
      },
      "outputs": [
        {
          "name": "stdout",
          "output_type": "stream",
          "text": [
            "Epoch 1/3\n",
            "1875/1875 [==============================] - 125s 66ms/step - loss: 0.5531 - accuracy: 0.8251 - val_loss: 0.1753 - val_accuracy: 0.9472\n",
            "Epoch 2/3\n",
            "1875/1875 [==============================] - 124s 66ms/step - loss: 0.1438 - accuracy: 0.9612 - val_loss: 0.1135 - val_accuracy: 0.9697\n",
            "Epoch 3/3\n",
            "1875/1875 [==============================] - 124s 66ms/step - loss: 0.1006 - accuracy: 0.9730 - val_loss: 0.0954 - val_accuracy: 0.9757\n"
          ]
        },
        {
          "data": {
            "text/plain": [
              "<keras.callbacks.History at 0x19cae1703d0>"
            ]
          },
          "execution_count": 14,
          "metadata": {},
          "output_type": "execute_result"
        }
      ],
      "source": [
        "opt = tf.keras.optimizers.Adam(learning_rate=0.001, decay=1e-6)\n",
        "\n",
        "rnn_model.compile(\n",
        "    loss='sparse_categorical_crossentropy',\n",
        "    optimizer=opt,\n",
        "    metrics=['accuracy'],\n",
        ")\n",
        "\n",
        "rnn_model.fit(x_train,\n",
        "          y_train,\n",
        "          epochs=3,\n",
        "          validation_data=(x_test, y_test))\n"
      ]
    },
    {
      "cell_type": "markdown",
      "metadata": {
        "id": "mUc7dFdF9FUr"
      },
      "source": [
        "#Conclusion\n",
        "As a closing point,\n",
        "Try playing arounf with differetn architectures. \n",
        "\n",
        "Try some other dataset and see which architecture works the best\n",
        "\n",
        "Other resources: \n",
        "Tensorflow Tutorials:\n",
        "https://www.tensorflow.org/tutorials\n",
        "\n",
        "Sentdex Tutorials: \n",
        "\n",
        "https://pythonprogramming.net/machine-learning-tutorials/\n",
        "\n"
      ]
    }
  ],
  "metadata": {
    "colab": {
      "name": "Demo EPE-ML Summer 2021 demo 4.ipynb",
      "provenance": []
    },
    "interpreter": {
      "hash": "f63929e3db36fe13aee1081860966e065fd27c1f14440ef685fe33e45209081c"
    },
    "kernelspec": {
      "display_name": "Python 3.8.12 64-bit ('tf-gpu': conda)",
      "name": "python3"
    },
    "language_info": {
      "codemirror_mode": {
        "name": "ipython",
        "version": 3
      },
      "file_extension": ".py",
      "mimetype": "text/x-python",
      "name": "python",
      "nbconvert_exporter": "python",
      "pygments_lexer": "ipython3",
      "version": "3.8.12"
    }
  },
  "nbformat": 4,
  "nbformat_minor": 0
}
