{
 "cells": [
  {
   "cell_type": "code",
   "execution_count": 1,
   "metadata": {},
   "outputs": [],
   "source": [
    "import tensorflow as tf\n",
    "import tensorflow.keras as keras\n",
    "import matplotlib.pyplot as plt\n",
    "import numpy as np\n",
    "import keras_tuner as kt\n",
    "tf.config.experimental.list_physical_devices('GPU')\n",
    "import datetime"
   ]
  },
  {
   "cell_type": "markdown",
   "metadata": {},
   "source": [
    "<h2>Extract MNIST data</h2>\n",
    "<p style=\"font-size:20px\">You can change the option of one_hot encoding."
   ]
  },
  {
   "cell_type": "code",
   "execution_count": 2,
   "metadata": {},
   "outputs": [],
   "source": [
    "#get mnist data, with one_hot encoding\n",
    "mnist = tf.keras.datasets.mnist.load_data(path=\"mnist.npz\")\n",
    "(train_images, train_labels), (test_images, test_labels) = mnist\n",
    "tl = train_labels\n",
    "train_images = train_images.astype(\"float32\")/255.0\n",
    "test_images = test_images.astype(\"float32\")/255.0\n",
    "train_labels = tf.one_hot(train_labels,depth=10)\n",
    "test_labels = tf.one_hot(test_labels, depth=10)"
   ]
  },
  {
   "cell_type": "code",
   "execution_count": 3,
   "metadata": {},
   "outputs": [
    {
     "data": {
      "image/png": "[encoded data removed]",
      "text/plain": [
       "<Figure size 432x288 with 1 Axes>"
      ]
     },
     "metadata": {
      "needs_background": "light"
     },
     "output_type": "display_data"
    }
   ],
   "source": [
    "plt.figure()\n",
    "plt.imshow(train_images[20])\n",
    "plt.grid(False)\n",
    "plt.show()"
   ]
  },
  {
   "cell_type": "markdown",
   "metadata": {},
   "source": [
    "<h2>Define placeholder and Variables</h2>"
   ]
  },
  {
   "cell_type": "code",
   "execution_count": 4,
   "metadata": {},
   "outputs": [],
   "source": [
    "def mnist_model(hp):\n",
    "    \"\"\"\n",
    "    define model for hyper tune\n",
    "    \"\"\"\n",
    "    activation = hp.Choice(\"activation\", values=['relu', 'tanh', 'sigmoid'])\n",
    "\n",
    "    model = keras.Sequential()\n",
    "    model.add(keras.layers.Flatten(input_shape=(28,28)))\n",
    "    for i in range(hp.Int(\"num_layers\", 2, 6)):\n",
    "        model.add(\n",
    "            keras.layers.Dense(\n",
    "                units=hp.Int(\"units_\" + str(i), min_value=16, max_value=256, step=16),\n",
    "                activation=activation,\n",
    "            )\n",
    "        )\n",
    "    model.add(keras.layers.Dense(10, activation=\"softmax\"))\n",
    "    model.compile(\n",
    "        optimizer=keras.optimizers.Adam(hp.Choice(\"learning_rate\", [1.0, 1e-2, 1e-3, 1e-4])),\n",
    "        loss=tf.keras.losses.CategoricalCrossentropy(),\n",
    "        metrics=[\"accuracy\"],\n",
    "    )\n",
    "\n",
    "    return model"
   ]
  },
  {
   "cell_type": "markdown",
   "metadata": {},
   "source": [
    "<h2>Define tuner</h2>"
   ]
  },
  {
   "cell_type": "code",
   "execution_count": 5,
   "metadata": {},
   "outputs": [
    {
     "name": "stdout",
     "output_type": "stream",
     "text": [
      "Search space summary\n",
      "Default search space size: 5\n",
      "activation (Choice)\n",
      "{'default': 'relu', 'conditions': [], 'values': ['relu', 'tanh', 'sigmoid'], 'ordered': False}\n",
      "num_layers (Int)\n",
      "{'default': None, 'conditions': [], 'min_value': 2, 'max_value': 6, 'step': 1, 'sampling': None}\n",
      "units_0 (Int)\n",
      "{'default': None, 'conditions': [], 'min_value': 16, 'max_value': 256, 'step': 16, 'sampling': None}\n",
      "units_1 (Int)\n",
      "{'default': None, 'conditions': [], 'min_value': 16, 'max_value': 256, 'step': 16, 'sampling': None}\n",
      "learning_rate (Choice)\n",
      "{'default': 1.0, 'conditions': [], 'values': [1.0, 0.01, 0.001, 0.0001], 'ordered': True}\n"
     ]
    }
   ],
   "source": [
    "tuner = kt.Hyperband(\n",
    "    mnist_model,\n",
    "    objective='val_accuracy',\n",
    "    max_epochs=10,\n",
    "    directory='my_dir',\n",
    "    project_name='minst_tuner_2'\n",
    ")\n",
    "\n",
    "\n",
    "\n",
    "stop_early = tf.keras.callbacks.EarlyStopping(monitor='val_accuracy', patience=10)\n",
    "\n",
    "tuner.search_space_summary()"
   ]
  },
  {
   "cell_type": "code",
   "execution_count": 6,
   "metadata": {},
   "outputs": [
    {
     "name": "stdout",
     "output_type": "stream",
     "text": [
      "Trial 30 Complete [00h 00m 32s]\n",
      "val_accuracy: 0.9375\n",
      "\n",
      "Best val_accuracy So Far: 0.9725833535194397\n",
      "Total elapsed time: 00h 08m 24s\n",
      "INFO:tensorflow:Oracle triggered exit\n"
     ]
    }
   ],
   "source": [
    "#START TUNING\n",
    "tuner.search(train_images, train_labels, epochs=10, validation_split=0.2, callbacks=[stop_early])\n",
    "\n",
    "# Get the optimal hyperparameters\n",
    "best_hps=tuner.get_best_hyperparameters(num_trials=1)[0]"
   ]
  },
  {
   "cell_type": "markdown",
   "metadata": {},
   "source": [
    "<h2>Execute training</h2>"
   ]
  },
  {
   "cell_type": "code",
   "execution_count": 7,
   "metadata": {},
   "outputs": [
    {
     "name": "stdout",
     "output_type": "stream",
     "text": [
      "Epoch 1/20\n",
      "938/938 [==============================] - 4s 4ms/step - loss: 0.2540 - accuracy: 0.9241 - val_loss: 0.1199 - val_accuracy: 0.9634\n",
      "Epoch 2/20\n",
      "938/938 [==============================] - 3s 3ms/step - loss: 0.1028 - accuracy: 0.9683 - val_loss: 0.1140 - val_accuracy: 0.9641\n",
      "Epoch 3/20\n",
      "938/938 [==============================] - 3s 3ms/step - loss: 0.0736 - accuracy: 0.9769 - val_loss: 0.0806 - val_accuracy: 0.9769\n",
      "Epoch 4/20\n",
      "938/938 [==============================] - 3s 3ms/step - loss: 0.0555 - accuracy: 0.9827 - val_loss: 0.0805 - val_accuracy: 0.9758\n",
      "Epoch 5/20\n",
      "938/938 [==============================] - 2s 3ms/step - loss: 0.0480 - accuracy: 0.9850 - val_loss: 0.0986 - val_accuracy: 0.9730\n",
      "Epoch 6/20\n",
      "938/938 [==============================] - 2s 3ms/step - loss: 0.0404 - accuracy: 0.9868 - val_loss: 0.0810 - val_accuracy: 0.9773\n",
      "Epoch 7/20\n",
      "938/938 [==============================] - 2s 2ms/step - loss: 0.0329 - accuracy: 0.9895 - val_loss: 0.0854 - val_accuracy: 0.9774\n",
      "Epoch 8/20\n",
      "938/938 [==============================] - 2s 3ms/step - loss: 0.0317 - accuracy: 0.9900 - val_loss: 0.0895 - val_accuracy: 0.9765\n",
      "Epoch 9/20\n",
      "938/938 [==============================] - 2s 3ms/step - loss: 0.0259 - accuracy: 0.9916 - val_loss: 0.0843 - val_accuracy: 0.9777\n",
      "Epoch 10/20\n",
      "938/938 [==============================] - 3s 3ms/step - loss: 0.0233 - accuracy: 0.9923 - val_loss: 0.0928 - val_accuracy: 0.9769\n",
      "Epoch 11/20\n",
      "938/938 [==============================] - 3s 3ms/step - loss: 0.0233 - accuracy: 0.9923 - val_loss: 0.0808 - val_accuracy: 0.9800\n",
      "Epoch 12/20\n",
      "938/938 [==============================] - 2s 3ms/step - loss: 0.0187 - accuracy: 0.9935 - val_loss: 0.0870 - val_accuracy: 0.9801\n",
      "Epoch 13/20\n",
      "938/938 [==============================] - 2s 2ms/step - loss: 0.0175 - accuracy: 0.9944 - val_loss: 0.0888 - val_accuracy: 0.9778\n",
      "Epoch 14/20\n",
      "938/938 [==============================] - 2s 2ms/step - loss: 0.0169 - accuracy: 0.9947 - val_loss: 0.0857 - val_accuracy: 0.9807\n",
      "Epoch 15/20\n",
      "938/938 [==============================] - 2s 2ms/step - loss: 0.0169 - accuracy: 0.9946 - val_loss: 0.0861 - val_accuracy: 0.9800\n",
      "Epoch 16/20\n",
      "938/938 [==============================] - 2s 2ms/step - loss: 0.0159 - accuracy: 0.9948 - val_loss: 0.0791 - val_accuracy: 0.9811\n",
      "Epoch 17/20\n",
      "938/938 [==============================] - 3s 3ms/step - loss: 0.0143 - accuracy: 0.9952 - val_loss: 0.1143 - val_accuracy: 0.9779\n",
      "Epoch 18/20\n",
      "938/938 [==============================] - 3s 3ms/step - loss: 0.0141 - accuracy: 0.9957 - val_loss: 0.0929 - val_accuracy: 0.9824\n",
      "Epoch 19/20\n",
      "938/938 [==============================] - 2s 2ms/step - loss: 0.0110 - accuracy: 0.9966 - val_loss: 0.1142 - val_accuracy: 0.9779\n",
      "Epoch 20/20\n",
      "938/938 [==============================] - 2s 2ms/step - loss: 0.0153 - accuracy: 0.9953 - val_loss: 0.0818 - val_accuracy: 0.9798\n"
     ]
    }
   ],
   "source": [
    "tb_callback = tf.keras.callbacks.TensorBoard(log_dir=\"/my_dir/mnist_logs\")\n",
    "best_hps = tuner.get_best_hyperparameters()[0]\n",
    "model = tuner.hypermodel.build(best_hps)\n",
    "history = model.fit(train_images,\n",
    "                    train_labels,\n",
    "                    batch_size=64,\n",
    "                    epochs=20,\n",
    "                    validation_data=(test_images, test_labels),\n",
    "                    callbacks=[tb_callback])"
   ]
  },
  {
   "cell_type": "markdown",
   "metadata": {},
   "source": [
    "<h2>Your results</h2>"
   ]
  },
  {
   "cell_type": "code",
   "execution_count": 8,
   "metadata": {},
   "outputs": [
    {
     "name": "stdout",
     "output_type": "stream",
     "text": [
      "dict_keys(['loss', 'accuracy', 'val_loss', 'val_accuracy'])\n"
     ]
    },
    {
     "data": {
      "text/plain": [
       "Text(0.5, 0, 'epoch')"
      ]
     },
     "execution_count": 8,
     "metadata": {},
     "output_type": "execute_result"
    },
    {
     "data": {
      "image/png": "[encoded data removed]",
      "text/plain": [
       "<Figure size 432x288 with 1 Axes>"
      ]
     },
     "metadata": {
      "needs_background": "light"
     },
     "output_type": "display_data"
    }
   ],
   "source": [
    "print(history.history.keys())\n",
    "plt.plot(history.history[\"val_loss\"])\n",
    "plt.title('model accuracy')\n",
    "plt.ylabel('accuracy')\n",
    "plt.ylabel('accuracy')\n",
    "plt.xlabel('epoch')"
   ]
  },
  {
   "cell_type": "code",
   "execution_count": 9,
   "metadata": {},
   "outputs": [
    {
     "name": "stdout",
     "output_type": "stream",
     "text": [
      "313/313 [==============================] - 1s 2ms/step - loss: 0.0818 - accuracy: 0.9798\n"
     ]
    }
   ],
   "source": [
    "acc=model.evaluate(test_images, test_labels)"
   ]
  },
  {
   "cell_type": "code",
   "execution_count": 10,
   "metadata": {},
   "outputs": [
    {
     "name": "stdout",
     "output_type": "stream",
     "text": [
      "Model: \"sequential_1\"\n",
      "_________________________________________________________________\n",
      "Layer (type)                 Output Shape              Param #   \n",
      "=================================================================\n",
      "flatten_1 (Flatten)          (None, 784)               0         \n",
      "_________________________________________________________________\n",
      "dense_3 (Dense)              (None, 176)               138160    \n",
      "_________________________________________________________________\n",
      "dense_4 (Dense)              (None, 64)                11328     \n",
      "_________________________________________________________________\n",
      "dense_5 (Dense)              (None, 160)               10400     \n",
      "_________________________________________________________________\n",
      "dense_6 (Dense)              (None, 144)               23184     \n",
      "_________________________________________________________________\n",
      "dense_7 (Dense)              (None, 10)                1450      \n",
      "=================================================================\n",
      "Total params: 184,522\n",
      "Trainable params: 184,522\n",
      "Non-trainable params: 0\n",
      "_________________________________________________________________\n"
     ]
    }
   ],
   "source": [
    "tuner.oracle.get_best_trials()[0].trial_id\n",
    "model.summary()"
   ]
  },
  {
   "cell_type": "code",
   "execution_count": 11,
   "metadata": {},
   "outputs": [
    {
     "name": "stdout",
     "output_type": "stream",
     "text": [
      "Results summary\n",
      "Results in my_dir\\minst_tuner_2\n",
      "Showing 10 best trials\n",
      "Objective(name='val_accuracy', direction='max')\n",
      "Trial summary\n",
      "Hyperparameters:\n",
      "activation: relu\n",
      "num_layers: 4\n",
      "units_0: 176\n",
      "units_1: 64\n",
      "learning_rate: 0.001\n",
      "units_2: 160\n",
      "units_3: 144\n",
      "units_4: 80\n",
      "tuner/epochs: 10\n",
      "tuner/initial_epoch: 4\n",
      "tuner/bracket: 1\n",
      "tuner/round: 1\n",
      "tuner/trial_id: de71c00704d547f96bce28d91b8fd676\n",
      "Score: 0.9725833535194397\n",
      "Trial summary\n",
      "Hyperparameters:\n",
      "activation: relu\n",
      "num_layers: 5\n",
      "units_0: 208\n",
      "units_1: 144\n",
      "learning_rate: 0.001\n",
      "units_2: 256\n",
      "units_3: 224\n",
      "units_4: 176\n",
      "tuner/epochs: 10\n",
      "tuner/initial_epoch: 4\n",
      "tuner/bracket: 2\n",
      "tuner/round: 2\n",
      "tuner/trial_id: 11a2cedf313590558ca242cde18c15c9\n",
      "Score: 0.9721666574478149\n",
      "Trial summary\n",
      "Hyperparameters:\n",
      "activation: relu\n",
      "num_layers: 4\n",
      "units_0: 176\n",
      "units_1: 64\n",
      "learning_rate: 0.001\n",
      "units_2: 160\n",
      "units_3: 144\n",
      "units_4: 80\n",
      "tuner/epochs: 4\n",
      "tuner/initial_epoch: 0\n",
      "tuner/bracket: 1\n",
      "tuner/round: 0\n",
      "Score: 0.9704166650772095\n",
      "Trial summary\n",
      "Hyperparameters:\n",
      "activation: tanh\n",
      "num_layers: 4\n",
      "units_0: 240\n",
      "units_1: 160\n",
      "learning_rate: 0.001\n",
      "units_2: 48\n",
      "units_3: 112\n",
      "units_4: 64\n",
      "tuner/epochs: 10\n",
      "tuner/initial_epoch: 4\n",
      "tuner/bracket: 1\n",
      "tuner/round: 1\n",
      "tuner/trial_id: 67d4334efd80681c71886753a7f66161\n",
      "Score: 0.969083309173584\n",
      "Trial summary\n",
      "Hyperparameters:\n",
      "activation: tanh\n",
      "num_layers: 4\n",
      "units_0: 240\n",
      "units_1: 160\n",
      "learning_rate: 0.001\n",
      "units_2: 48\n",
      "units_3: 112\n",
      "units_4: 64\n",
      "tuner/epochs: 4\n",
      "tuner/initial_epoch: 0\n",
      "tuner/bracket: 1\n",
      "tuner/round: 0\n",
      "Score: 0.968833327293396\n",
      "Trial summary\n",
      "Hyperparameters:\n",
      "activation: relu\n",
      "num_layers: 5\n",
      "units_0: 208\n",
      "units_1: 144\n",
      "learning_rate: 0.001\n",
      "units_2: 256\n",
      "units_3: 224\n",
      "units_4: 176\n",
      "tuner/epochs: 4\n",
      "tuner/initial_epoch: 2\n",
      "tuner/bracket: 2\n",
      "tuner/round: 1\n",
      "tuner/trial_id: a99f5c87d3c68faeb6ad256129c4d433\n",
      "Score: 0.9670833349227905\n",
      "Trial summary\n",
      "Hyperparameters:\n",
      "activation: relu\n",
      "num_layers: 5\n",
      "units_0: 208\n",
      "units_1: 144\n",
      "learning_rate: 0.001\n",
      "units_2: 256\n",
      "units_3: 224\n",
      "units_4: 176\n",
      "tuner/epochs: 2\n",
      "tuner/initial_epoch: 0\n",
      "tuner/bracket: 2\n",
      "tuner/round: 0\n",
      "Score: 0.9660000205039978\n",
      "Trial summary\n",
      "Hyperparameters:\n",
      "activation: sigmoid\n",
      "num_layers: 2\n",
      "units_0: 240\n",
      "units_1: 224\n",
      "learning_rate: 0.01\n",
      "units_2: 240\n",
      "units_3: 224\n",
      "units_4: 224\n",
      "tuner/epochs: 4\n",
      "tuner/initial_epoch: 0\n",
      "tuner/bracket: 1\n",
      "tuner/round: 0\n",
      "Score: 0.965583324432373\n",
      "Trial summary\n",
      "Hyperparameters:\n",
      "activation: relu\n",
      "num_layers: 2\n",
      "units_0: 128\n",
      "units_1: 32\n",
      "learning_rate: 0.01\n",
      "units_2: 240\n",
      "units_3: 32\n",
      "units_4: 112\n",
      "tuner/epochs: 4\n",
      "tuner/initial_epoch: 0\n",
      "tuner/bracket: 1\n",
      "tuner/round: 0\n",
      "Score: 0.9586666822433472\n",
      "Trial summary\n",
      "Hyperparameters:\n",
      "activation: relu\n",
      "num_layers: 4\n",
      "units_0: 32\n",
      "units_1: 48\n",
      "learning_rate: 0.0001\n",
      "units_2: 48\n",
      "units_3: 96\n",
      "units_4: 192\n",
      "tuner/epochs: 10\n",
      "tuner/initial_epoch: 0\n",
      "tuner/bracket: 0\n",
      "tuner/round: 0\n",
      "Score: 0.9574166536331177\n"
     ]
    }
   ],
   "source": [
    "tuner.results_summary()"
   ]
  },
  {
   "cell_type": "code",
   "execution_count": 12,
   "metadata": {},
   "outputs": [
    {
     "data": {
      "text/plain": [
       "<module 'tensorflow.keras' from 'C:\\\\Users\\\\alber\\\\anaconda3\\\\envs\\\\tf-gpu\\\\lib\\\\site-packages\\\\keras\\\\api\\\\_v2\\\\keras\\\\__init__.py'>"
      ]
     },
     "execution_count": 12,
     "metadata": {},
     "output_type": "execute_result"
    }
   ],
   "source": [
    "tf.keras"
   ]
  }
 ],
 "metadata": {
  "kernelspec": {
   "display_name": "Python 3",
   "language": "python",
   "name": "python3"
  },
  "language_info": {
   "codemirror_mode": {
    "name": "ipython",
    "version": 3
   },
   "file_extension": ".py",
   "mimetype": "text/x-python",
   "name": "python",
   "nbconvert_exporter": "python",
   "pygments_lexer": "ipython3",
   "version": "3.8.12"
  }
 },
 "nbformat": 4,
 "nbformat_minor": 2
}
