{
 "cells": [
  {
   "cell_type": "code",
   "execution_count": 1,
   "metadata": {},
   "outputs": [],
   "source": [
    "import tensorflow as tf\n",
    "import tensorflow.keras as keras\n",
    "import matplotlib.pyplot as plt\n",
    "import numpy as np\n",
    "import keras_tuner as kt\n",
    "tf.config.experimental.list_physical_devices('GPU')\n",
    "import datetime"
   ]
  },
  {
   "cell_type": "markdown",
   "metadata": {},
   "source": [
    "<h2>Extract MNIST data</h2>\n",
    "<p style=\"font-size:20px\">You can change the option of one_hot encoding."
   ]
  },
  {
   "cell_type": "code",
   "execution_count": 2,
   "metadata": {},
   "outputs": [],
   "source": [
    "#get mnist data, with one_hot encoding\n",
    "mnist = tf.keras.datasets.mnist.load_data(path=\"mnist.npz\")\n",
    "(train_images, train_labels), (test_images, test_labels) = mnist\n",
    "tl = train_labels\n",
    "train_images = train_images.astype(\"float32\")/255.0\n",
    "test_images = test_images.astype(\"float32\")/255.0\n",
    "train_labels = tf.one_hot(train_labels,depth=10)\n",
    "test_labels = tf.one_hot(test_labels, depth=10)"
   ]
  },
  {
   "cell_type": "code",
   "execution_count": 3,
   "metadata": {},
   "outputs": [
    {
     "data": {
      "image/png": "[encoded data removed]",
      "text/plain": [
       "<Figure size 432x288 with 1 Axes>"
      ]
     },
     "metadata": {
      "needs_background": "light"
     },
     "output_type": "display_data"
    }
   ],
   "source": [
    "plt.figure()\n",
    "plt.imshow(train_images[20])\n",
    "plt.grid(False)\n",
    "plt.show()"
   ]
  },
  {
   "cell_type": "markdown",
   "metadata": {},
   "source": [
    "<h2>Define hyperparameters</h2>"
   ]
  },
  {
   "cell_type": "code",
   "execution_count": 4,
   "metadata": {},
   "outputs": [],
   "source": [
    "NUM_ITER = 100\n",
    "lr = 0.01\n",
    "batch_size = 64\n",
    "num_input = 784\n",
    "n_hidden_1 = 100\n",
    "n_hidden_2 = 100\n",
    "num_classes = 10"
   ]
  },
  {
   "cell_type": "markdown",
   "metadata": {},
   "source": [
    "<h2>Define placeholder and Variables</h2>"
   ]
  },
  {
   "cell_type": "code",
   "execution_count": 5,
   "metadata": {},
   "outputs": [],
   "source": [
    "def mnist_model(hp):\n",
    "    \"\"\"\n",
    "    define hp tune\n",
    "    \"\"\"\n",
    "    activation = hp.Choice(\"activation\", values=['relu', 'tanh', 'sigmoid', \"softmax\"])\n",
    "\n",
    "    model = keras.Sequential()\n",
    "    model.add(keras.layers.Flatten(input_shape=(28,28)))\n",
    "    for i in range(hp.Int(\"num_layers\", 2, 6)):\n",
    "        model.add(\n",
    "            keras.layers.Dense(\n",
    "                units=hp.Int(\"units_\" + str(i), min_value=16, max_value=256, step=16),\n",
    "                activation=activation,\n",
    "            )\n",
    "        )\n",
    "    model.add(keras.layers.Dense(10, activation=\"softmax\"))\n",
    "    model.compile(\n",
    "        optimizer=keras.optimizers.Adam(hp.Choice(\"learning_rate\", [1.0, 1e-2, 1e-3, 1e-4])),\n",
    "        loss=tf.keras.losses.BinaryCrossentropy(),\n",
    "        metrics=[\"accuracy\"],\n",
    "    )\n",
    "\n",
    "    return model"
   ]
  },
  {
   "cell_type": "markdown",
   "metadata": {},
   "source": [
    "<h2>Define tuner</h2>"
   ]
  },
  {
   "cell_type": "code",
   "execution_count": 6,
   "metadata": {},
   "outputs": [
    {
     "name": "stdout",
     "output_type": "stream",
     "text": [
      "INFO:tensorflow:Reloading Oracle from existing project my_dir\\minst_tuner\\oracle.json\n",
      "Search space summary\n",
      "Default search space size: 5\n",
      "activation (Choice)\n",
      "{'default': 'relu', 'conditions': [], 'values': ['relu', 'tanh', 'sigmoid', 'softmax'], 'ordered': False}\n",
      "num_layers (Int)\n",
      "{'default': None, 'conditions': [], 'min_value': 2, 'max_value': 6, 'step': 1, 'sampling': None}\n",
      "units_0 (Int)\n",
      "{'default': None, 'conditions': [], 'min_value': 16, 'max_value': 256, 'step': 16, 'sampling': None}\n",
      "units_1 (Int)\n",
      "{'default': None, 'conditions': [], 'min_value': 16, 'max_value': 256, 'step': 16, 'sampling': None}\n",
      "learning_rate (Choice)\n",
      "{'default': 1.0, 'conditions': [], 'values': [1.0, 0.01, 0.001, 0.0001], 'ordered': True}\n"
     ]
    }
   ],
   "source": [
    "tuner = kt.Hyperband(\n",
    "    mnist_model,\n",
    "    objective='val_accuracy',\n",
    "    max_epochs=5,\n",
    "    directory='my_dir',\n",
    "    project_name='minst_tuner'\n",
    ")\n",
    "\n",
    "\n",
    "\n",
    "stop_early = tf.keras.callbacks.EarlyStopping(monitor='val_accuracy', patience=3)\n",
    "tuner.search_space_summary()"
   ]
  },
  {
   "cell_type": "code",
   "execution_count": 7,
   "metadata": {},
   "outputs": [
    {
     "name": "stdout",
     "output_type": "stream",
     "text": [
      "Trial 31 Complete [00h 00m 48s]\n",
      "val_accuracy: 0.9214166402816772\n",
      "\n",
      "Best val_accuracy So Far: 0.9776666760444641\n",
      "Total elapsed time: 00h 11m 15s\n",
      "INFO:tensorflow:Oracle triggered exit\n"
     ]
    }
   ],
   "source": [
    "#START TUNING\n",
    "tuner.search(train_images, train_labels, epochs=3, validation_split=0.2, callbacks=[stop_early])\n",
    "\n",
    "# Get the optimal hyperparameters\n",
    "best_hps=tuner.get_best_hyperparameters(num_trials=1)[0]"
   ]
  },
  {
   "cell_type": "markdown",
   "metadata": {},
   "source": [
    "<h2>Define cost function and accuracy</h2>"
   ]
  },
  {
   "cell_type": "code",
   "execution_count": null,
   "metadata": {},
   "outputs": [],
   "source": []
  },
  {
   "cell_type": "markdown",
   "metadata": {},
   "source": [
    "<h2>Execute training</h2>"
   ]
  },
  {
   "cell_type": "code",
   "execution_count": 8,
   "metadata": {},
   "outputs": [
    {
     "name": "stdout",
     "output_type": "stream",
     "text": [
      "Epoch 1/20\n",
      "938/938 [==============================] - 6s 6ms/step - loss: 0.0533 - accuracy: 0.9036 - val_loss: 0.0202 - val_accuracy: 0.9656\n",
      "Epoch 2/20\n",
      "938/938 [==============================] - 5s 5ms/step - loss: 0.0181 - accuracy: 0.9693 - val_loss: 0.0180 - val_accuracy: 0.9702\n",
      "Epoch 3/20\n",
      "938/938 [==============================] - 5s 5ms/step - loss: 0.0125 - accuracy: 0.9788 - val_loss: 0.0161 - val_accuracy: 0.9731\n",
      "Epoch 4/20\n",
      "938/938 [==============================] - 5s 5ms/step - loss: 0.0098 - accuracy: 0.9836 - val_loss: 0.0144 - val_accuracy: 0.9783\n",
      "Epoch 5/20\n",
      "938/938 [==============================] - 4s 5ms/step - loss: 0.0079 - accuracy: 0.9868 - val_loss: 0.0130 - val_accuracy: 0.9805\n",
      "Epoch 6/20\n",
      "938/938 [==============================] - 4s 5ms/step - loss: 0.0071 - accuracy: 0.9884 - val_loss: 0.0174 - val_accuracy: 0.9747\n",
      "Epoch 7/20\n",
      "938/938 [==============================] - 4s 5ms/step - loss: 0.0060 - accuracy: 0.9902 - val_loss: 0.0164 - val_accuracy: 0.9771\n",
      "Epoch 8/20\n",
      "938/938 [==============================] - 5s 5ms/step - loss: 0.0053 - accuracy: 0.9912 - val_loss: 0.0151 - val_accuracy: 0.9776\n",
      "Epoch 9/20\n",
      "938/938 [==============================] - 5s 5ms/step - loss: 0.0048 - accuracy: 0.9924 - val_loss: 0.0151 - val_accuracy: 0.9788\n",
      "Epoch 10/20\n",
      "938/938 [==============================] - 4s 5ms/step - loss: 0.0043 - accuracy: 0.9932 - val_loss: 0.0162 - val_accuracy: 0.9790\n",
      "Epoch 11/20\n",
      "938/938 [==============================] - 5s 5ms/step - loss: 0.0038 - accuracy: 0.9940 - val_loss: 0.0164 - val_accuracy: 0.9792\n",
      "Epoch 12/20\n",
      "938/938 [==============================] - 5s 5ms/step - loss: 0.0040 - accuracy: 0.9939 - val_loss: 0.0158 - val_accuracy: 0.9801\n",
      "Epoch 13/20\n",
      "938/938 [==============================] - 5s 5ms/step - loss: 0.0032 - accuracy: 0.9949 - val_loss: 0.0146 - val_accuracy: 0.9810\n",
      "Epoch 14/20\n",
      "938/938 [==============================] - 5s 5ms/step - loss: 0.0035 - accuracy: 0.9947 - val_loss: 0.0206 - val_accuracy: 0.9753\n",
      "Epoch 15/20\n",
      "938/938 [==============================] - 4s 5ms/step - loss: 0.0029 - accuracy: 0.9959 - val_loss: 0.0168 - val_accuracy: 0.9798\n",
      "Epoch 16/20\n",
      "938/938 [==============================] - 5s 5ms/step - loss: 0.0027 - accuracy: 0.9958 - val_loss: 0.0196 - val_accuracy: 0.9769\n",
      "Epoch 17/20\n",
      "938/938 [==============================] - 4s 5ms/step - loss: 0.0025 - accuracy: 0.9962 - val_loss: 0.0154 - val_accuracy: 0.9804\n",
      "Epoch 18/20\n",
      "938/938 [==============================] - 5s 5ms/step - loss: 0.0023 - accuracy: 0.9962 - val_loss: 0.0161 - val_accuracy: 0.9834\n",
      "Epoch 19/20\n",
      "938/938 [==============================] - 5s 5ms/step - loss: 0.0022 - accuracy: 0.9969 - val_loss: 0.0206 - val_accuracy: 0.9771\n",
      "Epoch 20/20\n",
      "938/938 [==============================] - 5s 5ms/step - loss: 0.0021 - accuracy: 0.9964 - val_loss: 0.0176 - val_accuracy: 0.9826\n"
     ]
    }
   ],
   "source": [
    "best_hps = tuner.get_best_hyperparameters()[0]\n",
    "model = tuner.hypermodel.build(best_hps)\n",
    "history = model.fit(train_images, train_labels, batch_size=64, epochs=20, validation_data=(test_images, test_labels))"
   ]
  },
  {
   "cell_type": "markdown",
   "metadata": {},
   "source": [
    "<h2>Your results</h2>"
   ]
  },
  {
   "cell_type": "code",
   "execution_count": 9,
   "metadata": {},
   "outputs": [
    {
     "name": "stdout",
     "output_type": "stream",
     "text": [
      "dict_keys(['loss', 'accuracy', 'val_loss', 'val_accuracy'])\n"
     ]
    },
    {
     "data": {
      "text/plain": [
       "Text(0.5, 0, 'epoch')"
      ]
     },
     "execution_count": 9,
     "metadata": {},
     "output_type": "execute_result"
    },
    {
     "data": {
      "image/png": "[encoded data removed]",
      "text/plain": [
       "<Figure size 432x288 with 1 Axes>"
      ]
     },
     "metadata": {
      "needs_background": "light"
     },
     "output_type": "display_data"
    }
   ],
   "source": [
    "print(history.history.keys())\n",
    "plt.plot(history.history[\"accuracy\"])\n",
    "plt.title('model accuracy')\n",
    "plt.ylabel('accuracy')\n",
    "plt.ylabel('accuracy')\n",
    "plt.xlabel('epoch')"
   ]
  },
  {
   "cell_type": "code",
   "execution_count": 10,
   "metadata": {},
   "outputs": [
    {
     "name": "stdout",
     "output_type": "stream",
     "text": [
      "313/313 [==============================] - 1s 2ms/step - loss: 0.0176 - accuracy: 0.9826\n"
     ]
    }
   ],
   "source": [
    "acc=model.evaluate(test_images, test_labels)"
   ]
  },
  {
   "cell_type": "code",
   "execution_count": 11,
   "metadata": {},
   "outputs": [
    {
     "data": {
      "text/plain": [
       "'20157e5cf949c2fbc1a637f2f7fc0cc6'"
      ]
     },
     "execution_count": 11,
     "metadata": {},
     "output_type": "execute_result"
    }
   ],
   "source": [
    "tuner.oracle.get_best_trials()[0].trial_id"
   ]
  }
 ],
 "metadata": {
  "kernelspec": {
   "display_name": "Python 3",
   "language": "python",
   "name": "python3"
  },
  "language_info": {
   "codemirror_mode": {
    "name": "ipython",
    "version": 3
   },
   "file_extension": ".py",
   "mimetype": "text/x-python",
   "name": "python",
   "nbconvert_exporter": "python",
   "pygments_lexer": "ipython3",
   "version": "3.8.12"
  }
 },
 "nbformat": 4,
 "nbformat_minor": 2
}
