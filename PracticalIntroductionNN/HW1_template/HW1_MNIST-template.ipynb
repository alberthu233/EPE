{
 "cells": [
  {
   "cell_type": "code",
   "execution_count": 1,
   "metadata": {},
   "outputs": [],
   "source": [
    "import tensorflow as tf\n",
    "import tensorflow.keras as keras\n",
    "import matplotlib.pyplot as plt\n",
    "import numpy as np\n",
    "import keras_tuner as kt\n",
    "tf.config.experimental.list_physical_devices('GPU')\n",
    "import datetime"
   ]
  },
  {
   "cell_type": "markdown",
   "metadata": {},
   "source": [
    "<h2>Extract MNIST data</h2>\n",
    "<p style=\"font-size:20px\">You can change the option of one_hot encoding."
   ]
  },
  {
   "cell_type": "code",
   "execution_count": 2,
   "metadata": {},
   "outputs": [],
   "source": [
    "#get mnist data, with one_hot encoding\n",
    "mnist = tf.keras.datasets.mnist.load_data(path=\"mnist.npz\")\n",
    "(train_images, train_labels), (test_images, test_labels) = mnist\n",
    "tl = train_labels\n",
    "train_images = train_images.astype(\"float32\")/255.0\n",
    "test_images = test_images.astype(\"float32\")/255.0\n",
    "train_labels = tf.one_hot(train_labels,depth=10)\n",
    "test_labels = tf.one_hot(test_labels, depth=10)"
   ]
  },
  {
   "cell_type": "code",
   "execution_count": 5,
   "metadata": {},
   "outputs": [
    {
     "data": {
      "image/png": "[encoded data removed]",
      "text/plain": [
       "<Figure size 432x288 with 1 Axes>"
      ]
     },
     "metadata": {
      "needs_background": "light"
     },
     "output_type": "display_data"
    }
   ],
   "source": [
    "plt.figure()\n",
    "plt.imshow(train_images[20])\n",
    "plt.grid(False)\n",
    "plt.show()"
   ]
  },
  {
   "cell_type": "markdown",
   "metadata": {},
   "source": [
    "<h2>Define placeholder and Variables</h2>"
   ]
  },
  {
   "cell_type": "code",
   "execution_count": 6,
   "metadata": {},
   "outputs": [],
   "source": [
    "def mnist_model(hp):\n",
    "    \"\"\"\n",
    "    define model for hyper tune\n",
    "    \"\"\"\n",
    "    activation = hp.Choice(\"activation\", values=['relu', 'tanh', 'sigmoid'])\n",
    "\n",
    "    model = keras.Sequential()\n",
    "    model.add(keras.layers.Flatten(input_shape=(28,28)))\n",
    "    for i in range(hp.Int(\"num_layers\", 2, 6)):\n",
    "        model.add(\n",
    "            keras.layers.Dense(\n",
    "                units=hp.Int(\"units_\" + str(i), min_value=16, max_value=256, step=16),\n",
    "                activation=activation,\n",
    "            )\n",
    "        )\n",
    "    model.add(keras.layers.Dense(10, activation=\"softmax\"))\n",
    "    model.compile(\n",
    "        optimizer=keras.optimizers.Adam(hp.Choice(\"learning_rate\", [1.0, 1e-2, 1e-3, 1e-4])),\n",
    "        loss=tf.keras.losses.CategoricalCrossentropy(),\n",
    "        metrics=[\"accuracy\"],\n",
    "    )\n",
    "\n",
    "    return model"
   ]
  },
  {
   "cell_type": "markdown",
   "metadata": {},
   "source": [
    "<h2>Define tuner</h2>"
   ]
  },
  {
   "cell_type": "code",
   "execution_count": 7,
   "metadata": {},
   "outputs": [
    {
     "name": "stdout",
     "output_type": "stream",
     "text": [
      "Search space summary\n",
      "Default search space size: 5\n",
      "activation (Choice)\n",
      "{'default': 'relu', 'conditions': [], 'values': ['relu', 'tanh', 'sigmoid'], 'ordered': False}\n",
      "num_layers (Int)\n",
      "{'default': None, 'conditions': [], 'min_value': 2, 'max_value': 6, 'step': 1, 'sampling': None}\n",
      "units_0 (Int)\n",
      "{'default': None, 'conditions': [], 'min_value': 16, 'max_value': 256, 'step': 16, 'sampling': None}\n",
      "units_1 (Int)\n",
      "{'default': None, 'conditions': [], 'min_value': 16, 'max_value': 256, 'step': 16, 'sampling': None}\n",
      "learning_rate (Choice)\n",
      "{'default': 1.0, 'conditions': [], 'values': [1.0, 0.01, 0.001, 0.0001], 'ordered': True}\n"
     ]
    }
   ],
   "source": [
    "tuner = kt.Hyperband(\n",
    "    mnist_model,\n",
    "    objective='val_accuracy',\n",
    "    max_epochs=10,\n",
    "    directory='my_dir',\n",
    "    project_name='minst_tuner_1'\n",
    ")\n",
    "\n",
    "\n",
    "\n",
    "stop_early = tf.keras.callbacks.EarlyStopping(monitor='val_accuracy', patience=10)\n",
    "\n",
    "tuner.search_space_summary()"
   ]
  },
  {
   "cell_type": "code",
   "execution_count": 8,
   "metadata": {},
   "outputs": [
    {
     "name": "stdout",
     "output_type": "stream",
     "text": [
      "Trial 30 Complete [00h 01m 00s]\n",
      "val_accuracy: 0.1080833300948143\n",
      "\n",
      "Best val_accuracy So Far: 0.9735000133514404\n",
      "Total elapsed time: 00h 15m 03s\n",
      "INFO:tensorflow:Oracle triggered exit\n"
     ]
    }
   ],
   "source": [
    "#START TUNING\n",
    "tuner.search(train_images, train_labels, epochs=10, validation_split=0.2, callbacks=[stop_early])\n",
    "\n",
    "# Get the optimal hyperparameters\n",
    "best_hps=tuner.get_best_hyperparameters(num_trials=1)[0]"
   ]
  },
  {
   "cell_type": "markdown",
   "metadata": {},
   "source": [
    "<h2>Execute training</h2>"
   ]
  },
  {
   "cell_type": "code",
   "execution_count": 9,
   "metadata": {},
   "outputs": [
    {
     "name": "stdout",
     "output_type": "stream",
     "text": [
      "Epoch 1/20\n",
      "938/938 [==============================] - 4s 4ms/step - loss: 0.2577 - accuracy: 0.9228 - val_loss: 0.1458 - val_accuracy: 0.9554\n",
      "Epoch 2/20\n",
      "938/938 [==============================] - 4s 4ms/step - loss: 0.1196 - accuracy: 0.9644 - val_loss: 0.1304 - val_accuracy: 0.9605\n",
      "Epoch 3/20\n",
      "938/938 [==============================] - 4s 4ms/step - loss: 0.0855 - accuracy: 0.9736 - val_loss: 0.0984 - val_accuracy: 0.9693\n",
      "Epoch 4/20\n",
      "938/938 [==============================] - 4s 4ms/step - loss: 0.0646 - accuracy: 0.9794 - val_loss: 0.0915 - val_accuracy: 0.9729\n",
      "Epoch 5/20\n",
      "938/938 [==============================] - 4s 4ms/step - loss: 0.0492 - accuracy: 0.9840 - val_loss: 0.0922 - val_accuracy: 0.9707\n",
      "Epoch 6/20\n",
      "938/938 [==============================] - 3s 4ms/step - loss: 0.0420 - accuracy: 0.9864 - val_loss: 0.0783 - val_accuracy: 0.9765\n",
      "Epoch 7/20\n",
      "938/938 [==============================] - 4s 4ms/step - loss: 0.0337 - accuracy: 0.9893 - val_loss: 0.0886 - val_accuracy: 0.9751\n",
      "Epoch 8/20\n",
      "938/938 [==============================] - 4s 4ms/step - loss: 0.0283 - accuracy: 0.9911 - val_loss: 0.0940 - val_accuracy: 0.9760\n",
      "Epoch 9/20\n",
      "938/938 [==============================] - 4s 4ms/step - loss: 0.0310 - accuracy: 0.9898 - val_loss: 0.0979 - val_accuracy: 0.9744\n",
      "Epoch 10/20\n",
      "938/938 [==============================] - 4s 4ms/step - loss: 0.0206 - accuracy: 0.9934 - val_loss: 0.1055 - val_accuracy: 0.9725\n",
      "Epoch 11/20\n",
      "938/938 [==============================] - 4s 4ms/step - loss: 0.0238 - accuracy: 0.9920 - val_loss: 0.0980 - val_accuracy: 0.9751\n",
      "Epoch 12/20\n",
      "938/938 [==============================] - 5s 6ms/step - loss: 0.0165 - accuracy: 0.9946 - val_loss: 0.1139 - val_accuracy: 0.9740\n",
      "Epoch 13/20\n",
      "938/938 [==============================] - 6s 6ms/step - loss: 0.0199 - accuracy: 0.9932 - val_loss: 0.1005 - val_accuracy: 0.9762\n",
      "Epoch 14/20\n",
      "938/938 [==============================] - 5s 6ms/step - loss: 0.0158 - accuracy: 0.9948 - val_loss: 0.1126 - val_accuracy: 0.9744\n",
      "Epoch 15/20\n",
      "938/938 [==============================] - 4s 4ms/step - loss: 0.0160 - accuracy: 0.9947 - val_loss: 0.1092 - val_accuracy: 0.9742\n",
      "Epoch 16/20\n",
      "938/938 [==============================] - 4s 4ms/step - loss: 0.0151 - accuracy: 0.9948 - val_loss: 0.1134 - val_accuracy: 0.9752\n",
      "Epoch 17/20\n",
      "938/938 [==============================] - 3s 4ms/step - loss: 0.0129 - accuracy: 0.9956 - val_loss: 0.1050 - val_accuracy: 0.9757\n",
      "Epoch 18/20\n",
      "938/938 [==============================] - 4s 4ms/step - loss: 0.0152 - accuracy: 0.9947 - val_loss: 0.0982 - val_accuracy: 0.9767\n",
      "Epoch 19/20\n",
      "938/938 [==============================] - 4s 5ms/step - loss: 0.0134 - accuracy: 0.9959 - val_loss: 0.1003 - val_accuracy: 0.9766\n",
      "Epoch 20/20\n",
      "938/938 [==============================] - 4s 4ms/step - loss: 0.0104 - accuracy: 0.9963 - val_loss: 0.1144 - val_accuracy: 0.9754\n"
     ]
    }
   ],
   "source": [
    "tb_callback = tf.keras.callbacks.TensorBoard(log_dir=\"/my_dir/mnist_logs\")\n",
    "best_hps = tuner.get_best_hyperparameters()[0]\n",
    "model = tuner.hypermodel.build(best_hps)\n",
    "history = model.fit(train_images,\n",
    "                    train_labels,\n",
    "                    batch_size=64,\n",
    "                    epochs=20,\n",
    "                    validation_data=(test_images, test_labels),\n",
    "                    callbacks=[tb_callback])"
   ]
  },
  {
   "cell_type": "markdown",
   "metadata": {},
   "source": [
    "<h2>Your results</h2>"
   ]
  },
  {
   "cell_type": "code",
   "execution_count": 10,
   "metadata": {},
   "outputs": [
    {
     "name": "stdout",
     "output_type": "stream",
     "text": [
      "dict_keys(['loss', 'accuracy', 'val_loss', 'val_accuracy'])\n"
     ]
    },
    {
     "data": {
      "text/plain": [
       "Text(0.5, 0, 'epoch')"
      ]
     },
     "execution_count": 10,
     "metadata": {},
     "output_type": "execute_result"
    },
    {
     "data": {
      "image/png": "[encoded data removed]",
      "text/plain": [
       "<Figure size 432x288 with 1 Axes>"
      ]
     },
     "metadata": {
      "needs_background": "light"
     },
     "output_type": "display_data"
    }
   ],
   "source": [
    "print(history.history.keys())\n",
    "plt.plot(history.history[\"val_loss\"])\n",
    "plt.title('model accuracy')\n",
    "plt.ylabel('accuracy')\n",
    "plt.ylabel('accuracy')\n",
    "plt.xlabel('epoch')"
   ]
  },
  {
   "cell_type": "code",
   "execution_count": 11,
   "metadata": {},
   "outputs": [
    {
     "name": "stdout",
     "output_type": "stream",
     "text": [
      "313/313 [==============================] - 1s 3ms/step - loss: 0.1144 - accuracy: 0.9754\n"
     ]
    }
   ],
   "source": [
    "acc=model.evaluate(test_images, test_labels)"
   ]
  },
  {
   "cell_type": "code",
   "execution_count": 12,
   "metadata": {},
   "outputs": [
    {
     "name": "stdout",
     "output_type": "stream",
     "text": [
      "Model: \"sequential_1\"\n",
      "_________________________________________________________________\n",
      "Layer (type)                 Output Shape              Param #   \n",
      "=================================================================\n",
      "flatten_1 (Flatten)          (None, 784)               0         \n",
      "_________________________________________________________________\n",
      "dense_6 (Dense)              (None, 240)               188400    \n",
      "_________________________________________________________________\n",
      "dense_7 (Dense)              (None, 176)               42416     \n",
      "_________________________________________________________________\n",
      "dense_8 (Dense)              (None, 80)                14160     \n",
      "_________________________________________________________________\n",
      "dense_9 (Dense)              (None, 128)               10368     \n",
      "_________________________________________________________________\n",
      "dense_10 (Dense)             (None, 10)                1290      \n",
      "=================================================================\n",
      "Total params: 256,634\n",
      "Trainable params: 256,634\n",
      "Non-trainable params: 0\n",
      "_________________________________________________________________\n"
     ]
    }
   ],
   "source": [
    "tuner.oracle.get_best_trials()[0].trial_id\n",
    "model.summary()"
   ]
  },
  {
   "cell_type": "code",
   "execution_count": 13,
   "metadata": {},
   "outputs": [
    {
     "name": "stdout",
     "output_type": "stream",
     "text": [
      "Results summary\n",
      "Results in my_dir\\minst_tuner_1\n",
      "Showing 10 best trials\n",
      "Objective(name='val_accuracy', direction='max')\n",
      "Trial summary\n",
      "Hyperparameters:\n",
      "activation: tanh\n",
      "num_layers: 4\n",
      "units_0: 240\n",
      "units_1: 176\n",
      "learning_rate: 0.001\n",
      "units_2: 80\n",
      "units_3: 128\n",
      "units_4: 208\n",
      "units_5: 32\n",
      "tuner/epochs: 10\n",
      "tuner/initial_epoch: 0\n",
      "tuner/bracket: 0\n",
      "tuner/round: 0\n",
      "Score: 0.9735000133514404\n",
      "Trial summary\n",
      "Hyperparameters:\n",
      "activation: relu\n",
      "num_layers: 3\n",
      "units_0: 32\n",
      "units_1: 96\n",
      "learning_rate: 0.001\n",
      "units_2: 224\n",
      "units_3: 48\n",
      "units_4: 64\n",
      "units_5: 144\n",
      "tuner/epochs: 10\n",
      "tuner/initial_epoch: 0\n",
      "tuner/bracket: 0\n",
      "tuner/round: 0\n",
      "Score: 0.9700000286102295\n",
      "Trial summary\n",
      "Hyperparameters:\n",
      "activation: tanh\n",
      "num_layers: 5\n",
      "units_0: 80\n",
      "units_1: 240\n",
      "learning_rate: 0.001\n",
      "units_2: 128\n",
      "units_3: 144\n",
      "units_4: 192\n",
      "units_5: 240\n",
      "tuner/epochs: 10\n",
      "tuner/initial_epoch: 4\n",
      "tuner/bracket: 2\n",
      "tuner/round: 2\n",
      "tuner/trial_id: 3a086c4deb4bfb7343b5df40ace08fec\n",
      "Score: 0.9679166674613953\n",
      "Trial summary\n",
      "Hyperparameters:\n",
      "activation: tanh\n",
      "num_layers: 3\n",
      "units_0: 64\n",
      "units_1: 176\n",
      "learning_rate: 0.001\n",
      "units_2: 16\n",
      "units_3: 32\n",
      "units_4: 192\n",
      "tuner/epochs: 10\n",
      "tuner/initial_epoch: 4\n",
      "tuner/bracket: 2\n",
      "tuner/round: 2\n",
      "tuner/trial_id: 0a469d45e9c857d4d73cfd7c7ac3b333\n",
      "Score: 0.9660000205039978\n",
      "Trial summary\n",
      "Hyperparameters:\n",
      "activation: sigmoid\n",
      "num_layers: 6\n",
      "units_0: 128\n",
      "units_1: 160\n",
      "learning_rate: 0.001\n",
      "units_2: 256\n",
      "units_3: 240\n",
      "units_4: 128\n",
      "units_5: 160\n",
      "tuner/epochs: 10\n",
      "tuner/initial_epoch: 4\n",
      "tuner/bracket: 1\n",
      "tuner/round: 1\n",
      "tuner/trial_id: 808626fb578594809eaed797658ec94c\n",
      "Score: 0.9614999890327454\n",
      "Trial summary\n",
      "Hyperparameters:\n",
      "activation: sigmoid\n",
      "num_layers: 6\n",
      "units_0: 192\n",
      "units_1: 48\n",
      "learning_rate: 0.01\n",
      "units_2: 48\n",
      "units_3: 96\n",
      "units_4: 96\n",
      "units_5: 48\n",
      "tuner/epochs: 10\n",
      "tuner/initial_epoch: 0\n",
      "tuner/bracket: 0\n",
      "tuner/round: 0\n",
      "Score: 0.9586666822433472\n",
      "Trial summary\n",
      "Hyperparameters:\n",
      "activation: tanh\n",
      "num_layers: 6\n",
      "units_0: 32\n",
      "units_1: 208\n",
      "learning_rate: 0.001\n",
      "units_2: 240\n",
      "units_3: 160\n",
      "units_4: 80\n",
      "units_5: 256\n",
      "tuner/epochs: 10\n",
      "tuner/initial_epoch: 4\n",
      "tuner/bracket: 1\n",
      "tuner/round: 1\n",
      "tuner/trial_id: f95098c5631ec0423e533718529303e2\n",
      "Score: 0.9581666588783264\n",
      "Trial summary\n",
      "Hyperparameters:\n",
      "activation: tanh\n",
      "num_layers: 3\n",
      "units_0: 64\n",
      "units_1: 176\n",
      "learning_rate: 0.001\n",
      "units_2: 16\n",
      "units_3: 32\n",
      "units_4: 192\n",
      "tuner/epochs: 2\n",
      "tuner/initial_epoch: 0\n",
      "tuner/bracket: 2\n",
      "tuner/round: 0\n",
      "Score: 0.9556666612625122\n",
      "Trial summary\n",
      "Hyperparameters:\n",
      "activation: tanh\n",
      "num_layers: 5\n",
      "units_0: 80\n",
      "units_1: 240\n",
      "learning_rate: 0.001\n",
      "units_2: 128\n",
      "units_3: 144\n",
      "units_4: 192\n",
      "units_5: 240\n",
      "tuner/epochs: 4\n",
      "tuner/initial_epoch: 2\n",
      "tuner/bracket: 2\n",
      "tuner/round: 1\n",
      "tuner/trial_id: 3f9fe9404edce4a3ee961862fe04a9a0\n",
      "Score: 0.9543333053588867\n",
      "Trial summary\n",
      "Hyperparameters:\n",
      "activation: tanh\n",
      "num_layers: 3\n",
      "units_0: 64\n",
      "units_1: 176\n",
      "learning_rate: 0.001\n",
      "units_2: 16\n",
      "units_3: 32\n",
      "units_4: 192\n",
      "tuner/epochs: 4\n",
      "tuner/initial_epoch: 2\n",
      "tuner/bracket: 2\n",
      "tuner/round: 1\n",
      "tuner/trial_id: 4c9e31ee50f43f924abb0df24ba8b279\n",
      "Score: 0.9537500143051147\n"
     ]
    }
   ],
   "source": [
    "tuner.results_summary()"
   ]
  },
  {
   "cell_type": "code",
   "execution_count": null,
   "metadata": {},
   "outputs": [],
   "source": [
    "tf.keras"
   ]
  }
 ],
 "metadata": {
  "kernelspec": {
   "display_name": "Python 3",
   "language": "python",
   "name": "python3"
  },
  "language_info": {
   "codemirror_mode": {
    "name": "ipython",
    "version": 3
   },
   "file_extension": ".py",
   "mimetype": "text/x-python",
   "name": "python",
   "nbconvert_exporter": "python",
   "pygments_lexer": "ipython3",
   "version": "3.8.12"
  }
 },
 "nbformat": 4,
 "nbformat_minor": 2
}
