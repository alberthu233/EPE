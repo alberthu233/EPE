{
 "cells": [
  {
   "cell_type": "code",
   "execution_count": 23,
   "metadata": {},
   "outputs": [
    {
     "data": {
      "text/html": [
       "Finishing last run (ID:weotoqb2) before initializing another..."
      ],
      "text/plain": [
       "<IPython.core.display.HTML object>"
      ]
     },
     "metadata": {},
     "output_type": "display_data"
    },
    {
     "data": {
      "text/html": [
       "<br/>Waiting for W&B process to finish, PID 28888... <strong style=\"color:green\">(success).</strong>"
      ],
      "text/plain": [
       "<IPython.core.display.HTML object>"
      ]
     },
     "metadata": {},
     "output_type": "display_data"
    },
    {
     "data": {
      "application/vnd.jupyter.widget-view+json": {
       "model_id": "29b26c270e644e739fd3f427a9cc4f48",
       "version_major": 2,
       "version_minor": 0
      },
      "text/plain": [
       "VBox(children=(Label(value=' 3.57MB of 3.57MB uploaded (0.00MB deduped)\\r'), FloatProgress(value=1.0, max=1.0)…"
      ]
     },
     "metadata": {},
     "output_type": "display_data"
    },
    {
     "data": {
      "text/html": [
       "<style>\n",
       "    table.wandb td:nth-child(1) { padding: 0 10px; text-align: right }\n",
       "    .wandb-row { display: flex; flex-direction: row; flex-wrap: wrap; width: 100% }\n",
       "    .wandb-col { display: flex; flex-direction: column; flex-basis: 100%; flex: 1; padding: 10px; }\n",
       "    </style>\n",
       "<div class=\"wandb-row\"><div class=\"wandb-col\">\n",
       "<h3>Run history:</h3><br/><table class=\"wandb\"><tr><td>accuracy</td><td>▁▅▆▇▇▇▇▇██████████</td></tr><tr><td>epoch</td><td>▁▁▂▂▃▃▃▄▄▅▅▆▆▆▇▇██</td></tr><tr><td>loss</td><td>█▄▃▂▂▂▂▁▁▁▁▁▁▁▁▁▁▁</td></tr><tr><td>val_accuracy</td><td>▁▄▅▇▆▆▆▆▆██▆█▇█▇█▇</td></tr><tr><td>val_loss</td><td>█▅▂▁▂▄▃▂▃▂▂▄▂▃▂▃▃▅</td></tr></table><br/></div><div class=\"wandb-col\">\n",
       "<h3>Run summary:</h3><br/><table class=\"wandb\"><tr><td>best_epoch</td><td>3</td></tr><tr><td>best_val_loss</td><td>0.07805</td></tr><tr><td>epoch</td><td>17</td></tr></table>\n",
       "</div></div>\n",
       "Synced 5 W&B file(s), 1 media file(s), 0 artifact file(s) and 1 other file(s)\n",
       "<br/>Synced <strong style=\"color:#cdcd00\">colorful-river-3</strong>: <a href=\"https://wandb.ai/alberthu233/my-test-project/runs/weotoqb2\" target=\"_blank\">https://wandb.ai/alberthu233/my-test-project/runs/weotoqb2</a><br/>\n",
       "Find logs at: <code>.\\wandb\\run-20211112_164206-weotoqb2\\logs</code><br/>\n"
      ],
      "text/plain": [
       "<IPython.core.display.HTML object>"
      ]
     },
     "metadata": {},
     "output_type": "display_data"
    },
    {
     "data": {
      "text/html": [
       "Successfully finished last run (ID:weotoqb2). Initializing new run:<br/>"
      ],
      "text/plain": [
       "<IPython.core.display.HTML object>"
      ]
     },
     "metadata": {},
     "output_type": "display_data"
    },
    {
     "data": {
      "text/html": [
       "\n",
       "                    Syncing run <strong><a href=\"https://wandb.ai/alberthu233/my-test-project/runs/1lzsh9i9\" target=\"_blank\">sweet-armadillo-4</a></strong> to <a href=\"https://wandb.ai/alberthu233/my-test-project\" target=\"_blank\">Weights & Biases</a> (<a href=\"https://docs.wandb.com/integrations/jupyter.html\" target=\"_blank\">docs</a>).<br/>\n",
       "\n",
       "                "
      ],
      "text/plain": [
       "<IPython.core.display.HTML object>"
      ]
     },
     "metadata": {},
     "output_type": "display_data"
    },
    {
     "data": {
      "text/html": [
       "<button onClick=\"this.nextSibling.style.display='block';this.style.display='none';\">Display W&B run</button><iframe src=\"https://wandb.ai/alberthu233/my-test-project/runs/1lzsh9i9?jupyter=true\" style=\"border:none;width:100%;height:420px;display:none;\"></iframe>"
      ],
      "text/plain": [
       "<wandb.sdk.wandb_run.Run at 0x247c8028eb0>"
      ]
     },
     "execution_count": 23,
     "metadata": {},
     "output_type": "execute_result"
    }
   ],
   "source": [
    "import tensorflow as tf\n",
    "import tensorflow.keras as keras\n",
    "import matplotlib.pyplot as plt\n",
    "import numpy as np\n",
    "import keras_tuner as kt\n",
    "tf.config.experimental.list_physical_devices('GPU')\n",
    "import datetime\n",
    "import wandb\n",
    "from wandb.keras import WandbCallback\n",
    "wandb.init(project=\"my-test-project\", entity=\"alberthu233\")"
   ]
  },
  {
   "cell_type": "code",
   "execution_count": 24,
   "metadata": {},
   "outputs": [],
   "source": [
    "mnist = tf.keras.datasets.mnist.load_data(path=\"mnist.npz\")\n",
    "(train_images, train_labels), (test_images, test_labels) = mnist\n",
    "tl = train_labels\n",
    "train_images = train_images.astype(\"float32\")/255.0\n",
    "test_images = test_images.astype(\"float32\")/255.0\n",
    "train_labels = tf.one_hot(train_labels,depth=10)\n",
    "test_labels = tf.one_hot(test_labels, depth=10)"
   ]
  },
  {
   "cell_type": "code",
   "execution_count": 25,
   "metadata": {},
   "outputs": [],
   "source": [
    "wandb.config = {\n",
    "  \"learning_rate\": 0.001,\n",
    "  \"epochs\": 18,\n",
    "  \"batch_size\": 64\n",
    "}\n",
    "model = keras.Sequential([\n",
    "    keras.layers.Flatten(input_shape=(28,28)),\n",
    "    keras.layers.Dense(units=256,activation=\"relu\"),\n",
    "    keras.layers.Dense(units=176,activation=\"relu\"),\n",
    "    keras.layers.Dense(units=32,activation=\"relu\"),\n",
    "    keras.layers.Dense(units=192,activation=\"relu\"),\n",
    "    keras.layers.Dense(units=240,activation=\"relu\"),\n",
    "    keras.layers.Dense(10, activation=\"softmax\")])\n",
    "model.compile(optimizer=keras.optimizers.Adam(learning_rate=0.001),\n",
    "              loss=tf.keras.losses.CategoricalCrossentropy(),\n",
    "              metrics=[\"accuracy\"])"
   ]
  },
  {
   "cell_type": "code",
   "execution_count": 26,
   "metadata": {},
   "outputs": [
    {
     "name": "stdout",
     "output_type": "stream",
     "text": [
      "Epoch 1/18\n",
      "938/938 [==============================] - 5s 5ms/step - loss: 0.2469 - accuracy: 0.9251 - val_loss: 0.1386 - val_accuracy: 0.9556\n",
      "Epoch 2/18\n",
      "938/938 [==============================] - 4s 4ms/step - loss: 0.1039 - accuracy: 0.9697 - val_loss: 0.0875 - val_accuracy: 0.9733\n",
      "Epoch 3/18\n",
      "938/938 [==============================] - 4s 4ms/step - loss: 0.0739 - accuracy: 0.9776 - val_loss: 0.0851 - val_accuracy: 0.9741\n",
      "Epoch 4/18\n",
      "938/938 [==============================] - 5s 6ms/step - loss: 0.0570 - accuracy: 0.9822 - val_loss: 0.0868 - val_accuracy: 0.9751\n",
      "Epoch 5/18\n",
      "938/938 [==============================] - 4s 4ms/step - loss: 0.0483 - accuracy: 0.9852 - val_loss: 0.0927 - val_accuracy: 0.9741\n",
      "Epoch 6/18\n",
      "938/938 [==============================] - 3s 4ms/step - loss: 0.0427 - accuracy: 0.9872 - val_loss: 0.0779 - val_accuracy: 0.9793\n",
      "Epoch 7/18\n",
      "938/938 [==============================] - 3s 3ms/step - loss: 0.0344 - accuracy: 0.9896 - val_loss: 0.0806 - val_accuracy: 0.9771\n",
      "Epoch 8/18\n",
      "938/938 [==============================] - 4s 4ms/step - loss: 0.0293 - accuracy: 0.9908 - val_loss: 0.0881 - val_accuracy: 0.9797\n",
      "Epoch 9/18\n",
      "938/938 [==============================] - 3s 4ms/step - loss: 0.0280 - accuracy: 0.9912 - val_loss: 0.0963 - val_accuracy: 0.9762\n",
      "Epoch 10/18\n",
      "938/938 [==============================] - 4s 4ms/step - loss: 0.0240 - accuracy: 0.9924 - val_loss: 0.0686 - val_accuracy: 0.9825\n",
      "Epoch 11/18\n",
      "938/938 [==============================] - 4s 4ms/step - loss: 0.0204 - accuracy: 0.9937 - val_loss: 0.0891 - val_accuracy: 0.9798\n",
      "Epoch 12/18\n",
      "938/938 [==============================] - 4s 4ms/step - loss: 0.0216 - accuracy: 0.9935 - val_loss: 0.0906 - val_accuracy: 0.9800\n",
      "Epoch 13/18\n",
      "938/938 [==============================] - 4s 4ms/step - loss: 0.0184 - accuracy: 0.9947 - val_loss: 0.0807 - val_accuracy: 0.9809\n",
      "Epoch 14/18\n",
      "938/938 [==============================] - 4s 4ms/step - loss: 0.0186 - accuracy: 0.9944 - val_loss: 0.0865 - val_accuracy: 0.9806\n",
      "Epoch 15/18\n",
      "938/938 [==============================] - 3s 3ms/step - loss: 0.0151 - accuracy: 0.9955 - val_loss: 0.1157 - val_accuracy: 0.9779\n",
      "Epoch 16/18\n",
      "938/938 [==============================] - 4s 4ms/step - loss: 0.0160 - accuracy: 0.9953 - val_loss: 0.1061 - val_accuracy: 0.9781\n",
      "Epoch 17/18\n",
      "938/938 [==============================] - 4s 4ms/step - loss: 0.0143 - accuracy: 0.9959 - val_loss: 0.0963 - val_accuracy: 0.9810\n",
      "Epoch 18/18\n",
      "938/938 [==============================] - 4s 4ms/step - loss: 0.0144 - accuracy: 0.9958 - val_loss: 0.1014 - val_accuracy: 0.9792\n"
     ]
    }
   ],
   "source": [
    "\n",
    "history = model.fit(train_images,\n",
    "                    train_labels,\n",
    "                    batch_size=64,\n",
    "                    epochs=18,\n",
    "                    validation_data=(test_images, test_labels),\n",
    "                    callbacks=[WandbCallback()])"
   ]
  },
  {
   "cell_type": "code",
   "execution_count": 27,
   "metadata": {},
   "outputs": [],
   "source": [
    "wandb.log({'accuracy': history.history[\"accuracy\"],\n",
    "           'loss': history.history[\"loss\"],\n",
    "           'val_loss': history.history[\"val_loss\"],\n",
    "           'val_accuracy': history.history[\"val_accuracy\"]})"
   ]
  }
 ],
 "metadata": {
  "interpreter": {
   "hash": "f63929e3db36fe13aee1081860966e065fd27c1f14440ef685fe33e45209081c"
  },
  "kernelspec": {
   "display_name": "Python 3.8.12 64-bit ('tf-gpu': conda)",
   "language": "python",
   "name": "python3"
  },
  "language_info": {
   "codemirror_mode": {
    "name": "ipython",
    "version": 3
   },
   "file_extension": ".py",
   "mimetype": "text/x-python",
   "name": "python",
   "nbconvert_exporter": "python",
   "pygments_lexer": "ipython3",
   "version": "3.8.12"
  },
  "orig_nbformat": 4
 },
 "nbformat": 4,
 "nbformat_minor": 2
}
