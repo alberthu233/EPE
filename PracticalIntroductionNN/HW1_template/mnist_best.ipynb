{
 "cells": [
  {
   "cell_type": "code",
   "execution_count": 1,
   "metadata": {},
   "outputs": [],
   "source": [
    "import tensorflow as tf\n",
    "import tensorflow.keras as keras\n",
    "import matplotlib.pyplot as plt\n",
    "import numpy as np\n",
    "import keras_tuner as kt\n",
    "tf.config.experimental.list_physical_devices('GPU')\n",
    "import datetime"
   ]
  },
  {
   "cell_type": "code",
   "execution_count": 2,
   "metadata": {},
   "outputs": [],
   "source": [
    "mnist = tf.keras.datasets.mnist.load_data(path=\"mnist.npz\")\n",
    "(train_images, train_labels), (test_images, test_labels) = mnist\n",
    "tl = train_labels\n",
    "train_images = train_images.astype(\"float32\")/255.0\n",
    "test_images = test_images.astype(\"float32\")/255.0\n",
    "train_labels = tf.one_hot(train_labels,depth=10)\n",
    "test_labels = tf.one_hot(test_labels, depth=10)"
   ]
  },
  {
   "cell_type": "code",
   "execution_count": 3,
   "metadata": {},
   "outputs": [],
   "source": [
    "model = keras.Sequential([\n",
    "    keras.layers.Flatten(input_shape=(28,28)),\n",
    "    keras.layers.Dense(units=256,activation=\"relu\"),\n",
    "    keras.layers.Dense(units=176,activation=\"relu\"),\n",
    "    keras.layers.Dense(units=32,activation=\"relu\"),\n",
    "    keras.layers.Dense(units=192,activation=\"relu\"),\n",
    "    keras.layers.Dense(units=240,activation=\"relu\"),\n",
    "    keras.layers.Dense(10, activation=\"softmax\")])\n",
    "model.compile(optimizer=keras.optimizers.Adam(learning_rate=0.001),\n",
    "              loss=tf.keras.losses.CategoricalCrossentropy(),\n",
    "              metrics=[\"accuracy\"])"
   ]
  },
  {
   "cell_type": "code",
   "execution_count": 4,
   "metadata": {},
   "outputs": [
    {
     "name": "stdout",
     "output_type": "stream",
     "text": [
      "/my_dir/logs/fit20211111-220540\n",
      "Epoch 1/18\n",
      "938/938 [==============================] - 6s 5ms/step - loss: 0.2505 - accuracy: 0.9247 - val_loss: 0.1305 - val_accuracy: 0.9578\n",
      "Epoch 2/18\n",
      "938/938 [==============================] - 4s 4ms/step - loss: 0.0992 - accuracy: 0.9700 - val_loss: 0.1078 - val_accuracy: 0.9697\n",
      "Epoch 3/18\n",
      "938/938 [==============================] - 4s 4ms/step - loss: 0.0752 - accuracy: 0.9775 - val_loss: 0.0962 - val_accuracy: 0.9717\n",
      "Epoch 4/18\n",
      "938/938 [==============================] - 4s 5ms/step - loss: 0.0561 - accuracy: 0.9829 - val_loss: 0.0967 - val_accuracy: 0.9729\n",
      "Epoch 5/18\n",
      "938/938 [==============================] - 5s 5ms/step - loss: 0.0497 - accuracy: 0.9844 - val_loss: 0.0961 - val_accuracy: 0.9742\n",
      "Epoch 6/18\n",
      "938/938 [==============================] - 4s 4ms/step - loss: 0.0403 - accuracy: 0.9872 - val_loss: 0.0806 - val_accuracy: 0.9774\n",
      "Epoch 7/18\n",
      "938/938 [==============================] - 4s 5ms/step - loss: 0.0357 - accuracy: 0.9884 - val_loss: 0.0905 - val_accuracy: 0.9732\n",
      "Epoch 8/18\n",
      "938/938 [==============================] - 4s 5ms/step - loss: 0.0301 - accuracy: 0.9908 - val_loss: 0.0880 - val_accuracy: 0.9765\n",
      "Epoch 9/18\n",
      "938/938 [==============================] - 4s 4ms/step - loss: 0.0276 - accuracy: 0.9914 - val_loss: 0.0816 - val_accuracy: 0.9801\n",
      "Epoch 10/18\n",
      "938/938 [==============================] - 5s 6ms/step - loss: 0.0237 - accuracy: 0.9928 - val_loss: 0.0980 - val_accuracy: 0.9772\n",
      "Epoch 11/18\n",
      "938/938 [==============================] - 5s 5ms/step - loss: 0.0223 - accuracy: 0.9931 - val_loss: 0.1036 - val_accuracy: 0.9767\n",
      "Epoch 12/18\n",
      "938/938 [==============================] - 4s 5ms/step - loss: 0.0215 - accuracy: 0.9933 - val_loss: 0.0856 - val_accuracy: 0.9822\n",
      "Epoch 13/18\n",
      "938/938 [==============================] - 5s 5ms/step - loss: 0.0194 - accuracy: 0.9941 - val_loss: 0.1112 - val_accuracy: 0.9765\n",
      "Epoch 14/18\n",
      "938/938 [==============================] - 4s 5ms/step - loss: 0.0166 - accuracy: 0.9951 - val_loss: 0.1054 - val_accuracy: 0.9767\n",
      "Epoch 15/18\n",
      "938/938 [==============================] - 4s 4ms/step - loss: 0.0169 - accuracy: 0.9949 - val_loss: 0.0907 - val_accuracy: 0.9786\n",
      "Epoch 16/18\n",
      "938/938 [==============================] - 4s 4ms/step - loss: 0.0177 - accuracy: 0.9949 - val_loss: 0.1107 - val_accuracy: 0.9753\n",
      "Epoch 17/18\n",
      "938/938 [==============================] - 5s 5ms/step - loss: 0.0140 - accuracy: 0.9955 - val_loss: 0.1061 - val_accuracy: 0.9806\n",
      "Epoch 18/18\n",
      "938/938 [==============================] - 4s 4ms/step - loss: 0.0134 - accuracy: 0.9961 - val_loss: 0.1164 - val_accuracy: 0.9776\n"
     ]
    }
   ],
   "source": [
    "logdir=\"/my_dir/logs/fit\" + datetime.datetime.now().strftime(\"%Y%m%d-%H%M%S\")\n",
    "print(logdir)\n",
    "tb_callback = tf.keras.callbacks.TensorBoard(log_dir=logdir, histogram_freq=1)\n",
    "history = model.fit(train_images,\n",
    "                    train_labels,\n",
    "                    batch_size=64,\n",
    "                    epochs=18,\n",
    "                    validation_data=(test_images, test_labels),\n",
    "                    callbacks=[tb_callback])"
   ]
  }
 ],
 "metadata": {
  "interpreter": {
   "hash": "f63929e3db36fe13aee1081860966e065fd27c1f14440ef685fe33e45209081c"
  },
  "kernelspec": {
   "display_name": "Python 3.8.12 64-bit ('tf-gpu': conda)",
   "language": "python",
   "name": "python3"
  },
  "language_info": {
   "codemirror_mode": {
    "name": "ipython",
    "version": 3
   },
   "file_extension": ".py",
   "mimetype": "text/x-python",
   "name": "python",
   "nbconvert_exporter": "python",
   "pygments_lexer": "ipython3",
   "version": "3.8.12"
  },
  "orig_nbformat": 4
 },
 "nbformat": 4,
 "nbformat_minor": 2
}
