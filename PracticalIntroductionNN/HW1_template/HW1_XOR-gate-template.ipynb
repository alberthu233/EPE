{
 "cells": [
  {
   "cell_type": "code",
   "execution_count": 1,
   "metadata": {},
   "outputs": [],
   "source": [
    "import tensorflow as tf\n",
    "import numpy as np\n",
    "import matplotlib.pyplot as plt"
   ]
  },
  {
   "cell_type": "markdown",
   "metadata": {},
   "source": [
    "<h2>Define Hyper-parameters</h2>"
   ]
  },
  {
   "cell_type": "code",
   "execution_count": 2,
   "metadata": {},
   "outputs": [],
   "source": [
    "lr = 1"
   ]
  },
  {
   "cell_type": "markdown",
   "metadata": {},
   "source": [
    "<h2>Define your input data and expected labels</h2>"
   ]
  },
  {
   "cell_type": "code",
   "execution_count": 3,
   "metadata": {},
   "outputs": [],
   "source": [
    "x = np.array([[0,0],[1,0],[1,1],[0,1]], dtype=np.float32)\n",
    "y = np.array([[0], \n",
    "              [1], \n",
    "              [0], \n",
    "              [1]], dtype=np.float32)"
   ]
  },
  {
   "cell_type": "markdown",
   "metadata": {},
   "source": [
    "<h2>Define the neural network</h2>"
   ]
  },
  {
   "cell_type": "code",
   "execution_count": 15,
   "metadata": {},
   "outputs": [],
   "source": [
    "model = tf.keras.models.Sequential()\n",
    "# input layer\n",
    "model.add(tf.keras.Input(shape=(2,)))\n",
    "# Dense: out=activation(dot(input,kernel)+bias)\n",
    "model.add(tf.keras.layers.Dense(2, activation=tf.keras.activations.sigmoid))\n",
    "# output layer\n",
    "model.add(tf.keras.layers.Dense(1, activation=tf.keras.activations.sigmoid))\n",
    "\n",
    "model.compile(optimizer=tf.keras.optimizers.SGD(learning_rate=lr),\n",
    "              loss=tf.keras.losses.BinaryCrossentropy(), \n",
    "              metrics=['mse', 'accuracy'])"
   ]
  },
  {
   "cell_type": "markdown",
   "metadata": {},
   "source": [
    "<h2>Define cost function</h2>"
   ]
  },
  {
   "cell_type": "markdown",
   "metadata": {},
   "source": []
  },
  {
   "cell_type": "markdown",
   "metadata": {},
   "source": [
    "<h2>Execute training</h2>"
   ]
  },
  {
   "cell_type": "code",
   "execution_count": 16,
   "metadata": {
    "scrolled": false
   },
   "outputs": [
    {
     "data": {
      "text/plain": [
       "<keras.callbacks.History at 0x28362843550>"
      ]
     },
     "execution_count": 16,
     "metadata": {},
     "output_type": "execute_result"
    }
   ],
   "source": [
    "model.fit(x, y, batch_size=1, epochs=500, verbose=False)"
   ]
  },
  {
   "cell_type": "markdown",
   "metadata": {},
   "source": [
    "<h2>Plot</h2>"
   ]
  },
  {
   "cell_type": "code",
   "execution_count": 17,
   "metadata": {},
   "outputs": [
    {
     "name": "stdout",
     "output_type": "stream",
     "text": [
      "[[0.00661768]\n",
      " [0.9949366 ]\n",
      " [0.00575525]\n",
      " [0.9949722 ]]\n"
     ]
    }
   ],
   "source": [
    "predictions = model.predict(x)\n",
    "print(predictions)\n",
    "\n",
    "w0 = model.layers[0].get_weights()[0]\n",
    "w1 = model.layers[1].get_weights()[0]\n",
    "b0 = model.layers[0].get_weights()[1]\n",
    "b1 = model.layers[0].get_weights()[1]"
   ]
  },
  {
   "cell_type": "code",
   "execution_count": 18,
   "metadata": {},
   "outputs": [
    {
     "name": "stdout",
     "output_type": "stream",
     "text": [
      "[[ 6.495818  -6.9645476]\n",
      " [-6.7847157  6.715721 ]] [[11.467136]\n",
      " [11.423147]]\n",
      "[-3.5434957 -3.6688511] [-3.5434957 -3.6688511]\n"
     ]
    }
   ],
   "source": [
    "print(w0, w1)\n",
    "print(b0, b1)"
   ]
  },
  {
   "cell_type": "code",
   "execution_count": 28,
   "metadata": {},
   "outputs": [
    {
     "data": {
      "image/png": "[encoded data removed]",
      "text/plain": [
       "<Figure size 432x288 with 1 Axes>"
      ]
     },
     "metadata": {
      "needs_background": "light"
     },
     "output_type": "display_data"
    }
   ],
   "source": [
    "px = np.array([np.min(x[:, 0] - 0.2), np.max(x[:, 1] + 0.2)])\n",
    "p1 = 1 / w0[1,0] * (-w0[0,0] * px - b1[0])\n",
    "p2 = 1 / w0[1,1] * (-w0[0,1] * px - b1[1])\n",
    "\n",
    "plt.scatter(x[:, 0], x[:, 1], c=np.squeeze(y))\n",
    "plt.plot(px, p1)\n",
    "plt.plot(px, p2)\n",
    "plt.xlim([-0.2, 1.2]); plt.ylim([-0.2, 1.2])\n",
    "plt.show()"
   ]
  },
  {
   "cell_type": "code",
   "execution_count": null,
   "metadata": {},
   "outputs": [],
   "source": []
  }
 ],
 "metadata": {
  "kernelspec": {
   "display_name": "Python 3",
   "language": "python",
   "name": "python3"
  },
  "language_info": {
   "codemirror_mode": {
    "name": "ipython",
    "version": 3
   },
   "file_extension": ".py",
   "mimetype": "text/x-python",
   "name": "python",
   "nbconvert_exporter": "python",
   "pygments_lexer": "ipython3",
   "version": "3.8.12"
  }
 },
 "nbformat": 4,
 "nbformat_minor": 2
}
