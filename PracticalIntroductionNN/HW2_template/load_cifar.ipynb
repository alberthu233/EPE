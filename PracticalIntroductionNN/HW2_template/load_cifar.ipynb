{
 "cells": [
  {
   "cell_type": "code",
   "execution_count": 141,
   "metadata": {},
   "outputs": [],
   "source": [
    "import pickle\n",
    "import numpy as np\n",
    "import matplotlib.pyplot as plt\n",
    "import matplotlib.image as mpimg\n",
    "import cv2\n",
    "import tensorflow as tf\n",
    "from sklearn.preprocessing import MinMaxScaler\n",
    "from sklearn.preprocessing import OneHotEncoder\n",
    "from sklearn.preprocessing import LabelEncoder\n",
    "\n",
    "\n",
    "def unpickle(file):\n",
    "    import pickle\n",
    "    with open(file, 'rb') as fo:\n",
    "        dict = pickle.load(fo, encoding='latin1')\n",
    "    return dict"
   ]
  },
  {
   "cell_type": "code",
   "execution_count": 132,
   "metadata": {},
   "outputs": [],
   "source": [
    "def load_training_batch(folder_path,batch_id):\n",
    "    \"\"\"\n",
    "    Args:\n",
    "        folder_path: the directory contains data files\n",
    "        batch_id: training batch id (1,2,3,4,5)\n",
    "    Return:\n",
    "        features: numpy array that has shape (10000,3072)\n",
    "        labels: a list that has length 10000\n",
    "    \"\"\"\n",
    "\n",
    "    ###load batch using pickle###\n",
    "    file_name = folder_path + '/data_batch_' + str(batch_id)\n",
    "    dict = unpickle(file_name)\n",
    "\n",
    "    return dict"
   ]
  },
  {
   "cell_type": "code",
   "execution_count": 133,
   "metadata": {},
   "outputs": [],
   "source": [
    "def load_testing_batch(folder_path):\n",
    "    \"\"\"\n",
    "    Args:\n",
    "        folder_path: the directory contains data files\n",
    "    Return:\n",
    "        features: numpy array that has shape (10000,3072)\n",
    "        labels: a list that has length 10000\n",
    "    \"\"\"\n",
    "\n",
    "    ###load batch using pickle###\n",
    "    file_name = folder_path + '/test_batch'\n",
    "    dict = unpickle(file_name)\n",
    "\n",
    "    return dict"
   ]
  },
  {
   "cell_type": "code",
   "execution_count": 134,
   "metadata": {},
   "outputs": [
    {
     "name": "stdout",
     "output_type": "stream",
     "text": [
      "dict_keys(['batch_label', 'labels', 'data', 'filenames'])\n",
      "\n"
     ]
    }
   ],
   "source": [
    "dict = unpickle(\"D:\\Work\\EPE\\PracticalIntroductionNN\\HW2_template\\cifar-10-batches-py\\data_batch_1\")\n",
    "print(dict.keys())\n",
    "print()\n",
    "\n"
   ]
  },
  {
   "cell_type": "code",
   "execution_count": 135,
   "metadata": {},
   "outputs": [],
   "source": [
    "def features_reshape(features):\n",
    "\t\"\"\"\n",
    "\tArgs:\n",
    "\t\tfeatures: a numpy array with shape (10000, 3072)\n",
    "\tReturn:\n",
    "\t\tfeatures: a numpy array with shape (10000,32,32,3)\n",
    "\t\"\"\"\n",
    "\tfeatures = np.reshape(features, (10000,32,32,3), order='F')\n",
    "\treturn features"
   ]
  },
  {
   "cell_type": "code",
   "execution_count": 136,
   "metadata": {},
   "outputs": [],
   "source": [
    "def display_data_stat(folder_path,batch_id,data_id):\n",
    "\t\"\"\"\n",
    "\tArgs:\n",
    "\t\tfolder_path: directory that contains data files\n",
    "\t\tbatch_id: the specific number of batch you want to explore.\n",
    "\t\tdata_id: the specific number of data example you want to visualize\n",
    "\tReturn:\n",
    "\t\tNone\n",
    "\tDescrption: \n",
    "\t\t1)You can print out the number of images for every class. \n",
    "\t\t2)Visualize the image\n",
    "\t\t3)Print out the minimum and maximum values of pixel \n",
    "\t\"\"\"\n",
    "\tfile_name = folder_path + '/data_batch_' + str(batch_id)\n",
    "\tdict = unpickle(file_name)\n",
    "\tfeatures = dict[\"data\"]\n",
    "\tfeatures = features_reshape(features)\n",
    "\timage = features[data_id] # np.squeeze(features[data_id,:,:,:])\n",
    "\timage = cv2.cvtColor(image, cv2.COLOR_BGR2RGB)\n",
    "\tpixels = np.array(image)\n",
    "\tplt.imshow(pixels)\n",
    "\tplt.show()"
   ]
  },
  {
   "cell_type": "code",
   "execution_count": 137,
   "metadata": {},
   "outputs": [
    {
     "data": {
      "image/png": "[encoded data removed]",
      "text/plain": [
       "<Figure size 432x288 with 1 Axes>"
      ]
     },
     "metadata": {
      "needs_background": "light"
     },
     "output_type": "display_data"
    }
   ],
   "source": [
    "display_data_stat(\"cifar-10-batches-py\", 2, 5000)"
   ]
  },
  {
   "cell_type": "code",
   "execution_count": 145,
   "metadata": {},
   "outputs": [],
   "source": [
    "def preprocess_data(folder_path):\n",
    "    \"\"\"\n",
    "    Args:\n",
    "        folder_path: the directory contains your data files\n",
    "    \"\"\"\n",
    "    # read training data\n",
    "    vali_ratio = 0.1\n",
    "    for i in range(1,6):\n",
    "        dict = load_training_batch(folder_path, i)\n",
    "        features = dict['data']\n",
    "        labels = dict['labels']\n",
    "        \n",
    "        if i == 1:\n",
    "            total_features = features\n",
    "            total_labels = labels\n",
    "        else:\n",
    "            total_features = np.concatenate((total_features, features), axis=0)\n",
    "            total_labels = np.concatenate((total_labels, labels), axis=0)\n",
    "    \n",
    "    length = len(total_labels)\n",
    "    vali_length = int(length*vali_ratio)\n",
    "    vali_features = total_features[range(vali_length),:]\n",
    "    vali_labels = np.array(total_labels[range(vali_length)])\n",
    "    train_features = total_features[vali_length:length,:]\n",
    "    train_labels = np.array(total_labels[vali_length:length])\n",
    "    \n",
    "    # normalization\n",
    "    dict = load_testing_batch(folder_path)\n",
    "    test_features = dict['data']\n",
    "    test_labels = np.array(dict['labels'])\n",
    "\n",
    "    # min max normalization\n",
    "    scaler = MinMaxScaler()\n",
    "    vali_features = scaler.fit_transform(vali_features)\n",
    "    #print(scaler.data_max_)\n",
    "    train_features = scaler.transform(train_features)\n",
    "    test_features = scaler.transform(test_features)\n",
    "    \n",
    "    print(train_labels.shape)\n",
    "\n",
    "    # one hot encoding\n",
    "    train_labels = train_labels.reshape(-1,1)\n",
    "    vali_labels = vali_labels.reshape(-1,1)\n",
    "    test_labels = test_labels.reshape(-1,1)\n",
    "\n",
    "    onehot_encoder = OneHotEncoder(handle_unknown='ignore')\n",
    "    train_labels = onehot_encoder.fit_transform(train_labels)\n",
    "    vali_labels = onehot_encoder.transform(vali_labels)\n",
    "    test_labels = onehot_encoder.transform(test_labels)\n",
    "\n",
    "    \n",
    "    print(train_labels.shape)\n",
    "\n",
    "    # save pickle\n",
    "    with open('train_data.pickle', 'wb') as f:\n",
    "        pickle.dump((train_features,train_labels), f)\n",
    "\n",
    "    with open('val_data.pickle', 'wb') as f:\n",
    "        pickle.dump((vali_features,vali_labels), f)\n",
    "\n",
    "    with open('test_data.pickle', 'wb') as f:\n",
    "        pickle.dump((test_features,test_labels), f)\n",
    "    \n"
   ]
  }
 ],
 "metadata": {
  "interpreter": {
   "hash": "f63929e3db36fe13aee1081860966e065fd27c1f14440ef685fe33e45209081c"
  },
  "kernelspec": {
   "display_name": "Python 3.8.12 64-bit ('tf-gpu': conda)",
   "language": "python",
   "name": "python3"
  },
  "language_info": {
   "codemirror_mode": {
    "name": "ipython",
    "version": 3
   },
   "file_extension": ".py",
   "mimetype": "text/x-python",
   "name": "python",
   "nbconvert_exporter": "python",
   "pygments_lexer": "ipython3",
   "version": "3.8.12"
  },
  "orig_nbformat": 4
 },
 "nbformat": 4,
 "nbformat_minor": 2
}
