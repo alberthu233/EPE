{
 "cells": [
  {
   "cell_type": "code",
   "execution_count": 1,
   "metadata": {},
   "outputs": [],
   "source": [
    "from os import listdir\n",
    "import pickle\n",
    "from numpy import asarray\n",
    "import numpy as np\n",
    "from keras.preprocessing.image import load_img\n",
    "from keras.preprocessing.image import img_to_array\n",
    "import h5py\n",
    "import PIL\n",
    "from sklearn import preprocessing\n",
    "from sklearn.model_selection import train_test_split"
   ]
  },
  {
   "cell_type": "code",
   "execution_count": 2,
   "metadata": {},
   "outputs": [],
   "source": [
    "train_dir = \"D:\\Work\\EPE\\PracticalIntroductionNN\\HW2_template\\cat_dog\\\\train\\\\\"\n",
    "test_dir = \"D:\\Work\\EPE\\PracticalIntroductionNN\\HW2_template\\cat_dog\\\\test1\\\\\"\n",
    "train_img, train_labels = [], []\n",
    "test_img = []"
   ]
  },
  {
   "cell_type": "code",
   "execution_count": 4,
   "metadata": {},
   "outputs": [
    {
     "ename": "FileNotFoundError",
     "evalue": "[WinError 3] 系统找不到指定的路径。: 'PracticalIntroductionNN\\\\HW2_template\\\\cat_dog\\\\train\\\\'",
     "output_type": "error",
     "traceback": [
      "\u001b[1;31m---------------------------------------------------------------------------\u001b[0m",
      "\u001b[1;31mFileNotFoundError\u001b[0m                         Traceback (most recent call last)",
      "\u001b[1;32m~\\AppData\\Local\\Temp/ipykernel_29384/172762176.py\u001b[0m in \u001b[0;36m<module>\u001b[1;34m\u001b[0m\n\u001b[1;32m----> 1\u001b[1;33m \u001b[1;32mfor\u001b[0m \u001b[0mfile\u001b[0m \u001b[1;32min\u001b[0m \u001b[0mlistdir\u001b[0m\u001b[1;33m(\u001b[0m\u001b[0mtrain_dir\u001b[0m\u001b[1;33m)\u001b[0m\u001b[1;33m:\u001b[0m\u001b[1;33m\u001b[0m\u001b[1;33m\u001b[0m\u001b[0m\n\u001b[0m\u001b[0;32m      2\u001b[0m     \u001b[0mclasses\u001b[0m \u001b[1;33m=\u001b[0m \u001b[1;36m0.0\u001b[0m\u001b[1;33m\u001b[0m\u001b[1;33m\u001b[0m\u001b[0m\n\u001b[0;32m      3\u001b[0m     \u001b[1;32mif\u001b[0m \u001b[0mfile\u001b[0m\u001b[1;33m.\u001b[0m\u001b[0mstartswith\u001b[0m\u001b[1;33m(\u001b[0m\u001b[1;34m\"cat\"\u001b[0m\u001b[1;33m)\u001b[0m\u001b[1;33m:\u001b[0m\u001b[1;33m\u001b[0m\u001b[1;33m\u001b[0m\u001b[0m\n\u001b[0;32m      4\u001b[0m         \u001b[0mclasses\u001b[0m \u001b[1;33m=\u001b[0m \u001b[1;36m1.0\u001b[0m\u001b[1;33m\u001b[0m\u001b[1;33m\u001b[0m\u001b[0m\n\u001b[0;32m      5\u001b[0m \u001b[1;33m\u001b[0m\u001b[0m\n",
      "\u001b[1;31mFileNotFoundError\u001b[0m: [WinError 3] 系统找不到指定的路径。: 'PracticalIntroductionNN\\\\HW2_template\\\\cat_dog\\\\train\\\\'"
     ]
    }
   ],
   "source": [
    "for file in listdir(train_dir):\n",
    "    classes = 0.0\n",
    "    if file.startswith(\"cat\"):\n",
    "        classes = 1.0\n",
    "\n",
    "    photo = load_img(train_dir + file, target_size=(64,64))    \n",
    "    photo = img_to_array(photo)\n",
    "    photo /= 255\n",
    "\n",
    "    train_img.append(photo)\n",
    "    train_labels.append(classes)\n",
    "\n",
    "for file in listdir(test_dir):\n",
    "    photo = load_img(test_dir + file, target_size=(64,64))    \n",
    "    photo = img_to_array(photo)\n",
    "    photo /= 255\n",
    "\n",
    "    test_img.append(photo)\n",
    "\n",
    "train_img = asarray(train_img)\n",
    "train_labels = asarray(train_labels)\n",
    "val_img = asarray(test_img)\n",
    "\n",
    "train_img, test_img, train_labels, test_lab = train_test_split(train_img, train_labels, test_size=0.5, random_state=1)\n",
    "\n",
    "f = h5py.File(\"D:\\Work\\EPE\\PracticalIntroductionNN\\HW2_template\\cat_dog\\\\dc_64.hdf5\", \"w\")\n",
    "f.create_dataset(\"train_img\", data=train_img)\n",
    "f.create_dataset(\"test_img\", data=test_img)\n",
    "f.create_dataset(\"train_img\", data=train_img)\n",
    "f.create_dataset(\"test_img\", data=test_img)\n",
    "f.create_dataset(\"train_lab\", data=train_labels)\n",
    "f.create_dataset(\"test_lab\", data=test_lab)\n",
    "f.close()"
   ]
  }
 ],
 "metadata": {
  "interpreter": {
   "hash": "28e645461d8a7ad3cdd7c6ba1e94991dadc517d90c273ff522d251f0ece4da68"
  },
  "kernelspec": {
   "display_name": "Python 3.8.8 64-bit ('base': conda)",
   "language": "python",
   "name": "python3"
  },
  "language_info": {
   "codemirror_mode": {
    "name": "ipython",
    "version": 3
   },
   "file_extension": ".py",
   "mimetype": "text/x-python",
   "name": "python",
   "nbconvert_exporter": "python",
   "pygments_lexer": "ipython3",
   "version": "3.8.12"
  },
  "orig_nbformat": 4
 },
 "nbformat": 4,
 "nbformat_minor": 2
}
