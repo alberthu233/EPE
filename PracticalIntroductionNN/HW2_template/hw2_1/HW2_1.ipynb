{
 "cells": [
  {
   "cell_type": "code",
   "execution_count": 1,
   "metadata": {},
   "outputs": [],
   "source": [
    "import numpy as np\n",
    "import tensorflow as tf\n",
    "import matplotlib.pyplot as plt\n",
    "import time"
   ]
  },
  {
   "cell_type": "code",
   "execution_count": 2,
   "metadata": {},
   "outputs": [],
   "source": [
    "mnist = tf.keras.datasets.mnist.load_data(path=\"mnist.npz\")\n",
    "(train_images, train_labels), (test_images, test_labels) = mnist\n",
    "tl = train_labels\n",
    "train_images = train_images.astype(\"float32\")/255.0\n",
    "test_images = test_images.astype(\"float32\")/255.0\n",
    "train_labels = tf.one_hot(train_labels,depth=10)\n",
    "test_labels = tf.one_hot(test_labels, depth=10)"
   ]
  },
  {
   "cell_type": "markdown",
   "metadata": {},
   "source": [
    "Define graph"
   ]
  },
  {
   "cell_type": "code",
   "execution_count": 3,
   "metadata": {},
   "outputs": [],
   "source": [
    "lr = 0.01\n",
    "batch_size = 128\n",
    "n_hidden_1 = 300\n",
    "num_input = 784\n",
    "num_classes = 10\n",
    "layers_dims = [num_input, n_hidden_1, num_classes]"
   ]
  },
  {
   "cell_type": "code",
   "execution_count": 19,
   "metadata": {},
   "outputs": [],
   "source": [
    "def initialize(layers_dims):              \n",
    "    parameters = {}\n",
    "    L = len(layers_dims)            \n",
    "\n",
    "    for l in range(1, L):           \n",
    "        parameters[\"W\" + str(l)] = np.random.normal(0,1,(layers_dims[l - 1],layers_dims[l]))\n",
    "        parameters[\"b\" + str(l)] = np.zeros((1,layers_dims[l]))\n",
    "\n",
    "        #print(parameters[\"W\" + str(l)].shape)\n",
    "        assert parameters[\"W\" + str(l)].shape == (\n",
    "             layers_dims[l - 1],layers_dims[l])\n",
    "        assert parameters[\"b\" + str(l)].shape == (1,layers_dims[l])\n",
    "    \n",
    "    return parameters"
   ]
  },
  {
   "cell_type": "code",
   "execution_count": 38,
   "metadata": {},
   "outputs": [
    {
     "data": {
      "text/plain": [
       "{'W1': array([[-0.36453805, -0.45971768],\n",
       "        [ 1.70548352,  0.24050555]]),\n",
       " 'b1': array([[0., 0.]]),\n",
       " 'W2': array([[-0.9994265 ],\n",
       "        [ 0.39859839]]),\n",
       " 'b2': array([[0.]])}"
      ]
     },
     "execution_count": 38,
     "metadata": {},
     "output_type": "execute_result"
    }
   ],
   "source": [
    "initialize([2,2,1])"
   ]
  }
 ],
 "metadata": {
  "interpreter": {
   "hash": "28e645461d8a7ad3cdd7c6ba1e94991dadc517d90c273ff522d251f0ece4da68"
  },
  "kernelspec": {
   "display_name": "Python 3.8.8 64-bit ('base': conda)",
   "language": "python",
   "name": "python3"
  },
  "language_info": {
   "codemirror_mode": {
    "name": "ipython",
    "version": 3
   },
   "file_extension": ".py",
   "mimetype": "text/x-python",
   "name": "python",
   "nbconvert_exporter": "python",
   "pygments_lexer": "ipython3",
   "version": "3.8.12"
  },
  "orig_nbformat": 4
 },
 "nbformat": 4,
 "nbformat_minor": 2
}
