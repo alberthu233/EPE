{
 "cells": [
  {
   "cell_type": "code",
   "execution_count": 2,
   "metadata": {},
   "outputs": [],
   "source": [
    "import numpy as np\n",
    "import tensorflow as tf\n",
    "import matplotlib.pyplot as plt\n",
    "import time\n",
    "import datetime"
   ]
  },
  {
   "cell_type": "code",
   "execution_count": 3,
   "metadata": {},
   "outputs": [],
   "source": [
    "mnist = tf.keras.datasets.mnist.load_data(path=\"mnist.npz\")\n",
    "(train_images, train_labels), (test_images, test_labels) = mnist\n",
    "tl = train_labels\n",
    "train_images = train_images.astype(\"float32\")/255.0\n",
    "test_images = test_images.astype(\"float32\")/255.0\n",
    "train_labels = tf.one_hot(train_labels,depth=10)\n",
    "test_labels = tf.one_hot(test_labels, depth=10)"
   ]
  },
  {
   "cell_type": "markdown",
   "metadata": {},
   "source": [
    "Define graph"
   ]
  },
  {
   "cell_type": "code",
   "execution_count": 4,
   "metadata": {},
   "outputs": [],
   "source": [
    "lr = 0.01\n",
    "batch_size = 128\n",
    "n_hidden_1 = 300\n",
    "num_input = 784\n",
    "num_classes = 10\n",
    "layers_dims = [num_input, n_hidden_1, num_classes]"
   ]
  },
  {
   "cell_type": "code",
   "execution_count": null,
   "metadata": {},
   "outputs": [],
   "source": [
    "class NN(object):\n",
    "    \n",
    "    \n",
    "    def __init__(self) -> None:\n",
    "        self.input_layer_size = 2\n",
    "        self.output_layer_size = 2\n",
    "        self.hidden_layer_num = 3\n",
    "        \n",
    "\n",
    "    def initialize(self):              \n",
    "        parameters = {}\n",
    "        L = len(layers_dims)            \n",
    "\n",
    "        for l in range(1, L):           \n",
    "            parameters[\"W\" + str(l)] = np.random.normal(0,1,(layers_dims[l - 1],layers_dims[l]))\n",
    "            parameters[\"b\" + str(l)] = np.zeros((1,layers_dims[l]))\n",
    "\n",
    "            #print(parameters[\"W\" + str(l)].shape)\n",
    "            assert parameters[\"W\" + str(l)].shape == (\n",
    "                layers_dims[l - 1],layers_dims[l])\n",
    "            assert parameters[\"b\" + str(l)].shape == (1,layers_dims[l])\n",
    "        \n",
    "        return parameters"
   ]
  },
  {
   "cell_type": "code",
   "execution_count": 5,
   "metadata": {},
   "outputs": [],
   "source": [
    "def initialize(layers_dims):              \n",
    "    parameters = {}\n",
    "    L = len(layers_dims)            \n",
    "\n",
    "    for l in range(1, L):           \n",
    "        parameters[\"W\" + str(l)] = np.random.normal(0,1,(layers_dims[l - 1],layers_dims[l]))\n",
    "        parameters[\"b\" + str(l)] = np.zeros((1,layers_dims[l]))\n",
    "\n",
    "        #print(parameters[\"W\" + str(l)].shape)\n",
    "        assert parameters[\"W\" + str(l)].shape == (\n",
    "             layers_dims[l - 1],layers_dims[l])\n",
    "        assert parameters[\"b\" + str(l)].shape == (1,layers_dims[l])\n",
    "    \n",
    "    return parameters"
   ]
  },
  {
   "cell_type": "code",
   "execution_count": 7,
   "metadata": {},
   "outputs": [
    {
     "data": {
      "text/plain": [
       "{'W1': array([[ 1.27692314, -0.02639245,  0.39634345],\n",
       "        [-1.00797358, -0.8274464 ,  1.92164104]]),\n",
       " 'b1': array([[0., 0., 0.]]),\n",
       " 'W2': array([[-0.8590835 ,  1.67140028, -0.38452102],\n",
       "        [ 0.45598725, -1.4506571 , -0.38948343],\n",
       "        [-1.36336817, -0.57837732,  1.23373661]]),\n",
       " 'b2': array([[0., 0., 0.]]),\n",
       " 'W3': array([[ 0.16145486, -0.10989568],\n",
       "        [-0.78941567,  1.22939973],\n",
       "        [-1.69249212, -0.05493419]]),\n",
       " 'b3': array([[0., 0.]])}"
      ]
     },
     "execution_count": 7,
     "metadata": {},
     "output_type": "execute_result"
    }
   ],
   "source": [
    "initialize([2,3,3,2])"
   ]
  },
  {
   "cell_type": "code",
   "execution_count": 10,
   "metadata": {},
   "outputs": [],
   "source": [
    "# activation function\n",
    "def sigmoid(x):\n",
    "    return 1/(1+np.exp(-x))"
   ]
  },
  {
   "cell_type": "code",
   "execution_count": null,
   "metadata": {},
   "outputs": [],
   "source": [
    "def foward_propagation(x):\n",
    "    np.dot"
   ]
  }
 ],
 "metadata": {
  "interpreter": {
   "hash": "28e645461d8a7ad3cdd7c6ba1e94991dadc517d90c273ff522d251f0ece4da68"
  },
  "kernelspec": {
   "display_name": "Python 3.8.8 64-bit ('base': conda)",
   "language": "python",
   "name": "python3"
  },
  "language_info": {
   "codemirror_mode": {
    "name": "ipython",
    "version": 3
   },
   "file_extension": ".py",
   "mimetype": "text/x-python",
   "name": "python",
   "nbconvert_exporter": "python",
   "pygments_lexer": "ipython3",
   "version": "3.8.12"
  },
  "orig_nbformat": 4
 },
 "nbformat": 4,
 "nbformat_minor": 2
}
