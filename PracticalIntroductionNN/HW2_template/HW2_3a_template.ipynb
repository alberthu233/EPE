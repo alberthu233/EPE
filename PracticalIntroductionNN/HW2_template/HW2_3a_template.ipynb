{
 "cells": [
  {
   "cell_type": "code",
   "execution_count": 8,
   "metadata": {},
   "outputs": [],
   "source": [
    "import tensorflow as tf\n",
    "import matplotlib.pyplot as plt\n",
    "import numpy as np\n",
    "tf.config.experimental.list_physical_devices('GPU')\n",
    "import datetime\n",
    "from keras.models import Sequential\n",
    "from keras.layers import Conv2D, Dense, AveragePooling2D, Dropout, Flatten"
   ]
  },
  {
   "cell_type": "markdown",
   "metadata": {},
   "source": [
    "<h1>Extract MNIST data</h1>"
   ]
  },
  {
   "cell_type": "code",
   "execution_count": null,
   "metadata": {},
   "outputs": [],
   "source": [
    "#get mnist data, with one_hot encoding\n",
    "mnist = tf.keras.datasets.mnist.load_data(path=\"mnist.npz\")\n",
    "(train_images, train_labels), (test_images, test_labels) = mnist\n",
    "tl = train_labels\n",
    "train_images = train_images.astype(\"float32\")/255.0\n",
    "test_images = test_images.astype(\"float32\")/255.0\n",
    "train_labels = tf.one_hot(train_labels,depth=10)\n",
    "test_labels = tf.one_hot(test_labels, depth=10)"
   ]
  },
  {
   "cell_type": "markdown",
   "metadata": {},
   "source": [
    "<h1>Prepare training, validation and testing data</h1>"
   ]
  },
  {
   "cell_type": "code",
   "execution_count": null,
   "metadata": {},
   "outputs": [],
   "source": [
    "#pad images with 0s (28x28 to 32x32)\n",
    "x_train = np.pad(train_images, ((0,0),(2,2),(2,2)), 'constant')\n",
    "x_test = np.pad(test_images, ((0,0),(2,2),(2,2)), 'constant')\n",
    "def plot_digits(X, Y):\n",
    "    for i in range(20):\n",
    "        plt.subplot(5, 4, i+1)\n",
    "        plt.tight_layout()\n",
    "        plt.imshow(X[i].reshape(32, 32), cmap='gray')\n",
    "        plt.title('Digit:{}'.format(Y[i]))\n",
    "        plt.xticks([])\n",
    "        plt.yticks([])\n",
    "    plt.show()\n",
    "plot_digits(x_train, tl)\n",
    "x_train = x_train.reshape(x_train.shape[0], 32, 32, 1)\n",
    "x_test = x_test.reshape(x_test.shape[0], 32, 32, 1)\n",
    "print(x_train.shape)"
   ]
  },
  {
   "cell_type": "code",
   "execution_count": null,
   "metadata": {},
   "outputs": [],
   "source": [
    "print(x_train.shape, train_labels.shape)\n",
    "print(x_test.shape, test_labels.shape)"
   ]
  },
  {
   "cell_type": "markdown",
   "metadata": {},
   "source": [
    "<h1>Define LeNet-5</h1>"
   ]
  },
  {
   "cell_type": "code",
   "execution_count": null,
   "metadata": {},
   "outputs": [],
   "source": [
    "\"\"\"\n",
    "Define Lenet-5 model\n",
    "\"\"\"\n",
    "model = Sequential()\n",
    "# convolution 1\n",
    "model.add(Conv2D(filters=6, kernel_size=(5,5), strides=1, activation=\"tanh\", input_shape=(32, 32, 1)))\n",
    "# pooling 1 (subsampling)\n",
    "model.add(AveragePooling2D(pool_size=(2,2), strides=(2,2), padding='valid'))\n",
    "# convolution 2\n",
    "model.add(Conv2D(filters=16, kernel_size=(5,5), strides=1, activation=\"tanh\", padding=\"valid\"))\n",
    "# pooling 2 (subsampling)\n",
    "model.add(AveragePooling2D(pool_size=(2,2), strides=(2,2), padding='valid'))\n",
    "# flatten the convolution to connect with full connectted layer\n",
    "model.add(Flatten())\n",
    "# Fully connected layer\n",
    "model.add(Dense(84, activation=\"tanh\"))\n",
    "# output layer\n",
    "model.add(Dense(10, activation=\"softmax\"))\n",
    "\n",
    "model.compile(\n",
    "    optimizer=tf.keras.optimizers.Adam(learning_rate=0.001),\n",
    "    loss=tf.keras.losses.categorical_crossentropy,\n",
    "    metrics=[\"accuracy\"],\n",
    ")\n",
    "\n",
    "model.summary()\n",
    "\n",
    "\n"
   ]
  },
  {
   "cell_type": "markdown",
   "metadata": {},
   "source": [
    "<h1>Training, validating, testing</h1>\n",
    "<h2>1. Print out validation accuracy after each training epoch</h2>\n",
    "<h2>2. Print out training time on each epoch</h2>\n",
    "<h2>3. Print out testing accuracy</h2>"
   ]
  },
  {
   "cell_type": "code",
   "execution_count": null,
   "metadata": {},
   "outputs": [],
   "source": [
    "history = model.fit(x_train, train_labels, epochs=15, validation_data=(x_test, test_labels))"
   ]
  },
  {
   "cell_type": "code",
   "execution_count": null,
   "metadata": {},
   "outputs": [],
   "source": [
    "model.evaluate(x_test, test_labels)"
   ]
  },
  {
   "cell_type": "code",
   "execution_count": null,
   "metadata": {},
   "outputs": [],
   "source": [
    "fig, axs = plt.subplots(2, 1, figsize=(15,15))\n",
    "axs[0].plot(history.history['loss'])\n",
    "axs[0].plot(history.history['val_loss'])\n",
    "axs[0].title.set_text('Training Loss vs Validation Loss')\n",
    "axs[0].legend(['Train', 'Val'])\n",
    "axs[1].plot(history.history['accuracy'])\n",
    "axs[1].plot(history.history['val_accuracy'])\n",
    "axs[1].title.set_text('Training Accuracy vs Validation Accuracy')\n",
    "axs[1].legend(['Train', 'Val'])"
   ]
  }
 ],
 "metadata": {
  "kernelspec": {
   "display_name": "Python 3",
   "language": "python",
   "name": "python3"
  },
  "language_info": {
   "codemirror_mode": {
    "name": "ipython",
    "version": 3
   },
   "file_extension": ".py",
   "mimetype": "text/x-python",
   "name": "python",
   "nbconvert_exporter": "python",
   "pygments_lexer": "ipython3",
   "version": "3.8.12"
  }
 },
 "nbformat": 4,
 "nbformat_minor": 2
}
