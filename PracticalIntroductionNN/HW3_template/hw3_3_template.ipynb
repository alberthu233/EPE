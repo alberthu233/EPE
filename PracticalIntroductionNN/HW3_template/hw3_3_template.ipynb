{
 "cells": [
  {
   "cell_type": "code",
   "execution_count": 94,
   "metadata": {},
   "outputs": [
    {
     "data": {
      "text/html": [
       "<style>.container { width:100% !important; }</style>"
      ],
      "text/plain": [
       "<IPython.core.display.HTML object>"
      ]
     },
     "metadata": {},
     "output_type": "display_data"
    }
   ],
   "source": [
    "from IPython.core.display import display, HTML\n",
    "display(HTML(\"<style>.container { width:100% !important; }</style>\"))"
   ]
  },
  {
   "cell_type": "code",
   "execution_count": 95,
   "metadata": {},
   "outputs": [],
   "source": [
    "import numpy as np\n",
    "import matplotlib.pyplot as plt\n",
    "import pandas as pd\n",
    "import datetime\n",
    "from sklearn.preprocessing import MinMaxScaler\n",
    "import tensorflow as tf\n",
    "import tensorflow.keras as keras\n",
    "from tensorflow.keras import layers"
   ]
  },
  {
   "cell_type": "markdown",
   "metadata": {},
   "source": [
    "# Preprocess Data\n",
    "In the <b>HW3_template</b> folder you will find `TSLA.csv`, `GOOGL.csv` and `DJI.csv` files. Use Pandas (You have used it in HW1) to retrieve the dataset. Use only <b>Open</b> price as your input. (You will train three models for three different stocks, don't mix these data together!)"
   ]
  },
  {
   "cell_type": "code",
   "execution_count": 96,
   "metadata": {},
   "outputs": [],
   "source": [
    "dji = pd.read_csv(\"DJI.csv\")\n",
    "dji = dji.iloc[:,1:]\n",
    "tsla = pd.read_csv(\"TSLA.csv\")\n",
    "tsla = tsla.iloc[:,1:]\n",
    "goog = pd.read_csv(\"GOOGL.csv\")\n",
    "goog = goog.iloc[:,1:]"
   ]
  },
  {
   "cell_type": "markdown",
   "metadata": {},
   "source": [
    "## Normalize your data\n",
    "You could use `MinMaxScaler` in `sklearn.preprocessing` to normalize the data between 0 and 1."
   ]
  },
  {
   "cell_type": "code",
   "execution_count": 97,
   "metadata": {},
   "outputs": [],
   "source": [
    "minmax_scaler = MinMaxScaler()\n",
    "dji = minmax_scaler.fit_transform(dji)\n",
    "tsla = minmax_scaler.fit_transform(tsla)\n",
    "goog = minmax_scaler.fit_transform(goog)"
   ]
  },
  {
   "cell_type": "markdown",
   "metadata": {},
   "source": [
    "# Split training, validation and testing data\n",
    "<p style=\"font-size:20px\">Since you will impelement a many-to-one Recurrent Neural Network model, every input data will have shape [batch_size, num_seq, input_size] and output data will have shape [batch_size, input_size] "
   ]
  },
  {
   "cell_type": "code",
   "execution_count": 98,
   "metadata": {},
   "outputs": [],
   "source": [
    "def load_data(df, seq_len): \n",
    "    x_data = []\n",
    "    valid = 0.0\n",
    "    test = 0.15\n",
    "\n",
    "    for i in range(seq_len, len(df)): \n",
    "        x_data.append(df[i-seq_len:i,:])\n",
    "    \n",
    "    x_data = np.array(x_data)\n",
    "    valid_set_size = int(np.round(valid * x_data.shape[0]))\n",
    "    test_set_size = int(np.round(test * x_data.shape[0]))\n",
    "    train_set_size = x_data.shape[0] - (valid_set_size + test_set_size)\n",
    "\n",
    "    x_train = x_data[:train_set_size,:-1]\n",
    "    y_train = x_data[:train_set_size, 1, 1]\n",
    "    y_train = y_train.reshape(-1,1)\n",
    "    #x_train = np.squeeze(x_train)\n",
    "    \n",
    "    x_valid = x_data[train_set_size:train_set_size + valid_set_size, :-1]\n",
    "    y_valid = x_data[train_set_size:train_set_size + valid_set_size, 1, 1]\n",
    "    y_valid = y_valid.reshape(-1,1)\n",
    "    #x_valid = np.squeeze(x_valid)\n",
    "    \n",
    "    x_test = x_data[train_set_size + valid_set_size:, :-1]\n",
    "    y_test = x_data[train_set_size + valid_set_size:, 1, 1]\n",
    "    y_test = y_test.reshape(-1,1)\n",
    "    #x_test = np.squeeze(x_test)\n",
    "    \n",
    "    return [x_train, y_train, x_valid, y_valid, x_test, y_test]"
   ]
  },
  {
   "cell_type": "code",
   "execution_count": 110,
   "metadata": {},
   "outputs": [
    {
     "name": "stdout",
     "output_type": "stream",
     "text": [
      "x_train.shape = (7328, 14, 6)\n",
      "y_train.shape = (7328, 1)\n",
      "x_valid.shape = (0, 14, 6)\n",
      "y_valid.shape = (0, 1)\n",
      "x_test.shape = (1293, 14, 6)\n",
      "y_test.shape = (1293, 1)\n"
     ]
    }
   ],
   "source": [
    "seq_len = 15\n",
    "x_train, y_train, x_valid, y_valid, x_test, y_test = load_data(dji, seq_len)\n",
    "print('x_train.shape =', x_train.shape)\n",
    "print('y_train.shape =', y_train.shape)\n",
    "print('x_valid.shape =', x_valid.shape)\n",
    "print('y_valid.shape =', y_valid.shape)\n",
    "print('x_test.shape =', x_test.shape)\n",
    "print('y_test.shape =', y_test.shape)"
   ]
  },
  {
   "cell_type": "markdown",
   "metadata": {},
   "source": [
    "# TesnorFlow Model"
   ]
  },
  {
   "cell_type": "code",
   "execution_count": 111,
   "metadata": {},
   "outputs": [],
   "source": [
    "# Initialising the RNN\n",
    "regressor = keras.Sequential()\n",
    "\n",
    "# Adding the first LSTM layer and some Dropout regularisation\n",
    "regressor.add(layers.LSTM(units = 64, return_sequences = True, input_shape = (x_train[0].shape)))\n",
    "regressor.add(layers.Dropout(0.2))\n",
    "# Adding a second LSTM layer and some Dropout regularisation\n",
    "regressor.add(layers.LSTM(units = 64, return_sequences = True))\n",
    "regressor.add(layers.Dropout(0.2))\n",
    "# Adding a third LSTM layer and some Dropout regularisation\n",
    "regressor.add(layers.LSTM(units = 64, return_sequences = True))\n",
    "regressor.add(layers.Dropout(0.2))\n",
    "# Adding a fourth LSTM layer and some Dropout regularisation\n",
    "regressor.add(layers.LSTM(units = 64))\n",
    "regressor.add(layers.Dropout(0.2))\n",
    "# Adding the output layer\n",
    "regressor.add(layers.Dense(units = 1))\n",
    "\n",
    "# Compiling the RNN\n",
    "regressor.compile(optimizer = 'adam', loss = 'mean_squared_error')\n"
   ]
  },
  {
   "cell_type": "code",
   "execution_count": 112,
   "metadata": {},
   "outputs": [
    {
     "name": "stdout",
     "output_type": "stream",
     "text": [
      "Epoch 1/30\n",
      "104/104 [==============================] - 6s 23ms/step - loss: 0.0039 - val_loss: 3.8666e-04\n",
      "Epoch 2/30\n",
      "104/104 [==============================] - 1s 13ms/step - loss: 6.3151e-04 - val_loss: 0.0031\n",
      "Epoch 3/30\n",
      "104/104 [==============================] - 1s 14ms/step - loss: 6.6755e-04 - val_loss: 0.0013\n",
      "Epoch 4/30\n",
      "104/104 [==============================] - 1s 14ms/step - loss: 4.8324e-04 - val_loss: 7.3870e-05\n",
      "Epoch 5/30\n",
      "104/104 [==============================] - 1s 14ms/step - loss: 4.1921e-04 - val_loss: 4.8852e-05\n",
      "Epoch 6/30\n",
      "104/104 [==============================] - 1s 14ms/step - loss: 4.6613e-04 - val_loss: 6.0919e-05\n",
      "Epoch 7/30\n",
      "104/104 [==============================] - 1s 14ms/step - loss: 3.6982e-04 - val_loss: 2.2261e-04\n",
      "Epoch 8/30\n",
      "104/104 [==============================] - 1s 14ms/step - loss: 3.5621e-04 - val_loss: 3.0179e-04\n",
      "Epoch 9/30\n",
      "104/104 [==============================] - 1s 14ms/step - loss: 3.2594e-04 - val_loss: 1.1645e-04\n",
      "Epoch 10/30\n",
      "104/104 [==============================] - 1s 14ms/step - loss: 2.9861e-04 - val_loss: 4.2887e-05\n",
      "Epoch 11/30\n",
      "104/104 [==============================] - 1s 14ms/step - loss: 3.0558e-04 - val_loss: 3.3541e-04\n",
      "Epoch 12/30\n",
      "104/104 [==============================] - 1s 14ms/step - loss: 3.2219e-04 - val_loss: 4.7301e-05\n",
      "Epoch 13/30\n",
      "104/104 [==============================] - 2s 15ms/step - loss: 3.3959e-04 - val_loss: 0.0011\n",
      "Epoch 14/30\n",
      "104/104 [==============================] - 2s 15ms/step - loss: 2.9354e-04 - val_loss: 4.6401e-04\n",
      "Epoch 15/30\n",
      "104/104 [==============================] - 2s 15ms/step - loss: 2.6890e-04 - val_loss: 6.8932e-04\n",
      "Epoch 16/30\n",
      "104/104 [==============================] - 2s 15ms/step - loss: 2.4856e-04 - val_loss: 5.3036e-05\n",
      "Epoch 17/30\n",
      "104/104 [==============================] - 2s 15ms/step - loss: 2.6521e-04 - val_loss: 2.5070e-04\n"
     ]
    }
   ],
   "source": [
    "callback = tf.keras.callbacks.EarlyStopping(monitor='val_loss', mode = \"min\" ,patience=7)\n",
    "history = regressor.fit(x_train, y_train, epochs=30, batch_size = 64, validation_split=0.1, callbacks=[callback])"
   ]
  },
  {
   "cell_type": "markdown",
   "metadata": {},
   "source": [
    "# Testing"
   ]
  },
  {
   "cell_type": "code",
   "execution_count": 113,
   "metadata": {},
   "outputs": [
    {
     "name": "stdout",
     "output_type": "stream",
     "text": [
      "Model: \"sequential_17\"\n",
      "_________________________________________________________________\n",
      "Layer (type)                 Output Shape              Param #   \n",
      "=================================================================\n",
      "lstm_61 (LSTM)               (None, 14, 64)            18176     \n",
      "_________________________________________________________________\n",
      "dropout_60 (Dropout)         (None, 14, 64)            0         \n",
      "_________________________________________________________________\n",
      "lstm_62 (LSTM)               (None, 14, 64)            33024     \n",
      "_________________________________________________________________\n",
      "dropout_61 (Dropout)         (None, 14, 64)            0         \n",
      "_________________________________________________________________\n",
      "lstm_63 (LSTM)               (None, 14, 64)            33024     \n",
      "_________________________________________________________________\n",
      "dropout_62 (Dropout)         (None, 14, 64)            0         \n",
      "_________________________________________________________________\n",
      "lstm_64 (LSTM)               (None, 64)                33024     \n",
      "_________________________________________________________________\n",
      "dropout_63 (Dropout)         (None, 64)                0         \n",
      "_________________________________________________________________\n",
      "dense_17 (Dense)             (None, 1)                 65        \n",
      "=================================================================\n",
      "Total params: 117,313\n",
      "Trainable params: 117,313\n",
      "Non-trainable params: 0\n",
      "_________________________________________________________________\n"
     ]
    }
   ],
   "source": [
    "regressor.summary()"
   ]
  },
  {
   "cell_type": "code",
   "execution_count": 114,
   "metadata": {},
   "outputs": [],
   "source": [
    "y_predict = regressor.predict(x_test)"
   ]
  },
  {
   "cell_type": "code",
   "execution_count": 115,
   "metadata": {},
   "outputs": [
    {
     "data": {
      "image/png": "[encoded data removed]",
      "text/plain": [
       "<Figure size 432x288 with 1 Axes>"
      ]
     },
     "metadata": {
      "needs_background": "light"
     },
     "output_type": "display_data"
    }
   ],
   "source": [
    "plt.plot(y_test, color = 'red', label = 'Real Stock Price')\n",
    "plt.plot(y_predict, color = 'blue', label = 'Predicted Stock Price')\n",
    "plt.title('Stock Price Prediction')\n",
    "plt.xlabel('Time')\n",
    "plt.ylabel('Stock Price')\n",
    "plt.legend()\n",
    "plt.show()"
   ]
  }
 ],
 "metadata": {
  "kernelspec": {
   "display_name": "Python 3",
   "language": "python",
   "name": "python3"
  },
  "language_info": {
   "codemirror_mode": {
    "name": "ipython",
    "version": 3
   },
   "file_extension": ".py",
   "mimetype": "text/x-python",
   "name": "python",
   "nbconvert_exporter": "python",
   "pygments_lexer": "ipython3",
   "version": "3.8.12"
  }
 },
 "nbformat": 4,
 "nbformat_minor": 2
}
