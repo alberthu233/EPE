{
 "cells": [
  {
   "cell_type": "code",
   "execution_count": 1,
   "metadata": {},
   "outputs": [
    {
     "data": {
      "text/html": [
       "<style>.container { width:100% !important; }</style>"
      ],
      "text/plain": [
       "<IPython.core.display.HTML object>"
      ]
     },
     "metadata": {},
     "output_type": "display_data"
    }
   ],
   "source": [
    "from IPython.core.display import display, HTML\n",
    "display(HTML(\"<style>.container { width:100% !important; }</style>\"))"
   ]
  },
  {
   "cell_type": "code",
   "execution_count": 2,
   "metadata": {},
   "outputs": [],
   "source": [
    "import numpy as np\n",
    "import matplotlib.pyplot as plt\n",
    "import pandas as pd\n",
    "import datetime\n",
    "from sklearn.preprocessing import MinMaxScaler\n",
    "import tensorflow as tf\n",
    "import tensorflow.keras as keras\n",
    "from tensorflow.keras import layers"
   ]
  },
  {
   "cell_type": "markdown",
   "metadata": {},
   "source": [
    "# Preprocess Data\n",
    "In the <b>HW3_template</b> folder you will find `TSLA.csv`, `GOOGL.csv` and `DJI.csv` files. Use Pandas (You have used it in HW1) to retrieve the dataset. Use only <b>Open</b> price as your input. (You will train three models for three different stocks, don't mix these data together!)"
   ]
  },
  {
   "cell_type": "code",
   "execution_count": 3,
   "metadata": {},
   "outputs": [],
   "source": [
    "dji = pd.read_csv(\"DJI.csv\")\n",
    "dji = dji.iloc[:,1:]\n",
    "tsla = pd.read_csv(\"TSLA.csv\")\n",
    "tsla = tsla.iloc[:,1:]\n",
    "goog = pd.read_csv(\"GOOGL.csv\")\n",
    "goog = goog.iloc[:,1:]"
   ]
  },
  {
   "cell_type": "markdown",
   "metadata": {},
   "source": [
    "## Normalize your data\n",
    "You could use `MinMaxScaler` in `sklearn.preprocessing` to normalize the data between 0 and 1."
   ]
  },
  {
   "cell_type": "code",
   "execution_count": 4,
   "metadata": {},
   "outputs": [],
   "source": [
    "minmax_scaler = MinMaxScaler()\n",
    "dji = minmax_scaler.fit_transform(dji)\n",
    "tsla = minmax_scaler.fit_transform(tsla)\n",
    "goog = minmax_scaler.fit_transform(goog)"
   ]
  },
  {
   "cell_type": "markdown",
   "metadata": {},
   "source": [
    "# Split training, validation and testing data\n",
    "<p style=\"font-size:20px\">Since you will impelement a many-to-one Recurrent Neural Network model, every input data will have shape [batch_size, num_seq, input_size] and output data will have shape [batch_size, input_size] "
   ]
  },
  {
   "cell_type": "code",
   "execution_count": 5,
   "metadata": {},
   "outputs": [],
   "source": [
    "def load_data(df, seq_len): \n",
    "    x_data = []\n",
    "    valid = 0.0\n",
    "    test = 0.15\n",
    "\n",
    "    for i in range(seq_len, len(df)): \n",
    "        x_data.append(df[i-seq_len:i,:])\n",
    "    \n",
    "    x_data = np.array(x_data)\n",
    "    valid_set_size = int(np.round(valid * x_data.shape[0]))\n",
    "    test_set_size = int(np.round(test * x_data.shape[0]))\n",
    "    train_set_size = x_data.shape[0] - (valid_set_size + test_set_size)\n",
    "\n",
    "    x_train = x_data[:train_set_size,:-1]\n",
    "    y_train = x_data[:train_set_size, 1, 1]\n",
    "    y_train = y_train.reshape(-1,1)\n",
    "    \n",
    "    x_valid = x_data[train_set_size:train_set_size + valid_set_size, :-1]\n",
    "    y_valid = x_data[train_set_size:train_set_size + valid_set_size, 1, 1]\n",
    "    y_valid = y_valid.reshape(-1,1)\n",
    "    \n",
    "    x_test = x_data[train_set_size + valid_set_size:, :-1]\n",
    "    y_test = x_data[train_set_size + valid_set_size:, 1, 1]\n",
    "    y_test = y_test.reshape(-1,1)\n",
    "    \n",
    "    return [x_train, y_train, x_valid, y_valid, x_test, y_test]"
   ]
  },
  {
   "cell_type": "code",
   "execution_count": 6,
   "metadata": {},
   "outputs": [
    {
     "name": "stdout",
     "output_type": "stream",
     "text": [
      "x_train.shape = (7328, 14, 6)\n",
      "y_train.shape = (7328, 1)\n",
      "x_valid.shape = (0, 14, 6)\n",
      "y_valid.shape = (0, 1)\n",
      "x_test.shape = (1293, 14, 6)\n",
      "y_test.shape = (1293, 1)\n"
     ]
    }
   ],
   "source": [
    "seq_len = 15\n",
    "x_train, y_train, x_valid, y_valid, x_test, y_test = load_data(dji, seq_len)\n",
    "print('x_train.shape =', x_train.shape)\n",
    "print('y_train.shape =', y_train.shape)\n",
    "print('x_valid.shape =', x_valid.shape)\n",
    "print('y_valid.shape =', y_valid.shape)\n",
    "print('x_test.shape =', x_test.shape)\n",
    "print('y_test.shape =', y_test.shape)"
   ]
  },
  {
   "cell_type": "markdown",
   "metadata": {},
   "source": [
    "# TesnorFlow Model"
   ]
  },
  {
   "cell_type": "code",
   "execution_count": 7,
   "metadata": {},
   "outputs": [],
   "source": [
    "# Initialising the RNN\n",
    "regressor = keras.Sequential()\n",
    "\n",
    "# Adding the first LSTM layer and some Dropout regularisation\n",
    "regressor.add(layers.GRU(units = 200, return_sequences = True, input_shape = (x_train[0].shape)))\n",
    "regressor.add(layers.Dropout(0.2))\n",
    "# Adding a second LSTM layer and some Dropout regularisation\n",
    "regressor.add(layers.GRU(units = 200))\n",
    "regressor.add(layers.Dropout(0.2))\n",
    "# Adding a third LSTM layer and some Dropout regularisation\n",
    "\"\"\"regressor.add(layers.LSTM(units = 64, return_sequences = True))\n",
    "regressor.add(layers.Dropout(0.2))\n",
    "# Adding a fourth LSTM layer and some Dropout regularisation\n",
    "regressor.add(layers.LSTM(units = 64))\n",
    "regressor.add(layers.Dropout(0.2))\"\"\"\n",
    "# Adding the output layer\n",
    "regressor.add(layers.Dense(units = 1))\n",
    "\n",
    "# Compiling the RNN\n",
    "regressor.compile(optimizer = 'adam', loss = 'mean_squared_error')\n"
   ]
  },
  {
   "cell_type": "code",
   "execution_count": 8,
   "metadata": {},
   "outputs": [
    {
     "name": "stdout",
     "output_type": "stream",
     "text": [
      "Epoch 1/30\n",
      "104/104 [==============================] - 7s 10ms/step - loss: 0.0023 - val_loss: 1.5222e-04\n",
      "Epoch 2/30\n",
      "104/104 [==============================] - 1s 7ms/step - loss: 3.4703e-04 - val_loss: 2.2919e-04\n",
      "Epoch 3/30\n",
      "104/104 [==============================] - 1s 7ms/step - loss: 3.1238e-04 - val_loss: 1.5975e-04\n",
      "Epoch 4/30\n",
      "104/104 [==============================] - 1s 7ms/step - loss: 2.8574e-04 - val_loss: 4.2941e-04\n",
      "Epoch 5/30\n",
      "104/104 [==============================] - 1s 7ms/step - loss: 2.7059e-04 - val_loss: 1.8498e-04\n",
      "Epoch 6/30\n",
      "104/104 [==============================] - 1s 7ms/step - loss: 2.6621e-04 - val_loss: 2.5469e-04\n",
      "Epoch 7/30\n",
      "104/104 [==============================] - 1s 7ms/step - loss: 2.0768e-04 - val_loss: 3.6020e-04\n",
      "Epoch 8/30\n",
      "104/104 [==============================] - 1s 7ms/step - loss: 2.2169e-04 - val_loss: 2.2358e-04\n"
     ]
    }
   ],
   "source": [
    "callback = tf.keras.callbacks.EarlyStopping(monitor='val_loss', mode = \"min\" ,patience=7)\n",
    "history = regressor.fit(x_train, y_train, epochs=30, batch_size = 64, validation_split=0.1, callbacks=[callback])"
   ]
  },
  {
   "cell_type": "markdown",
   "metadata": {},
   "source": [
    "# Testing"
   ]
  },
  {
   "cell_type": "code",
   "execution_count": 9,
   "metadata": {},
   "outputs": [
    {
     "name": "stdout",
     "output_type": "stream",
     "text": [
      "Model: \"sequential\"\n",
      "_________________________________________________________________\n",
      "Layer (type)                 Output Shape              Param #   \n",
      "=================================================================\n",
      "gru (GRU)                    (None, 14, 200)           124800    \n",
      "_________________________________________________________________\n",
      "dropout (Dropout)            (None, 14, 200)           0         \n",
      "_________________________________________________________________\n",
      "gru_1 (GRU)                  (None, 200)               241200    \n",
      "_________________________________________________________________\n",
      "dropout_1 (Dropout)          (None, 200)               0         \n",
      "_________________________________________________________________\n",
      "dense (Dense)                (None, 1)                 201       \n",
      "=================================================================\n",
      "Total params: 366,201\n",
      "Trainable params: 366,201\n",
      "Non-trainable params: 0\n",
      "_________________________________________________________________\n"
     ]
    }
   ],
   "source": [
    "regressor.summary()"
   ]
  },
  {
   "cell_type": "code",
   "execution_count": 10,
   "metadata": {},
   "outputs": [],
   "source": [
    "y_predict = regressor.predict(x_test)"
   ]
  },
  {
   "cell_type": "code",
   "execution_count": 11,
   "metadata": {},
   "outputs": [
    {
     "name": "stdout",
     "output_type": "stream",
     "text": [
      "41/41 [==============================] - 0s 2ms/step - loss: 0.0012\n"
     ]
    },
    {
     "data": {
      "text/plain": [
       "0.001205422100611031"
      ]
     },
     "execution_count": 11,
     "metadata": {},
     "output_type": "execute_result"
    }
   ],
   "source": [
    "regressor.evaluate(x_test, y_test)"
   ]
  },
  {
   "cell_type": "code",
   "execution_count": 12,
   "metadata": {},
   "outputs": [
    {
     "data": {
      "text/plain": [
       "(1293, 1)"
      ]
     },
     "execution_count": 12,
     "metadata": {},
     "output_type": "execute_result"
    }
   ],
   "source": [
    "y_predict.shape"
   ]
  },
  {
   "cell_type": "code",
   "execution_count": 13,
   "metadata": {},
   "outputs": [
    {
     "data": {
      "image/png": "[encoded data removed]",
      "text/plain": [
       "<Figure size 432x288 with 1 Axes>"
      ]
     },
     "metadata": {
      "needs_background": "light"
     },
     "output_type": "display_data"
    }
   ],
   "source": [
    "plt.plot(y_test, color = 'red', label = 'Real Stock Price')\n",
    "plt.plot(y_predict, color = 'blue', label = 'Predicted Stock Price')\n",
    "plt.title('Stock Price Prediction')\n",
    "plt.xlabel('Time')\n",
    "plt.ylabel('Stock Price')\n",
    "plt.legend()\n",
    "plt.show()"
   ]
  },
  {
   "cell_type": "code",
   "execution_count": 14,
   "metadata": {},
   "outputs": [],
   "source": [
    "model_json = regressor.to_json()\n",
    "with open(\"rnn_model_0.json\", \"w\") as json_file:\n",
    "    json_file.write(model_json)\n",
    "# serialize weights to HDF5\n",
    "regressor.save_weights(\"rnn_model_0.h5\")"
   ]
  }
 ],
 "metadata": {
  "kernelspec": {
   "display_name": "Python 3",
   "language": "python",
   "name": "python3"
  },
  "language_info": {
   "codemirror_mode": {
    "name": "ipython",
    "version": 3
   },
   "file_extension": ".py",
   "mimetype": "text/x-python",
   "name": "python",
   "nbconvert_exporter": "python",
   "pygments_lexer": "ipython3",
   "version": "3.8.12"
  }
 },
 "nbformat": 4,
 "nbformat_minor": 2
}
