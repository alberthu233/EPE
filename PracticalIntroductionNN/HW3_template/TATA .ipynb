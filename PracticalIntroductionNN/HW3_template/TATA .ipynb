{
 "cells": [
  {
   "cell_type": "markdown",
   "metadata": {},
   "source": [
    "# Stock Prices Prediction Using Keras Long Term Short Memory"
   ]
  },
  {
   "cell_type": "code",
   "execution_count": 1,
   "metadata": {},
   "outputs": [],
   "source": [
    "# Part 1 - Data Preprocessing\n",
    "\n",
    "# Importing the libraries\n",
    "import numpy as np\n",
    "import matplotlib.pyplot as plt\n",
    "import pandas as pd"
   ]
  },
  {
   "cell_type": "code",
   "execution_count": 2,
   "metadata": {},
   "outputs": [],
   "source": [
    "# Importing the training set\n",
    "dataset_train = pd.read_csv('NSE-TATAGLOBAL.csv')\n",
    "training_set = dataset_train.iloc[:, 1:2].values"
   ]
  },
  {
   "cell_type": "code",
   "execution_count": 5,
   "metadata": {},
   "outputs": [
    {
     "data": {
      "text/plain": [
       "array([[234.05],\n",
       "       [234.55],\n",
       "       [240.  ],\n",
       "       ...,\n",
       "       [121.8 ],\n",
       "       [120.3 ],\n",
       "       [122.1 ]])"
      ]
     },
     "execution_count": 5,
     "metadata": {},
     "output_type": "execute_result"
    }
   ],
   "source": [
    "training_set\n"
   ]
  },
  {
   "cell_type": "code",
   "execution_count": 6,
   "metadata": {},
   "outputs": [],
   "source": [
    "# Feature Scaling\n",
    "from sklearn.preprocessing import MinMaxScaler\n",
    "sc = MinMaxScaler(feature_range = (0, 1))\n",
    "training_set_scaled = sc.fit_transform(training_set)"
   ]
  },
  {
   "cell_type": "code",
   "execution_count": 7,
   "metadata": {},
   "outputs": [],
   "source": [
    "# Creating a data structure with 60 timesteps and 1 output\n",
    "X_train = []\n",
    "y_train = []\n",
    "for i in range(60, 2035):\n",
    "    X_train.append(training_set_scaled[i-60:i, 0])\n",
    "    y_train.append(training_set_scaled[i, 0])\n",
    "X_train, y_train = np.array(X_train), np.array(y_train)"
   ]
  },
  {
   "cell_type": "code",
   "execution_count": 8,
   "metadata": {},
   "outputs": [],
   "source": [
    "# Reshaping\n",
    "X_train = np.reshape(X_train, (X_train.shape[0], X_train.shape[1], 1))"
   ]
  },
  {
   "cell_type": "code",
   "execution_count": 9,
   "metadata": {},
   "outputs": [],
   "source": [
    "# Part 2 - Building the RNN\n",
    "\n",
    "# Importing the Keras libraries and packages\n",
    "from keras.models import Sequential\n",
    "from keras.layers import Dense\n",
    "from keras.layers import LSTM\n",
    "from keras.layers import Dropout"
   ]
  },
  {
   "cell_type": "code",
   "execution_count": 18,
   "metadata": {},
   "outputs": [],
   "source": [
    "# Initialising the RNN\n",
    "regressor = Sequential()\n",
    "\n",
    "# Adding the first LSTM layer and some Dropout regularisation\n",
    "regressor.add(LSTM(units = 50, return_sequences = True, input_shape = (X_train.shape[1], 1)))\n",
    "regressor.add(Dropout(0.2))\n",
    "# Adding a second LSTM layer and some Dropout regularisation\n",
    "regressor.add(LSTM(units = 50, return_sequences = True))\n",
    "regressor.add(Dropout(0.2))\n",
    "# Adding a third LSTM layer and some Dropout regularisation\n",
    "regressor.add(LSTM(units = 50, return_sequences = True))\n",
    "regressor.add(Dropout(0.2))\n",
    "# Adding a fourth LSTM layer and some Dropout regularisation\n",
    "regressor.add(LSTM(units = 50))\n",
    "regressor.add(Dropout(0.2))\n",
    "# Adding the output layer\n",
    "regressor.add(Dense(units = 1))\n",
    "\n",
    "# Compiling the RNN\n",
    "regressor.compile(optimizer = 'adam', loss = 'mean_squared_error')\n",
    "\n",
    "\n",
    "\n"
   ]
  },
  {
   "cell_type": "code",
   "execution_count": 19,
   "metadata": {},
   "outputs": [
    {
     "name": "stdout",
     "output_type": "stream",
     "text": [
      "Epoch 1/100\n",
      "31/31 [==============================] - 4s 22ms/step - loss: 0.0175\n",
      "Epoch 2/100\n",
      "31/31 [==============================] - 0s 16ms/step - loss: 0.0035\n",
      "Epoch 3/100\n",
      "31/31 [==============================] - 0s 16ms/step - loss: 0.0030\n",
      "Epoch 4/100\n",
      "31/31 [==============================] - 0s 16ms/step - loss: 0.0029\n",
      "Epoch 5/100\n",
      "31/31 [==============================] - 0s 16ms/step - loss: 0.0027\n",
      "Epoch 6/100\n",
      "31/31 [==============================] - 0s 16ms/step - loss: 0.0024\n",
      "Epoch 7/100\n",
      "31/31 [==============================] - 0s 16ms/step - loss: 0.0025\n",
      "Epoch 8/100\n",
      "31/31 [==============================] - 0s 16ms/step - loss: 0.0025\n",
      "Epoch 9/100\n",
      "31/31 [==============================] - 0s 16ms/step - loss: 0.0022\n",
      "Epoch 10/100\n",
      "31/31 [==============================] - 0s 15ms/step - loss: 0.0025\n",
      "Epoch 11/100\n",
      "31/31 [==============================] - 1s 17ms/step - loss: 0.0023\n",
      "Epoch 12/100\n",
      "31/31 [==============================] - 1s 16ms/step - loss: 0.0023\n",
      "Epoch 13/100\n",
      "31/31 [==============================] - 0s 16ms/step - loss: 0.0022\n",
      "Epoch 14/100\n",
      "31/31 [==============================] - 0s 15ms/step - loss: 0.0020\n",
      "Epoch 15/100\n",
      "31/31 [==============================] - 0s 16ms/step - loss: 0.0021\n",
      "Epoch 16/100\n",
      "31/31 [==============================] - 0s 15ms/step - loss: 0.0021\n",
      "Epoch 17/100\n",
      "31/31 [==============================] - 0s 15ms/step - loss: 0.0019\n",
      "Epoch 18/100\n",
      "31/31 [==============================] - 0s 15ms/step - loss: 0.0017\n",
      "Epoch 19/100\n",
      "31/31 [==============================] - 0s 15ms/step - loss: 0.0016\n",
      "Epoch 20/100\n",
      "31/31 [==============================] - 0s 15ms/step - loss: 0.0017\n",
      "Epoch 21/100\n",
      "31/31 [==============================] - 0s 16ms/step - loss: 0.0016\n",
      "Epoch 22/100\n",
      "31/31 [==============================] - 0s 15ms/step - loss: 0.0016\n",
      "Epoch 23/100\n",
      "31/31 [==============================] - 0s 15ms/step - loss: 0.0018\n",
      "Epoch 24/100\n",
      "31/31 [==============================] - 0s 16ms/step - loss: 0.0018\n",
      "Epoch 25/100\n",
      "31/31 [==============================] - 0s 15ms/step - loss: 0.0018\n",
      "Epoch 26/100\n",
      "31/31 [==============================] - 0s 15ms/step - loss: 0.0015\n",
      "Epoch 27/100\n",
      "31/31 [==============================] - 0s 16ms/step - loss: 0.0016\n",
      "Epoch 28/100\n",
      "31/31 [==============================] - 0s 15ms/step - loss: 0.0018\n",
      "Epoch 29/100\n",
      "31/31 [==============================] - 0s 16ms/step - loss: 0.0014\n",
      "Epoch 30/100\n",
      "31/31 [==============================] - 0s 15ms/step - loss: 0.0013\n",
      "Epoch 31/100\n",
      "31/31 [==============================] - 0s 15ms/step - loss: 0.0014\n",
      "Epoch 32/100\n",
      "31/31 [==============================] - 0s 15ms/step - loss: 0.0014\n",
      "Epoch 33/100\n",
      "31/31 [==============================] - 0s 15ms/step - loss: 0.0013\n",
      "Epoch 34/100\n",
      "31/31 [==============================] - 0s 15ms/step - loss: 0.0014\n",
      "Epoch 35/100\n",
      "31/31 [==============================] - 0s 16ms/step - loss: 0.0014\n",
      "Epoch 36/100\n",
      "31/31 [==============================] - 0s 15ms/step - loss: 0.0013\n",
      "Epoch 37/100\n",
      "31/31 [==============================] - 0s 15ms/step - loss: 0.0013\n",
      "Epoch 38/100\n",
      "31/31 [==============================] - 0s 16ms/step - loss: 0.0014\n",
      "Epoch 39/100\n",
      "31/31 [==============================] - 0s 16ms/step - loss: 0.0012\n",
      "Epoch 40/100\n",
      "31/31 [==============================] - 0s 16ms/step - loss: 0.0014\n",
      "Epoch 41/100\n",
      "31/31 [==============================] - 0s 15ms/step - loss: 0.0012\n",
      "Epoch 42/100\n",
      "31/31 [==============================] - 0s 15ms/step - loss: 0.0011\n",
      "Epoch 43/100\n",
      "31/31 [==============================] - 0s 15ms/step - loss: 0.0012\n",
      "Epoch 44/100\n",
      "31/31 [==============================] - 0s 16ms/step - loss: 0.0014\n",
      "Epoch 45/100\n",
      "31/31 [==============================] - 0s 16ms/step - loss: 0.0011\n",
      "Epoch 46/100\n",
      "31/31 [==============================] - 0s 15ms/step - loss: 0.0012\n",
      "Epoch 47/100\n",
      "31/31 [==============================] - 0s 15ms/step - loss: 0.0012\n",
      "Epoch 48/100\n",
      "31/31 [==============================] - 0s 15ms/step - loss: 0.0013\n",
      "Epoch 49/100\n",
      "31/31 [==============================] - 0s 16ms/step - loss: 0.0013\n",
      "Epoch 50/100\n",
      "31/31 [==============================] - 0s 15ms/step - loss: 0.0011\n",
      "Epoch 51/100\n",
      "31/31 [==============================] - 0s 15ms/step - loss: 0.0011\n",
      "Epoch 52/100\n",
      "31/31 [==============================] - 0s 15ms/step - loss: 0.0011\n",
      "Epoch 53/100\n",
      "31/31 [==============================] - 0s 15ms/step - loss: 0.0012\n",
      "Epoch 54/100\n",
      "31/31 [==============================] - 0s 16ms/step - loss: 0.0011\n",
      "Epoch 55/100\n",
      "31/31 [==============================] - 0s 16ms/step - loss: 9.6542e-04\n",
      "Epoch 56/100\n",
      "31/31 [==============================] - 0s 16ms/step - loss: 0.0010\n",
      "Epoch 57/100\n",
      "31/31 [==============================] - 0s 16ms/step - loss: 0.0011\n",
      "Epoch 58/100\n",
      "31/31 [==============================] - 0s 15ms/step - loss: 0.0011\n",
      "Epoch 59/100\n",
      "31/31 [==============================] - 0s 16ms/step - loss: 0.0010\n",
      "Epoch 60/100\n",
      "31/31 [==============================] - 0s 16ms/step - loss: 0.0011\n",
      "Epoch 61/100\n",
      "31/31 [==============================] - 0s 16ms/step - loss: 0.0010\n",
      "Epoch 62/100\n",
      "31/31 [==============================] - 0s 15ms/step - loss: 0.0010\n",
      "Epoch 63/100\n",
      "31/31 [==============================] - 0s 15ms/step - loss: 9.7859e-04\n",
      "Epoch 64/100\n",
      "31/31 [==============================] - 0s 15ms/step - loss: 0.0010\n",
      "Epoch 65/100\n",
      "31/31 [==============================] - 0s 16ms/step - loss: 9.5294e-04\n",
      "Epoch 66/100\n",
      "31/31 [==============================] - 0s 16ms/step - loss: 8.7200e-04\n",
      "Epoch 67/100\n",
      "31/31 [==============================] - 0s 16ms/step - loss: 9.1488e-04\n",
      "Epoch 68/100\n",
      "31/31 [==============================] - 0s 15ms/step - loss: 8.8430e-04\n",
      "Epoch 69/100\n",
      "31/31 [==============================] - 0s 16ms/step - loss: 9.5030e-04\n",
      "Epoch 70/100\n",
      "31/31 [==============================] - 0s 16ms/step - loss: 9.6514e-04\n",
      "Epoch 71/100\n",
      "31/31 [==============================] - 0s 15ms/step - loss: 8.4123e-04\n",
      "Epoch 72/100\n",
      "31/31 [==============================] - 0s 16ms/step - loss: 9.3057e-04\n",
      "Epoch 73/100\n",
      "31/31 [==============================] - 0s 15ms/step - loss: 8.3709e-04\n",
      "Epoch 74/100\n",
      "31/31 [==============================] - 1s 16ms/step - loss: 9.0303e-04\n",
      "Epoch 75/100\n",
      "31/31 [==============================] - 0s 15ms/step - loss: 9.0689e-04\n",
      "Epoch 76/100\n",
      "31/31 [==============================] - 0s 16ms/step - loss: 9.1762e-04\n",
      "Epoch 77/100\n",
      "31/31 [==============================] - 0s 15ms/step - loss: 0.0010\n",
      "Epoch 78/100\n",
      "31/31 [==============================] - 0s 16ms/step - loss: 9.1258e-04\n",
      "Epoch 79/100\n",
      "31/31 [==============================] - 0s 15ms/step - loss: 8.1998e-04\n",
      "Epoch 80/100\n",
      "31/31 [==============================] - 0s 16ms/step - loss: 0.0010\n",
      "Epoch 81/100\n",
      "31/31 [==============================] - 0s 15ms/step - loss: 9.8671e-04\n",
      "Epoch 82/100\n",
      "31/31 [==============================] - 0s 15ms/step - loss: 9.8696e-04\n",
      "Epoch 83/100\n",
      "31/31 [==============================] - 0s 15ms/step - loss: 8.3713e-04\n",
      "Epoch 84/100\n",
      "31/31 [==============================] - 0s 15ms/step - loss: 7.3396e-04\n",
      "Epoch 85/100\n",
      "31/31 [==============================] - 0s 15ms/step - loss: 8.2409e-04\n",
      "Epoch 86/100\n",
      "31/31 [==============================] - 0s 15ms/step - loss: 8.2994e-04\n",
      "Epoch 87/100\n",
      "31/31 [==============================] - 0s 15ms/step - loss: 9.0337e-04\n",
      "Epoch 88/100\n",
      "31/31 [==============================] - 0s 16ms/step - loss: 8.2024e-04\n",
      "Epoch 89/100\n",
      "31/31 [==============================] - 0s 15ms/step - loss: 6.9354e-04\n",
      "Epoch 90/100\n",
      "31/31 [==============================] - 1s 17ms/step - loss: 7.1622e-04\n",
      "Epoch 91/100\n",
      "31/31 [==============================] - 1s 17ms/step - loss: 6.9008e-04\n",
      "Epoch 92/100\n",
      "31/31 [==============================] - 0s 16ms/step - loss: 6.8685e-04\n",
      "Epoch 93/100\n",
      "31/31 [==============================] - 0s 16ms/step - loss: 7.1561e-04\n",
      "Epoch 94/100\n",
      "31/31 [==============================] - 0s 16ms/step - loss: 7.1370e-04\n",
      "Epoch 95/100\n",
      "31/31 [==============================] - 1s 17ms/step - loss: 6.8600e-04\n",
      "Epoch 96/100\n",
      "31/31 [==============================] - 0s 15ms/step - loss: 7.4333e-04\n",
      "Epoch 97/100\n",
      "31/31 [==============================] - 0s 16ms/step - loss: 7.2676e-04\n",
      "Epoch 98/100\n",
      "31/31 [==============================] - 0s 16ms/step - loss: 7.6250e-04\n",
      "Epoch 99/100\n",
      "31/31 [==============================] - 0s 16ms/step - loss: 6.9037e-04\n",
      "Epoch 100/100\n",
      "31/31 [==============================] - 0s 16ms/step - loss: 7.6330e-04\n"
     ]
    },
    {
     "data": {
      "text/plain": [
       "<keras.callbacks.History at 0x2374e06d7c0>"
      ]
     },
     "execution_count": 19,
     "metadata": {},
     "output_type": "execute_result"
    }
   ],
   "source": [
    "# Fitting the RNN to the Training set\n",
    "regressor.fit(X_train, y_train, epochs = 100, batch_size = 64)"
   ]
  },
  {
   "cell_type": "code",
   "execution_count": 20,
   "metadata": {},
   "outputs": [],
   "source": [
    "# Part 3 - Making the predictions and visualising the results\n",
    "\n",
    "# Getting the real stock price of 2017\n",
    "dataset_test = pd.read_csv('tatatest.csv')\n",
    "real_stock_price = dataset_test.iloc[:, 1:2].values"
   ]
  },
  {
   "cell_type": "code",
   "execution_count": 21,
   "metadata": {},
   "outputs": [],
   "source": [
    "# Getting the predicted stock price of 2017\n",
    "dataset_total = pd.concat((dataset_train['Open'], dataset_test['Open']), axis = 0)\n",
    "inputs = dataset_total[len(dataset_total) - len(dataset_test) - 60:].values\n",
    "inputs = inputs.reshape(-1,1)\n",
    "inputs = sc.transform(inputs)\n",
    "X_test = []\n",
    "for i in range(60, 76):\n",
    "    X_test.append(inputs[i-60:i, 0])\n",
    "X_test = np.array(X_test)\n",
    "X_test = np.reshape(X_test, (X_test.shape[0], X_test.shape[1], 1))\n",
    "predicted_stock_price = regressor.predict(X_test)\n",
    "predicted_stock_price = sc.inverse_transform(predicted_stock_price)\n"
   ]
  },
  {
   "cell_type": "code",
   "execution_count": 22,
   "metadata": {},
   "outputs": [
    {
     "data": {
      "image/png": "[encoded data removed]",
      "text/plain": [
       "<Figure size 432x288 with 1 Axes>"
      ]
     },
     "metadata": {
      "needs_background": "light"
     },
     "output_type": "display_data"
    }
   ],
   "source": [
    "# Visualising the results\n",
    "plt.plot(real_stock_price, color = 'red', label = 'Real TATA Stock Price')\n",
    "plt.plot(predicted_stock_price, color = 'blue', label = 'Predicted TAT Stock Price')\n",
    "plt.title('TATA Stock Price Prediction')\n",
    "plt.xlabel('Time')\n",
    "plt.ylabel('TATA Stock Price')\n",
    "plt.legend()\n",
    "plt.show()"
   ]
  },
  {
   "cell_type": "code",
   "execution_count": null,
   "metadata": {},
   "outputs": [],
   "source": []
  }
 ],
 "metadata": {
  "kernelspec": {
   "display_name": "Python 3",
   "language": "python",
   "name": "python3"
  },
  "language_info": {
   "codemirror_mode": {
    "name": "ipython",
    "version": 3
   },
   "file_extension": ".py",
   "mimetype": "text/x-python",
   "name": "python",
   "nbconvert_exporter": "python",
   "pygments_lexer": "ipython3",
   "version": "3.8.12"
  }
 },
 "nbformat": 4,
 "nbformat_minor": 2
}
