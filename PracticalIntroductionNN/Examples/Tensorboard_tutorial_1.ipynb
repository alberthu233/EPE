{
 "cells": [
  {
   "cell_type": "markdown",
   "metadata": {},
   "source": [
    "<h1>Tensorboard-Visualize Graph</h1>\n",
    "<p style=\"font-size:20px\">We will introduce Tensorboard which is able to display nice interactive visualizations in your web browser. We will start from basics. In this tutorial, we will show how to visualize the graph you create. In the next tutorial, you will learn how to show the statistics of your training model in Tensorboard."
   ]
  },
  {
   "cell_type": "code",
   "execution_count": 1,
   "metadata": {},
   "outputs": [],
   "source": [
    "import tensorflow as tf"
   ]
  },
  {
   "cell_type": "markdown",
   "metadata": {},
   "source": [
    "<p style=\"font-size:20px\">The first step is to tweak your program a bit so it writes the graph definition or some training stats to a log directory that TensorBoard will read from. You may need to use a different log directory every time you run your program, or else TensorBoard will merge stats from different runs, which may mess up the visualizations."
   ]
  },
  {
   "cell_type": "markdown",
   "metadata": {},
   "source": [
    "<p style=\"font-size:20px\">The simplest solution for this is to include a time-stamp in the log directory name. In the following code, we define the log directory:"
   ]
  },
  {
   "cell_type": "code",
   "execution_count": 2,
   "metadata": {},
   "outputs": [],
   "source": [
    "from datetime import datetime\n",
    "now = datetime.utcnow().strftime(\"%Y%m%d%H%M%S\")\n",
    "root_logdir = \"tf_logs\"\n",
    "logdir = \"{}/run-{}/\".format(root_logdir,now)"
   ]
  },
  {
   "cell_type": "markdown",
   "metadata": {},
   "source": [
    "<p style=\"font-size:20px\">Next, we will create a simple addition program like what we show in the basics tutorial:"
   ]
  },
  {
   "cell_type": "code",
   "execution_count": 3,
   "metadata": {},
   "outputs": [],
   "source": [
    "x = tf.constant([1,2,3,4],name='x')\n",
    "y = tf.constant([5,6,7,8],name='y')\n",
    "z = tf.constant([9,10,11,12],name='z')\n",
    "result = tf.add(x,y)"
   ]
  },
  {
   "cell_type": "markdown",
   "metadata": {},
   "source": [
    "<p style=\"font-size:20px\">Now we need to create a <b>FileWriter</b> that you will use to write the graph to the logfiles in the log directory. The first parameter indicates the path of the log directory. The second parameter is the graph you want to visualize."
   ]
  },
  {
   "cell_type": "code",
   "execution_count": 4,
   "metadata": {},
   "outputs": [],
   "source": [
    "file_writer = tf.summary.FileWriter(logdir,tf.get_default_graph())"
   ]
  },
  {
   "cell_type": "markdown",
   "metadata": {},
   "source": [
    "<p style=\"font-size:20px\">Next, we will simply do the same thing as before, create the session and run:"
   ]
  },
  {
   "cell_type": "code",
   "execution_count": 5,
   "metadata": {},
   "outputs": [
    {
     "name": "stdout",
     "output_type": "stream",
     "text": [
      "[1 2 3 4]\n",
      "[5 6 7 8]\n",
      "[ 9 10 11 12]\n",
      "[ 6  8 10 12]\n"
     ]
    }
   ],
   "source": [
    "with tf.Session() as sess:\n",
    "    print(sess.run(x))\n",
    "    print(sess.run(y))\n",
    "    print(sess.run(z))\n",
    "    print(sess.run(result))"
   ]
  },
  {
   "cell_type": "markdown",
   "metadata": {},
   "source": [
    "<p style=\"font-size:20px\">Finally, you wnat to close the <b>FileWriter</b> at the end of the program:"
   ]
  },
  {
   "cell_type": "code",
   "execution_count": 6,
   "metadata": {},
   "outputs": [],
   "source": [
    "file_writer.close()"
   ]
  },
  {
   "cell_type": "markdown",
   "metadata": {},
   "source": [
    "<p style=\"font-size:20px\">Now, open your terminal and go to your working directory, you will see a <b>tf_logs</b> directory. And inside that directory, you will see a <b>run-20190329210258</b> directory. Inside this directory, you will see an <b>events</b> file. Now you can fire up the TensorBoard server by doing the following command:"
   ]
  },
  {
   "cell_type": "markdown",
   "metadata": {},
   "source": [
    "<p style=\"font-size:20px\">$tensorboard --logdir=path/to/log-directory"
   ]
  },
  {
   "cell_type": "markdown",
   "metadata": {},
   "source": [
    "<p style=\"font-size:20px\">You will see the following information popped up:"
   ]
  },
  {
   "cell_type": "markdown",
   "metadata": {},
   "source": [
    "<p style=\"font-size:20px\">\"Starting TensorBoard on port 6006\n",
    "<p style=\"font-size:20px\">(you can navigate to http://0.0.0.0:6006)\""
   ]
  },
  {
   "cell_type": "markdown",
   "metadata": {},
   "source": [
    "<p style=\"font-size:20px\">Next, open a browser and go to that URL, welcome to TensorBoard!"
   ]
  },
  {
   "cell_type": "markdown",
   "metadata": {},
   "source": [
    "<p style=\"font-size:20px\">You will see the interface like the figure</p>\n",
    "<img src=\"figures/tensorboard_1.png\">"
   ]
  },
  {
   "cell_type": "markdown",
   "metadata": {},
   "source": [
    "<p style=\"font-size:20px\">Here you can visualize the graph you create. Pay attention to several things:\n",
    "<p style=\"font-size:20px\">1. when you define the Constant and operation,you define the nodes' names. Here we didn't define the name for <b>tf.add</b> so Tensorflow will use the default name \"Add\". It'd be good habit to name everything in the graph to avoid confusion.\n",
    "<p style=\"font-size:20px\">2. We see there is no \"z\" node shown in Tensorboard. That's because in Tensorboard, it requires the node has at least one math operation to visualize. You can't see the constant node if you don't use it with other nodes. We can see nodes \"x\" and \"y\" are used to compute the \"Add\" node. So they show up in the Tensorboard."
   ]
  }
 ],
 "metadata": {
  "kernelspec": {
   "display_name": "Python 3",
   "language": "python",
   "name": "python3"
  },
  "language_info": {
   "codemirror_mode": {
    "name": "ipython",
    "version": 3
   },
   "file_extension": ".py",
   "mimetype": "text/x-python",
   "name": "python",
   "nbconvert_exporter": "python",
   "pygments_lexer": "ipython3",
   "version": "3.6.8"
  }
 },
 "nbformat": 4,
 "nbformat_minor": 2
}
