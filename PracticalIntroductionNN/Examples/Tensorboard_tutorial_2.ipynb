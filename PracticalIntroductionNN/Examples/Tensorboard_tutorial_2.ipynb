{
 "cells": [
  {
   "cell_type": "code",
   "execution_count": 1,
   "metadata": {},
   "outputs": [],
   "source": [
    "import tensorflow as tf\n",
    "import numpy as np"
   ]
  },
  {
   "cell_type": "code",
   "execution_count": 2,
   "metadata": {},
   "outputs": [],
   "source": [
    "tf.reset_default_graph()"
   ]
  },
  {
   "cell_type": "markdown",
   "metadata": {},
   "source": [
    "<h1>define the log directory</h1>"
   ]
  },
  {
   "cell_type": "code",
   "execution_count": 3,
   "metadata": {},
   "outputs": [],
   "source": [
    "from datetime import datetime\n",
    "now = datetime.utcnow().strftime(\"%Y%m%d%H%M%S\")\n",
    "root_logdir = \"AND_logs\"\n",
    "logdir = \"{}/run-{}/\".format(root_logdir,now)"
   ]
  },
  {
   "cell_type": "markdown",
   "metadata": {},
   "source": [
    "<h1>Perceptron AND gate Example</h1>"
   ]
  },
  {
   "cell_type": "code",
   "execution_count": 4,
   "metadata": {},
   "outputs": [],
   "source": [
    "#define number of training iterations\n",
    "NUM_ITER = 2000\n",
    "#define learning rate\n",
    "lr = 0.01"
   ]
  },
  {
   "cell_type": "code",
   "execution_count": 5,
   "metadata": {},
   "outputs": [],
   "source": [
    "#define the training input data\n",
    "x = np.array([[0,0],[1,0],[1,1],[0,1]],np.float32)\n",
    "#define the target outputs/labels for AND gate\n",
    "y = np.array([0,0,1,0],np.float32)\n",
    "#y = np.array([0,1,1,1],np.float32)       (uncomment this line if you are doing OR gate)\n",
    "y = np.reshape(y,[4,1])"
   ]
  },
  {
   "cell_type": "markdown",
   "metadata": {},
   "source": [
    "<h2>You define the loss scalar summary and the file writer</h2>"
   ]
  },
  {
   "cell_type": "code",
   "execution_count": 6,
   "metadata": {},
   "outputs": [],
   "source": [
    "#define the placeholder to feed the training data later\n",
    "X = tf.placeholder(tf.float32,shape=[4,2],name='X')\n",
    "Y = tf.placeholder(tf.float32,shape=[4,1],name='Y')\n",
    "\n",
    "#define the weights and initialized with random normal distribution\n",
    "W = tf.Variable(tf.random_normal([2,1]),tf.float32,name='Weight')\n",
    "#define the bias with zero initialization\n",
    "b = tf.Variable(tf.zeros([1,1]),tf.float32,name='bias')\n",
    "\n",
    "#define the predicted output\n",
    "Y_hat = tf.add(tf.matmul(X,W),b,'Y_hat')\n",
    "\n",
    "#define the loss function, we are using cross entropy function after sigmoid on Y_hat\n",
    "loss = tf.reduce_sum(tf.nn.sigmoid_cross_entropy_with_logits(logits=Y_hat,labels=Y),name='loss')\n",
    "\n",
    "#define the optimizer, here we use standard gradient descent method\n",
    "optimizer = tf.train.GradientDescentOptimizer(lr).minimize(loss)\n",
    "\n",
    "#initialize tensorflow variables\n",
    "init = tf.global_variables_initializer()\n",
    "\n",
    "#!!!!!!!!!!!!!define loss scalar summary & File Writer!!!!!!!!\n",
    "loss_summary = tf.summary.scalar('loss',loss)\n",
    "file_writer = tf.summary.FileWriter(logdir,tf.get_default_graph())"
   ]
  },
  {
   "cell_type": "code",
   "execution_count": 8,
   "metadata": {},
   "outputs": [],
   "source": [
    "#start tensorflow session\n",
    "with tf.Session() as sess:\n",
    "    #run initialization\n",
    "    sess.run(init)\n",
    "    #training for number of iterations\n",
    "    for i in range(NUM_ITER):\n",
    "        if i%10 == 0:\n",
    "            #fetch the loss every 10 iterations\n",
    "            summary = sess.run(loss_summary,feed_dict={X:x,Y:y})\n",
    "            #add the summary to file writer\n",
    "            file_writer.add_summary(summary,i)\n",
    "        #every iteration we run optimization on the training data X and labels Y\n",
    "        sess.run(optimizer,feed_dict = {X:x,Y:y})\n",
    "        \n",
    "    #after training, we acquire the weight and bias\n",
    "    #np.squeeze plays a role to get rid of the redundant dimension [i.e.make (2,1) be (2,)]\n",
    "    W = np.squeeze(sess.run(W))\n",
    "    b = np.squeeze(sess.run(b))\n",
    "\n",
    "#remember to close file writer!\n",
    "file_writer.close()"
   ]
  },
  {
   "cell_type": "markdown",
   "metadata": {},
   "source": [
    "<p style=\"font-size:20px\">Open tensorboard, you can see two things:</p>\n",
    "<p style=\"font-size:20px\">1. The graph"
   ]
  },
  {
   "cell_type": "markdown",
   "metadata": {},
   "source": [
    "<img src=\"figures/tensorboard_2_graph.png\">"
   ]
  },
  {
   "cell_type": "markdown",
   "metadata": {},
   "source": [
    "<p style=\"font-size:20px\">2. Next to the graphs, you can also visualize the scalars. (in this example, we define the summary of loss with training)."
   ]
  },
  {
   "cell_type": "markdown",
   "metadata": {},
   "source": [
    "<img src=\"figures/tensorboard_2_scalar.png\">"
   ]
  }
 ],
 "metadata": {
  "kernelspec": {
   "display_name": "Python 3",
   "language": "python",
   "name": "python3"
  },
  "language_info": {
   "codemirror_mode": {
    "name": "ipython",
    "version": 3
   },
   "file_extension": ".py",
   "mimetype": "text/x-python",
   "name": "python",
   "nbconvert_exporter": "python",
   "pygments_lexer": "ipython3",
   "version": "3.6.8"
  }
 },
 "nbformat": 4,
 "nbformat_minor": 2
}
